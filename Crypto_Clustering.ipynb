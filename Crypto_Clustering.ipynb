{
 "cells": [
  {
   "cell_type": "code",
   "execution_count": 1,
   "metadata": {},
   "outputs": [
    {
     "data": {
      "application/javascript": "(function(root) {\n  function now() {\n    return new Date();\n  }\n\n  var force = true;\n\n  if (typeof root._bokeh_onload_callbacks === \"undefined\" || force === true) {\n    root._bokeh_onload_callbacks = [];\n    root._bokeh_is_loading = undefined;\n  }\n\n  if (typeof (root._bokeh_timeout) === \"undefined\" || force === true) {\n    root._bokeh_timeout = Date.now() + 5000;\n    root._bokeh_failed_load = false;\n  }\n\n  function run_callbacks() {\n    try {\n      root._bokeh_onload_callbacks.forEach(function(callback) {\n        if (callback != null)\n          callback();\n      });\n    } finally {\n      delete root._bokeh_onload_callbacks\n    }\n    console.debug(\"Bokeh: all callbacks have finished\");\n  }\n\n  function load_libs(css_urls, js_urls, js_modules, callback) {\n    if (css_urls == null) css_urls = [];\n    if (js_urls == null) js_urls = [];\n    if (js_modules == null) js_modules = [];\n\n    root._bokeh_onload_callbacks.push(callback);\n    if (root._bokeh_is_loading > 0) {\n      console.debug(\"Bokeh: BokehJS is being loaded, scheduling callback at\", now());\n      return null;\n    }\n    if (js_urls.length === 0 && js_modules.length === 0) {\n      run_callbacks();\n      return null;\n    }\n    console.debug(\"Bokeh: BokehJS not loaded, scheduling load and callback at\", now());\n\n    function on_load() {\n      root._bokeh_is_loading--;\n      if (root._bokeh_is_loading === 0) {\n        console.debug(\"Bokeh: all BokehJS libraries/stylesheets loaded\");\n        run_callbacks()\n      }\n    }\n\n    function on_error() {\n      console.error(\"failed to load \" + url);\n    }\n\n    for (var i = 0; i < css_urls.length; i++) {\n      var url = css_urls[i];\n      const element = document.createElement(\"link\");\n      element.onload = on_load;\n      element.onerror = on_error;\n      element.rel = \"stylesheet\";\n      element.type = \"text/css\";\n      element.href = url;\n      console.debug(\"Bokeh: injecting link tag for BokehJS stylesheet: \", url);\n      document.body.appendChild(element);\n    }\n\n    var skip = [];\n    if (window.requirejs) {\n      window.requirejs.config({'packages': {}, 'paths': {'gridstack': 'https://cdn.jsdelivr.net/npm/gridstack@4.2.5/dist/gridstack-h5', 'notyf': 'https://cdn.jsdelivr.net/npm/notyf@3/notyf.min'}, 'shim': {'gridstack': {'exports': 'GridStack'}}});\n      require([\"gridstack\"], function(GridStack) {\n\twindow.GridStack = GridStack\n\ton_load()\n      })\n      require([\"notyf\"], function() {\n\ton_load()\n      })\n      root._bokeh_is_loading = css_urls.length + 2;\n    } else {\n      root._bokeh_is_loading = css_urls.length + js_urls.length + js_modules.length;\n    }    if (((window['GridStack'] !== undefined) && (!(window['GridStack'] instanceof HTMLElement))) || window.requirejs) {\n      var urls = ['https://cdn.holoviz.org/panel/0.14.3/dist/bundled/gridstack/gridstack@4.2.5/dist/gridstack-h5.js'];\n      for (var i = 0; i < urls.length; i++) {\n        skip.push(urls[i])\n      }\n    }    if (((window['Notyf'] !== undefined) && (!(window['Notyf'] instanceof HTMLElement))) || window.requirejs) {\n      var urls = ['https://cdn.holoviz.org/panel/0.14.3/dist/bundled/notificationarea/notyf@3/notyf.min.js'];\n      for (var i = 0; i < urls.length; i++) {\n        skip.push(urls[i])\n      }\n    }    for (var i = 0; i < js_urls.length; i++) {\n      var url = js_urls[i];\n      if (skip.indexOf(url) >= 0) {\n\tif (!window.requirejs) {\n\t  on_load();\n\t}\n\tcontinue;\n      }\n      var element = document.createElement('script');\n      element.onload = on_load;\n      element.onerror = on_error;\n      element.async = false;\n      element.src = url;\n      console.debug(\"Bokeh: injecting script tag for BokehJS library: \", url);\n      document.head.appendChild(element);\n    }\n    for (var i = 0; i < js_modules.length; i++) {\n      var url = js_modules[i];\n      if (skip.indexOf(url) >= 0) {\n\tif (!window.requirejs) {\n\t  on_load();\n\t}\n\tcontinue;\n      }\n      var element = document.createElement('script');\n      element.onload = on_load;\n      element.onerror = on_error;\n      element.async = false;\n      element.src = url;\n      element.type = \"module\";\n      console.debug(\"Bokeh: injecting script tag for BokehJS library: \", url);\n      document.head.appendChild(element);\n    }\n    if (!js_urls.length && !js_modules.length) {\n      on_load()\n    }\n  };\n\n  function inject_raw_css(css) {\n    const element = document.createElement(\"style\");\n    element.appendChild(document.createTextNode(css));\n    document.body.appendChild(element);\n  }\n\n  var js_urls = [\"https://cdn.bokeh.org/bokeh/release/bokeh-2.4.3.min.js\", \"https://cdn.bokeh.org/bokeh/release/bokeh-gl-2.4.3.min.js\", \"https://cdn.bokeh.org/bokeh/release/bokeh-widgets-2.4.3.min.js\", \"https://cdn.bokeh.org/bokeh/release/bokeh-tables-2.4.3.min.js\", \"https://cdn.bokeh.org/bokeh/release/bokeh-mathjax-2.4.3.min.js\", \"https://unpkg.com/@holoviz/panel@0.14.3/dist/panel.min.js\"];\n  var js_modules = [];\n  var css_urls = [\"https://cdn.holoviz.org/panel/0.14.3/dist/css/debugger.css\", \"https://cdn.holoviz.org/panel/0.14.3/dist/css/alerts.css\", \"https://cdn.holoviz.org/panel/0.14.3/dist/css/card.css\", \"https://cdn.holoviz.org/panel/0.14.3/dist/css/widgets.css\", \"https://cdn.holoviz.org/panel/0.14.3/dist/css/markdown.css\", \"https://cdn.holoviz.org/panel/0.14.3/dist/css/json.css\", \"https://cdn.holoviz.org/panel/0.14.3/dist/css/loading.css\", \"https://cdn.holoviz.org/panel/0.14.3/dist/css/dataframe.css\"];\n  var inline_js = [    function(Bokeh) {\n      inject_raw_css(\"\\n    .bk.pn-loading.arc:before {\\n      background-image: url(\\\"data:image/svg+xml;base64,PHN2ZyB4bWxucz0iaHR0cDovL3d3dy53My5vcmcvMjAwMC9zdmciIHN0eWxlPSJtYXJnaW46IGF1dG87IGJhY2tncm91bmQ6IG5vbmU7IGRpc3BsYXk6IGJsb2NrOyBzaGFwZS1yZW5kZXJpbmc6IGF1dG87IiB2aWV3Qm94PSIwIDAgMTAwIDEwMCIgcHJlc2VydmVBc3BlY3RSYXRpbz0ieE1pZFlNaWQiPiAgPGNpcmNsZSBjeD0iNTAiIGN5PSI1MCIgZmlsbD0ibm9uZSIgc3Ryb2tlPSIjYzNjM2MzIiBzdHJva2Utd2lkdGg9IjEwIiByPSIzNSIgc3Ryb2tlLWRhc2hhcnJheT0iMTY0LjkzMzYxNDMxMzQ2NDE1IDU2Ljk3Nzg3MTQzNzgyMTM4Ij4gICAgPGFuaW1hdGVUcmFuc2Zvcm0gYXR0cmlidXRlTmFtZT0idHJhbnNmb3JtIiB0eXBlPSJyb3RhdGUiIHJlcGVhdENvdW50PSJpbmRlZmluaXRlIiBkdXI9IjFzIiB2YWx1ZXM9IjAgNTAgNTA7MzYwIDUwIDUwIiBrZXlUaW1lcz0iMDsxIj48L2FuaW1hdGVUcmFuc2Zvcm0+ICA8L2NpcmNsZT48L3N2Zz4=\\\");\\n      background-size: auto calc(min(50%, 400px));\\n    }\\n    \");\n    },    function(Bokeh) {\n      Bokeh.set_log_level(\"info\");\n    },\nfunction(Bokeh) {} // ensure no trailing comma for IE\n  ];\n\n  function run_inline_js() {\n    if ((root.Bokeh !== undefined) || (force === true)) {\n      for (var i = 0; i < inline_js.length; i++) {\n        inline_js[i].call(root, root.Bokeh);\n      }} else if (Date.now() < root._bokeh_timeout) {\n      setTimeout(run_inline_js, 100);\n    } else if (!root._bokeh_failed_load) {\n      console.log(\"Bokeh: BokehJS failed to load within specified timeout.\");\n      root._bokeh_failed_load = true;\n    }\n  }\n\n  if (root._bokeh_is_loading === 0) {\n    console.debug(\"Bokeh: BokehJS loaded, going straight to plotting\");\n    run_inline_js();\n  } else {\n    load_libs(css_urls, js_urls, js_modules, function() {\n      console.debug(\"Bokeh: BokehJS plotting callback run at\", now());\n      run_inline_js();\n    });\n  }\n}(window));",
      "application/vnd.holoviews_load.v0+json": ""
     },
     "metadata": {},
     "output_type": "display_data"
    },
    {
     "data": {
      "application/javascript": "\nif ((window.PyViz === undefined) || (window.PyViz instanceof HTMLElement)) {\n  window.PyViz = {comms: {}, comm_status:{}, kernels:{}, receivers: {}, plot_index: []}\n}\n\n\n    function JupyterCommManager() {\n    }\n\n    JupyterCommManager.prototype.register_target = function(plot_id, comm_id, msg_handler) {\n      if (window.comm_manager || ((window.Jupyter !== undefined) && (Jupyter.notebook.kernel != null))) {\n        var comm_manager = window.comm_manager || Jupyter.notebook.kernel.comm_manager;\n        comm_manager.register_target(comm_id, function(comm) {\n          comm.on_msg(msg_handler);\n        });\n      } else if ((plot_id in window.PyViz.kernels) && (window.PyViz.kernels[plot_id])) {\n        window.PyViz.kernels[plot_id].registerCommTarget(comm_id, function(comm) {\n          comm.onMsg = msg_handler;\n        });\n      } else if (typeof google != 'undefined' && google.colab.kernel != null) {\n        google.colab.kernel.comms.registerTarget(comm_id, (comm) => {\n          var messages = comm.messages[Symbol.asyncIterator]();\n          function processIteratorResult(result) {\n            var message = result.value;\n            console.log(message)\n            var content = {data: message.data, comm_id};\n            var buffers = []\n            for (var buffer of message.buffers || []) {\n              buffers.push(new DataView(buffer))\n            }\n            var metadata = message.metadata || {};\n            var msg = {content, buffers, metadata}\n            msg_handler(msg);\n            return messages.next().then(processIteratorResult);\n          }\n          return messages.next().then(processIteratorResult);\n        })\n      }\n    }\n\n    JupyterCommManager.prototype.get_client_comm = function(plot_id, comm_id, msg_handler) {\n      if (comm_id in window.PyViz.comms) {\n        return window.PyViz.comms[comm_id];\n      } else if (window.comm_manager || ((window.Jupyter !== undefined) && (Jupyter.notebook.kernel != null))) {\n        var comm_manager = window.comm_manager || Jupyter.notebook.kernel.comm_manager;\n        var comm = comm_manager.new_comm(comm_id, {}, {}, {}, comm_id);\n        if (msg_handler) {\n          comm.on_msg(msg_handler);\n        }\n      } else if ((plot_id in window.PyViz.kernels) && (window.PyViz.kernels[plot_id])) {\n        var comm = window.PyViz.kernels[plot_id].connectToComm(comm_id);\n        comm.open();\n        if (msg_handler) {\n          comm.onMsg = msg_handler;\n        }\n      } else if (typeof google != 'undefined' && google.colab.kernel != null) {\n        var comm_promise = google.colab.kernel.comms.open(comm_id)\n        comm_promise.then((comm) => {\n          window.PyViz.comms[comm_id] = comm;\n          if (msg_handler) {\n            var messages = comm.messages[Symbol.asyncIterator]();\n            function processIteratorResult(result) {\n              var message = result.value;\n              var content = {data: message.data};\n              var metadata = message.metadata || {comm_id};\n              var msg = {content, metadata}\n              msg_handler(msg);\n              return messages.next().then(processIteratorResult);\n            }\n            return messages.next().then(processIteratorResult);\n          }\n        }) \n        var sendClosure = (data, metadata, buffers, disposeOnDone) => {\n          return comm_promise.then((comm) => {\n            comm.send(data, metadata, buffers, disposeOnDone);\n          });\n        };\n        var comm = {\n          send: sendClosure\n        };\n      }\n      window.PyViz.comms[comm_id] = comm;\n      return comm;\n    }\n    window.PyViz.comm_manager = new JupyterCommManager();\n    \n\n\nvar JS_MIME_TYPE = 'application/javascript';\nvar HTML_MIME_TYPE = 'text/html';\nvar EXEC_MIME_TYPE = 'application/vnd.holoviews_exec.v0+json';\nvar CLASS_NAME = 'output';\n\n/**\n * Render data to the DOM node\n */\nfunction render(props, node) {\n  var div = document.createElement(\"div\");\n  var script = document.createElement(\"script\");\n  node.appendChild(div);\n  node.appendChild(script);\n}\n\n/**\n * Handle when a new output is added\n */\nfunction handle_add_output(event, handle) {\n  var output_area = handle.output_area;\n  var output = handle.output;\n  if ((output.data == undefined) || (!output.data.hasOwnProperty(EXEC_MIME_TYPE))) {\n    return\n  }\n  var id = output.metadata[EXEC_MIME_TYPE][\"id\"];\n  var toinsert = output_area.element.find(\".\" + CLASS_NAME.split(' ')[0]);\n  if (id !== undefined) {\n    var nchildren = toinsert.length;\n    var html_node = toinsert[nchildren-1].children[0];\n    html_node.innerHTML = output.data[HTML_MIME_TYPE];\n    var scripts = [];\n    var nodelist = html_node.querySelectorAll(\"script\");\n    for (var i in nodelist) {\n      if (nodelist.hasOwnProperty(i)) {\n        scripts.push(nodelist[i])\n      }\n    }\n\n    scripts.forEach( function (oldScript) {\n      var newScript = document.createElement(\"script\");\n      var attrs = [];\n      var nodemap = oldScript.attributes;\n      for (var j in nodemap) {\n        if (nodemap.hasOwnProperty(j)) {\n          attrs.push(nodemap[j])\n        }\n      }\n      attrs.forEach(function(attr) { newScript.setAttribute(attr.name, attr.value) });\n      newScript.appendChild(document.createTextNode(oldScript.innerHTML));\n      oldScript.parentNode.replaceChild(newScript, oldScript);\n    });\n    if (JS_MIME_TYPE in output.data) {\n      toinsert[nchildren-1].children[1].textContent = output.data[JS_MIME_TYPE];\n    }\n    output_area._hv_plot_id = id;\n    if ((window.Bokeh !== undefined) && (id in Bokeh.index)) {\n      window.PyViz.plot_index[id] = Bokeh.index[id];\n    } else {\n      window.PyViz.plot_index[id] = null;\n    }\n  } else if (output.metadata[EXEC_MIME_TYPE][\"server_id\"] !== undefined) {\n    var bk_div = document.createElement(\"div\");\n    bk_div.innerHTML = output.data[HTML_MIME_TYPE];\n    var script_attrs = bk_div.children[0].attributes;\n    for (var i = 0; i < script_attrs.length; i++) {\n      toinsert[toinsert.length - 1].childNodes[1].setAttribute(script_attrs[i].name, script_attrs[i].value);\n    }\n    // store reference to server id on output_area\n    output_area._bokeh_server_id = output.metadata[EXEC_MIME_TYPE][\"server_id\"];\n  }\n}\n\n/**\n * Handle when an output is cleared or removed\n */\nfunction handle_clear_output(event, handle) {\n  var id = handle.cell.output_area._hv_plot_id;\n  var server_id = handle.cell.output_area._bokeh_server_id;\n  if (((id === undefined) || !(id in PyViz.plot_index)) && (server_id !== undefined)) { return; }\n  var comm = window.PyViz.comm_manager.get_client_comm(\"hv-extension-comm\", \"hv-extension-comm\", function () {});\n  if (server_id !== null) {\n    comm.send({event_type: 'server_delete', 'id': server_id});\n    return;\n  } else if (comm !== null) {\n    comm.send({event_type: 'delete', 'id': id});\n  }\n  delete PyViz.plot_index[id];\n  if ((window.Bokeh !== undefined) & (id in window.Bokeh.index)) {\n    var doc = window.Bokeh.index[id].model.document\n    doc.clear();\n    const i = window.Bokeh.documents.indexOf(doc);\n    if (i > -1) {\n      window.Bokeh.documents.splice(i, 1);\n    }\n  }\n}\n\n/**\n * Handle kernel restart event\n */\nfunction handle_kernel_cleanup(event, handle) {\n  delete PyViz.comms[\"hv-extension-comm\"];\n  window.PyViz.plot_index = {}\n}\n\n/**\n * Handle update_display_data messages\n */\nfunction handle_update_output(event, handle) {\n  handle_clear_output(event, {cell: {output_area: handle.output_area}})\n  handle_add_output(event, handle)\n}\n\nfunction register_renderer(events, OutputArea) {\n  function append_mime(data, metadata, element) {\n    // create a DOM node to render to\n    var toinsert = this.create_output_subarea(\n    metadata,\n    CLASS_NAME,\n    EXEC_MIME_TYPE\n    );\n    this.keyboard_manager.register_events(toinsert);\n    // Render to node\n    var props = {data: data, metadata: metadata[EXEC_MIME_TYPE]};\n    render(props, toinsert[0]);\n    element.append(toinsert);\n    return toinsert\n  }\n\n  events.on('output_added.OutputArea', handle_add_output);\n  events.on('output_updated.OutputArea', handle_update_output);\n  events.on('clear_output.CodeCell', handle_clear_output);\n  events.on('delete.Cell', handle_clear_output);\n  events.on('kernel_ready.Kernel', handle_kernel_cleanup);\n\n  OutputArea.prototype.register_mime_type(EXEC_MIME_TYPE, append_mime, {\n    safe: true,\n    index: 0\n  });\n}\n\nif (window.Jupyter !== undefined) {\n  try {\n    var events = require('base/js/events');\n    var OutputArea = require('notebook/js/outputarea').OutputArea;\n    if (OutputArea.prototype.mime_types().indexOf(EXEC_MIME_TYPE) == -1) {\n      register_renderer(events, OutputArea);\n    }\n  } catch(err) {\n  }\n}\n",
      "application/vnd.holoviews_load.v0+json": ""
     },
     "metadata": {},
     "output_type": "display_data"
    },
    {
     "data": {
      "text/html": [
       "<style>.bk-root, .bk-root .bk:before, .bk-root .bk:after {\n",
       "  font-family: var(--jp-ui-font-size1);\n",
       "  font-size: var(--jp-ui-font-size1);\n",
       "  color: var(--jp-ui-font-color1);\n",
       "}\n",
       "</style>"
      ]
     },
     "metadata": {},
     "output_type": "display_data"
    }
   ],
   "source": [
    "# Import required libraries and dependencies\n",
    "import pandas as pd\n",
    "import hvplot.pandas\n",
    "import holoviews as hv\n",
    "\n",
    "from sklearn.cluster import KMeans\n",
    "from sklearn.decomposition import PCA\n",
    "from sklearn.preprocessing import StandardScaler, RobustScaler"
   ]
  },
  {
   "cell_type": "code",
   "execution_count": 2,
   "metadata": {},
   "outputs": [
    {
     "data": {
      "text/html": [
       "<div>\n",
       "<style scoped>\n",
       "    .dataframe tbody tr th:only-of-type {\n",
       "        vertical-align: middle;\n",
       "    }\n",
       "\n",
       "    .dataframe tbody tr th {\n",
       "        vertical-align: top;\n",
       "    }\n",
       "\n",
       "    .dataframe thead th {\n",
       "        text-align: right;\n",
       "    }\n",
       "</style>\n",
       "<table border=\"1\" class=\"dataframe\">\n",
       "  <thead>\n",
       "    <tr style=\"text-align: right;\">\n",
       "      <th></th>\n",
       "      <th>price_change_percentage_24h</th>\n",
       "      <th>price_change_percentage_7d</th>\n",
       "      <th>price_change_percentage_14d</th>\n",
       "      <th>price_change_percentage_30d</th>\n",
       "      <th>price_change_percentage_60d</th>\n",
       "      <th>price_change_percentage_200d</th>\n",
       "      <th>price_change_percentage_1y</th>\n",
       "    </tr>\n",
       "    <tr>\n",
       "      <th>coin_id</th>\n",
       "      <th></th>\n",
       "      <th></th>\n",
       "      <th></th>\n",
       "      <th></th>\n",
       "      <th></th>\n",
       "      <th></th>\n",
       "      <th></th>\n",
       "    </tr>\n",
       "  </thead>\n",
       "  <tbody>\n",
       "    <tr>\n",
       "      <th>bitcoin</th>\n",
       "      <td>0.010839</td>\n",
       "      <td>0.076028</td>\n",
       "      <td>0.065751</td>\n",
       "      <td>0.076726</td>\n",
       "      <td>-0.032518</td>\n",
       "      <td>0.835184</td>\n",
       "      <td>0.375176</td>\n",
       "    </tr>\n",
       "    <tr>\n",
       "      <th>ethereum</th>\n",
       "      <td>0.002239</td>\n",
       "      <td>0.103813</td>\n",
       "      <td>0.048085</td>\n",
       "      <td>0.001317</td>\n",
       "      <td>-0.128889</td>\n",
       "      <td>1.867742</td>\n",
       "      <td>1.019602</td>\n",
       "    </tr>\n",
       "    <tr>\n",
       "      <th>tether</th>\n",
       "      <td>-0.002117</td>\n",
       "      <td>0.000494</td>\n",
       "      <td>0.000064</td>\n",
       "      <td>-0.000424</td>\n",
       "      <td>0.002804</td>\n",
       "      <td>-0.000054</td>\n",
       "      <td>0.000195</td>\n",
       "    </tr>\n",
       "    <tr>\n",
       "      <th>ripple</th>\n",
       "      <td>-0.003782</td>\n",
       "      <td>-0.006093</td>\n",
       "      <td>0.022498</td>\n",
       "      <td>0.002345</td>\n",
       "      <td>-0.175524</td>\n",
       "      <td>0.395389</td>\n",
       "      <td>-0.166019</td>\n",
       "    </tr>\n",
       "    <tr>\n",
       "      <th>bitcoin-cash</th>\n",
       "      <td>0.029059</td>\n",
       "      <td>0.170972</td>\n",
       "      <td>0.147533</td>\n",
       "      <td>0.157490</td>\n",
       "      <td>-0.137179</td>\n",
       "      <td>0.216604</td>\n",
       "      <td>0.144938</td>\n",
       "    </tr>\n",
       "    <tr>\n",
       "      <th>binancecoin</th>\n",
       "      <td>0.021042</td>\n",
       "      <td>0.128551</td>\n",
       "      <td>0.068069</td>\n",
       "      <td>0.000586</td>\n",
       "      <td>0.363349</td>\n",
       "      <td>1.556194</td>\n",
       "      <td>0.696920</td>\n",
       "    </tr>\n",
       "    <tr>\n",
       "      <th>chainlink</th>\n",
       "      <td>-0.002394</td>\n",
       "      <td>0.206946</td>\n",
       "      <td>0.093010</td>\n",
       "      <td>-0.112175</td>\n",
       "      <td>-0.436952</td>\n",
       "      <td>4.032292</td>\n",
       "      <td>3.251319</td>\n",
       "    </tr>\n",
       "    <tr>\n",
       "      <th>cardano</th>\n",
       "      <td>0.000032</td>\n",
       "      <td>0.139930</td>\n",
       "      <td>0.055548</td>\n",
       "      <td>0.101055</td>\n",
       "      <td>-0.228478</td>\n",
       "      <td>2.645142</td>\n",
       "      <td>1.560976</td>\n",
       "    </tr>\n",
       "    <tr>\n",
       "      <th>litecoin</th>\n",
       "      <td>-0.000634</td>\n",
       "      <td>0.066022</td>\n",
       "      <td>0.072893</td>\n",
       "      <td>0.012166</td>\n",
       "      <td>-0.172396</td>\n",
       "      <td>0.274992</td>\n",
       "      <td>-0.126641</td>\n",
       "    </tr>\n",
       "    <tr>\n",
       "      <th>bitcoin-cash-sv</th>\n",
       "      <td>0.009253</td>\n",
       "      <td>0.032964</td>\n",
       "      <td>-0.018666</td>\n",
       "      <td>0.028893</td>\n",
       "      <td>-0.248743</td>\n",
       "      <td>0.074256</td>\n",
       "      <td>0.937308</td>\n",
       "    </tr>\n",
       "  </tbody>\n",
       "</table>\n",
       "</div>"
      ],
      "text/plain": [
       "                 price_change_percentage_24h  price_change_percentage_7d  \\\n",
       "coin_id                                                                    \n",
       "bitcoin                             0.010839                    0.076028   \n",
       "ethereum                            0.002239                    0.103813   \n",
       "tether                             -0.002117                    0.000494   \n",
       "ripple                             -0.003782                   -0.006093   \n",
       "bitcoin-cash                        0.029059                    0.170972   \n",
       "binancecoin                         0.021042                    0.128551   \n",
       "chainlink                          -0.002394                    0.206946   \n",
       "cardano                             0.000032                    0.139930   \n",
       "litecoin                           -0.000634                    0.066022   \n",
       "bitcoin-cash-sv                     0.009253                    0.032964   \n",
       "\n",
       "                 price_change_percentage_14d  price_change_percentage_30d  \\\n",
       "coin_id                                                                     \n",
       "bitcoin                             0.065751                     0.076726   \n",
       "ethereum                            0.048085                     0.001317   \n",
       "tether                              0.000064                    -0.000424   \n",
       "ripple                              0.022498                     0.002345   \n",
       "bitcoin-cash                        0.147533                     0.157490   \n",
       "binancecoin                         0.068069                     0.000586   \n",
       "chainlink                           0.093010                    -0.112175   \n",
       "cardano                             0.055548                     0.101055   \n",
       "litecoin                            0.072893                     0.012166   \n",
       "bitcoin-cash-sv                    -0.018666                     0.028893   \n",
       "\n",
       "                 price_change_percentage_60d  price_change_percentage_200d  \\\n",
       "coin_id                                                                      \n",
       "bitcoin                            -0.032518                      0.835184   \n",
       "ethereum                           -0.128889                      1.867742   \n",
       "tether                              0.002804                     -0.000054   \n",
       "ripple                             -0.175524                      0.395389   \n",
       "bitcoin-cash                       -0.137179                      0.216604   \n",
       "binancecoin                         0.363349                      1.556194   \n",
       "chainlink                          -0.436952                      4.032292   \n",
       "cardano                            -0.228478                      2.645142   \n",
       "litecoin                           -0.172396                      0.274992   \n",
       "bitcoin-cash-sv                    -0.248743                      0.074256   \n",
       "\n",
       "                 price_change_percentage_1y  \n",
       "coin_id                                      \n",
       "bitcoin                            0.375176  \n",
       "ethereum                           1.019602  \n",
       "tether                             0.000195  \n",
       "ripple                            -0.166019  \n",
       "bitcoin-cash                       0.144938  \n",
       "binancecoin                        0.696920  \n",
       "chainlink                          3.251319  \n",
       "cardano                            1.560976  \n",
       "litecoin                          -0.126641  \n",
       "bitcoin-cash-sv                    0.937308  "
      ]
     },
     "execution_count": 2,
     "metadata": {},
     "output_type": "execute_result"
    }
   ],
   "source": [
    "# Load the data into a Pandas DataFrame\n",
    "df_market_data = pd.read_csv(\n",
    "    \"Resources/crypto_market_data.csv\",\n",
    "    index_col=\"coin_id\")\n",
    "\n",
    "# convert percentages to decimal\n",
    "df_market_data = df_market_data/100\n",
    "\n",
    "# Display sample data\n",
    "df_market_data.head(10)"
   ]
  },
  {
   "cell_type": "code",
   "execution_count": 3,
   "metadata": {},
   "outputs": [
    {
     "data": {
      "text/html": [
       "<div>\n",
       "<style scoped>\n",
       "    .dataframe tbody tr th:only-of-type {\n",
       "        vertical-align: middle;\n",
       "    }\n",
       "\n",
       "    .dataframe tbody tr th {\n",
       "        vertical-align: top;\n",
       "    }\n",
       "\n",
       "    .dataframe thead th {\n",
       "        text-align: right;\n",
       "    }\n",
       "</style>\n",
       "<table border=\"1\" class=\"dataframe\">\n",
       "  <thead>\n",
       "    <tr style=\"text-align: right;\">\n",
       "      <th></th>\n",
       "      <th>price_change_percentage_24h</th>\n",
       "      <th>price_change_percentage_7d</th>\n",
       "      <th>price_change_percentage_14d</th>\n",
       "      <th>price_change_percentage_30d</th>\n",
       "      <th>price_change_percentage_60d</th>\n",
       "      <th>price_change_percentage_200d</th>\n",
       "      <th>price_change_percentage_1y</th>\n",
       "    </tr>\n",
       "  </thead>\n",
       "  <tbody>\n",
       "    <tr>\n",
       "      <th>count</th>\n",
       "      <td>41.000000</td>\n",
       "      <td>41.000000</td>\n",
       "      <td>41.000000</td>\n",
       "      <td>41.000000</td>\n",
       "      <td>41.000000</td>\n",
       "      <td>41.000000</td>\n",
       "      <td>41.000000</td>\n",
       "    </tr>\n",
       "    <tr>\n",
       "      <th>mean</th>\n",
       "      <td>-0.002697</td>\n",
       "      <td>0.044971</td>\n",
       "      <td>0.001858</td>\n",
       "      <td>0.015457</td>\n",
       "      <td>-0.000941</td>\n",
       "      <td>2.365374</td>\n",
       "      <td>3.476680</td>\n",
       "    </tr>\n",
       "    <tr>\n",
       "      <th>std</th>\n",
       "      <td>0.026948</td>\n",
       "      <td>0.063752</td>\n",
       "      <td>0.083769</td>\n",
       "      <td>0.263442</td>\n",
       "      <td>0.473658</td>\n",
       "      <td>4.352253</td>\n",
       "      <td>12.478429</td>\n",
       "    </tr>\n",
       "    <tr>\n",
       "      <th>min</th>\n",
       "      <td>-0.135279</td>\n",
       "      <td>-0.060946</td>\n",
       "      <td>-0.181589</td>\n",
       "      <td>-0.347055</td>\n",
       "      <td>-0.448225</td>\n",
       "      <td>-0.003921</td>\n",
       "      <td>-0.175675</td>\n",
       "    </tr>\n",
       "    <tr>\n",
       "      <th>25%</th>\n",
       "      <td>-0.006090</td>\n",
       "      <td>0.000473</td>\n",
       "      <td>-0.050266</td>\n",
       "      <td>-0.104385</td>\n",
       "      <td>-0.259080</td>\n",
       "      <td>0.216604</td>\n",
       "      <td>0.004062</td>\n",
       "    </tr>\n",
       "    <tr>\n",
       "      <th>50%</th>\n",
       "      <td>-0.000634</td>\n",
       "      <td>0.032964</td>\n",
       "      <td>0.001097</td>\n",
       "      <td>-0.000424</td>\n",
       "      <td>-0.075445</td>\n",
       "      <td>0.839052</td>\n",
       "      <td>0.696920</td>\n",
       "    </tr>\n",
       "    <tr>\n",
       "      <th>75%</th>\n",
       "      <td>0.006121</td>\n",
       "      <td>0.076028</td>\n",
       "      <td>0.055107</td>\n",
       "      <td>0.045781</td>\n",
       "      <td>0.006573</td>\n",
       "      <td>2.161776</td>\n",
       "      <td>1.683725</td>\n",
       "    </tr>\n",
       "    <tr>\n",
       "      <th>max</th>\n",
       "      <td>0.048403</td>\n",
       "      <td>0.206946</td>\n",
       "      <td>0.242392</td>\n",
       "      <td>1.407957</td>\n",
       "      <td>2.230644</td>\n",
       "      <td>22.279278</td>\n",
       "      <td>78.520897</td>\n",
       "    </tr>\n",
       "  </tbody>\n",
       "</table>\n",
       "</div>"
      ],
      "text/plain": [
       "       price_change_percentage_24h  price_change_percentage_7d  \\\n",
       "count                    41.000000                   41.000000   \n",
       "mean                     -0.002697                    0.044971   \n",
       "std                       0.026948                    0.063752   \n",
       "min                      -0.135279                   -0.060946   \n",
       "25%                      -0.006090                    0.000473   \n",
       "50%                      -0.000634                    0.032964   \n",
       "75%                       0.006121                    0.076028   \n",
       "max                       0.048403                    0.206946   \n",
       "\n",
       "       price_change_percentage_14d  price_change_percentage_30d  \\\n",
       "count                    41.000000                    41.000000   \n",
       "mean                      0.001858                     0.015457   \n",
       "std                       0.083769                     0.263442   \n",
       "min                      -0.181589                    -0.347055   \n",
       "25%                      -0.050266                    -0.104385   \n",
       "50%                       0.001097                    -0.000424   \n",
       "75%                       0.055107                     0.045781   \n",
       "max                       0.242392                     1.407957   \n",
       "\n",
       "       price_change_percentage_60d  price_change_percentage_200d  \\\n",
       "count                    41.000000                     41.000000   \n",
       "mean                     -0.000941                      2.365374   \n",
       "std                       0.473658                      4.352253   \n",
       "min                      -0.448225                     -0.003921   \n",
       "25%                      -0.259080                      0.216604   \n",
       "50%                      -0.075445                      0.839052   \n",
       "75%                       0.006573                      2.161776   \n",
       "max                       2.230644                     22.279278   \n",
       "\n",
       "       price_change_percentage_1y  \n",
       "count                   41.000000  \n",
       "mean                     3.476680  \n",
       "std                     12.478429  \n",
       "min                     -0.175675  \n",
       "25%                      0.004062  \n",
       "50%                      0.696920  \n",
       "75%                      1.683725  \n",
       "max                     78.520897  "
      ]
     },
     "execution_count": 3,
     "metadata": {},
     "output_type": "execute_result"
    }
   ],
   "source": [
    "# Generate summary statistics\n",
    "df_market_data.describe()"
   ]
  },
  {
   "cell_type": "code",
   "execution_count": 4,
   "metadata": {},
   "outputs": [
    {
     "data": {},
     "metadata": {},
     "output_type": "display_data"
    },
    {
     "data": {
      "application/vnd.holoviews_exec.v0+json": "",
      "text/html": [
       "<div id='1002'>\n",
       "  <div class=\"bk-root\" id=\"2f953fd9-42de-45c2-8624-d750ec9368e6\" data-root-id=\"1002\"></div>\n",
       "</div>\n",
       "<script type=\"application/javascript\">(function(root) {\n",
       "  function embed_document(root) {\n",
       "    var docs_json = {\"c93cca23-fd96-4c5d-b86c-9996fea00acb\":{\"defs\":[{\"extends\":null,\"module\":null,\"name\":\"ReactiveHTML1\",\"overrides\":[],\"properties\":[]},{\"extends\":null,\"module\":null,\"name\":\"FlexBox1\",\"overrides\":[],\"properties\":[{\"default\":\"flex-start\",\"kind\":null,\"name\":\"align_content\"},{\"default\":\"flex-start\",\"kind\":null,\"name\":\"align_items\"},{\"default\":\"row\",\"kind\":null,\"name\":\"flex_direction\"},{\"default\":\"wrap\",\"kind\":null,\"name\":\"flex_wrap\"},{\"default\":\"flex-start\",\"kind\":null,\"name\":\"justify_content\"}]},{\"extends\":null,\"module\":null,\"name\":\"GridStack1\",\"overrides\":[],\"properties\":[{\"default\":\"warn\",\"kind\":null,\"name\":\"mode\"},{\"default\":null,\"kind\":null,\"name\":\"ncols\"},{\"default\":null,\"kind\":null,\"name\":\"nrows\"},{\"default\":true,\"kind\":null,\"name\":\"allow_resize\"},{\"default\":true,\"kind\":null,\"name\":\"allow_drag\"},{\"default\":[],\"kind\":null,\"name\":\"state\"}]},{\"extends\":null,\"module\":null,\"name\":\"click1\",\"overrides\":[],\"properties\":[{\"default\":\"\",\"kind\":null,\"name\":\"terminal_output\"},{\"default\":\"\",\"kind\":null,\"name\":\"debug_name\"},{\"default\":0,\"kind\":null,\"name\":\"clears\"}]},{\"extends\":null,\"module\":null,\"name\":\"NotificationAreaBase1\",\"overrides\":[],\"properties\":[{\"default\":\"bottom-right\",\"kind\":null,\"name\":\"position\"},{\"default\":0,\"kind\":null,\"name\":\"_clear\"}]},{\"extends\":null,\"module\":null,\"name\":\"NotificationArea1\",\"overrides\":[],\"properties\":[{\"default\":[],\"kind\":null,\"name\":\"notifications\"},{\"default\":\"bottom-right\",\"kind\":null,\"name\":\"position\"},{\"default\":0,\"kind\":null,\"name\":\"_clear\"},{\"default\":[{\"background\":\"#ffc107\",\"icon\":{\"className\":\"fas fa-exclamation-triangle\",\"color\":\"white\",\"tagName\":\"i\"},\"type\":\"warning\"},{\"background\":\"#007bff\",\"icon\":{\"className\":\"fas fa-info-circle\",\"color\":\"white\",\"tagName\":\"i\"},\"type\":\"info\"}],\"kind\":null,\"name\":\"types\"}]},{\"extends\":null,\"module\":null,\"name\":\"Notification\",\"overrides\":[],\"properties\":[{\"default\":null,\"kind\":null,\"name\":\"background\"},{\"default\":3000,\"kind\":null,\"name\":\"duration\"},{\"default\":null,\"kind\":null,\"name\":\"icon\"},{\"default\":\"\",\"kind\":null,\"name\":\"message\"},{\"default\":null,\"kind\":null,\"name\":\"notification_type\"},{\"default\":false,\"kind\":null,\"name\":\"_destroyed\"}]},{\"extends\":null,\"module\":null,\"name\":\"TemplateActions1\",\"overrides\":[],\"properties\":[{\"default\":0,\"kind\":null,\"name\":\"open_modal\"},{\"default\":0,\"kind\":null,\"name\":\"close_modal\"}]},{\"extends\":null,\"module\":null,\"name\":\"MaterialTemplateActions1\",\"overrides\":[],\"properties\":[{\"default\":0,\"kind\":null,\"name\":\"open_modal\"},{\"default\":0,\"kind\":null,\"name\":\"close_modal\"}]}],\"roots\":{\"references\":[{\"attributes\":{\"line_alpha\":0.2,\"line_color\":\"#fc4f30\",\"line_width\":2,\"tags\":[\"apply_ranges\"],\"x\":{\"field\":\"coin_id\"},\"y\":{\"field\":\"value\"}},\"id\":\"1073\",\"type\":\"Line\"},{\"attributes\":{\"callback\":null,\"renderers\":[{\"id\":\"1053\"},{\"id\":\"1074\"},{\"id\":\"1096\"},{\"id\":\"1120\"},{\"id\":\"1146\"},{\"id\":\"1174\"},{\"id\":\"1204\"}],\"tags\":[\"hv_created\"],\"tooltips\":[[\"Variable\",\"@{Variable}\"],[\"coin_id\",\"@{coin_id}\"],[\"value\",\"@{value}\"]]},\"id\":\"1005\",\"type\":\"HoverTool\"},{\"attributes\":{\"line_alpha\":0.1,\"line_color\":\"#e5ae38\",\"line_width\":2,\"tags\":[\"apply_ranges\"],\"x\":{\"field\":\"coin_id\"},\"y\":{\"field\":\"value\"}},\"id\":\"1094\",\"type\":\"Line\"},{\"attributes\":{\"line_alpha\":0.2,\"line_color\":\"#e5ae38\",\"line_width\":2,\"tags\":[\"apply_ranges\"],\"x\":{\"field\":\"coin_id\"},\"y\":{\"field\":\"value\"}},\"id\":\"1095\",\"type\":\"Line\"},{\"attributes\":{\"line_color\":\"#17becf\",\"line_width\":2,\"tags\":[\"apply_ranges\"],\"x\":{\"field\":\"coin_id\"},\"y\":{\"field\":\"value\"}},\"id\":\"1171\",\"type\":\"Line\"},{\"attributes\":{\"source\":{\"id\":\"1090\"}},\"id\":\"1097\",\"type\":\"CDSView\"},{\"attributes\":{\"line_color\":\"#30a2da\",\"line_width\":2,\"tags\":[\"apply_ranges\"],\"x\":{\"field\":\"coin_id\"},\"y\":{\"field\":\"value\"}},\"id\":\"1050\",\"type\":\"Line\"},{\"attributes\":{\"label\":{\"value\":\"price_change_percentage_24h\"},\"renderers\":[{\"id\":\"1053\"}]},\"id\":\"1066\",\"type\":\"LegendItem\"},{\"attributes\":{\"line_alpha\":0.2,\"line_color\":\"#8b8b8b\",\"line_width\":2,\"tags\":[\"apply_ranges\"],\"x\":{\"field\":\"coin_id\"},\"y\":{\"field\":\"value\"}},\"id\":\"1145\",\"type\":\"Line\"},{\"attributes\":{\"line_color\":\"#6d904f\",\"line_width\":2,\"tags\":[\"apply_ranges\"],\"x\":{\"field\":\"coin_id\"},\"y\":{\"field\":\"value\"}},\"id\":\"1139\",\"type\":\"Line\"},{\"attributes\":{\"data\":{\"Variable\":[\"price_change_percentage_14d\",\"price_change_percentage_14d\",\"price_change_percentage_14d\",\"price_change_percentage_14d\",\"price_change_percentage_14d\",\"price_change_percentage_14d\",\"price_change_percentage_14d\",\"price_change_percentage_14d\",\"price_change_percentage_14d\",\"price_change_percentage_14d\",\"price_change_percentage_14d\",\"price_change_percentage_14d\",\"price_change_percentage_14d\",\"price_change_percentage_14d\",\"price_change_percentage_14d\",\"price_change_percentage_14d\",\"price_change_percentage_14d\",\"price_change_percentage_14d\",\"price_change_percentage_14d\",\"price_change_percentage_14d\",\"price_change_percentage_14d\",\"price_change_percentage_14d\",\"price_change_percentage_14d\",\"price_change_percentage_14d\",\"price_change_percentage_14d\",\"price_change_percentage_14d\",\"price_change_percentage_14d\",\"price_change_percentage_14d\",\"price_change_percentage_14d\",\"price_change_percentage_14d\",\"price_change_percentage_14d\",\"price_change_percentage_14d\",\"price_change_percentage_14d\",\"price_change_percentage_14d\",\"price_change_percentage_14d\",\"price_change_percentage_14d\",\"price_change_percentage_14d\",\"price_change_percentage_14d\",\"price_change_percentage_14d\",\"price_change_percentage_14d\",\"price_change_percentage_14d\"],\"coin_id\":[\"bitcoin\",\"ethereum\",\"tether\",\"ripple\",\"bitcoin-cash\",\"binancecoin\",\"chainlink\",\"cardano\",\"litecoin\",\"bitcoin-cash-sv\",\"crypto-com-chain\",\"usd-coin\",\"eos\",\"monero\",\"tron\",\"tezos\",\"okb\",\"stellar\",\"cosmos\",\"cdai\",\"neo\",\"wrapped-bitcoin\",\"leo-token\",\"huobi-token\",\"nem\",\"binance-usd\",\"iota\",\"vechain\",\"zcash\",\"theta-token\",\"dash\",\"ethereum-classic\",\"ethlend\",\"maker\",\"havven\",\"omisego\",\"celsius-degree-token\",\"ontology\",\"ftx-token\",\"true-usd\",\"digibyte\"],\"value\":{\"__ndarray__\":\"rLwuDQ3VsD9y5NyBlZ6oP43ttaD3xhA/F2zZENIJlz/zqQjcX+LCP03C4PX0bLE/xR41gX3Ptz+sGb4qvHCsP4WjmkgfqbI/r6k9NhMdk78gmz8Bb9y1v3RSqSORxw2/EevoE9RLhz/uLDAa6JDHP6rCVVSzvYw/TftBuF3Dlz9bOjDKfbypv6ZtsvyvKYa/nAGJgQk3rD9vx+WJMfpbP2rezEMBNrm/PRC0XfzIsD9/s965Qf6xv+rWxjPDoXI/yq5q/7kemz+JUFvZ9FZDP7/Bct/FVqO/qBso8E4+x780vLQ8aqetP6iBMAEJ1LC/XHdODvotdT+sAe+JGvGJv59BQ/8EF7m/ZMaAkTx8jr8eEI2TZwPBvzpe3KG86sC/1FuoobIGzz9ASLt2Dgq7vzENHgE35mC/iJEUR9T6UT9tmcI52byyvw==\",\"dtype\":\"float64\",\"order\":\"little\",\"shape\":[41]}},\"selected\":{\"id\":\"1091\"},\"selection_policy\":{\"id\":\"1109\"}},\"id\":\"1090\",\"type\":\"ColumnDataSource\"},{\"attributes\":{},\"id\":\"1019\",\"type\":\"LinearScale\"},{\"attributes\":{\"coordinates\":null,\"data_source\":{\"id\":\"1090\"},\"glyph\":{\"id\":\"1093\"},\"group\":null,\"hover_glyph\":null,\"muted_glyph\":{\"id\":\"1095\"},\"nonselection_glyph\":{\"id\":\"1094\"},\"selection_glyph\":{\"id\":\"1113\"},\"view\":{\"id\":\"1097\"}},\"id\":\"1096\",\"type\":\"GlyphRenderer\"},{\"attributes\":{\"below\":[{\"id\":\"1021\"}],\"center\":[{\"id\":\"1023\"},{\"id\":\"1027\"}],\"height\":400,\"left\":[{\"id\":\"1024\"}],\"margin\":[5,5,5,5],\"min_border_bottom\":10,\"min_border_left\":10,\"min_border_right\":10,\"min_border_top\":10,\"output_backend\":\"webgl\",\"renderers\":[{\"id\":\"1053\"},{\"id\":\"1074\"},{\"id\":\"1096\"},{\"id\":\"1120\"},{\"id\":\"1146\"},{\"id\":\"1174\"},{\"id\":\"1204\"}],\"right\":[{\"id\":\"1065\"}],\"sizing_mode\":\"fixed\",\"title\":{\"id\":\"1013\"},\"toolbar\":{\"id\":\"1034\"},\"width\":800,\"x_range\":{\"id\":\"1003\"},\"x_scale\":{\"id\":\"1017\"},\"y_range\":{\"id\":\"1004\"},\"y_scale\":{\"id\":\"1019\"}},\"id\":\"1012\",\"subtype\":\"Figure\",\"type\":\"Plot\"},{\"attributes\":{\"source\":{\"id\":\"1114\"}},\"id\":\"1121\",\"type\":\"CDSView\"},{\"attributes\":{\"data\":{\"Variable\":[\"price_change_percentage_60d\",\"price_change_percentage_60d\",\"price_change_percentage_60d\",\"price_change_percentage_60d\",\"price_change_percentage_60d\",\"price_change_percentage_60d\",\"price_change_percentage_60d\",\"price_change_percentage_60d\",\"price_change_percentage_60d\",\"price_change_percentage_60d\",\"price_change_percentage_60d\",\"price_change_percentage_60d\",\"price_change_percentage_60d\",\"price_change_percentage_60d\",\"price_change_percentage_60d\",\"price_change_percentage_60d\",\"price_change_percentage_60d\",\"price_change_percentage_60d\",\"price_change_percentage_60d\",\"price_change_percentage_60d\",\"price_change_percentage_60d\",\"price_change_percentage_60d\",\"price_change_percentage_60d\",\"price_change_percentage_60d\",\"price_change_percentage_60d\",\"price_change_percentage_60d\",\"price_change_percentage_60d\",\"price_change_percentage_60d\",\"price_change_percentage_60d\",\"price_change_percentage_60d\",\"price_change_percentage_60d\",\"price_change_percentage_60d\",\"price_change_percentage_60d\",\"price_change_percentage_60d\",\"price_change_percentage_60d\",\"price_change_percentage_60d\",\"price_change_percentage_60d\",\"price_change_percentage_60d\",\"price_change_percentage_60d\",\"price_change_percentage_60d\",\"price_change_percentage_60d\"],\"coin_id\":[\"bitcoin\",\"ethereum\",\"tether\",\"ripple\",\"bitcoin-cash\",\"binancecoin\",\"chainlink\",\"cardano\",\"litecoin\",\"bitcoin-cash-sv\",\"crypto-com-chain\",\"usd-coin\",\"eos\",\"monero\",\"tron\",\"tezos\",\"okb\",\"stellar\",\"cosmos\",\"cdai\",\"neo\",\"wrapped-bitcoin\",\"leo-token\",\"huobi-token\",\"nem\",\"binance-usd\",\"iota\",\"vechain\",\"zcash\",\"theta-token\",\"dash\",\"ethereum-classic\",\"ethlend\",\"maker\",\"havven\",\"omisego\",\"celsius-degree-token\",\"ontology\",\"ftx-token\",\"true-usd\",\"digibyte\"],\"value\":{\"__ndarray__\":\"76oHzEOmoL/fNehLb3/Av1J12fnI92Y/xciSOZZ3xr8MFphfF4/Bv10Ig3waQdc/epM6XAb3279KLe8FwT7NvyAJ+3YSEca/skQM4NLWz7/XL9gN2xbFvwUfOYiM/Ts/nloivOJO079OYhBYObTaP+Pl6VxRSqw/nGRQErev3L9fYFYo0v2cv6uE3WbgttO/eAjjp3Fvsr9Sh8vg3ut6Pz9PqEzWTcE/GBdYEX9eor/MXyFzZVCzv1YTn5Z6caG/1A9F3PeD6j/kzSvoB79OP1RB+0eVF9a/BNX1+knr27/YLPJGQUvKv6Xr0zsmnOk/rG9gcqPI0L/GQmPcw5TQv1yVn6+055U/zFE2m33Ux7+fz9szpjvZv5xn7Es2Xuk/PDpkuVvYAUDN2fEVk+3Uv1ab/1cdOa4/fT+QFy2bZD9FnE6y1eXTvw==\",\"dtype\":\"float64\",\"order\":\"little\",\"shape\":[41]}},\"selected\":{\"id\":\"1141\"},\"selection_policy\":{\"id\":\"1163\"}},\"id\":\"1140\",\"type\":\"ColumnDataSource\"},{\"attributes\":{},\"id\":\"1109\",\"type\":\"UnionRenderers\"},{\"attributes\":{\"line_color\":\"#30a2da\",\"line_width\":2,\"tags\":[\"apply_ranges\"],\"x\":{\"field\":\"coin_id\"},\"y\":{\"field\":\"value\"}},\"id\":\"1067\",\"type\":\"Line\"},{\"attributes\":{\"factors\":[\"bitcoin\",\"ethereum\",\"tether\",\"ripple\",\"bitcoin-cash\",\"binancecoin\",\"chainlink\",\"cardano\",\"litecoin\",\"bitcoin-cash-sv\",\"crypto-com-chain\",\"usd-coin\",\"eos\",\"monero\",\"tron\",\"tezos\",\"okb\",\"stellar\",\"cosmos\",\"cdai\",\"neo\",\"wrapped-bitcoin\",\"leo-token\",\"huobi-token\",\"nem\",\"binance-usd\",\"iota\",\"vechain\",\"zcash\",\"theta-token\",\"dash\",\"ethereum-classic\",\"ethlend\",\"maker\",\"havven\",\"omisego\",\"celsius-degree-token\",\"ontology\",\"ftx-token\",\"true-usd\",\"digibyte\"],\"tags\":[[[\"coin_id\",\"coin_id\",null]]]},\"id\":\"1003\",\"type\":\"FactorRange\"},{\"attributes\":{\"end\":86.41780918,\"reset_end\":86.41780918,\"reset_start\":-8.345136980000001,\"start\":-8.345136980000001,\"tags\":[[[\"value\",\"value\",null]]]},\"id\":\"1004\",\"type\":\"Range1d\"},{\"attributes\":{\"line_color\":\"#fc4f30\",\"line_width\":2,\"tags\":[\"apply_ranges\"],\"x\":{\"field\":\"coin_id\"},\"y\":{\"field\":\"value\"}},\"id\":\"1071\",\"type\":\"Line\"},{\"attributes\":{},\"id\":\"1091\",\"type\":\"Selection\"},{\"attributes\":{\"data\":{\"Variable\":[\"price_change_percentage_7d\",\"price_change_percentage_7d\",\"price_change_percentage_7d\",\"price_change_percentage_7d\",\"price_change_percentage_7d\",\"price_change_percentage_7d\",\"price_change_percentage_7d\",\"price_change_percentage_7d\",\"price_change_percentage_7d\",\"price_change_percentage_7d\",\"price_change_percentage_7d\",\"price_change_percentage_7d\",\"price_change_percentage_7d\",\"price_change_percentage_7d\",\"price_change_percentage_7d\",\"price_change_percentage_7d\",\"price_change_percentage_7d\",\"price_change_percentage_7d\",\"price_change_percentage_7d\",\"price_change_percentage_7d\",\"price_change_percentage_7d\",\"price_change_percentage_7d\",\"price_change_percentage_7d\",\"price_change_percentage_7d\",\"price_change_percentage_7d\",\"price_change_percentage_7d\",\"price_change_percentage_7d\",\"price_change_percentage_7d\",\"price_change_percentage_7d\",\"price_change_percentage_7d\",\"price_change_percentage_7d\",\"price_change_percentage_7d\",\"price_change_percentage_7d\",\"price_change_percentage_7d\",\"price_change_percentage_7d\",\"price_change_percentage_7d\",\"price_change_percentage_7d\",\"price_change_percentage_7d\",\"price_change_percentage_7d\",\"price_change_percentage_7d\",\"price_change_percentage_7d\"],\"coin_id\":[\"bitcoin\",\"ethereum\",\"tether\",\"ripple\",\"bitcoin-cash\",\"binancecoin\",\"chainlink\",\"cardano\",\"litecoin\",\"bitcoin-cash-sv\",\"crypto-com-chain\",\"usd-coin\",\"eos\",\"monero\",\"tron\",\"tezos\",\"okb\",\"stellar\",\"cosmos\",\"cdai\",\"neo\",\"wrapped-bitcoin\",\"leo-token\",\"huobi-token\",\"nem\",\"binance-usd\",\"iota\",\"vechain\",\"zcash\",\"theta-token\",\"dash\",\"ethereum-classic\",\"ethlend\",\"maker\",\"havven\",\"omisego\",\"celsius-degree-token\",\"ontology\",\"ftx-token\",\"true-usd\",\"digibyte\"],\"value\":{\"__ndarray__\":\"ajqW0o52sz8E9uLVg5O6P7haJy7HK0A/fDX22430eL+hUAWSZuLFP5uyLslcdMA/4EhFCDR9yj+4glyYO+nBP5owUAjT5rA/eFfipqvgoD8N9WD3wgmtvxBOVesOc1O/+2r943Pdir8P8Q9bejTEP6BKcmX1s6U/+DJRhNTttj/JQWTs31Cnv0XeKGhJNpU/6qY5HtiWxD8Iza57KxJDP00o6QavApk/6NWl6y71sj/WWvM+6Z+Lv0pcbP9vkZA/NBR3vMlvgb+/dEmL6fg+P3qp2JjXEa8/C58IPfYOkr9DAdvBiH26P+qRq/1CNK+/L5YzJaMUqj8MwWDt3kCfPz1WlSKekaU/5NpQMc7ftD+JVpNM8zOmP72o3a8CfLE/5HfkWZO4eD+KTdDLzdyIv4FklS3tL7I/7He8JClEWz9UjiSccXV7Pw==\",\"dtype\":\"float64\",\"order\":\"little\",\"shape\":[41]}},\"selected\":{\"id\":\"1069\"},\"selection_policy\":{\"id\":\"1085\"}},\"id\":\"1068\",\"type\":\"ColumnDataSource\"},{\"attributes\":{\"label\":{\"value\":\"price_change_percentage_14d\"},\"renderers\":[{\"id\":\"1096\"}]},\"id\":\"1112\",\"type\":\"LegendItem\"},{\"attributes\":{\"line_color\":\"#17becf\",\"line_width\":2,\"tags\":[\"apply_ranges\"],\"x\":{\"field\":\"coin_id\"},\"y\":{\"field\":\"value\"}},\"id\":\"1197\",\"type\":\"Line\"},{\"attributes\":{\"coordinates\":null,\"data_source\":{\"id\":\"1140\"},\"glyph\":{\"id\":\"1143\"},\"group\":null,\"hover_glyph\":null,\"muted_glyph\":{\"id\":\"1145\"},\"nonselection_glyph\":{\"id\":\"1144\"},\"selection_glyph\":{\"id\":\"1167\"},\"view\":{\"id\":\"1147\"}},\"id\":\"1146\",\"type\":\"GlyphRenderer\"},{\"attributes\":{\"source\":{\"id\":\"1198\"}},\"id\":\"1205\",\"type\":\"CDSView\"},{\"attributes\":{\"line_alpha\":0.1,\"line_color\":\"#8b8b8b\",\"line_width\":2,\"tags\":[\"apply_ranges\"],\"x\":{\"field\":\"coin_id\"},\"y\":{\"field\":\"value\"}},\"id\":\"1144\",\"type\":\"Line\"},{\"attributes\":{},\"id\":\"1163\",\"type\":\"UnionRenderers\"},{\"attributes\":{\"line_color\":\"#e5ae38\",\"line_width\":2,\"tags\":[\"apply_ranges\"],\"x\":{\"field\":\"coin_id\"},\"y\":{\"field\":\"value\"}},\"id\":\"1093\",\"type\":\"Line\"},{\"attributes\":{\"line_alpha\":0.2,\"line_color\":\"#9467bd\",\"line_width\":2,\"tags\":[\"apply_ranges\"],\"x\":{\"field\":\"coin_id\"},\"y\":{\"field\":\"value\"}},\"id\":\"1203\",\"type\":\"Line\"},{\"attributes\":{},\"id\":\"1193\",\"type\":\"UnionRenderers\"},{\"attributes\":{\"children\":[{\"id\":\"1012\"}],\"height\":400,\"margin\":[0,0,0,0],\"name\":\"Row01047\",\"sizing_mode\":\"fixed\",\"tags\":[\"embedded\"],\"width\":800},\"id\":\"1002\",\"type\":\"Row\"},{\"attributes\":{},\"id\":\"1017\",\"type\":\"CategoricalScale\"},{\"attributes\":{},\"id\":\"1141\",\"type\":\"Selection\"},{\"attributes\":{\"data\":{\"Variable\":[\"price_change_percentage_1y\",\"price_change_percentage_1y\",\"price_change_percentage_1y\",\"price_change_percentage_1y\",\"price_change_percentage_1y\",\"price_change_percentage_1y\",\"price_change_percentage_1y\",\"price_change_percentage_1y\",\"price_change_percentage_1y\",\"price_change_percentage_1y\",\"price_change_percentage_1y\",\"price_change_percentage_1y\",\"price_change_percentage_1y\",\"price_change_percentage_1y\",\"price_change_percentage_1y\",\"price_change_percentage_1y\",\"price_change_percentage_1y\",\"price_change_percentage_1y\",\"price_change_percentage_1y\",\"price_change_percentage_1y\",\"price_change_percentage_1y\",\"price_change_percentage_1y\",\"price_change_percentage_1y\",\"price_change_percentage_1y\",\"price_change_percentage_1y\",\"price_change_percentage_1y\",\"price_change_percentage_1y\",\"price_change_percentage_1y\",\"price_change_percentage_1y\",\"price_change_percentage_1y\",\"price_change_percentage_1y\",\"price_change_percentage_1y\",\"price_change_percentage_1y\",\"price_change_percentage_1y\",\"price_change_percentage_1y\",\"price_change_percentage_1y\",\"price_change_percentage_1y\",\"price_change_percentage_1y\",\"price_change_percentage_1y\",\"price_change_percentage_1y\",\"price_change_percentage_1y\"],\"coin_id\":[\"bitcoin\",\"ethereum\",\"tether\",\"ripple\",\"bitcoin-cash\",\"binancecoin\",\"chainlink\",\"cardano\",\"litecoin\",\"bitcoin-cash-sv\",\"crypto-com-chain\",\"usd-coin\",\"eos\",\"monero\",\"tron\",\"tezos\",\"okb\",\"stellar\",\"cosmos\",\"cdai\",\"neo\",\"wrapped-bitcoin\",\"leo-token\",\"huobi-token\",\"nem\",\"binance-usd\",\"iota\",\"vechain\",\"zcash\",\"theta-token\",\"dash\",\"ethereum-classic\",\"ethlend\",\"maker\",\"havven\",\"omisego\",\"celsius-degree-token\",\"ontology\",\"ftx-token\",\"true-usd\",\"digibyte\"],\"value\":{\"__ndarray__\":\"r2nvneIC2D900laASlDwPzyGIjiJnCk/tJ0A1B5Axb/fn/drV43CP8E6jh8qTeY/FgN/U7MCCkDkqf2Mwfn4P2xtKwfENcC/XLkoxG3+7T/s0zsmnGcIQCY0SSwpd1+/wYQbOod8xr9xYv7AC5H2P7CLR07L9OI/e3lLg+xm9j+gXAmTmLb2P6w8gbBTrME/N8sbFllh6j//SMeLO5Rnv61rtBzoAfU/blYzIZwF2D+gYuZMJOLKPx2hC4+ic88/jI8FO7QOAECBpsqc09FWP5N9RtimZ6S/FrDT/r06AEAyX7k58IXqPyT8QRMXDhxAEhhG1Qoumb/2NkdnqnG8P2nlXmBWoVNAF4+clmlFuz/BkZs8wCYbQCjtsgS+pwlAJvZ1heMYNEDpdGp4xDLAv+9E/7qJ8Po/vpqoSgCjcD+vGpXlNYD9Pw==\",\"dtype\":\"float64\",\"order\":\"little\",\"shape\":[41]}},\"selected\":{\"id\":\"1199\"},\"selection_policy\":{\"id\":\"1225\"}},\"id\":\"1198\",\"type\":\"ColumnDataSource\"},{\"attributes\":{},\"id\":\"1043\",\"type\":\"AllLabels\"},{\"attributes\":{\"label\":{\"value\":\"price_change_percentage_60d\"},\"renderers\":[{\"id\":\"1146\"}]},\"id\":\"1166\",\"type\":\"LegendItem\"},{\"attributes\":{\"coordinates\":null,\"data_source\":{\"id\":\"1198\"},\"glyph\":{\"id\":\"1201\"},\"group\":null,\"hover_glyph\":null,\"muted_glyph\":{\"id\":\"1203\"},\"nonselection_glyph\":{\"id\":\"1202\"},\"selection_glyph\":{\"id\":\"1229\"},\"view\":{\"id\":\"1205\"}},\"id\":\"1204\",\"type\":\"GlyphRenderer\"},{\"attributes\":{\"source\":{\"id\":\"1068\"}},\"id\":\"1075\",\"type\":\"CDSView\"},{\"attributes\":{},\"id\":\"1085\",\"type\":\"UnionRenderers\"},{\"attributes\":{\"axis\":{\"id\":\"1021\"},\"coordinates\":null,\"grid_line_color\":null,\"group\":null,\"ticker\":null},\"id\":\"1023\",\"type\":\"Grid\"},{\"attributes\":{},\"id\":\"1225\",\"type\":\"UnionRenderers\"},{\"attributes\":{\"label\":{\"value\":\"price_change_percentage_7d\"},\"renderers\":[{\"id\":\"1074\"}]},\"id\":\"1088\",\"type\":\"LegendItem\"},{\"attributes\":{\"coordinates\":null,\"group\":null,\"text_color\":\"black\",\"text_font_size\":\"12pt\"},\"id\":\"1013\",\"type\":\"Title\"},{\"attributes\":{},\"id\":\"1069\",\"type\":\"Selection\"},{\"attributes\":{},\"id\":\"1022\",\"type\":\"CategoricalTicker\"},{\"attributes\":{},\"id\":\"1062\",\"type\":\"UnionRenderers\"},{\"attributes\":{\"axis_label\":\"coin_id\",\"coordinates\":null,\"formatter\":{\"id\":\"1042\"},\"group\":null,\"major_label_orientation\":1.5707963267948966,\"major_label_policy\":{\"id\":\"1043\"},\"ticker\":{\"id\":\"1022\"}},\"id\":\"1021\",\"type\":\"CategoricalAxis\"},{\"attributes\":{\"line_color\":\"#8b8b8b\",\"line_width\":2,\"tags\":[\"apply_ranges\"],\"x\":{\"field\":\"coin_id\"},\"y\":{\"field\":\"value\"}},\"id\":\"1143\",\"type\":\"Line\"},{\"attributes\":{},\"id\":\"1029\",\"type\":\"PanTool\"},{\"attributes\":{\"axis_label\":\"\",\"coordinates\":null,\"formatter\":{\"id\":\"1045\"},\"group\":null,\"major_label_policy\":{\"id\":\"1046\"},\"ticker\":{\"id\":\"1025\"}},\"id\":\"1024\",\"type\":\"LinearAxis\"},{\"attributes\":{\"axis\":{\"id\":\"1024\"},\"coordinates\":null,\"dimension\":1,\"grid_line_color\":null,\"group\":null,\"ticker\":null},\"id\":\"1027\",\"type\":\"Grid\"},{\"attributes\":{},\"id\":\"1199\",\"type\":\"Selection\"},{\"attributes\":{},\"id\":\"1025\",\"type\":\"BasicTicker\"},{\"attributes\":{\"line_alpha\":0.2,\"line_color\":\"#6d904f\",\"line_width\":2,\"tags\":[\"apply_ranges\"],\"x\":{\"field\":\"coin_id\"},\"y\":{\"field\":\"value\"}},\"id\":\"1119\",\"type\":\"Line\"},{\"attributes\":{},\"id\":\"1030\",\"type\":\"WheelZoomTool\"},{\"attributes\":{\"label\":{\"value\":\"price_change_percentage_1y\"},\"renderers\":[{\"id\":\"1204\"}]},\"id\":\"1228\",\"type\":\"LegendItem\"},{\"attributes\":{},\"id\":\"1028\",\"type\":\"SaveTool\"},{\"attributes\":{\"line_color\":\"#e5ae38\",\"line_width\":2,\"tags\":[\"apply_ranges\"],\"x\":{\"field\":\"coin_id\"},\"y\":{\"field\":\"value\"}},\"id\":\"1113\",\"type\":\"Line\"},{\"attributes\":{\"line_alpha\":0.1,\"line_color\":\"#fc4f30\",\"line_width\":2,\"tags\":[\"apply_ranges\"],\"x\":{\"field\":\"coin_id\"},\"y\":{\"field\":\"value\"}},\"id\":\"1072\",\"type\":\"Line\"},{\"attributes\":{\"line_color\":\"#9467bd\",\"line_width\":2,\"tags\":[\"apply_ranges\"],\"x\":{\"field\":\"coin_id\"},\"y\":{\"field\":\"value\"}},\"id\":\"1201\",\"type\":\"Line\"},{\"attributes\":{\"overlay\":{\"id\":\"1033\"}},\"id\":\"1031\",\"type\":\"BoxZoomTool\"},{\"attributes\":{},\"id\":\"1032\",\"type\":\"ResetTool\"},{\"attributes\":{\"data\":{\"Variable\":[\"price_change_percentage_30d\",\"price_change_percentage_30d\",\"price_change_percentage_30d\",\"price_change_percentage_30d\",\"price_change_percentage_30d\",\"price_change_percentage_30d\",\"price_change_percentage_30d\",\"price_change_percentage_30d\",\"price_change_percentage_30d\",\"price_change_percentage_30d\",\"price_change_percentage_30d\",\"price_change_percentage_30d\",\"price_change_percentage_30d\",\"price_change_percentage_30d\",\"price_change_percentage_30d\",\"price_change_percentage_30d\",\"price_change_percentage_30d\",\"price_change_percentage_30d\",\"price_change_percentage_30d\",\"price_change_percentage_30d\",\"price_change_percentage_30d\",\"price_change_percentage_30d\",\"price_change_percentage_30d\",\"price_change_percentage_30d\",\"price_change_percentage_30d\",\"price_change_percentage_30d\",\"price_change_percentage_30d\",\"price_change_percentage_30d\",\"price_change_percentage_30d\",\"price_change_percentage_30d\",\"price_change_percentage_30d\",\"price_change_percentage_30d\",\"price_change_percentage_30d\",\"price_change_percentage_30d\",\"price_change_percentage_30d\",\"price_change_percentage_30d\",\"price_change_percentage_30d\",\"price_change_percentage_30d\",\"price_change_percentage_30d\",\"price_change_percentage_30d\",\"price_change_percentage_30d\"],\"coin_id\":[\"bitcoin\",\"ethereum\",\"tether\",\"ripple\",\"bitcoin-cash\",\"binancecoin\",\"chainlink\",\"cardano\",\"litecoin\",\"bitcoin-cash-sv\",\"crypto-com-chain\",\"usd-coin\",\"eos\",\"monero\",\"tron\",\"tezos\",\"okb\",\"stellar\",\"cosmos\",\"cdai\",\"neo\",\"wrapped-bitcoin\",\"leo-token\",\"huobi-token\",\"nem\",\"binance-usd\",\"iota\",\"vechain\",\"zcash\",\"theta-token\",\"dash\",\"ethereum-classic\",\"ethlend\",\"maker\",\"havven\",\"omisego\",\"celsius-degree-token\",\"ontology\",\"ftx-token\",\"true-usd\",\"digibyte\"],\"value\":{\"__ndarray__\":\"c2rCUU2ksz/TkKebepNVPxFOsKSBxDu//1peud42Yz8d9/djpCjEP15m2CjrN0M/00jwK3u3vL9bZJaYwt65P3fJ7riX6og/M7likAWWnT+Xtm45TVXGv+w84HDVK1u/6qABq9m5p78I0+buKe/YP1oMw+wKIsC/RnJDnQMVwr/R6LOo9Li6v19I4kCjz7S/HGeJhKVwpz/Kx0m8l1aWv93U9mUfGsy/IcJkT6fhsj/MuRRXlX2fP5pPDH88qqC/lQIcjCK1or88jP/xFCgoP5bjus4rQ6W/xqxy/Ksiwr8MOzGQDN6yPxoyHqUSHtQ/DYrmASzys787V+/L9KadP+YPvBBhMtO/Gvz9YrZkxT8Gy30XW63KvzE/3HryVbe/0slS6/2G9j9Y3vpVJTbWv61HKwgvC7u/vJf75ChAND+9+EeE6/bAPw==\",\"dtype\":\"float64\",\"order\":\"little\",\"shape\":[41]}},\"selected\":{\"id\":\"1115\"},\"selection_policy\":{\"id\":\"1135\"}},\"id\":\"1114\",\"type\":\"ColumnDataSource\"},{\"attributes\":{\"data\":{\"Variable\":[\"price_change_percentage_24h\",\"price_change_percentage_24h\",\"price_change_percentage_24h\",\"price_change_percentage_24h\",\"price_change_percentage_24h\",\"price_change_percentage_24h\",\"price_change_percentage_24h\",\"price_change_percentage_24h\",\"price_change_percentage_24h\",\"price_change_percentage_24h\",\"price_change_percentage_24h\",\"price_change_percentage_24h\",\"price_change_percentage_24h\",\"price_change_percentage_24h\",\"price_change_percentage_24h\",\"price_change_percentage_24h\",\"price_change_percentage_24h\",\"price_change_percentage_24h\",\"price_change_percentage_24h\",\"price_change_percentage_24h\",\"price_change_percentage_24h\",\"price_change_percentage_24h\",\"price_change_percentage_24h\",\"price_change_percentage_24h\",\"price_change_percentage_24h\",\"price_change_percentage_24h\",\"price_change_percentage_24h\",\"price_change_percentage_24h\",\"price_change_percentage_24h\",\"price_change_percentage_24h\",\"price_change_percentage_24h\",\"price_change_percentage_24h\",\"price_change_percentage_24h\",\"price_change_percentage_24h\",\"price_change_percentage_24h\",\"price_change_percentage_24h\",\"price_change_percentage_24h\",\"price_change_percentage_24h\",\"price_change_percentage_24h\",\"price_change_percentage_24h\",\"price_change_percentage_24h\"],\"coin_id\":[\"bitcoin\",\"ethereum\",\"tether\",\"ripple\",\"bitcoin-cash\",\"binancecoin\",\"chainlink\",\"cardano\",\"litecoin\",\"bitcoin-cash-sv\",\"crypto-com-chain\",\"usd-coin\",\"eos\",\"monero\",\"tron\",\"tezos\",\"okb\",\"stellar\",\"cosmos\",\"cdai\",\"neo\",\"wrapped-bitcoin\",\"leo-token\",\"huobi-token\",\"nem\",\"binance-usd\",\"iota\",\"vechain\",\"zcash\",\"theta-token\",\"dash\",\"ethereum-classic\",\"ethlend\",\"maker\",\"havven\",\"omisego\",\"celsius-degree-token\",\"ontology\",\"ftx-token\",\"true-usd\",\"digibyte\"],\"value\":{\"__ndarray__\":\"qhs5HKcyhj8IUJ1Y8VdiPxqvL8hMWGG/9sAiGjj7br9k6q7sgsGdP4yaVNkcjJU/kZ4ih4ibY789qlCTz+EAPw0dlmE3x0S/mn0eozzzgj8SRCeVOhJ5P6OvIM1YNF2/EgHiCRi4Vz9jagGQyZhxP79R4b7EDkk/O5eYHZiSe79bzqW4quybvyXan9UTp4S/0RrN2yJ6g7802ZoIdldhPwUuNHywMXQ/2xkBcEeThj+jLNc2IJ1Vv+QYJNgTuHC/7L5jeOxngb+63pEMlG9RvyMhgIqZM3E/d8MR/wtfij8crnplg/F4v0Yl0LsMWqe/1zeLcsS1hb9uF5rrNNJyvxOhbCXPUMG/CcOAJVexeL9NSXsodtmkv8p1CT1RyKg/4QRLGki8mT9AL9y5MNKLv90MkplmFYE/+MvdnWtORL9pe6r54GuePw==\",\"dtype\":\"float64\",\"order\":\"little\",\"shape\":[41]}},\"selected\":{\"id\":\"1048\"},\"selection_policy\":{\"id\":\"1062\"}},\"id\":\"1047\",\"type\":\"ColumnDataSource\"},{\"attributes\":{\"coordinates\":null,\"data_source\":{\"id\":\"1068\"},\"glyph\":{\"id\":\"1071\"},\"group\":null,\"hover_glyph\":null,\"muted_glyph\":{\"id\":\"1073\"},\"nonselection_glyph\":{\"id\":\"1072\"},\"selection_glyph\":{\"id\":\"1089\"},\"view\":{\"id\":\"1075\"}},\"id\":\"1074\",\"type\":\"GlyphRenderer\"},{\"attributes\":{\"bottom_units\":\"screen\",\"coordinates\":null,\"fill_alpha\":0.5,\"fill_color\":\"lightgrey\",\"group\":null,\"left_units\":\"screen\",\"level\":\"overlay\",\"line_alpha\":1.0,\"line_color\":\"black\",\"line_dash\":[4,4],\"line_width\":2,\"right_units\":\"screen\",\"syncable\":false,\"top_units\":\"screen\"},\"id\":\"1033\",\"type\":\"BoxAnnotation\"},{\"attributes\":{\"line_alpha\":0.1,\"line_color\":\"#17becf\",\"line_width\":2,\"tags\":[\"apply_ranges\"],\"x\":{\"field\":\"coin_id\"},\"y\":{\"field\":\"value\"}},\"id\":\"1172\",\"type\":\"Line\"},{\"attributes\":{\"coordinates\":null,\"data_source\":{\"id\":\"1114\"},\"glyph\":{\"id\":\"1117\"},\"group\":null,\"hover_glyph\":null,\"muted_glyph\":{\"id\":\"1119\"},\"nonselection_glyph\":{\"id\":\"1118\"},\"selection_glyph\":{\"id\":\"1139\"},\"view\":{\"id\":\"1121\"}},\"id\":\"1120\",\"type\":\"GlyphRenderer\"},{\"attributes\":{\"active_drag\":{\"id\":\"1029\"},\"active_scroll\":{\"id\":\"1030\"},\"tools\":[{\"id\":\"1005\"},{\"id\":\"1028\"},{\"id\":\"1029\"},{\"id\":\"1030\"},{\"id\":\"1031\"},{\"id\":\"1032\"}]},\"id\":\"1034\",\"type\":\"Toolbar\"},{\"attributes\":{},\"id\":\"1042\",\"type\":\"CategoricalTickFormatter\"},{\"attributes\":{\"line_color\":\"#8b8b8b\",\"line_width\":2,\"tags\":[\"apply_ranges\"],\"x\":{\"field\":\"coin_id\"},\"y\":{\"field\":\"value\"}},\"id\":\"1167\",\"type\":\"Line\"},{\"attributes\":{\"line_alpha\":0.1,\"line_color\":\"#6d904f\",\"line_width\":2,\"tags\":[\"apply_ranges\"],\"x\":{\"field\":\"coin_id\"},\"y\":{\"field\":\"value\"}},\"id\":\"1118\",\"type\":\"Line\"},{\"attributes\":{},\"id\":\"1135\",\"type\":\"UnionRenderers\"},{\"attributes\":{\"line_alpha\":0.2,\"line_color\":\"#17becf\",\"line_width\":2,\"tags\":[\"apply_ranges\"],\"x\":{\"field\":\"coin_id\"},\"y\":{\"field\":\"value\"}},\"id\":\"1173\",\"type\":\"Line\"},{\"attributes\":{\"source\":{\"id\":\"1140\"}},\"id\":\"1147\",\"type\":\"CDSView\"},{\"attributes\":{},\"id\":\"1046\",\"type\":\"AllLabels\"},{\"attributes\":{},\"id\":\"1045\",\"type\":\"BasicTickFormatter\"},{\"attributes\":{\"data\":{\"Variable\":[\"price_change_percentage_200d\",\"price_change_percentage_200d\",\"price_change_percentage_200d\",\"price_change_percentage_200d\",\"price_change_percentage_200d\",\"price_change_percentage_200d\",\"price_change_percentage_200d\",\"price_change_percentage_200d\",\"price_change_percentage_200d\",\"price_change_percentage_200d\",\"price_change_percentage_200d\",\"price_change_percentage_200d\",\"price_change_percentage_200d\",\"price_change_percentage_200d\",\"price_change_percentage_200d\",\"price_change_percentage_200d\",\"price_change_percentage_200d\",\"price_change_percentage_200d\",\"price_change_percentage_200d\",\"price_change_percentage_200d\",\"price_change_percentage_200d\",\"price_change_percentage_200d\",\"price_change_percentage_200d\",\"price_change_percentage_200d\",\"price_change_percentage_200d\",\"price_change_percentage_200d\",\"price_change_percentage_200d\",\"price_change_percentage_200d\",\"price_change_percentage_200d\",\"price_change_percentage_200d\",\"price_change_percentage_200d\",\"price_change_percentage_200d\",\"price_change_percentage_200d\",\"price_change_percentage_200d\",\"price_change_percentage_200d\",\"price_change_percentage_200d\",\"price_change_percentage_200d\",\"price_change_percentage_200d\",\"price_change_percentage_200d\",\"price_change_percentage_200d\",\"price_change_percentage_200d\"],\"coin_id\":[\"bitcoin\",\"ethereum\",\"tether\",\"ripple\",\"bitcoin-cash\",\"binancecoin\",\"chainlink\",\"cardano\",\"litecoin\",\"bitcoin-cash-sv\",\"crypto-com-chain\",\"usd-coin\",\"eos\",\"monero\",\"tron\",\"tezos\",\"okb\",\"stellar\",\"cosmos\",\"cdai\",\"neo\",\"wrapped-bitcoin\",\"leo-token\",\"huobi-token\",\"nem\",\"binance-usd\",\"iota\",\"vechain\",\"zcash\",\"theta-token\",\"dash\",\"ethereum-classic\",\"ethlend\",\"maker\",\"havven\",\"omisego\",\"celsius-degree-token\",\"ontology\",\"ftx-token\",\"true-usd\",\"digibyte\"],\"value\":{\"__ndarray__\":\"EY/Ey9O56j9s9MU5ReL9P469zdGZagy/jhlN0wxO2T8jj5a5r7nLPxrce10r5vg/nrpNExEhEEC2QqIaQCkFQMONSqB3mdE/0XWGTnQCsz/fyzPl+SICQC4syUtItVm/+7Tlt0Mexz/bLANzmR/7P4T7t4HxQvU/eNkK9U/L2z8gl904zpLZP2+Tm/IyFOs/aSik63jC/T+3J0hsdw9wv8aKdQU2Yvk/qpZ0lIPZ6j8WfU/24P/EP50Zs9sdCNs/BjKWRFFLAUAciYZ7G1FQP6ksrwG2aO4/w5bDk4KTBUD5KMh0jZvzP+qZXmIspyFAkYE8u3zrrz9j+ONRhZq6P1p8r8Z+RzZAroJzoU1p6j/O4zCYv+oYQClDsAUYaRdA24wuysfNL0AsOw7NhobhPxNJ9DKKZeI/oIQ+/QwUTb9nI3yUtk0TQA==\",\"dtype\":\"float64\",\"order\":\"little\",\"shape\":[41]}},\"selected\":{\"id\":\"1169\"},\"selection_policy\":{\"id\":\"1193\"}},\"id\":\"1168\",\"type\":\"ColumnDataSource\"},{\"attributes\":{},\"id\":\"1115\",\"type\":\"Selection\"},{\"attributes\":{\"label\":{\"value\":\"price_change_percentage_30d\"},\"renderers\":[{\"id\":\"1120\"}]},\"id\":\"1138\",\"type\":\"LegendItem\"},{\"attributes\":{\"source\":{\"id\":\"1168\"}},\"id\":\"1175\",\"type\":\"CDSView\"},{\"attributes\":{\"line_alpha\":0.2,\"line_color\":\"#30a2da\",\"line_width\":2,\"tags\":[\"apply_ranges\"],\"x\":{\"field\":\"coin_id\"},\"y\":{\"field\":\"value\"}},\"id\":\"1052\",\"type\":\"Line\"},{\"attributes\":{\"line_color\":\"#9467bd\",\"line_width\":2,\"tags\":[\"apply_ranges\"],\"x\":{\"field\":\"coin_id\"},\"y\":{\"field\":\"value\"}},\"id\":\"1229\",\"type\":\"Line\"},{\"attributes\":{\"line_color\":\"#6d904f\",\"line_width\":2,\"tags\":[\"apply_ranges\"],\"x\":{\"field\":\"coin_id\"},\"y\":{\"field\":\"value\"}},\"id\":\"1117\",\"type\":\"Line\"},{\"attributes\":{\"line_alpha\":0.1,\"line_color\":\"#30a2da\",\"line_width\":2,\"tags\":[\"apply_ranges\"],\"x\":{\"field\":\"coin_id\"},\"y\":{\"field\":\"value\"}},\"id\":\"1051\",\"type\":\"Line\"},{\"attributes\":{\"coordinates\":null,\"data_source\":{\"id\":\"1168\"},\"glyph\":{\"id\":\"1171\"},\"group\":null,\"hover_glyph\":null,\"muted_glyph\":{\"id\":\"1173\"},\"nonselection_glyph\":{\"id\":\"1172\"},\"selection_glyph\":{\"id\":\"1197\"},\"view\":{\"id\":\"1175\"}},\"id\":\"1174\",\"type\":\"GlyphRenderer\"},{\"attributes\":{\"line_alpha\":0.1,\"line_color\":\"#9467bd\",\"line_width\":2,\"tags\":[\"apply_ranges\"],\"x\":{\"field\":\"coin_id\"},\"y\":{\"field\":\"value\"}},\"id\":\"1202\",\"type\":\"Line\"},{\"attributes\":{\"source\":{\"id\":\"1047\"}},\"id\":\"1054\",\"type\":\"CDSView\"},{\"attributes\":{\"line_color\":\"#fc4f30\",\"line_width\":2,\"tags\":[\"apply_ranges\"],\"x\":{\"field\":\"coin_id\"},\"y\":{\"field\":\"value\"}},\"id\":\"1089\",\"type\":\"Line\"},{\"attributes\":{},\"id\":\"1048\",\"type\":\"Selection\"},{\"attributes\":{},\"id\":\"1169\",\"type\":\"Selection\"},{\"attributes\":{\"click_policy\":\"mute\",\"coordinates\":null,\"group\":null,\"items\":[{\"id\":\"1066\"},{\"id\":\"1088\"},{\"id\":\"1112\"},{\"id\":\"1138\"},{\"id\":\"1166\"},{\"id\":\"1196\"},{\"id\":\"1228\"}],\"location\":[0,0],\"title\":\"Variable\"},\"id\":\"1065\",\"type\":\"Legend\"},{\"attributes\":{\"coordinates\":null,\"data_source\":{\"id\":\"1047\"},\"glyph\":{\"id\":\"1050\"},\"group\":null,\"hover_glyph\":null,\"muted_glyph\":{\"id\":\"1052\"},\"nonselection_glyph\":{\"id\":\"1051\"},\"selection_glyph\":{\"id\":\"1067\"},\"view\":{\"id\":\"1054\"}},\"id\":\"1053\",\"type\":\"GlyphRenderer\"},{\"attributes\":{\"label\":{\"value\":\"price_change_percentage_200d\"},\"renderers\":[{\"id\":\"1174\"}]},\"id\":\"1196\",\"type\":\"LegendItem\"}],\"root_ids\":[\"1002\"]},\"title\":\"Bokeh Application\",\"version\":\"2.4.3\"}};\n",
       "    var render_items = [{\"docid\":\"c93cca23-fd96-4c5d-b86c-9996fea00acb\",\"root_ids\":[\"1002\"],\"roots\":{\"1002\":\"2f953fd9-42de-45c2-8624-d750ec9368e6\"}}];\n",
       "    root.Bokeh.embed.embed_items_notebook(docs_json, render_items);\n",
       "    for (const render_item of render_items) {\n",
       "      for (const root_id of render_item.root_ids) {\n",
       "\tconst id_el = document.getElementById(root_id)\n",
       "\tif (id_el.children.length && (id_el.children[0].className === 'bk-root')) {\n",
       "\t  const root_el = id_el.children[0]\n",
       "\t  root_el.id = root_el.id + '-rendered'\n",
       "\t}\n",
       "      }\n",
       "    }\n",
       "  }\n",
       "  if (root.Bokeh !== undefined && root.Bokeh.Panel !== undefined) {\n",
       "    embed_document(root);\n",
       "  } else {\n",
       "    var attempts = 0;\n",
       "    var timer = setInterval(function(root) {\n",
       "      if (root.Bokeh !== undefined && root.Bokeh.Panel !== undefined) {\n",
       "        clearInterval(timer);\n",
       "        embed_document(root);\n",
       "      } else if (document.readyState == \"complete\") {\n",
       "        attempts++;\n",
       "        if (attempts > 200) {\n",
       "          clearInterval(timer);\n",
       "          console.log(\"Bokeh: ERROR: Unable to run BokehJS code because BokehJS library is missing\");\n",
       "        }\n",
       "      }\n",
       "    }, 25, root)\n",
       "  }\n",
       "})(window);</script>"
      ],
      "text/plain": [
       ":NdOverlay   [Variable]\n",
       "   :Curve   [coin_id]   (value)"
      ]
     },
     "execution_count": 4,
     "metadata": {
      "application/vnd.holoviews_exec.v0+json": {
       "id": "1002"
      }
     },
     "output_type": "execute_result"
    }
   ],
   "source": [
    "# Plot your data to see what's in your DataFrame\n",
    "df_market_data.hvplot.line(\n",
    "    width=800,\n",
    "    height=400,\n",
    "    rot=90\n",
    ")"
   ]
  },
  {
   "cell_type": "code",
   "execution_count": 5,
   "metadata": {},
   "outputs": [
    {
     "data": {},
     "metadata": {},
     "output_type": "display_data"
    },
    {
     "data": {
      "application/vnd.holoviews_exec.v0+json": "",
      "text/html": [
       "<div id='1367'>\n",
       "  <div class=\"bk-root\" id=\"6faee8f4-94e3-49df-8d3f-e4758a99a8fd\" data-root-id=\"1367\"></div>\n",
       "</div>\n",
       "<script type=\"application/javascript\">(function(root) {\n",
       "  function embed_document(root) {\n",
       "    var docs_json = {\"9d3418a1-7331-4471-900a-69a1f5a4998d\":{\"defs\":[{\"extends\":null,\"module\":null,\"name\":\"ReactiveHTML1\",\"overrides\":[],\"properties\":[]},{\"extends\":null,\"module\":null,\"name\":\"FlexBox1\",\"overrides\":[],\"properties\":[{\"default\":\"flex-start\",\"kind\":null,\"name\":\"align_content\"},{\"default\":\"flex-start\",\"kind\":null,\"name\":\"align_items\"},{\"default\":\"row\",\"kind\":null,\"name\":\"flex_direction\"},{\"default\":\"wrap\",\"kind\":null,\"name\":\"flex_wrap\"},{\"default\":\"flex-start\",\"kind\":null,\"name\":\"justify_content\"}]},{\"extends\":null,\"module\":null,\"name\":\"GridStack1\",\"overrides\":[],\"properties\":[{\"default\":\"warn\",\"kind\":null,\"name\":\"mode\"},{\"default\":null,\"kind\":null,\"name\":\"ncols\"},{\"default\":null,\"kind\":null,\"name\":\"nrows\"},{\"default\":true,\"kind\":null,\"name\":\"allow_resize\"},{\"default\":true,\"kind\":null,\"name\":\"allow_drag\"},{\"default\":[],\"kind\":null,\"name\":\"state\"}]},{\"extends\":null,\"module\":null,\"name\":\"click1\",\"overrides\":[],\"properties\":[{\"default\":\"\",\"kind\":null,\"name\":\"terminal_output\"},{\"default\":\"\",\"kind\":null,\"name\":\"debug_name\"},{\"default\":0,\"kind\":null,\"name\":\"clears\"}]},{\"extends\":null,\"module\":null,\"name\":\"NotificationAreaBase1\",\"overrides\":[],\"properties\":[{\"default\":\"bottom-right\",\"kind\":null,\"name\":\"position\"},{\"default\":0,\"kind\":null,\"name\":\"_clear\"}]},{\"extends\":null,\"module\":null,\"name\":\"NotificationArea1\",\"overrides\":[],\"properties\":[{\"default\":[],\"kind\":null,\"name\":\"notifications\"},{\"default\":\"bottom-right\",\"kind\":null,\"name\":\"position\"},{\"default\":0,\"kind\":null,\"name\":\"_clear\"},{\"default\":[{\"background\":\"#ffc107\",\"icon\":{\"className\":\"fas fa-exclamation-triangle\",\"color\":\"white\",\"tagName\":\"i\"},\"type\":\"warning\"},{\"background\":\"#007bff\",\"icon\":{\"className\":\"fas fa-info-circle\",\"color\":\"white\",\"tagName\":\"i\"},\"type\":\"info\"}],\"kind\":null,\"name\":\"types\"}]},{\"extends\":null,\"module\":null,\"name\":\"Notification\",\"overrides\":[],\"properties\":[{\"default\":null,\"kind\":null,\"name\":\"background\"},{\"default\":3000,\"kind\":null,\"name\":\"duration\"},{\"default\":null,\"kind\":null,\"name\":\"icon\"},{\"default\":\"\",\"kind\":null,\"name\":\"message\"},{\"default\":null,\"kind\":null,\"name\":\"notification_type\"},{\"default\":false,\"kind\":null,\"name\":\"_destroyed\"}]},{\"extends\":null,\"module\":null,\"name\":\"TemplateActions1\",\"overrides\":[],\"properties\":[{\"default\":0,\"kind\":null,\"name\":\"open_modal\"},{\"default\":0,\"kind\":null,\"name\":\"close_modal\"}]},{\"extends\":null,\"module\":null,\"name\":\"MaterialTemplateActions1\",\"overrides\":[],\"properties\":[{\"default\":0,\"kind\":null,\"name\":\"open_modal\"},{\"default\":0,\"kind\":null,\"name\":\"close_modal\"}]}],\"roots\":{\"references\":[{\"attributes\":{\"axis_label\":\"price_change_percentage_30d\",\"coordinates\":null,\"formatter\":{\"id\":\"1567\"},\"group\":null,\"major_label_policy\":{\"id\":\"1568\"},\"ticker\":{\"id\":\"1537\"}},\"id\":\"1536\",\"type\":\"LinearAxis\"},{\"attributes\":{},\"id\":\"1714\",\"type\":\"Selection\"},{\"attributes\":{},\"id\":\"1545\",\"type\":\"PanTool\"},{\"attributes\":{\"fill_alpha\":0.5,\"fill_color\":\"#30a2da\",\"hatch_color\":\"#30a2da\",\"tags\":[\"apply_ranges\"],\"x\":{\"field\":\"x\"},\"y\":{\"field\":\"y\"}},\"id\":\"1716\",\"type\":\"Patch\"},{\"attributes\":{},\"id\":\"1440\",\"type\":\"SaveTool\"},{\"attributes\":{\"axis_label\":\"Density\",\"coordinates\":null,\"formatter\":{\"id\":\"1570\"},\"group\":null,\"major_label_policy\":{\"id\":\"1571\"},\"ticker\":{\"id\":\"1541\"}},\"id\":\"1540\",\"type\":\"LinearAxis\"},{\"attributes\":{\"fill_alpha\":0.5,\"fill_color\":\"#30a2da\",\"hatch_color\":\"#30a2da\",\"tags\":[\"apply_ranges\"],\"x\":{\"field\":\"x\"},\"y\":{\"field\":\"y\"}},\"id\":\"1617\",\"type\":\"Patch\"},{\"attributes\":{},\"id\":\"1441\",\"type\":\"PanTool\"},{\"attributes\":{\"source\":{\"id\":\"1713\"}},\"id\":\"1720\",\"type\":\"CDSView\"},{\"attributes\":{},\"id\":\"1442\",\"type\":\"WheelZoomTool\"},{\"attributes\":{},\"id\":\"1541\",\"type\":\"BasicTicker\"},{\"attributes\":{\"toolbars\":[{\"id\":\"1394\"},{\"id\":\"1446\"},{\"id\":\"1498\"},{\"id\":\"1550\"},{\"id\":\"1602\"},{\"id\":\"1654\"},{\"id\":\"1706\"}],\"tools\":[{\"id\":\"1370\"},{\"id\":\"1388\"},{\"id\":\"1389\"},{\"id\":\"1390\"},{\"id\":\"1391\"},{\"id\":\"1392\"},{\"id\":\"1422\"},{\"id\":\"1440\"},{\"id\":\"1441\"},{\"id\":\"1442\"},{\"id\":\"1443\"},{\"id\":\"1444\"},{\"id\":\"1474\"},{\"id\":\"1492\"},{\"id\":\"1493\"},{\"id\":\"1494\"},{\"id\":\"1495\"},{\"id\":\"1496\"},{\"id\":\"1526\"},{\"id\":\"1544\"},{\"id\":\"1545\"},{\"id\":\"1546\"},{\"id\":\"1547\"},{\"id\":\"1548\"},{\"id\":\"1578\"},{\"id\":\"1596\"},{\"id\":\"1597\"},{\"id\":\"1598\"},{\"id\":\"1599\"},{\"id\":\"1600\"},{\"id\":\"1630\"},{\"id\":\"1648\"},{\"id\":\"1649\"},{\"id\":\"1650\"},{\"id\":\"1651\"},{\"id\":\"1652\"},{\"id\":\"1682\"},{\"id\":\"1700\"},{\"id\":\"1701\"},{\"id\":\"1702\"},{\"id\":\"1703\"},{\"id\":\"1704\"}]},\"id\":\"1817\",\"type\":\"ProxyToolbar\"},{\"attributes\":{\"data\":{\"x\":{\"__ndarray__\":\"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\",\"dtype\":\"float64\",\"order\":\"little\",\"shape\":[200]},\"y\":{\"__ndarray__\":\"AAAAAAAAAAAAAAAAAAAAAAAAAAAAAAAAAAAAAAAAAAAAAAAAAAAAAAAAAAAAAAAAAAAAAAAAAAAAAAAAAAAAAAAAAAAAAAAAAAAAAAAAAAAAAAAAAAAAAAAAAAAAAAAAAAAAAAAAAAAAAAAAAAAAAAAAAAAAAAAAAAAAAAAAAAAAAAAAAAAAAAAAAAAAAAAAAAAAAAAAAAAAAAAAAAAAAAAAAAAAAAAAAAAAAAAAAAAAAAAAAAAAAAAAAAAAAAAAAAAAAAAAAAAAAAAAAAAAAAAAAAAAAAAAAAAAAAAAAAAAAAAAAAAAAAAAAAAAAAAAAAAAAAAAAAAAAAAAAAAAAAAAAAAAAAAAAAAAAAAAAAAAAAAAAAAAAAAAAAAAAAAAAAAAAAAAAAAAAAAAAAAAAAAAAAAAAAAAAAAAAAAAAAAAAAAAAAAAAAAAAAAAAAAAAAAAAAAAAAAAAAAAAAAAAAAAAAAAAAAAAAAAAAAAAAAAAAAAAAAAAAAAAAAAAAAAAAAAAAAAAAAAAAAAAAAAAAAAAAAAAAAAAAAAAAAAAAAAAAAAAAAAAAAAAAAAAAAAAAAAAAAAAAAAAAAAAAAAAAAAAAAAAAAAAAAAAAAAAAAAAAAAAAAAAAAAAAAAAAAAAAAAAAAAAAAAAAAAAAAAAAAAAAAAAAAAAAAAAAAAAAAAAAAAAAAAAAAAAAAAAAAAAAAAAAAAAAAAAAAAAAAAAAAAAAAAAAAAAAAAAAAAAAAAAAAAAAAAAAAAAAAAAAAAAAAAAAAAAAAAAAAAAAAAAAAAAAAAAAAAAAAAAAAAAAAAAAAAAAAAAAAAAAAAAAAAAAAAAAAAAAAAAAAAAAAAAAAAAAAAAAAAAAAAAAAAAAAAAAAAAAAAAAAAAAAAAAAAAAAAAAAAAAAAAAAAAAAAAAAAAAAAAAAAAAAAAAAAAAAAAAAAAAAAAAAAAAAAAAAAAAAAAAAAAAAAAAAAAAAAAAAAAAAAAAAAAAAAAAAAAAAAAAAAAAAAAAAAAAAAAAAAAAAAAAAAAAAAAAAAAAAAAAAAAAAAAAAAAAAAAAAAAABIpOdVu0FMP96KGZyhYFk/3GXxtErhZT/RK/+wMxxyP7RncgbZx3w/uObxxFj0hT+pvhIX2hOQPzBggAkYm5Y/fJZ1zISDnj8U2RZ5NsWjP0w9/c8wmKg/0I6bekNfrT9NfvS4ZNawP36pNlMyiLI/nVHkXtOUsz9gJkA71dyzP83dUc2XV7M/EMZ7dgAVsj/sIaapWzqwPwVvKReL9qs/OY0hyuwgpz+pCNRSal2iPySVyXqR/5s/9XVbdip9lD/igg5nt8mMP1eKWERYaoM/j0IV1SckeT+M1gYo8kBvP0K8G2E7pmI/7yPjWP1dVT+b+bBEsYFHP6PWusMF2jg/StY7d4lbKT+6k6Y+54QZPzeDQ8zn7ws/Xb+ynbsWBj/oGMmSBvMOPy4tB+qpfx0/9JlQWhrILT9BxfZABIA9P5l4hPdVNUw/HQJqj831WT84M5oVRfxmP3CNakholXM/SYrv3rMPgD/ezHAlNF+JPyZkYpSyT5M/QgCSHd5ZnD+2g17lpxekPzdmfwURias/u8v/SVJHsj/ajCAEc5K3PwZB8s+uob0/1DKXZK88wj+SVNBvvBrGP0oQe7bZjMo/pcattz/Pzz+qu99Ifx3TP+BobGApIdc/9zkWsswy3D/bbZRDQkjhP09Moos6NeU/2dZsV+Lq6T+R+TtcT2DvP517Xn9ruvI/duO4gVT39T9d6GGbiz75P3OdFblkX/w/UegQRLAl/z/3pCtc0a8AQD2/y/bxcQFAX4EqrFzLAUCApNvdrrYBQG41d+V4NwFA8XXAunZZAEDMoNgkd13+P2hp4lJkmvs/0ObaUNGX+D8Lsbv4MYH1PzBR726Ge/I/X9W9jSNG7z9XshYjQBXqP1vOR4VKeOU/mTnWmp904T8G3xKzVArcP9HxOMcOPdY/neY6wP5k0T+ovlEW0cnKP1fLcijKQsQ/z0VDA9kGvj8HI8+//r21P4yJJ0zfsK4/niXcpakQpT9n80NDExCcP/3VLpXEG5I/Kqs2tyGbhj8GvC8ndkN7P7SdA9SXu28/S9o89LnOYT9dxfEWOUJTPw==\",\"dtype\":\"float64\",\"order\":\"little\",\"shape\":[200]}},\"selected\":{\"id\":\"1558\"},\"selection_policy\":{\"id\":\"1779\"}},\"id\":\"1557\",\"type\":\"ColumnDataSource\"},{\"attributes\":{\"overlay\":{\"id\":\"1445\"}},\"id\":\"1443\",\"type\":\"BoxZoomTool\"},{\"attributes\":{},\"id\":\"1620\",\"type\":\"AllLabels\"},{\"attributes\":{},\"id\":\"1444\",\"type\":\"ResetTool\"},{\"attributes\":{\"fill_alpha\":0.2,\"fill_color\":\"#30a2da\",\"hatch_alpha\":0.2,\"hatch_color\":\"#30a2da\",\"line_alpha\":0.2,\"tags\":[\"apply_ranges\"],\"x\":{\"field\":\"x\"},\"y\":{\"field\":\"y\"}},\"id\":\"1718\",\"type\":\"Patch\"},{\"attributes\":{},\"id\":\"1619\",\"type\":\"BasicTickFormatter\"},{\"attributes\":{\"axis\":{\"id\":\"1536\"},\"coordinates\":null,\"grid_line_color\":null,\"group\":null,\"ticker\":null},\"id\":\"1539\",\"type\":\"Grid\"},{\"attributes\":{},\"id\":\"1812\",\"type\":\"UnionRenderers\"},{\"attributes\":{\"fill_alpha\":0.5,\"fill_color\":\"#30a2da\",\"hatch_color\":\"#30a2da\",\"tags\":[\"apply_ranges\"],\"x\":{\"field\":\"x\"},\"y\":{\"field\":\"y\"}},\"id\":\"1721\",\"type\":\"Patch\"},{\"attributes\":{\"bottom_units\":\"screen\",\"coordinates\":null,\"fill_alpha\":0.5,\"fill_color\":\"lightgrey\",\"group\":null,\"left_units\":\"screen\",\"level\":\"overlay\",\"line_alpha\":1.0,\"line_color\":\"black\",\"line_dash\":[4,4],\"line_width\":2,\"right_units\":\"screen\",\"syncable\":false,\"top_units\":\"screen\"},\"id\":\"1445\",\"type\":\"BoxAnnotation\"},{\"attributes\":{\"below\":[{\"id\":\"1484\"}],\"center\":[{\"id\":\"1487\"},{\"id\":\"1491\"}],\"height\":300,\"left\":[{\"id\":\"1488\"}],\"margin\":null,\"min_border_bottom\":10,\"min_border_left\":10,\"min_border_right\":10,\"min_border_top\":10,\"output_backend\":\"webgl\",\"renderers\":[{\"id\":\"1511\"}],\"sizing_mode\":\"fixed\",\"title\":{\"id\":\"1476\"},\"toolbar\":{\"id\":\"1498\"},\"toolbar_location\":null,\"width\":700,\"x_range\":{\"id\":\"1472\"},\"x_scale\":{\"id\":\"1480\"},\"y_range\":{\"id\":\"1473\"},\"y_scale\":{\"id\":\"1482\"}},\"id\":\"1475\",\"subtype\":\"Figure\",\"type\":\"Plot\"},{\"attributes\":{\"fill_alpha\":0.5,\"fill_color\":\"#30a2da\",\"hatch_alpha\":0.1,\"hatch_color\":\"#30a2da\",\"line_alpha\":1,\"tags\":[\"apply_ranges\"],\"x\":{\"field\":\"x\"},\"y\":{\"field\":\"y\"}},\"id\":\"1457\",\"type\":\"Patch\"},{\"attributes\":{\"axis\":{\"id\":\"1540\"},\"coordinates\":null,\"dimension\":1,\"grid_line_color\":null,\"group\":null,\"ticker\":null},\"id\":\"1543\",\"type\":\"Grid\"},{\"attributes\":{},\"id\":\"1622\",\"type\":\"BasicTickFormatter\"},{\"attributes\":{\"coordinates\":null,\"group\":null,\"text\":\"price_change_percentage_30d\",\"text_color\":\"black\",\"text_font_size\":\"12pt\"},\"id\":\"1528\",\"type\":\"Title\"},{\"attributes\":{},\"id\":\"1534\",\"type\":\"LinearScale\"},{\"attributes\":{},\"id\":\"1537\",\"type\":\"BasicTicker\"},{\"attributes\":{\"end\":1.784010637652017,\"reset_end\":1.784010637652017,\"reset_start\":-0.7231084376520169,\"start\":-0.7231084376520169,\"tags\":[[[\"price_change_percentage_30d\",\"price_change_percentage_30d\",null]]]},\"id\":\"1524\",\"type\":\"Range1d\"},{\"attributes\":{},\"id\":\"1454\",\"type\":\"Selection\"},{\"attributes\":{\"callback\":null,\"renderers\":[{\"id\":\"1563\"}],\"tags\":[\"hv_created\"],\"tooltips\":[[\"price_change_percentage_30d\",\"@{price_change_percentage_30d}\"],[\"Density\",\"@{price_change_percentage_30d_density}\"]]},\"id\":\"1526\",\"type\":\"HoverTool\"},{\"attributes\":{},\"id\":\"1723\",\"type\":\"BasicTickFormatter\"},{\"attributes\":{\"fill_alpha\":0.5,\"fill_color\":\"#30a2da\",\"hatch_color\":\"#30a2da\",\"tags\":[\"apply_ranges\"],\"x\":{\"field\":\"x\"},\"y\":{\"field\":\"y\"}},\"id\":\"1456\",\"type\":\"Patch\"},{\"attributes\":{},\"id\":\"1623\",\"type\":\"AllLabels\"},{\"attributes\":{\"source\":{\"id\":\"1453\"}},\"id\":\"1460\",\"type\":\"CDSView\"},{\"attributes\":{\"bottom_units\":\"screen\",\"coordinates\":null,\"fill_alpha\":0.5,\"fill_color\":\"lightgrey\",\"group\":null,\"left_units\":\"screen\",\"level\":\"overlay\",\"line_alpha\":1.0,\"line_color\":\"black\",\"line_dash\":[4,4],\"line_width\":2,\"right_units\":\"screen\",\"syncable\":false,\"top_units\":\"screen\"},\"id\":\"1549\",\"type\":\"BoxAnnotation\"},{\"attributes\":{},\"id\":\"1726\",\"type\":\"BasicTickFormatter\"},{\"attributes\":{\"active_drag\":{\"id\":\"1493\"},\"active_scroll\":{\"id\":\"1494\"},\"tools\":[{\"id\":\"1474\"},{\"id\":\"1492\"},{\"id\":\"1493\"},{\"id\":\"1494\"},{\"id\":\"1495\"},{\"id\":\"1496\"}]},\"id\":\"1498\",\"type\":\"Toolbar\"},{\"attributes\":{},\"id\":\"1790\",\"type\":\"UnionRenderers\"},{\"attributes\":{\"fill_alpha\":0.2,\"fill_color\":\"#30a2da\",\"hatch_alpha\":0.2,\"hatch_color\":\"#30a2da\",\"line_alpha\":0.2,\"tags\":[\"apply_ranges\"],\"x\":{\"field\":\"x\"},\"y\":{\"field\":\"y\"}},\"id\":\"1458\",\"type\":\"Patch\"},{\"attributes\":{\"end\":0.1660857595986136,\"reset_end\":0.1660857595986136,\"reset_start\":0.0,\"tags\":[[[\"price_change_percentage_200d_density\",\"Density\",null]]]},\"id\":\"1629\",\"type\":\"Range1d\"},{\"attributes\":{},\"id\":\"1636\",\"type\":\"LinearScale\"},{\"attributes\":{\"fill_alpha\":0.5,\"fill_color\":\"#30a2da\",\"hatch_color\":\"#30a2da\",\"tags\":[\"apply_ranges\"],\"x\":{\"field\":\"x\"},\"y\":{\"field\":\"y\"}},\"id\":\"1461\",\"type\":\"Patch\"},{\"attributes\":{},\"id\":\"1727\",\"type\":\"AllLabels\"},{\"attributes\":{\"coordinates\":null,\"data_source\":{\"id\":\"1505\"},\"glyph\":{\"id\":\"1508\"},\"group\":null,\"hover_glyph\":null,\"muted_glyph\":{\"id\":\"1510\"},\"nonselection_glyph\":{\"id\":\"1509\"},\"selection_glyph\":{\"id\":\"1513\"},\"view\":{\"id\":\"1512\"}},\"id\":\"1511\",\"type\":\"GlyphRenderer\"},{\"attributes\":{\"below\":[{\"id\":\"1640\"}],\"center\":[{\"id\":\"1643\"},{\"id\":\"1647\"}],\"height\":300,\"left\":[{\"id\":\"1644\"}],\"margin\":null,\"min_border_bottom\":10,\"min_border_left\":10,\"min_border_right\":10,\"min_border_top\":10,\"output_backend\":\"webgl\",\"renderers\":[{\"id\":\"1667\"}],\"sizing_mode\":\"fixed\",\"title\":{\"id\":\"1632\"},\"toolbar\":{\"id\":\"1654\"},\"toolbar_location\":null,\"width\":700,\"x_range\":{\"id\":\"1628\"},\"x_scale\":{\"id\":\"1636\"},\"y_range\":{\"id\":\"1629\"},\"y_scale\":{\"id\":\"1638\"}},\"id\":\"1631\",\"subtype\":\"Figure\",\"type\":\"Plot\"},{\"attributes\":{\"callback\":null,\"renderers\":[{\"id\":\"1667\"}],\"tags\":[\"hv_created\"],\"tooltips\":[[\"price_change_percentage_200d\",\"@{price_change_percentage_200d}\"],[\"Density\",\"@{price_change_percentage_200d_density}\"]]},\"id\":\"1630\",\"type\":\"HoverTool\"},{\"attributes\":{\"fill_alpha\":0.5,\"fill_color\":\"#30a2da\",\"hatch_alpha\":0.1,\"hatch_color\":\"#30a2da\",\"line_alpha\":1,\"tags\":[\"apply_ranges\"],\"x\":{\"field\":\"x\"},\"y\":{\"field\":\"y\"}},\"id\":\"1561\",\"type\":\"Patch\"},{\"attributes\":{\"end\":5.61987956430841,\"reset_end\":5.61987956430841,\"reset_start\":0.0,\"tags\":[[[\"price_change_percentage_14d_density\",\"Density\",null]]]},\"id\":\"1473\",\"type\":\"Range1d\"},{\"attributes\":{\"end\":28.49195299681423,\"reset_end\":28.49195299681423,\"reset_start\":-6.21659579681423,\"start\":-6.21659579681423,\"tags\":[[[\"price_change_percentage_200d\",\"price_change_percentage_200d\",null]]]},\"id\":\"1628\",\"type\":\"Range1d\"},{\"attributes\":{\"coordinates\":null,\"group\":null,\"text\":\"price_change_percentage_200d\",\"text_color\":\"black\",\"text_font_size\":\"12pt\"},\"id\":\"1632\",\"type\":\"Title\"},{\"attributes\":{\"overlay\":{\"id\":\"1601\"}},\"id\":\"1599\",\"type\":\"BoxZoomTool\"},{\"attributes\":{},\"id\":\"1638\",\"type\":\"LinearScale\"},{\"attributes\":{},\"id\":\"1463\",\"type\":\"BasicTickFormatter\"},{\"attributes\":{},\"id\":\"1558\",\"type\":\"Selection\"},{\"attributes\":{\"fill_alpha\":0.5,\"fill_color\":\"#30a2da\",\"hatch_color\":\"#30a2da\",\"tags\":[\"apply_ranges\"],\"x\":{\"field\":\"x\"},\"y\":{\"field\":\"y\"}},\"id\":\"1560\",\"type\":\"Patch\"},{\"attributes\":{},\"id\":\"1480\",\"type\":\"LinearScale\"},{\"attributes\":{\"source\":{\"id\":\"1557\"}},\"id\":\"1564\",\"type\":\"CDSView\"},{\"attributes\":{\"axis\":{\"id\":\"1640\"},\"coordinates\":null,\"grid_line_color\":null,\"group\":null,\"ticker\":null},\"id\":\"1643\",\"type\":\"Grid\"},{\"attributes\":{},\"id\":\"1466\",\"type\":\"BasicTickFormatter\"},{\"attributes\":{\"data\":{\"x\":{\"__ndarray__\":\"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\",\"dtype\":\"float64\",\"order\":\"little\",\"shape\":[200]},\"y\":{\"__ndarray__\":\"AAAAAAAAAAAAAAAAAAAAAAAAAAAAAAAAAAAAAAAAAAAAAAAAAAAAAAAAAAAAAAAAAAAAAAAAAAAAAAAAAAAAAAAAAAAAAAAAAAAAAAAAAAAAAAAAAAAAAAAAAAAAAAAAAAAAAAAAAAAAAAAAAAAAAAAAAAAAAAAAAAAAAAAAAAAAAAAAAAAAAAAAAAAAAAAAAAAAAAAAAAAAAAAAAAAAAAAAAAAAAAAAAAAAAAAAAAAAAAAAAAAAAAAAAAAAAAAAAAAAAAAAAAAAAAAAAAAAAAAAAAAAAAAAAAAAAAAAAAAAAAAAAAAAAAAAAAAAAAAAAAAAAAAAAAAAAAAAAAAAAAAAAAAAAAAAAAAAAAAAAAAAAAAAAAAAAAAAAAAAAAAAAAAAAAAAAAAAAAAAAAAAAAAAAAAAAAAAAAAAAAAAAAAAAAAAAAAAAAAAAAAAAAAAAAAAAAAAAAAAAAAAAAAAAAAAAAAAAAAAAAAAAAAAAAAAAAAAAAAAAAAAAAAAAAAAAAAAAAAAAAAAAAAAAAAAAAAAAAAAAAAAAAAAAAAAAAAAAAAAAAAAAAAAAAAAAAAAAAAAAAAAAAAAAAAAAAAAAAAAAAAAAAAAAAAAAAAAAAAAAAAAAAAAAAAAAAAAAAAAAAAAAAAAAAAAAAAAAAAAAAAAAAAAAAAAAAAAAAAAAAAAAAAAAAAAAAAAAAAAAAAAAAAAAAAAAAAAAAAAAAAAAAAAAAAAAAAAAAAAAAAAAAAAAAAAAAAAAAAAAAAAAAAAAAAAAAAAAAAAAAAAAAAAAAAAAAAAAAAAAAAAAAAAAAAAAAAAAAAAAAAAAAAAAAAAAAAAAAAAAAAAAAAAAAAAAAAAAAAAAAAAAAAAAAAAAAAAAAAAAAAAAAAAAAAAAAAAAAAAAAAAAAAAAAAAAAAAAAAAAAAAAAAAAAAAAAAAAAAAAAAAAAAAAAAAAAAAAAAAAAAAAAAAAAAAAAAAAAAAAAAAAAAAAAAAAAAAAAAAAAAAAAAAAAAAAAAAAAAAAAAAAAAAAAAAAAAAAAAAAAAAAAAAAAAAAAAAAAAAAAAAAADReGgRvV0LP7xaah0nahY/yCEt8yDXIT+QEbvJwpgrP3v+e8rCvTQ/MGQZF/hLPj+HJORJi4BFPzjjoiafqE0/U7HSWX3gUz+Pkrdv5ONZP+4yKvSmYmA/QSPpvJ8nZD/pHXsruBdoP7iJ0AVZ/Ws/jA9/mtGabz+Y0E/BZFhxP66KDhsBg3I/RREjaZ83cz//NoZO/2pzP2KzoNVpHnM/NCxxsD9gcj9air0yxkpxP1piBolbAXA/Z12E4PZYbT+ZqhMlS+pqP8AbYCOCAGk//cU/XRPVZz/O5QYZ6IpnP1FE8+OkKmg/bGUR7MKhaT88rME8jMRrP5wYjuDUUm4/H/PzY4Z/cD+Gf7g7gLtxPxOj4E6stnI/MZVfKlpRcz9p0WAXlnZzP7l461yaHnM/7NrpnJtPcj/yaaps3xxxPwZ/L0ypSG8/6Iv66UAWbD83pmiiZ/NoP2bvKhT6L2Y/jl2+ZFgUZD/YmkrzptxiP3JZjcv5tWI/LbajTFS9Yz98qzAMPwBmP+wSEQ+tfmk/xAgmy+8tbj/9pyOTPv5xP2HHA4wga3U/mxm3QpBUeT+kM2UmorR9P2qsZ+szRYE/r3oBvbbtgz+GOS+1edqGP1bAvqWYFoo/O2tBBYiyjT+N+G0qr+KQP+rjuBpLN5M/jhmrGAnslT+22RCc6huZP/ZjmExI6Jw/hBOLqP27oD9Z6QPYcnqjP/M3l1rBw6Y/Yjl0OD6oqj/qSMciWzCvP06lY70uLLI/lxsyAzsGtT+TCC3BBBO4P8i+Ud57Nbs/daNnLsBHvj+KwQ2Kwo7AP1Ll3oTlw8E/g77I9ceswj/n+baSbTbDP2fdEwSzU8M/L1YmCg//wj9jxufIcTvCP91J/98WFME/r8Xrr5k2vz8abPfQxdC7PyBlWK8lKrg/lP/aR591tD8eBK+DvuCwP1yqbPk+IKs/ehUWvdM6pT9oPuf50S2gPxbqaIgbApg/EsyzDQdXkT8Db9KyBWGIP3aNfnairYA/A8/wDKk0dj96McdZKcRsPwqKH+KhIGI/NxzzfrQ5Vj9/4zd7wIFKPw==\",\"dtype\":\"float64\",\"order\":\"little\",\"shape\":[200]}},\"selected\":{\"id\":\"1662\"},\"selection_policy\":{\"id\":\"1801\"}},\"id\":\"1661\",\"type\":\"ColumnDataSource\"},{\"attributes\":{},\"id\":\"1672\",\"type\":\"AllLabels\"},{\"attributes\":{},\"id\":\"1768\",\"type\":\"UnionRenderers\"},{\"attributes\":{\"axis_label\":\"price_change_percentage_200d\",\"coordinates\":null,\"formatter\":{\"id\":\"1671\"},\"group\":null,\"major_label_policy\":{\"id\":\"1672\"},\"ticker\":{\"id\":\"1641\"}},\"id\":\"1640\",\"type\":\"LinearAxis\"},{\"attributes\":{},\"id\":\"1649\",\"type\":\"PanTool\"},{\"attributes\":{},\"id\":\"1641\",\"type\":\"BasicTicker\"},{\"attributes\":{\"coordinates\":null,\"group\":null,\"text\":\"price_change_percentage_24h\",\"text_color\":\"black\",\"text_font_size\":\"12pt\"},\"id\":\"1372\",\"type\":\"Title\"},{\"attributes\":{\"fill_alpha\":0.2,\"fill_color\":\"#30a2da\",\"hatch_alpha\":0.2,\"hatch_color\":\"#30a2da\",\"line_alpha\":0.2,\"tags\":[\"apply_ranges\"],\"x\":{\"field\":\"x\"},\"y\":{\"field\":\"y\"}},\"id\":\"1562\",\"type\":\"Patch\"},{\"attributes\":{},\"id\":\"1467\",\"type\":\"AllLabels\"},{\"attributes\":{\"fill_alpha\":0.5,\"fill_color\":\"#30a2da\",\"hatch_color\":\"#30a2da\",\"tags\":[\"apply_ranges\"],\"x\":{\"field\":\"x\"},\"y\":{\"field\":\"y\"}},\"id\":\"1565\",\"type\":\"Patch\"},{\"attributes\":{\"children\":[{\"id\":\"1819\"}],\"margin\":[0,0,0,0],\"name\":\"Row01861\",\"tags\":[\"embedded\"]},\"id\":\"1367\",\"type\":\"Row\"},{\"attributes\":{\"children\":[{\"id\":\"1818\"},{\"id\":\"1816\"}]},\"id\":\"1819\",\"type\":\"Column\"},{\"attributes\":{\"axis_label\":\"Density\",\"coordinates\":null,\"formatter\":{\"id\":\"1674\"},\"group\":null,\"major_label_policy\":{\"id\":\"1675\"},\"ticker\":{\"id\":\"1645\"}},\"id\":\"1644\",\"type\":\"LinearAxis\"},{\"attributes\":{\"axis\":{\"id\":\"1644\"},\"coordinates\":null,\"dimension\":1,\"grid_line_color\":null,\"group\":null,\"ticker\":null},\"id\":\"1647\",\"type\":\"Grid\"},{\"attributes\":{\"end\":0.08687044242767519,\"reset_end\":0.08687044242767519,\"reset_start\":-0.1737457424276752,\"start\":-0.1737457424276752,\"tags\":[[[\"price_change_percentage_24h\",\"price_change_percentage_24h\",null]]]},\"id\":\"1368\",\"type\":\"Range1d\"},{\"attributes\":{},\"id\":\"1645\",\"type\":\"BasicTicker\"},{\"attributes\":{},\"id\":\"1650\",\"type\":\"WheelZoomTool\"},{\"attributes\":{\"end\":24.164134112334366,\"reset_end\":24.164134112334366,\"reset_start\":0.0,\"tags\":[[[\"price_change_percentage_24h_density\",\"Density\",null]]]},\"id\":\"1369\",\"type\":\"Range1d\"},{\"attributes\":{},\"id\":\"1648\",\"type\":\"SaveTool\"},{\"attributes\":{\"end\":1.3386690117719997,\"reset_end\":1.3386690117719997,\"reset_start\":0.0,\"tags\":[[[\"price_change_percentage_60d_density\",\"Density\",null]]]},\"id\":\"1577\",\"type\":\"Range1d\"},{\"attributes\":{\"overlay\":{\"id\":\"1653\"}},\"id\":\"1651\",\"type\":\"BoxZoomTool\"},{\"attributes\":{},\"id\":\"1567\",\"type\":\"BasicTickFormatter\"},{\"attributes\":{},\"id\":\"1652\",\"type\":\"ResetTool\"},{\"attributes\":{\"below\":[{\"id\":\"1380\"}],\"center\":[{\"id\":\"1383\"},{\"id\":\"1387\"}],\"height\":300,\"left\":[{\"id\":\"1384\"}],\"margin\":null,\"min_border_bottom\":10,\"min_border_left\":10,\"min_border_right\":10,\"min_border_top\":10,\"output_backend\":\"webgl\",\"renderers\":[{\"id\":\"1407\"}],\"sizing_mode\":\"fixed\",\"title\":{\"id\":\"1372\"},\"toolbar\":{\"id\":\"1394\"},\"toolbar_location\":null,\"width\":700,\"x_range\":{\"id\":\"1368\"},\"x_scale\":{\"id\":\"1376\"},\"y_range\":{\"id\":\"1369\"},\"y_scale\":{\"id\":\"1378\"}},\"id\":\"1371\",\"subtype\":\"Figure\",\"type\":\"Plot\"},{\"attributes\":{},\"id\":\"1584\",\"type\":\"LinearScale\"},{\"attributes\":{},\"id\":\"1378\",\"type\":\"LinearScale\"},{\"attributes\":{\"bottom_units\":\"screen\",\"coordinates\":null,\"fill_alpha\":0.5,\"fill_color\":\"lightgrey\",\"group\":null,\"left_units\":\"screen\",\"level\":\"overlay\",\"line_alpha\":1.0,\"line_color\":\"black\",\"line_dash\":[4,4],\"line_width\":2,\"right_units\":\"screen\",\"syncable\":false,\"top_units\":\"screen\"},\"id\":\"1653\",\"type\":\"BoxAnnotation\"},{\"attributes\":{},\"id\":\"1381\",\"type\":\"BasicTicker\"},{\"attributes\":{},\"id\":\"1570\",\"type\":\"BasicTickFormatter\"},{\"attributes\":{},\"id\":\"1389\",\"type\":\"PanTool\"},{\"attributes\":{},\"id\":\"1492\",\"type\":\"SaveTool\"},{\"attributes\":{\"axis\":{\"id\":\"1380\"},\"coordinates\":null,\"grid_line_color\":null,\"group\":null,\"ticker\":null},\"id\":\"1383\",\"type\":\"Grid\"},{\"attributes\":{\"coordinates\":null,\"data_source\":{\"id\":\"1661\"},\"glyph\":{\"id\":\"1664\"},\"group\":null,\"hover_glyph\":null,\"muted_glyph\":{\"id\":\"1666\"},\"nonselection_glyph\":{\"id\":\"1665\"},\"selection_glyph\":{\"id\":\"1669\"},\"view\":{\"id\":\"1668\"}},\"id\":\"1667\",\"type\":\"GlyphRenderer\"},{\"attributes\":{\"overlay\":{\"id\":\"1497\"}},\"id\":\"1495\",\"type\":\"BoxZoomTool\"},{\"attributes\":{\"axis_label\":\"price_change_percentage_24h\",\"coordinates\":null,\"formatter\":{\"id\":\"1411\"},\"group\":null,\"major_label_policy\":{\"id\":\"1412\"},\"ticker\":{\"id\":\"1381\"}},\"id\":\"1380\",\"type\":\"LinearAxis\"},{\"attributes\":{},\"id\":\"1662\",\"type\":\"Selection\"},{\"attributes\":{\"axis_label\":\"Density\",\"coordinates\":null,\"formatter\":{\"id\":\"1414\"},\"group\":null,\"major_label_policy\":{\"id\":\"1415\"},\"ticker\":{\"id\":\"1385\"}},\"id\":\"1384\",\"type\":\"LinearAxis\"},{\"attributes\":{},\"id\":\"1496\",\"type\":\"ResetTool\"},{\"attributes\":{\"axis\":{\"id\":\"1384\"},\"coordinates\":null,\"dimension\":1,\"grid_line_color\":null,\"group\":null,\"ticker\":null},\"id\":\"1387\",\"type\":\"Grid\"},{\"attributes\":{},\"id\":\"1571\",\"type\":\"AllLabels\"},{\"attributes\":{},\"id\":\"1385\",\"type\":\"BasicTicker\"},{\"attributes\":{},\"id\":\"1390\",\"type\":\"WheelZoomTool\"},{\"attributes\":{},\"id\":\"1589\",\"type\":\"BasicTicker\"},{\"attributes\":{},\"id\":\"1494\",\"type\":\"WheelZoomTool\"},{\"attributes\":{},\"id\":\"1746\",\"type\":\"UnionRenderers\"},{\"attributes\":{\"end\":0.3619695059739667,\"reset_end\":0.3619695059739667,\"reset_start\":-0.3011666059739667,\"start\":-0.3011666059739667,\"tags\":[[[\"price_change_percentage_14d\",\"price_change_percentage_14d\",null]]]},\"id\":\"1472\",\"type\":\"Range1d\"},{\"attributes\":{\"coordinates\":null,\"group\":null,\"text\":\"price_change_percentage_14d\",\"text_color\":\"black\",\"text_font_size\":\"12pt\"},\"id\":\"1476\",\"type\":\"Title\"},{\"attributes\":{},\"id\":\"1388\",\"type\":\"SaveTool\"},{\"attributes\":{},\"id\":\"1489\",\"type\":\"BasicTicker\"},{\"attributes\":{\"overlay\":{\"id\":\"1393\"}},\"id\":\"1391\",\"type\":\"BoxZoomTool\"},{\"attributes\":{\"axis\":{\"id\":\"1488\"},\"coordinates\":null,\"dimension\":1,\"grid_line_color\":null,\"group\":null,\"ticker\":null},\"id\":\"1491\",\"type\":\"Grid\"},{\"attributes\":{\"below\":[{\"id\":\"1588\"}],\"center\":[{\"id\":\"1591\"},{\"id\":\"1595\"}],\"height\":300,\"left\":[{\"id\":\"1592\"}],\"margin\":null,\"min_border_bottom\":10,\"min_border_left\":10,\"min_border_right\":10,\"min_border_top\":10,\"output_backend\":\"webgl\",\"renderers\":[{\"id\":\"1615\"}],\"sizing_mode\":\"fixed\",\"title\":{\"id\":\"1580\"},\"toolbar\":{\"id\":\"1602\"},\"toolbar_location\":null,\"width\":700,\"x_range\":{\"id\":\"1576\"},\"x_scale\":{\"id\":\"1584\"},\"y_range\":{\"id\":\"1577\"},\"y_scale\":{\"id\":\"1586\"}},\"id\":\"1579\",\"subtype\":\"Figure\",\"type\":\"Plot\"},{\"attributes\":{},\"id\":\"1392\",\"type\":\"ResetTool\"},{\"attributes\":{\"axis_label\":\"Density\",\"coordinates\":null,\"formatter\":{\"id\":\"1518\"},\"group\":null,\"major_label_policy\":{\"id\":\"1519\"},\"ticker\":{\"id\":\"1489\"}},\"id\":\"1488\",\"type\":\"LinearAxis\"},{\"attributes\":{\"active_drag\":{\"id\":\"1701\"},\"active_scroll\":{\"id\":\"1702\"},\"tools\":[{\"id\":\"1682\"},{\"id\":\"1700\"},{\"id\":\"1701\"},{\"id\":\"1702\"},{\"id\":\"1703\"},{\"id\":\"1704\"}]},\"id\":\"1706\",\"type\":\"Toolbar\"},{\"attributes\":{\"bottom_units\":\"screen\",\"coordinates\":null,\"fill_alpha\":0.5,\"fill_color\":\"lightgrey\",\"group\":null,\"left_units\":\"screen\",\"level\":\"overlay\",\"line_alpha\":1.0,\"line_color\":\"black\",\"line_dash\":[4,4],\"line_width\":2,\"right_units\":\"screen\",\"syncable\":false,\"top_units\":\"screen\"},\"id\":\"1393\",\"type\":\"BoxAnnotation\"},{\"attributes\":{\"end\":0.06775938991022899,\"reset_end\":0.06775938991022899,\"reset_start\":0.0,\"tags\":[[[\"price_change_percentage_1y_density\",\"Density\",null]]]},\"id\":\"1681\",\"type\":\"Range1d\"},{\"attributes\":{\"axis_label\":\"Density\",\"coordinates\":null,\"formatter\":{\"id\":\"1622\"},\"group\":null,\"major_label_policy\":{\"id\":\"1623\"},\"ticker\":{\"id\":\"1593\"}},\"id\":\"1592\",\"type\":\"LinearAxis\"},{\"attributes\":{},\"id\":\"1516\",\"type\":\"AllLabels\"},{\"attributes\":{},\"id\":\"1485\",\"type\":\"BasicTicker\"},{\"attributes\":{},\"id\":\"1671\",\"type\":\"BasicTickFormatter\"},{\"attributes\":{\"fill_alpha\":0.5,\"fill_color\":\"#30a2da\",\"hatch_alpha\":0.1,\"hatch_color\":\"#30a2da\",\"line_alpha\":1,\"tags\":[\"apply_ranges\"],\"x\":{\"field\":\"x\"},\"y\":{\"field\":\"y\"}},\"id\":\"1405\",\"type\":\"Patch\"},{\"attributes\":{\"callback\":null,\"renderers\":[{\"id\":\"1407\"}],\"tags\":[\"hv_created\"],\"tooltips\":[[\"price_change_percentage_24h\",\"@{price_change_percentage_24h}\"],[\"Density\",\"@{price_change_percentage_24h_density}\"]]},\"id\":\"1370\",\"type\":\"HoverTool\"},{\"attributes\":{\"axis_label\":\"price_change_percentage_14d\",\"coordinates\":null,\"formatter\":{\"id\":\"1515\"},\"group\":null,\"major_label_policy\":{\"id\":\"1516\"},\"ticker\":{\"id\":\"1485\"}},\"id\":\"1484\",\"type\":\"LinearAxis\"},{\"attributes\":{\"coordinates\":null,\"data_source\":{\"id\":\"1713\"},\"glyph\":{\"id\":\"1716\"},\"group\":null,\"hover_glyph\":null,\"muted_glyph\":{\"id\":\"1718\"},\"nonselection_glyph\":{\"id\":\"1717\"},\"selection_glyph\":{\"id\":\"1721\"},\"view\":{\"id\":\"1720\"}},\"id\":\"1719\",\"type\":\"GlyphRenderer\"},{\"attributes\":{\"fill_alpha\":0.5,\"fill_color\":\"#30a2da\",\"hatch_color\":\"#30a2da\",\"tags\":[\"apply_ranges\"],\"x\":{\"field\":\"x\"},\"y\":{\"field\":\"y\"}},\"id\":\"1404\",\"type\":\"Patch\"},{\"attributes\":{},\"id\":\"1482\",\"type\":\"LinearScale\"},{\"attributes\":{\"axis\":{\"id\":\"1592\"},\"coordinates\":null,\"dimension\":1,\"grid_line_color\":null,\"group\":null,\"ticker\":null},\"id\":\"1595\",\"type\":\"Grid\"},{\"attributes\":{},\"id\":\"1688\",\"type\":\"LinearScale\"},{\"attributes\":{},\"id\":\"1493\",\"type\":\"PanTool\"},{\"attributes\":{},\"id\":\"1437\",\"type\":\"BasicTicker\"},{\"attributes\":{},\"id\":\"1402\",\"type\":\"Selection\"},{\"attributes\":{},\"id\":\"1674\",\"type\":\"BasicTickFormatter\"},{\"attributes\":{},\"id\":\"1593\",\"type\":\"BasicTicker\"},{\"attributes\":{\"axis\":{\"id\":\"1484\"},\"coordinates\":null,\"grid_line_color\":null,\"group\":null,\"ticker\":null},\"id\":\"1487\",\"type\":\"Grid\"},{\"attributes\":{},\"id\":\"1598\",\"type\":\"WheelZoomTool\"},{\"attributes\":{\"callback\":null,\"renderers\":[{\"id\":\"1511\"}],\"tags\":[\"hv_created\"],\"tooltips\":[[\"price_change_percentage_14d\",\"@{price_change_percentage_14d}\"],[\"Density\",\"@{price_change_percentage_14d_density}\"]]},\"id\":\"1474\",\"type\":\"HoverTool\"},{\"attributes\":{},\"id\":\"1376\",\"type\":\"LinearScale\"},{\"attributes\":{\"axis_label\":\"price_change_percentage_60d\",\"coordinates\":null,\"formatter\":{\"id\":\"1619\"},\"group\":null,\"major_label_policy\":{\"id\":\"1620\"},\"ticker\":{\"id\":\"1589\"}},\"id\":\"1588\",\"type\":\"LinearAxis\"},{\"attributes\":{\"data\":{\"x\":{\"__ndarray__\":\"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\",\"dtype\":\"float64\",\"order\":\"little\",\"shape\":[200]},\"y\":{\"__ndarray__\":\"AAAAAAAAAAAAAAAAAAAAAAAAAAAAAAAAAAAAAAAAAAAAAAAAAAAAAAAAAAAAAAAAAAAAAAAAAAAAAAAAAAAAAAAAAAAAAAAAAAAAAAAAAAAAAAAAAAAAAAAAAAAAAAAAAAAAAAAAAAAAAAAAAAAAAAAAAAAAAAAAAAAAAAAAAAAAAAAAAAAAAAAAAAAAAAAAAAAAAAAAAAAAAAAAAAAAAAAAAAAAAAAAAAAAAAAAAAAAAAAAAAAAAAAAAAAAAAAAAAAAAAAAAAAAAAAAAAAAAAAAAAAAAAAAAAAAAAAAAAAAAAAAAAAAAAAAAAAAAAAAAAAAAAAAAAAAAAAAAAAAAAAAAAAAAAAAAAAAAAAAAAAAAAAAAAAAAAAAAAAAAAAAAAAAAAAAAAAAAAAAAAAAAAAAAAAAAAAAAAAAAAAAAAAAAAAAAAAAAAAAAAAAAAAAAAAAAAAAAAAAAAAAAAAAAAAAAAAAAAAAAAAAAAAAAAAAAAAAAAAAAAAAAAAAAAAAAAAAAAAAAAAAAAAAAAAAAAAAAAAAAAAAAAAAAAAAAAAAAAAAAAAAAAAAAAAAAAAAAAAAAAAAAAAAAAAAAAAAAAAAAAAAAAAAAAAAAAAAAAAAAAAAAAAAAAAAAAAAAAAAAAAAAAAAAAAAAAAAAAAAAAAAAAAAAAAAAAAAAAAAAAAAAAAAAAAAAAAAAAAAAAAAAAAAAAAAAAAAAAAAAAAAAAAAAAAAAAAAAAAAAAAAAAAAAAAAAAAAAAAAAAAAAAAAAAAAAAAAAAAAAAAAAAAAAAAAAAAAAAAAAAAAAAAAAAAAAAAAAAAAAAAAAAAAAAAAAAAAAAAAAAAAAAAAAAAAAAAAAAAAAAAAAAAAAAAAAAAAAAAAAAAAAAAAAAAAAAAAAAAAAAAAAAAAAAAAAAAAAAAAAAAAAAAAAAAAAAAAAAAAAAAAAAAAAAAAAAAAAAAAAAAAAAAAAAAAAAAAAAAAAAAAAAAAAAAAAAAAAAAAAAAAAAAAAAAAAAAAAAAAAAAAAAAAAAAAAAAAAAAAAAAAAAAAAAAAAAAAAAAAAAAAAADsIdc20E9mP2+MfV2DO3I/k1OO8GL6fD9zYGjlmGWGP2zUqkVx1pA/sH9L3RehmD+z7CULE4ehPy4536j2R6g/mET1AOJfsD+9TV+n4oK1P2TDRfElirs/AXStY+4wwT9zY1p4ffLEP51l2V3X78g/jxc3fEoKzT9qiL6fAJHQP9xWjs4IjdI/j2vpsRRu1D/2DTaohi3WP+Lf7bWuydc/H53UJz5F2T9O9U98+6XaP0UlnqIe89s/NQ63ZN8z3T+Ffzoev27eP2t5vaDxqd8/xwemT4N24D/3LSbN0SHhP4Jn0tZn4OE/Lb7j1AvB4j9fX2tG29jjP2R82DN+Q+U/3jaSzjIi5z8geD64mJnpP4eVNJ9ezuw/ZF23l5lw8D8kyViER/XyP4X7hC2F+/U/tXeP6XSC+T+wglLqroH9P6UvlE/m9ABAGqjHvN5SA0Adr3uQSM4FQLlqkzqiWQhAYKZ7vg/nCkC2XLGLq2gNQMJlS6Bz0A9AVIb2CfoHEUDj7Msh+AsSQCwUbLIs7BJAz6gugGqgE0CQ/tck+CAUQJ1AztJzZxRA306eu9lvFEBgiuTScjkUQLt+DLVtxxNAkPMmu/AgE0BqRhHej1ASQJlUAL8zYxFAnKO/nJ9mEEB/bCAjs88OQGSQv8N74wxAtbjNkvUXC0DGemHtM3UJQP0pzVI9/AdAf4rBsEWoBkBLonNMknAFQHwhQ1GgSgRATu0UjSssA0CbM7FMyQwCQH0J9X3r5gBAn922fYNw/z+Pe5oyFAP9Pyp5Owzsi/o/PekD/6EU+D8ZrB9VK6j1P1lL1aAvUfM/d3NFOb0Y8T8bL8ig+AruP2IzV0bMNuo/5R1qzuC35j9p+EiAGo3jP5zPQeKusuA/H1237gdH3D+CHYOrpbTXP8mJKKbGpNM/ZOpkIKkP0D+0yrx1B97JP7H39NaaesQ/wNSp4GDTvz8ojefvLDy4P/oNtDq+D7I/mI+dMxxRqj9mIZ87UbmiPxRTCvyF/5k/I2XFfpuZkT+zTV6jKDmHP/KPNHuJ2X0/wjhhOwKucj/zGPamGsJmPw==\",\"dtype\":\"float64\",\"order\":\"little\",\"shape\":[200]}},\"selected\":{\"id\":\"1506\"},\"selection_policy\":{\"id\":\"1768\"}},\"id\":\"1505\",\"type\":\"ColumnDataSource\"},{\"attributes\":{},\"id\":\"1675\",\"type\":\"AllLabels\"},{\"attributes\":{\"active_drag\":{\"id\":\"1389\"},\"active_scroll\":{\"id\":\"1390\"},\"tools\":[{\"id\":\"1370\"},{\"id\":\"1388\"},{\"id\":\"1389\"},{\"id\":\"1390\"},{\"id\":\"1391\"},{\"id\":\"1392\"}]},\"id\":\"1394\",\"type\":\"Toolbar\"},{\"attributes\":{\"bottom_units\":\"screen\",\"coordinates\":null,\"fill_alpha\":0.5,\"fill_color\":\"lightgrey\",\"group\":null,\"left_units\":\"screen\",\"level\":\"overlay\",\"line_alpha\":1.0,\"line_color\":\"black\",\"line_dash\":[4,4],\"line_width\":2,\"right_units\":\"screen\",\"syncable\":false,\"top_units\":\"screen\"},\"id\":\"1497\",\"type\":\"BoxAnnotation\"},{\"attributes\":{},\"id\":\"1597\",\"type\":\"PanTool\"},{\"attributes\":{\"data\":{\"x\":{\"__ndarray__\":\"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\",\"dtype\":\"float64\",\"order\":\"little\",\"shape\":[200]},\"y\":{\"__ndarray__\":\"AAAAAAAAAAAAAAAAAAAAAAAAAAAAAAAAAAAAAAAAAAAAAAAAAAAAAAAAAAAAAAAAAAAAAAAAAAAAAAAAAAAAAAAAAAAAAAAAAAAAAAAAAAAAAAAAAAAAAAAAAAAAAAAAAAAAAAAAAAAAAAAAAAAAAAAAAAAAAAAAAAAAAAAAAAAAAAAAAAAAAAAAAAAAAAAAAAAAAAAAAAAAAAAAAAAAAAAAAAAAAAAAAAAAAAAAAAAAAAAAAAAAAAAAAAAAAAAAAAAAAAAAAAAAAAAAAAAAAAAAAAAAAAAAAAAAAAAAAAAAAAAAAAAAAAAAAAAAAAAAAAAAAAAAAAAAAAAAAAAAAAAAAAAAAAAAAAAAAAAAAAAAAAAAAAAAAAAAAAAAAAAAAAAAAAAAAAAAAAAAAAAAAAAAAAAAAAAAAAAAAAAAAAAAAAAAAAAAAAAAAAAAAAAAAAAAAAAAAAAAAAAAAAAAAAAAAAAAAAAAAAAAAAAAAAAAAAAAAAAAAAAAAAAAAAAAAAAAAAAAAAAAAAAAAAAAAAAAAAAAAAAAAAAAAAAAAAAAAAAAAAAAAAAAAAAAAAAAAAAAAAAAAAAAAAAAAAAAAAAAAAAAAAAAAAAAAAAAAAAAAAAAAAAAAAAAAAAAAAAAAAAAAAAAAAAAAAAAAAAAAAAAAAAAAAAAAAAAAAAAAAAAAAAAAAAAAAAAAAAAAAAAAAAAAAAAAAAAAAAAAAAAAAAAAAAAAAAAAAAAAAAAAAAAAAAAAAAAAAAAAAAAAAAAAAAAAAAAAAAAAAAAAAAAAAAAAAAAAAAAAAAAAAAAAAAAAAAAAAAAAAAAAAAAAAAAAAAAAAAAAAAAAAAAAAAAAAAAAAAAAAAAAAAAAAAAAAAAAAAAAAAAAAAAAAAAAAAAAAAAAAAAAAAAAAAAAAAAAAAAAAAAAAAAAAAAAAAAAAAAAAAAAAAAAAAAAAAAAAAAAAAAAAAAAAAAAAAAAAAAAAAAAAAAAAAAAAAAAAAAAAAAAAAAAAAAAAAAAAAAAAAAAAAAAAAAAAAAAAAAAAAAAAAAAAAAAAAAAAAAAAAAAABsGNpxm24/P86c5N/klUo/OwCBU5/DVT+iIC3/tT5hP3qSuG1gc2o/0i+FCkWicz9UgtfFLzZ8Pz+vB7oanoM/ghQhjChoij+MI8+avjORP93M9SgtsZU/Mh5sib15mj/7bdIyrkafP+M05L9Z4aE/Yz/p0JbJoz8Mi3c44DGlPwYtl48l+aU/b1GtUXQMpj88Uz9e8GmlP5Drrp0fIaQ/fzN8KXhQoj/4p6iNuSCgP7Irfhsafps/i4fm+jCulj9p4YXdJhySPwimebRZ/os/e5N55JrxhD9Dbonji1h+P/4pbvrZTnU/r3my0ocWbT/ZMGdQ/3hjP+G3YG4WPlo/VNaUfz8DUz+3YspjFKhQP5d5QLX+MlM/p26iHtRsWz8ZosgDtn1lPwWZyoUCHHE/sfXo2xLQej9AbFazjnOEP3c5x5e4Qo4/q1q/wciwlT/W18tTmB6eP+XCGeOzQaQ/4jB4Jellqj/2GTg1hquwPz2oL2rHabQ/YW68cWVAuD9t4r/gIvq7P+8VFfrwYL8/irijCT4jwT/KUk+YVEbCP6ArMCwyFsM/YSF847mcwz8BeFaMXfHDPzcxuKidN8Q/F+KeLG6cxD855fyQMVPFPxrhhbvgksY/Z6Avf52TyD/inEnXeYzLP10zqdzgsM8/on6eunqW0j+pnwt0PhDWP+iz9bQ+TNo/Sx0qlDZE3z+9+RwUGXHiPxfkXpN/f+U/6uEbWlSx6D9AcYTtqePrP4mUmako7+4/W6NZ5q7V8D8PQOfKKPnxP3ykeW3t0fI/Ne4fdx5U8z+KQfsr5XjzP647fOa9PvM/vc9CcEup8j9oxJKMzMDxP2Y1k2dQkfA/k2zZwINT7j9M9VqHtTXrP64/VOUW7Oc/uihfaMaY5D8trJ1rEVvhP3qHUwJZm9w/CTA2+bkK1z8jUNDGbCDSP7g1Uk321cs/D5mqs7DYxD+ATJulum++P1tSIipapbU/Ple0U1j6rT8L2dm9rDOkP3phbTQ0fJo/1GP03nLhkD+9NwXRA+qEPyzJdmrALHk/gyyG7K9ubT+R2fyIkLRgPw==\",\"dtype\":\"float64\",\"order\":\"little\",\"shape\":[200]}},\"selected\":{\"id\":\"1610\"},\"selection_policy\":{\"id\":\"1790\"}},\"id\":\"1609\",\"type\":\"ColumnDataSource\"},{\"attributes\":{\"active_drag\":{\"id\":\"1441\"},\"active_scroll\":{\"id\":\"1442\"},\"tools\":[{\"id\":\"1422\"},{\"id\":\"1440\"},{\"id\":\"1441\"},{\"id\":\"1442\"},{\"id\":\"1443\"},{\"id\":\"1444\"}]},\"id\":\"1446\",\"type\":\"Toolbar\"},{\"attributes\":{},\"id\":\"1412\",\"type\":\"AllLabels\"},{\"attributes\":{},\"id\":\"1801\",\"type\":\"UnionRenderers\"},{\"attributes\":{\"coordinates\":null,\"data_source\":{\"id\":\"1401\"},\"glyph\":{\"id\":\"1404\"},\"group\":null,\"hover_glyph\":null,\"muted_glyph\":{\"id\":\"1406\"},\"nonselection_glyph\":{\"id\":\"1405\"},\"selection_glyph\":{\"id\":\"1409\"},\"view\":{\"id\":\"1408\"}},\"id\":\"1407\",\"type\":\"GlyphRenderer\"},{\"attributes\":{},\"id\":\"1464\",\"type\":\"AllLabels\"},{\"attributes\":{\"axis\":{\"id\":\"1588\"},\"coordinates\":null,\"grid_line_color\":null,\"group\":null,\"ticker\":null},\"id\":\"1591\",\"type\":\"Grid\"},{\"attributes\":{\"coordinates\":null,\"data_source\":{\"id\":\"1453\"},\"glyph\":{\"id\":\"1456\"},\"group\":null,\"hover_glyph\":null,\"muted_glyph\":{\"id\":\"1458\"},\"nonselection_glyph\":{\"id\":\"1457\"},\"selection_glyph\":{\"id\":\"1461\"},\"view\":{\"id\":\"1460\"}},\"id\":\"1459\",\"type\":\"GlyphRenderer\"},{\"attributes\":{\"source\":{\"id\":\"1401\"}},\"id\":\"1408\",\"type\":\"CDSView\"},{\"attributes\":{\"callback\":null,\"renderers\":[{\"id\":\"1719\"}],\"tags\":[\"hv_created\"],\"tooltips\":[[\"price_change_percentage_1y\",\"@{price_change_percentage_1y}\"],[\"Density\",\"@{price_change_percentage_1y_density}\"]]},\"id\":\"1682\",\"type\":\"HoverTool\"},{\"attributes\":{\"fill_alpha\":0.5,\"fill_color\":\"#30a2da\",\"hatch_alpha\":0.1,\"hatch_color\":\"#30a2da\",\"line_alpha\":1,\"tags\":[\"apply_ranges\"],\"x\":{\"field\":\"x\"},\"y\":{\"field\":\"y\"}},\"id\":\"1509\",\"type\":\"Patch\"},{\"attributes\":{\"fill_alpha\":0.2,\"fill_color\":\"#30a2da\",\"hatch_alpha\":0.2,\"hatch_color\":\"#30a2da\",\"line_alpha\":0.2,\"tags\":[\"apply_ranges\"],\"x\":{\"field\":\"x\"},\"y\":{\"field\":\"y\"}},\"id\":\"1406\",\"type\":\"Patch\"},{\"attributes\":{\"bottom_units\":\"screen\",\"coordinates\":null,\"fill_alpha\":0.5,\"fill_color\":\"lightgrey\",\"group\":null,\"left_units\":\"screen\",\"level\":\"overlay\",\"line_alpha\":1.0,\"line_color\":\"black\",\"line_dash\":[4,4],\"line_width\":2,\"right_units\":\"screen\",\"syncable\":false,\"top_units\":\"screen\"},\"id\":\"1705\",\"type\":\"BoxAnnotation\"},{\"attributes\":{\"coordinates\":null,\"group\":null,\"text\":\"price_change_percentage_60d\",\"text_color\":\"black\",\"text_font_size\":\"12pt\"},\"id\":\"1580\",\"type\":\"Title\"},{\"attributes\":{},\"id\":\"1586\",\"type\":\"LinearScale\"},{\"attributes\":{\"fill_alpha\":0.5,\"fill_color\":\"#30a2da\",\"hatch_color\":\"#30a2da\",\"tags\":[\"apply_ranges\"],\"x\":{\"field\":\"x\"},\"y\":{\"field\":\"y\"}},\"id\":\"1409\",\"type\":\"Patch\"},{\"attributes\":{},\"id\":\"1702\",\"type\":\"WheelZoomTool\"},{\"attributes\":{\"end\":2.9067724285091714,\"reset_end\":2.9067724285091714,\"reset_start\":-1.1243535285091715,\"start\":-1.1243535285091715,\"tags\":[[[\"price_change_percentage_60d\",\"price_change_percentage_60d\",null]]]},\"id\":\"1576\",\"type\":\"Range1d\"},{\"attributes\":{\"below\":[{\"id\":\"1692\"}],\"center\":[{\"id\":\"1695\"},{\"id\":\"1699\"}],\"height\":300,\"left\":[{\"id\":\"1696\"}],\"margin\":null,\"min_border_bottom\":10,\"min_border_left\":10,\"min_border_right\":10,\"min_border_top\":10,\"output_backend\":\"webgl\",\"renderers\":[{\"id\":\"1719\"}],\"sizing_mode\":\"fixed\",\"title\":{\"id\":\"1684\"},\"toolbar\":{\"id\":\"1706\"},\"toolbar_location\":null,\"width\":700,\"x_range\":{\"id\":\"1680\"},\"x_scale\":{\"id\":\"1688\"},\"y_range\":{\"id\":\"1681\"},\"y_scale\":{\"id\":\"1690\"}},\"id\":\"1683\",\"subtype\":\"Figure\",\"type\":\"Plot\"},{\"attributes\":{\"callback\":null,\"renderers\":[{\"id\":\"1615\"}],\"tags\":[\"hv_created\"],\"tooltips\":[[\"price_change_percentage_60d\",\"@{price_change_percentage_60d}\"],[\"Density\",\"@{price_change_percentage_60d_density}\"]]},\"id\":\"1578\",\"type\":\"HoverTool\"},{\"attributes\":{},\"id\":\"1506\",\"type\":\"Selection\"},{\"attributes\":{\"fill_alpha\":0.5,\"fill_color\":\"#30a2da\",\"hatch_color\":\"#30a2da\",\"tags\":[\"apply_ranges\"],\"x\":{\"field\":\"x\"},\"y\":{\"field\":\"y\"}},\"id\":\"1508\",\"type\":\"Patch\"},{\"attributes\":{},\"id\":\"1700\",\"type\":\"SaveTool\"},{\"attributes\":{\"source\":{\"id\":\"1505\"}},\"id\":\"1512\",\"type\":\"CDSView\"},{\"attributes\":{\"end\":96.33337702062605,\"reset_end\":96.33337702062605,\"reset_start\":-17.988155320626035,\"start\":-17.988155320626035,\"tags\":[[[\"price_change_percentage_1y\",\"price_change_percentage_1y\",null]]]},\"id\":\"1680\",\"type\":\"Range1d\"},{\"attributes\":{},\"id\":\"1596\",\"type\":\"SaveTool\"},{\"attributes\":{},\"id\":\"1568\",\"type\":\"AllLabels\"},{\"attributes\":{},\"id\":\"1779\",\"type\":\"UnionRenderers\"},{\"attributes\":{},\"id\":\"1411\",\"type\":\"BasicTickFormatter\"},{\"attributes\":{\"active_drag\":{\"id\":\"1545\"},\"active_scroll\":{\"id\":\"1546\"},\"tools\":[{\"id\":\"1526\"},{\"id\":\"1544\"},{\"id\":\"1545\"},{\"id\":\"1546\"},{\"id\":\"1547\"},{\"id\":\"1548\"}]},\"id\":\"1550\",\"type\":\"Toolbar\"},{\"attributes\":{\"fill_alpha\":0.2,\"fill_color\":\"#30a2da\",\"hatch_alpha\":0.2,\"hatch_color\":\"#30a2da\",\"line_alpha\":0.2,\"tags\":[\"apply_ranges\"],\"x\":{\"field\":\"x\"},\"y\":{\"field\":\"y\"}},\"id\":\"1510\",\"type\":\"Patch\"},{\"attributes\":{\"data\":{\"x\":{\"__ndarray__\":\"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\",\"dtype\":\"float64\",\"order\":\"little\",\"shape\":[200]},\"y\":{\"__ndarray__\":\"AAAAAAAAAAAAAAAAAAAAAAAAAAAAAAAAAAAAAAAAAAAAAAAAAAAAAAAAAAAAAAAAAAAAAAAAAAAAAAAAAAAAAAAAAAAAAAAAAAAAAAAAAAAAAAAAAAAAAAAAAAAAAAAAAAAAAAAAAAAAAAAAAAAAAAAAAAAAAAAAAAAAAAAAAAAAAAAAAAAAAAAAAAAAAAAAAAAAAAAAAAAAAAAAAAAAAAAAAAAAAAAAAAAAAAAAAAAAAAAAAAAAAAAAAAAAAAAAAAAAAAAAAAAAAAAAAAAAAAAAAAAAAAAAAAAAAAAAAAAAAAAAAAAAAAAAAAAAAAAAAAAAAAAAAAAAAAAAAAAAAAAAAAAAAAAAAAAAAAAAAAAAAAAAAAAAAAAAAAAAAAAAAAAAAAAAAAAAAAAAAAAAAAAAAAAAAAAAAAAAAAAAAAAAAAAAAAAAAAAAAAAAAAAAAAAAAAAAAAAAAAAAAAAAAAAAAAAAAAAAAAAAAAAAAAAAAAAAAAAAAAAAAAAAAAAAAAAAAAAAAAAAAAAAAAAAAAAAAAAAAAAAAAAAAAAAAAAAAAAAAAAAAAAAAAAAAAAAAAAAAAAAAAAAAAAAAAAAAAAAAAAAAAAAAAAAAAAAAAAAAAAAAAAAAAAAAAAAAAAAAAAAAAAAAAAAAAAAAAAAAAAAAAAAAAAAAAAAAAAAAAAAAAAAAAAAAAAAAAAAAAAAAAAAAAAAAAAAAAAAAAAAAAAAAAAAAAAAAAAAAAAAAAAAAAAAAAAAAAAAAAAAAAAAAAAAAAAAAAAAAAAAAAAAAAAAAAAAAAAAAAAAAAAAAAAAAAAAAAAAAAAAAAAAAAAAAAAAAAAAAAAAAAAAAAAAAAAAAAAAAAAAAAAAAAAAAAAAAAAAAAAAAAAAAAAAAAAAAAAAAAAAAAAAAAAAAAAAAAAAAAAAAAAAAAAAAAAAAAAAAAAAAAAAAAAAAAAAAAAAAAAAAAAAAAAAAAAAAAAAAAAAAAAAAAAAAAAAAAAAAAAAAAAAAAAAAAAAAAAAAAAAAAAAAAAAAAAAAAAAAAAAAAAAAAAAAAAAAAAAAAAAAAD5BGtsxMNtP3XSWJh4KXc/ahRCDLujgT8sgZ+YuEyKP5SWl9gYMpM/u4aqO1lxmz/JjrnbzTejP/s9pn5OYao/BTsZmdjAsT8ma3nfeHG3PyKiDwIWZL4/t9fS3G5awz9IiKAknzzIP2Hn/F6s380/u4MAlpYj0j+tWeDh5bnVP1Fm+xMBstk/ud1Yel0K3j8lhrhRYWDhP1o/pHcG6eM/sDTU7MWc5j/uE0k4BnjpPz0foGdgdew/KROXPiiN7z/9qHKvmlrxPwwE/USL8PI/Ib2i8mSB9D+6nwz7/gX2P46RiJThd/c/loA9fD3S+D8ZwgcH3xL6Py7FOE/1Ovs/zUq87IhP/D+HwhDzhln9Px2rIxpTZf4/THiFheSB/z8hlsRuwF8AQGW13H4bFwFADmvK1CHuAUC5tq9RR+oCQGwC2oK2DgRA2iwRo+dbBUA4XwBFe88GQIuOfnRfZAhAabpS/z0TCkAz4MsTKtMLQMqlI1J7mg1ATTRGwb1fD0BO1BflTI0QQK+TLCNLYhFAdDCuqswsEkDlyLKSCewSQDn+0tRjoBNAm8arMxxLFEAb/fxV3u0UQPIuy4MxihVAg/bujeAgFkC3cqGObrEWQKhPJriuORdAb+nG25K1F0A6MTqaPh8YQC5mGJ5kbxhAW0TIueidGEASeo+vtqIYQJ/qD5+zdhhAcWCBf6kUGEDqPnNUCnoXQKFve9BspxZAqW+JrK2gFUAuB4+2rmwUQBonrxW8FBNAo7LOia6jEUCGrxis6yQQQMROWMvSRg1A97Yuaq5RCkBqgHBgDnoHQFqSsvhHywRAQWQgCGZMAkBvywnAqwAAQMDKpvLV0Ps/iLMC5fgD+D96MkQVWJX0P+O4WwztfvE/KfdFBhl27T9E9guesYnoP7d/B86FMOQ/usduk39j4D8/N+rLczfaP9Wkrrtmo9Q/vvL0E/7yzz/jFd1LQEvIP6eStrVWIsI/kvAQ+yePuj+Q9HgmGRKzP0GLXbCx16o/GXB0+i+Coj/YBET4EACZP/e/j1iviJA/IONuckNphT/HIz84SiR7Pw==\",\"dtype\":\"float64\",\"order\":\"little\",\"shape\":[200]}},\"selected\":{\"id\":\"1454\"},\"selection_policy\":{\"id\":\"1757\"}},\"id\":\"1453\",\"type\":\"ColumnDataSource\"},{\"attributes\":{\"overlay\":{\"id\":\"1705\"}},\"id\":\"1703\",\"type\":\"BoxZoomTool\"},{\"attributes\":{},\"id\":\"1704\",\"type\":\"ResetTool\"},{\"attributes\":{\"fill_alpha\":0.5,\"fill_color\":\"#30a2da\",\"hatch_color\":\"#30a2da\",\"tags\":[\"apply_ranges\"],\"x\":{\"field\":\"x\"},\"y\":{\"field\":\"y\"}},\"id\":\"1513\",\"type\":\"Patch\"},{\"attributes\":{},\"id\":\"1697\",\"type\":\"BasicTicker\"},{\"attributes\":{\"coordinates\":null,\"data_source\":{\"id\":\"1557\"},\"glyph\":{\"id\":\"1560\"},\"group\":null,\"hover_glyph\":null,\"muted_glyph\":{\"id\":\"1562\"},\"nonselection_glyph\":{\"id\":\"1561\"},\"selection_glyph\":{\"id\":\"1565\"},\"view\":{\"id\":\"1564\"}},\"id\":\"1563\",\"type\":\"GlyphRenderer\"},{\"attributes\":{\"axis_label\":\"Density\",\"coordinates\":null,\"formatter\":{\"id\":\"1466\"},\"group\":null,\"major_label_policy\":{\"id\":\"1467\"},\"ticker\":{\"id\":\"1437\"}},\"id\":\"1436\",\"type\":\"LinearAxis\"},{\"attributes\":{\"fill_alpha\":0.2,\"fill_color\":\"#30a2da\",\"hatch_alpha\":0.2,\"hatch_color\":\"#30a2da\",\"line_alpha\":0.2,\"tags\":[\"apply_ranges\"],\"x\":{\"field\":\"x\"},\"y\":{\"field\":\"y\"}},\"id\":\"1666\",\"type\":\"Patch\"},{\"attributes\":{\"source\":{\"id\":\"1661\"}},\"id\":\"1668\",\"type\":\"CDSView\"},{\"attributes\":{},\"id\":\"1600\",\"type\":\"ResetTool\"},{\"attributes\":{\"axis\":{\"id\":\"1696\"},\"coordinates\":null,\"dimension\":1,\"grid_line_color\":null,\"group\":null,\"ticker\":null},\"id\":\"1699\",\"type\":\"Grid\"},{\"attributes\":{\"end\":2.4467234247129612,\"reset_end\":2.4467234247129612,\"reset_start\":0.0,\"tags\":[[[\"price_change_percentage_30d_density\",\"Density\",null]]]},\"id\":\"1525\",\"type\":\"Range1d\"},{\"attributes\":{\"axis_label\":\"Density\",\"coordinates\":null,\"formatter\":{\"id\":\"1726\"},\"group\":null,\"major_label_policy\":{\"id\":\"1727\"},\"ticker\":{\"id\":\"1697\"}},\"id\":\"1696\",\"type\":\"LinearAxis\"},{\"attributes\":{},\"id\":\"1724\",\"type\":\"AllLabels\"},{\"attributes\":{},\"id\":\"1428\",\"type\":\"LinearScale\"},{\"attributes\":{},\"id\":\"1515\",\"type\":\"BasicTickFormatter\"},{\"attributes\":{\"axis\":{\"id\":\"1432\"},\"coordinates\":null,\"grid_line_color\":null,\"group\":null,\"ticker\":null},\"id\":\"1435\",\"type\":\"Grid\"},{\"attributes\":{\"bottom_units\":\"screen\",\"coordinates\":null,\"fill_alpha\":0.5,\"fill_color\":\"lightgrey\",\"group\":null,\"left_units\":\"screen\",\"level\":\"overlay\",\"line_alpha\":1.0,\"line_color\":\"black\",\"line_dash\":[4,4],\"line_width\":2,\"right_units\":\"screen\",\"syncable\":false,\"top_units\":\"screen\"},\"id\":\"1601\",\"type\":\"BoxAnnotation\"},{\"attributes\":{\"fill_alpha\":0.5,\"fill_color\":\"#30a2da\",\"hatch_color\":\"#30a2da\",\"tags\":[\"apply_ranges\"],\"x\":{\"field\":\"x\"},\"y\":{\"field\":\"y\"}},\"id\":\"1664\",\"type\":\"Patch\"},{\"attributes\":{},\"id\":\"1532\",\"type\":\"LinearScale\"},{\"attributes\":{\"fill_alpha\":0.5,\"fill_color\":\"#30a2da\",\"hatch_alpha\":0.1,\"hatch_color\":\"#30a2da\",\"line_alpha\":1,\"tags\":[\"apply_ranges\"],\"x\":{\"field\":\"x\"},\"y\":{\"field\":\"y\"}},\"id\":\"1613\",\"type\":\"Patch\"},{\"attributes\":{},\"id\":\"1693\",\"type\":\"BasicTicker\"},{\"attributes\":{\"source\":{\"id\":\"1609\"}},\"id\":\"1616\",\"type\":\"CDSView\"},{\"attributes\":{},\"id\":\"1757\",\"type\":\"UnionRenderers\"},{\"attributes\":{\"axis_label\":\"price_change_percentage_1y\",\"coordinates\":null,\"formatter\":{\"id\":\"1723\"},\"group\":null,\"major_label_policy\":{\"id\":\"1724\"},\"ticker\":{\"id\":\"1693\"}},\"id\":\"1692\",\"type\":\"LinearAxis\"},{\"attributes\":{\"axis_label\":\"price_change_percentage_7d\",\"coordinates\":null,\"formatter\":{\"id\":\"1463\"},\"group\":null,\"major_label_policy\":{\"id\":\"1464\"},\"ticker\":{\"id\":\"1433\"}},\"id\":\"1432\",\"type\":\"LinearAxis\"},{\"attributes\":{},\"id\":\"1518\",\"type\":\"BasicTickFormatter\"},{\"attributes\":{\"fill_alpha\":0.2,\"fill_color\":\"#30a2da\",\"hatch_alpha\":0.2,\"hatch_color\":\"#30a2da\",\"line_alpha\":0.2,\"tags\":[\"apply_ranges\"],\"x\":{\"field\":\"x\"},\"y\":{\"field\":\"y\"}},\"id\":\"1614\",\"type\":\"Patch\"},{\"attributes\":{},\"id\":\"1701\",\"type\":\"PanTool\"},{\"attributes\":{\"data\":{\"x\":{\"__ndarray__\":\"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\",\"dtype\":\"float64\",\"order\":\"little\",\"shape\":[200]},\"y\":{\"__ndarray__\":\"AAAAAAAAAAAAAAAAAAAAAAAAAAAAAAAAAAAAAAAAAAAAAAAAAAAAAAAAAAAAAAAAAAAAAAAAAAAAAAAAAAAAAAAAAAAAAAAAAAAAAAAAAAAAAAAAAAAAAAAAAAAAAAAAAAAAAAAAAAAAAAAAAAAAAAAAAAAAAAAAAAAAAAAAAAAAAAAAAAAAAAAAAAAAAAAAAAAAAAAAAAAAAAAAAAAAAAAAAAAAAAAAAAAAAAAAAAAAAAAAAAAAAAAAAAAAAAAAAAAAAAAAAAAAAAAAAAAAAAAAAAAAAAAAAAAAAAAAAAAAAAAAAAAAAAAAAAAAAAAAAAAAAAAAAAAAAAAAAAAAAAAAAAAAAAAAAAAAAAAAAAAAAAAAAAAAAAAAAAAAAAAAAAAAAAAAAAAAAAAAAAAAAAAAAAAAAAAAAAAAAAAAAAAAAAAAAAAAAAAAAAAAAAAAAAAAAAAAAAAAAAAAAAAAAAAAAAAAAAAAAAAAAAAAAAAAAAAAAAAAAAAAAAAAAAAAAAAAAAAAAAAAAAAAAAAAAAAAAAAAAAAAAAAAAAAAAAAAAAAAAAAAAAAAAAAAAAAAAAAAAAAAAAAAAAAAAAAAAAAAAAAAAAAAAAAAAAAAAAAAAAAAAAAAAAAAAAAAAAAAAAAAAAAAAAAAAAAAAAAAAAAAAAAAAAAAAAAAAAAAAAAAAAAAAAAAAAAAAAAAAAAAAAAAAAAAAAAAAAAAAAAAAAAAAAAAAAAAAAAAAAAAAAAAAAAAAAAAAAAAAAAAAAAAAAAAAAAAAAAAAAAAAAAAAAAAAAAAAAAAAAAAAAAAAAAAAAAAAAAAAAAAAAAAAAAAAAAAAAAAAAAAAAAAAAAAAAAAAAAAAAAAAAAAAAAAAAAAAAAAAAAAAAAAAAAAAAAAAAAAAAAAAAAAAAAAAAAAAAAAAAAAAAAAAAAAAAAAAAAAAAAAAAAAAAAAAAAAAAAAAAAAAAAAAAAAAAAAAAAAAAAAAAAAAAAAAAAAAAAAAAAAAAAAAAAAAAAAAAAAAAAAAAAAAAAAAAAAAAAAAAAAAAAAAAAAAAAAAAAAAAAAAAC5Xpfg8hbzPjGhpEU4yQA/HO9FictsDD+KagQzeCwXP30EePv4MCI/egPCMwiAKz9yNJJgwQM0P6qbRKpUDTw/OpbdUMntQj8l/cvm5JhIP9G15orSxk4/Kc1fmh+KUj/vJl3lyYFVP47Uc7z3BVg/7z6acIfWWT94k10/HcJaP8P4EnHErlo/p+8NgqSeWT+idoAOnK9XPyv2Ph/bFVU/QxwyHdYSUj8KYaKDedVNPzvS3PqStUc/iYnLU4EkQj8JogtZNrw6P9glUb6u9zI/4AX5URHqKT+vLM6MrAshP/siouZ7lxU/X+ajRMtVCj9b3YE1pu3+Pmwu7hK4fPE+OVRW8HQK4z5fYqpshvbTPo13EUEnJ8Q+Du3AR/yWsz4Qlfj1TVaiPh1NXRmBiZA+4Kx1RJnVfD7mLBzSe9loPvX7LgebHlg+AVInZIYtVD7tmICabnVhPg/JH0HSzXM+kr6AtW31hj69WIXHhd2ZPtPaEMrKGKw+MutkEeVkvT7GXBt9a5zNPuSSjdcLudw+pWRcBOnT6j5kZkc+5yD4Pgi4RRaG5QQ/zOksj2ltET83RkkVUv4bP02wzIlBpyU/wcC3VDEiMD8EBLh31yk3Pxvpm9nfBkA/jL2NhKpjRT+PWBiDKI9LP2v7etR4K1E/Uv7AolO/VD939rwbD2xYP5MUmufPM1w/lu5uNIIkYD+ylpZ6+5NiPy5GT4qa12U/fncDF/uYaj8F3WTcpt9wP7TFzIehNHY/6V0GfRLtfT8aUBPC0VWEP6jRd+w6fYs/kOTr4atKkj8ZVno+RcyXP5TZudaZIZ4/rlvpfIiCoj+R1Iqu6gamPwY6IACeW6k/9vPGEJM3rD/+xVFP1FSuPxngXN1Be68/fu9UdfaJrz8ZXgHQKH2uPw1yAN8Tb6w/OCHNdJ2TqT+tkOWPuy+mP1iBRomVjqI/Zoq7lYjtnT+vnFJWnUOXPw74yVNmbpE/V0NJjC8tiT9FnBeTwoWBP3zeIhZQgXc/xXiiMjpibj/CBqLXKOxiP9fxV9nAtVY/lEj0+8JCSj//Xmyn5kE9Pw==\",\"dtype\":\"float64\",\"order\":\"little\",\"shape\":[200]}},\"selected\":{\"id\":\"1714\"},\"selection_policy\":{\"id\":\"1812\"}},\"id\":\"1713\",\"type\":\"ColumnDataSource\"},{\"attributes\":{\"toolbar\":{\"id\":\"1817\"},\"toolbar_location\":\"above\"},\"id\":\"1818\",\"type\":\"ToolbarBox\"},{\"attributes\":{},\"id\":\"1414\",\"type\":\"BasicTickFormatter\"},{\"attributes\":{},\"id\":\"1690\",\"type\":\"LinearScale\"},{\"attributes\":{},\"id\":\"1430\",\"type\":\"LinearScale\"},{\"attributes\":{},\"id\":\"1519\",\"type\":\"AllLabels\"},{\"attributes\":{\"coordinates\":null,\"group\":null,\"text\":\"price_change_percentage_1y\",\"text_color\":\"black\",\"text_font_size\":\"12pt\"},\"id\":\"1684\",\"type\":\"Title\"},{\"attributes\":{\"coordinates\":null,\"data_source\":{\"id\":\"1609\"},\"glyph\":{\"id\":\"1612\"},\"group\":null,\"hover_glyph\":null,\"muted_glyph\":{\"id\":\"1614\"},\"nonselection_glyph\":{\"id\":\"1613\"},\"selection_glyph\":{\"id\":\"1617\"},\"view\":{\"id\":\"1616\"}},\"id\":\"1615\",\"type\":\"GlyphRenderer\"},{\"attributes\":{},\"id\":\"1546\",\"type\":\"WheelZoomTool\"},{\"attributes\":{\"coordinates\":null,\"group\":null,\"text\":\"price_change_percentage_7d\",\"text_color\":\"black\",\"text_font_size\":\"12pt\"},\"id\":\"1424\",\"type\":\"Title\"},{\"attributes\":{\"fill_alpha\":0.5,\"fill_color\":\"#30a2da\",\"hatch_alpha\":0.1,\"hatch_color\":\"#30a2da\",\"line_alpha\":1,\"tags\":[\"apply_ranges\"],\"x\":{\"field\":\"x\"},\"y\":{\"field\":\"y\"}},\"id\":\"1665\",\"type\":\"Patch\"},{\"attributes\":{\"axis\":{\"id\":\"1692\"},\"coordinates\":null,\"grid_line_color\":null,\"group\":null,\"ticker\":null},\"id\":\"1695\",\"type\":\"Grid\"},{\"attributes\":{\"end\":0.2979497023293785,\"reset_end\":0.2979497023293785,\"reset_start\":-0.1519494023293785,\"start\":-0.1519494023293785,\"tags\":[[[\"price_change_percentage_7d\",\"price_change_percentage_7d\",null]]]},\"id\":\"1420\",\"type\":\"Range1d\"},{\"attributes\":{\"below\":[{\"id\":\"1536\"}],\"center\":[{\"id\":\"1539\"},{\"id\":\"1543\"}],\"height\":300,\"left\":[{\"id\":\"1540\"}],\"margin\":null,\"min_border_bottom\":10,\"min_border_left\":10,\"min_border_right\":10,\"min_border_top\":10,\"output_backend\":\"webgl\",\"renderers\":[{\"id\":\"1563\"}],\"sizing_mode\":\"fixed\",\"title\":{\"id\":\"1528\"},\"toolbar\":{\"id\":\"1550\"},\"toolbar_location\":null,\"width\":700,\"x_range\":{\"id\":\"1524\"},\"x_scale\":{\"id\":\"1532\"},\"y_range\":{\"id\":\"1525\"},\"y_scale\":{\"id\":\"1534\"}},\"id\":\"1527\",\"subtype\":\"Figure\",\"type\":\"Plot\"},{\"attributes\":{\"end\":6.774426678735139,\"reset_end\":6.774426678735139,\"reset_start\":0.0,\"tags\":[[[\"price_change_percentage_7d_density\",\"Density\",null]]]},\"id\":\"1421\",\"type\":\"Range1d\"},{\"attributes\":{\"callback\":null,\"renderers\":[{\"id\":\"1459\"}],\"tags\":[\"hv_created\"],\"tooltips\":[[\"price_change_percentage_7d\",\"@{price_change_percentage_7d}\"],[\"Density\",\"@{price_change_percentage_7d_density}\"]]},\"id\":\"1422\",\"type\":\"HoverTool\"},{\"attributes\":{\"active_drag\":{\"id\":\"1649\"},\"active_scroll\":{\"id\":\"1650\"},\"tools\":[{\"id\":\"1630\"},{\"id\":\"1648\"},{\"id\":\"1649\"},{\"id\":\"1650\"},{\"id\":\"1651\"},{\"id\":\"1652\"}]},\"id\":\"1654\",\"type\":\"Toolbar\"},{\"attributes\":{},\"id\":\"1544\",\"type\":\"SaveTool\"},{\"attributes\":{\"active_drag\":{\"id\":\"1597\"},\"active_scroll\":{\"id\":\"1598\"},\"tools\":[{\"id\":\"1578\"},{\"id\":\"1596\"},{\"id\":\"1597\"},{\"id\":\"1598\"},{\"id\":\"1599\"},{\"id\":\"1600\"}]},\"id\":\"1602\",\"type\":\"Toolbar\"},{\"attributes\":{\"children\":[[{\"id\":\"1371\"},0,0],[{\"id\":\"1423\"},0,1],[{\"id\":\"1475\"},1,0],[{\"id\":\"1527\"},1,1],[{\"id\":\"1579\"},2,0],[{\"id\":\"1631\"},2,1],[{\"id\":\"1683\"},3,0]]},\"id\":\"1816\",\"type\":\"GridBox\"},{\"attributes\":{},\"id\":\"1433\",\"type\":\"BasicTicker\"},{\"attributes\":{\"axis\":{\"id\":\"1436\"},\"coordinates\":null,\"dimension\":1,\"grid_line_color\":null,\"group\":null,\"ticker\":null},\"id\":\"1439\",\"type\":\"Grid\"},{\"attributes\":{\"data\":{\"x\":{\"__ndarray__\":\"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\",\"dtype\":\"float64\",\"order\":\"little\",\"shape\":[200]},\"y\":{\"__ndarray__\":\"AAAAAAAAAAAAAAAAAAAAAAAAAAAAAAAAAAAAAAAAAAAAAAAAAAAAAAAAAAAAAAAAAAAAAAAAAAAAAAAAAAAAAAAAAAAAAAAAAAAAAAAAAAAAAAAAAAAAAAAAAAAAAAAAAAAAAAAAAAAAAAAAAAAAAAAAAAAAAAAAAAAAAAAAAAAAAAAAAAAAAAAAAAAAAAAAAAAAAAAAAAAAAAAAAAAAAAAAAAAAAAAAAAAAAAAAAAAAAAAAAAAAAAAAAAAAAAAAAAAAAAAAAAAAAAAAAAAAAAAAAAAAAAAAAAAAAAAAAAAAAAAAAAAAAAAAAAAAAAAAAAAAAAAAAAAAAAAAAAAAAAAAAAAAAAAAAAAAAAAAAAAAAAAAAAAAAAAAAAAAAAAAAAAAAAAAAAAAAAAAAAAAAAAAAAAAAAAAAAAAAAAAAAAAAAAAAAAAAAAAAAAAAAAAAAAAAAAAAAAAAAAAAAAAAAAAAAAAAAAAAAAAAAAAAAAAAAAAAAAAAAAAAAAAAAAAAAAAAAAAAAAAAAAAAAAAAAAAAAAAAAAAAAAAAAAAAAAAAAAAAAAAAAAAAAAAAAAAAAAAAAAAAAAAAAAAAAAAAAAAAAAAAAAAAAAAAAAAAAAAAAAAAAAAAAAAAAAAAAAAAAAAAAAAAAAAAAAAAAAAAAAAAAAAAAAAAAAAAAAAAAAAAAAAAAAAAAAAAAAAAAAAAAAAAAAAAAAAAAAAAAAAAAAAAAAAAAAAAAAAAAAAAAAAAAAAAAAAAAAAAAAAAAAAAAAAAAAAAAAAAAAAAAAAAAAAAAAAAAAAAAAAAAAAAAAAAAAAAAAAAAAAAAAAAAAAAAAAAAAAAAAAAAAAAAAAAAAAAAAAAAAAAAAAAAAAAAAAAAAAAAAAAAAAAAAAAAAAAAAAAAAAAAAAAAAAAAAAAAAAAAAAAAAAAAAAAAAAAAAAAAAAAAAAAAAAAAAAAAAAAAAAAAAAAAAAAAAAAAAAAAAAAAAAAAAAAAAAAAAAAAAAAAAAAAAAAAAAAAAAAAAAAAAAAAAAAAAAAAAAAAAAAAAAAAAAAAAAAAAAAAAAAADYqB6G2WqBP5d2uLLQrI8/7jm4XV+lmz9rYICFzCunPyZ+o6EJqbI/2xlL2OzmvD97i8fWCYzFP5OGA1sS+c4/vmNS6oOA1T+c4+kBK+jcP/mIdBJS3+I/ogQ/qu0F6D+ZXJjap/DtP7iSJg4yWvI/sVXS+So89j8fcfd0mLz6P6trHgg5AgBAO/xuCg8jA0BgYm05Rd4GQCEydgfhVQtATgHTYMNYEEAg9zBIs48TQKGiKBObaRdAPnJ7dIgAHEC0HW7KrrQgQAk23Abc1SNAb1wpJSxcJ0DWr0SvLTArQFItztEXKC9AtHGgLzuEMUDwgUcNY0QzQN2esmHorTRALV7WR0edNUCU4Qilvvc1QFWwRGwBsDVAUEsKr9vINED1QkgtKFUzQJfCYAkQdTFAIpJsZVqiLkDTF9WRNykqQPP5rsJgziVAXFAxu8TRIUBtdSEWVbwcQFp9xJq3DxdAUXNQaLidEkA7f9ofQY4OQPTjsoQSsglA9X//PakwBkDMRyBUxZYDQHIllR4oggFA3TKe9kVT/z+zbR/sGb/7P5zgrAA3H/g//Sene/hy9D8XH+Dbe9PwPxNcL+pDyuo/61eAGp6W5D/VIr4AQoDeP28Sd/LCwNU/ox45U8rZzT8ra8l3eLHDP06JNfdp+bg/lKhDbl1vrj+ZI26n5dOhP1f/cf34IJQ/YXYhExAnhj/gNoU0Zt14PyOPvOMWb3A/nkihNY0icD/PGJmzgZV3PywGCEXzV4Q/N2pFw9TlkT/dFH97uKmePxUkCe54Rqk/SmljsOH9sz/JWRccglO+P97xuLedDcY/UvVgPSrAzj+RnTUK543UP6R8Hd36V9o/t0BEZ2Av4D+Wlfz/FxHjPyJMSR/UiOU/rj4hbldR5z/MrFLQ4DToPzi2oumRF+g/Twm2lQv95j+3PW7jsAflP4iHIrHFceI/BYLdSp8E3z8Bv3mETgHZP0EEn0tnU9M/4eTU1cyjzD8gY/E1c1jEP+rZz2mmtrs/AHEyK4cYsj/WgrPlBaimPyncsQoIMps/xcBAmuxLjz+QqJXwy0OBPw==\",\"dtype\":\"float64\",\"order\":\"little\",\"shape\":[200]}},\"selected\":{\"id\":\"1402\"},\"selection_policy\":{\"id\":\"1746\"}},\"id\":\"1401\",\"type\":\"ColumnDataSource\"},{\"attributes\":{\"fill_alpha\":0.5,\"fill_color\":\"#30a2da\",\"hatch_color\":\"#30a2da\",\"tags\":[\"apply_ranges\"],\"x\":{\"field\":\"x\"},\"y\":{\"field\":\"y\"}},\"id\":\"1669\",\"type\":\"Patch\"},{\"attributes\":{},\"id\":\"1415\",\"type\":\"AllLabels\"},{\"attributes\":{\"fill_alpha\":0.5,\"fill_color\":\"#30a2da\",\"hatch_color\":\"#30a2da\",\"tags\":[\"apply_ranges\"],\"x\":{\"field\":\"x\"},\"y\":{\"field\":\"y\"}},\"id\":\"1612\",\"type\":\"Patch\"},{\"attributes\":{\"overlay\":{\"id\":\"1549\"}},\"id\":\"1547\",\"type\":\"BoxZoomTool\"},{\"attributes\":{\"fill_alpha\":0.5,\"fill_color\":\"#30a2da\",\"hatch_alpha\":0.1,\"hatch_color\":\"#30a2da\",\"line_alpha\":1,\"tags\":[\"apply_ranges\"],\"x\":{\"field\":\"x\"},\"y\":{\"field\":\"y\"}},\"id\":\"1717\",\"type\":\"Patch\"},{\"attributes\":{},\"id\":\"1610\",\"type\":\"Selection\"},{\"attributes\":{\"below\":[{\"id\":\"1432\"}],\"center\":[{\"id\":\"1435\"},{\"id\":\"1439\"}],\"height\":300,\"left\":[{\"id\":\"1436\"}],\"margin\":null,\"min_border_bottom\":10,\"min_border_left\":10,\"min_border_right\":10,\"min_border_top\":10,\"output_backend\":\"webgl\",\"renderers\":[{\"id\":\"1459\"}],\"sizing_mode\":\"fixed\",\"title\":{\"id\":\"1424\"},\"toolbar\":{\"id\":\"1446\"},\"toolbar_location\":null,\"width\":700,\"x_range\":{\"id\":\"1420\"},\"x_scale\":{\"id\":\"1428\"},\"y_range\":{\"id\":\"1421\"},\"y_scale\":{\"id\":\"1430\"}},\"id\":\"1423\",\"subtype\":\"Figure\",\"type\":\"Plot\"},{\"attributes\":{},\"id\":\"1548\",\"type\":\"ResetTool\"}],\"root_ids\":[\"1367\"]},\"title\":\"Bokeh Application\",\"version\":\"2.4.3\"}};\n",
       "    var render_items = [{\"docid\":\"9d3418a1-7331-4471-900a-69a1f5a4998d\",\"root_ids\":[\"1367\"],\"roots\":{\"1367\":\"6faee8f4-94e3-49df-8d3f-e4758a99a8fd\"}}];\n",
       "    root.Bokeh.embed.embed_items_notebook(docs_json, render_items);\n",
       "    for (const render_item of render_items) {\n",
       "      for (const root_id of render_item.root_ids) {\n",
       "\tconst id_el = document.getElementById(root_id)\n",
       "\tif (id_el.children.length && (id_el.children[0].className === 'bk-root')) {\n",
       "\t  const root_el = id_el.children[0]\n",
       "\t  root_el.id = root_el.id + '-rendered'\n",
       "\t}\n",
       "      }\n",
       "    }\n",
       "  }\n",
       "  if (root.Bokeh !== undefined && root.Bokeh.Panel !== undefined) {\n",
       "    embed_document(root);\n",
       "  } else {\n",
       "    var attempts = 0;\n",
       "    var timer = setInterval(function(root) {\n",
       "      if (root.Bokeh !== undefined && root.Bokeh.Panel !== undefined) {\n",
       "        clearInterval(timer);\n",
       "        embed_document(root);\n",
       "      } else if (document.readyState == \"complete\") {\n",
       "        attempts++;\n",
       "        if (attempts > 200) {\n",
       "          clearInterval(timer);\n",
       "          console.log(\"Bokeh: ERROR: Unable to run BokehJS code because BokehJS library is missing\");\n",
       "        }\n",
       "      }\n",
       "    }, 25, root)\n",
       "  }\n",
       "})(window);</script>"
      ],
      "text/plain": [
       ":Layout\n",
       "   .Distribution.Price_change_percentage_24h  :Distribution   [price_change_percentage_24h]   (Density)\n",
       "   .Distribution.Price_change_percentage_7d   :Distribution   [price_change_percentage_7d]   (Density)\n",
       "   .Distribution.Price_change_percentage_14d  :Distribution   [price_change_percentage_14d]   (Density)\n",
       "   .Distribution.Price_change_percentage_30d  :Distribution   [price_change_percentage_30d]   (Density)\n",
       "   .Distribution.Price_change_percentage_60d  :Distribution   [price_change_percentage_60d]   (Density)\n",
       "   .Distribution.Price_change_percentage_200d :Distribution   [price_change_percentage_200d]   (Density)\n",
       "   .Distribution.Price_change_percentage_1y   :Distribution   [price_change_percentage_1y]   (Density)"
      ]
     },
     "execution_count": 5,
     "metadata": {
      "application/vnd.holoviews_exec.v0+json": {
       "id": "1367"
      }
     },
     "output_type": "execute_result"
    }
   ],
   "source": [
    "# using StandardScaler requires normally distributed inputs, which we'll check with a kde\n",
    "\n",
    "def plot_kdes(df,cols=2):\n",
    "    plots = [df[column].hvplot.kde(label=column) for column in df.columns]\n",
    "    combined_plot = hv.Layout(plots).cols(cols)\n",
    "    return combined_plot\n",
    "\n",
    "plot_kdes(df_market_data)\n"
   ]
  },
  {
   "attachments": {},
   "cell_type": "markdown",
   "metadata": {},
   "source": [
    "---"
   ]
  },
  {
   "attachments": {},
   "cell_type": "markdown",
   "metadata": {},
   "source": [
    "### Prepare the Data"
   ]
  },
  {
   "cell_type": "code",
   "execution_count": 6,
   "metadata": {},
   "outputs": [
    {
     "data": {},
     "metadata": {},
     "output_type": "display_data"
    },
    {
     "data": {
      "application/vnd.holoviews_exec.v0+json": "",
      "text/html": [
       "<div id='2241'>\n",
       "  <div class=\"bk-root\" id=\"d961024d-7387-499f-8f80-588b8161be84\" data-root-id=\"2241\"></div>\n",
       "</div>\n",
       "<script type=\"application/javascript\">(function(root) {\n",
       "  function embed_document(root) {\n",
       "    var docs_json = {\"a8d0b47a-b29b-4b25-a31d-4da98b53c0e8\":{\"defs\":[{\"extends\":null,\"module\":null,\"name\":\"ReactiveHTML1\",\"overrides\":[],\"properties\":[]},{\"extends\":null,\"module\":null,\"name\":\"FlexBox1\",\"overrides\":[],\"properties\":[{\"default\":\"flex-start\",\"kind\":null,\"name\":\"align_content\"},{\"default\":\"flex-start\",\"kind\":null,\"name\":\"align_items\"},{\"default\":\"row\",\"kind\":null,\"name\":\"flex_direction\"},{\"default\":\"wrap\",\"kind\":null,\"name\":\"flex_wrap\"},{\"default\":\"flex-start\",\"kind\":null,\"name\":\"justify_content\"}]},{\"extends\":null,\"module\":null,\"name\":\"GridStack1\",\"overrides\":[],\"properties\":[{\"default\":\"warn\",\"kind\":null,\"name\":\"mode\"},{\"default\":null,\"kind\":null,\"name\":\"ncols\"},{\"default\":null,\"kind\":null,\"name\":\"nrows\"},{\"default\":true,\"kind\":null,\"name\":\"allow_resize\"},{\"default\":true,\"kind\":null,\"name\":\"allow_drag\"},{\"default\":[],\"kind\":null,\"name\":\"state\"}]},{\"extends\":null,\"module\":null,\"name\":\"click1\",\"overrides\":[],\"properties\":[{\"default\":\"\",\"kind\":null,\"name\":\"terminal_output\"},{\"default\":\"\",\"kind\":null,\"name\":\"debug_name\"},{\"default\":0,\"kind\":null,\"name\":\"clears\"}]},{\"extends\":null,\"module\":null,\"name\":\"NotificationAreaBase1\",\"overrides\":[],\"properties\":[{\"default\":\"bottom-right\",\"kind\":null,\"name\":\"position\"},{\"default\":0,\"kind\":null,\"name\":\"_clear\"}]},{\"extends\":null,\"module\":null,\"name\":\"NotificationArea1\",\"overrides\":[],\"properties\":[{\"default\":[],\"kind\":null,\"name\":\"notifications\"},{\"default\":\"bottom-right\",\"kind\":null,\"name\":\"position\"},{\"default\":0,\"kind\":null,\"name\":\"_clear\"},{\"default\":[{\"background\":\"#ffc107\",\"icon\":{\"className\":\"fas fa-exclamation-triangle\",\"color\":\"white\",\"tagName\":\"i\"},\"type\":\"warning\"},{\"background\":\"#007bff\",\"icon\":{\"className\":\"fas fa-info-circle\",\"color\":\"white\",\"tagName\":\"i\"},\"type\":\"info\"}],\"kind\":null,\"name\":\"types\"}]},{\"extends\":null,\"module\":null,\"name\":\"Notification\",\"overrides\":[],\"properties\":[{\"default\":null,\"kind\":null,\"name\":\"background\"},{\"default\":3000,\"kind\":null,\"name\":\"duration\"},{\"default\":null,\"kind\":null,\"name\":\"icon\"},{\"default\":\"\",\"kind\":null,\"name\":\"message\"},{\"default\":null,\"kind\":null,\"name\":\"notification_type\"},{\"default\":false,\"kind\":null,\"name\":\"_destroyed\"}]},{\"extends\":null,\"module\":null,\"name\":\"TemplateActions1\",\"overrides\":[],\"properties\":[{\"default\":0,\"kind\":null,\"name\":\"open_modal\"},{\"default\":0,\"kind\":null,\"name\":\"close_modal\"}]},{\"extends\":null,\"module\":null,\"name\":\"MaterialTemplateActions1\",\"overrides\":[],\"properties\":[{\"default\":0,\"kind\":null,\"name\":\"open_modal\"},{\"default\":0,\"kind\":null,\"name\":\"close_modal\"}]}],\"roots\":{\"references\":[{\"attributes\":{},\"id\":\"2324\",\"type\":\"UnionRenderers\"},{\"attributes\":{\"label\":{\"value\":\"price_change_percentage_7d\"},\"renderers\":[{\"id\":\"2313\"}]},\"id\":\"2327\",\"type\":\"LegendItem\"},{\"attributes\":{},\"id\":\"2438\",\"type\":\"Selection\"},{\"attributes\":{\"active_drag\":{\"id\":\"2268\"},\"active_scroll\":{\"id\":\"2269\"},\"tools\":[{\"id\":\"2244\"},{\"id\":\"2267\"},{\"id\":\"2268\"},{\"id\":\"2269\"},{\"id\":\"2270\"},{\"id\":\"2271\"}]},\"id\":\"2273\",\"type\":\"Toolbar\"},{\"attributes\":{\"line_color\":\"#e5ae38\",\"line_width\":2,\"tags\":[\"apply_ranges\"],\"x\":{\"field\":\"coin_id\"},\"y\":{\"field\":\"value\"}},\"id\":\"2352\",\"type\":\"Line\"},{\"attributes\":{},\"id\":\"2281\",\"type\":\"CategoricalTickFormatter\"},{\"attributes\":{\"source\":{\"id\":\"2286\"}},\"id\":\"2293\",\"type\":\"CDSView\"},{\"attributes\":{\"line_alpha\":0.1,\"line_color\":\"#9467bd\",\"line_width\":2,\"tags\":[\"apply_ranges\"],\"x\":{\"field\":\"coin_id\"},\"y\":{\"field\":\"value\"}},\"id\":\"2441\",\"type\":\"Line\"},{\"attributes\":{\"data\":{\"Variable\":[\"price_change_percentage_30d\",\"price_change_percentage_30d\",\"price_change_percentage_30d\",\"price_change_percentage_30d\",\"price_change_percentage_30d\",\"price_change_percentage_30d\",\"price_change_percentage_30d\",\"price_change_percentage_30d\",\"price_change_percentage_30d\",\"price_change_percentage_30d\",\"price_change_percentage_30d\",\"price_change_percentage_30d\",\"price_change_percentage_30d\",\"price_change_percentage_30d\",\"price_change_percentage_30d\",\"price_change_percentage_30d\",\"price_change_percentage_30d\",\"price_change_percentage_30d\",\"price_change_percentage_30d\",\"price_change_percentage_30d\",\"price_change_percentage_30d\",\"price_change_percentage_30d\",\"price_change_percentage_30d\",\"price_change_percentage_30d\",\"price_change_percentage_30d\",\"price_change_percentage_30d\",\"price_change_percentage_30d\",\"price_change_percentage_30d\",\"price_change_percentage_30d\",\"price_change_percentage_30d\",\"price_change_percentage_30d\",\"price_change_percentage_30d\",\"price_change_percentage_30d\",\"price_change_percentage_30d\",\"price_change_percentage_30d\",\"price_change_percentage_30d\",\"price_change_percentage_30d\",\"price_change_percentage_30d\",\"price_change_percentage_30d\",\"price_change_percentage_30d\",\"price_change_percentage_30d\"],\"coin_id\":[\"bitcoin\",\"ethereum\",\"tether\",\"ripple\",\"bitcoin-cash\",\"binancecoin\",\"chainlink\",\"cardano\",\"litecoin\",\"bitcoin-cash-sv\",\"crypto-com-chain\",\"usd-coin\",\"eos\",\"monero\",\"tron\",\"tezos\",\"okb\",\"stellar\",\"cosmos\",\"cdai\",\"neo\",\"wrapped-bitcoin\",\"leo-token\",\"huobi-token\",\"nem\",\"binance-usd\",\"iota\",\"vechain\",\"zcash\",\"theta-token\",\"dash\",\"ethereum-classic\",\"ethlend\",\"maker\",\"havven\",\"omisego\",\"celsius-degree-token\",\"ontology\",\"ftx-token\",\"true-usd\",\"digibyte\"],\"value\":{\"__ndarray__\":\"VLUikIojzj97veAYk9Krv8o7PSNYP6+/LSOQjHPMqb8MhwLHiXfhPyMtO0x9Qq2/Wg0/4UZk3780jFQTqw3VP/E5G95k5om/qT2lucVvqj91vzmvmFvnvxhAaUyk1rC/wL5p6wNmzr+49rMYZwH3P09uZY6dZuG/H2LfVwJG47/bX8tSyHndv74hKGTXy9e/9FApwHLVvT8qhwCallXCvyizXPp45uy/3lY404StzD+z9AWvohiuP4/ld0RTnce/jmeCFLWTyb/nCNeaFQ2uv9yjMOUUCMy/kDHdhyFT479N0dG9l6bMP6aw6YyxYPI/tK+6phD31r8Qs4n+T5CqP2ovWRneZPO/o2AHBDWn4j+cy1ePBIjrvwYyfcjKONq/oanNt+NnFUDQSlhiWkr2v4JmecLIyN2/rfo4WUXOrb+mPH75zMvcPw==\",\"dtype\":\"float64\",\"order\":\"little\",\"shape\":[41]}},\"selected\":{\"id\":\"2354\"},\"selection_policy\":{\"id\":\"2374\"}},\"id\":\"2353\",\"type\":\"ColumnDataSource\"},{\"attributes\":{},\"id\":\"2284\",\"type\":\"BasicTickFormatter\"},{\"attributes\":{\"label\":{\"value\":\"price_change_percentage_30d\"},\"renderers\":[{\"id\":\"2359\"}]},\"id\":\"2377\",\"type\":\"LegendItem\"},{\"attributes\":{},\"id\":\"2285\",\"type\":\"AllLabels\"},{\"attributes\":{\"line_color\":\"#fc4f30\",\"line_width\":2,\"tags\":[\"apply_ranges\"],\"x\":{\"field\":\"coin_id\"},\"y\":{\"field\":\"value\"}},\"id\":\"2310\",\"type\":\"Line\"},{\"attributes\":{\"line_alpha\":0.2,\"line_color\":\"#17becf\",\"line_width\":2,\"tags\":[\"apply_ranges\"],\"x\":{\"field\":\"coin_id\"},\"y\":{\"field\":\"value\"}},\"id\":\"2412\",\"type\":\"Line\"},{\"attributes\":{\"line_alpha\":0.2,\"line_color\":\"#30a2da\",\"line_width\":2,\"tags\":[\"apply_ranges\"],\"x\":{\"field\":\"coin_id\"},\"y\":{\"field\":\"value\"}},\"id\":\"2291\",\"type\":\"Line\"},{\"attributes\":{\"line_color\":\"#8b8b8b\",\"line_width\":2,\"tags\":[\"apply_ranges\"],\"x\":{\"field\":\"coin_id\"},\"y\":{\"field\":\"value\"}},\"id\":\"2406\",\"type\":\"Line\"},{\"attributes\":{\"source\":{\"id\":\"2353\"}},\"id\":\"2360\",\"type\":\"CDSView\"},{\"attributes\":{\"coordinates\":null,\"data_source\":{\"id\":\"2353\"},\"glyph\":{\"id\":\"2356\"},\"group\":null,\"hover_glyph\":null,\"muted_glyph\":{\"id\":\"2358\"},\"nonselection_glyph\":{\"id\":\"2357\"},\"selection_glyph\":{\"id\":\"2378\"},\"view\":{\"id\":\"2360\"}},\"id\":\"2359\",\"type\":\"GlyphRenderer\"},{\"attributes\":{\"line_alpha\":0.2,\"line_color\":\"#6d904f\",\"line_width\":2,\"tags\":[\"apply_ranges\"],\"x\":{\"field\":\"coin_id\"},\"y\":{\"field\":\"value\"}},\"id\":\"2358\",\"type\":\"Line\"},{\"attributes\":{\"line_alpha\":0.1,\"line_color\":\"#30a2da\",\"line_width\":2,\"tags\":[\"apply_ranges\"],\"x\":{\"field\":\"coin_id\"},\"y\":{\"field\":\"value\"}},\"id\":\"2290\",\"type\":\"Line\"},{\"attributes\":{},\"id\":\"2374\",\"type\":\"UnionRenderers\"},{\"attributes\":{\"source\":{\"id\":\"2407\"}},\"id\":\"2414\",\"type\":\"CDSView\"},{\"attributes\":{\"line_alpha\":0.1,\"line_color\":\"#17becf\",\"line_width\":2,\"tags\":[\"apply_ranges\"],\"x\":{\"field\":\"coin_id\"},\"y\":{\"field\":\"value\"}},\"id\":\"2411\",\"type\":\"Line\"},{\"attributes\":{},\"id\":\"2354\",\"type\":\"Selection\"},{\"attributes\":{\"click_policy\":\"mute\",\"coordinates\":null,\"group\":null,\"items\":[{\"id\":\"2305\"},{\"id\":\"2327\"},{\"id\":\"2351\"},{\"id\":\"2377\"},{\"id\":\"2405\"},{\"id\":\"2435\"},{\"id\":\"2467\"}],\"location\":[0,0],\"title\":\"Variable\"},\"id\":\"2304\",\"type\":\"Legend\"},{\"attributes\":{\"coordinates\":null,\"data_source\":{\"id\":\"2286\"},\"glyph\":{\"id\":\"2289\"},\"group\":null,\"hover_glyph\":null,\"muted_glyph\":{\"id\":\"2291\"},\"nonselection_glyph\":{\"id\":\"2290\"},\"selection_glyph\":{\"id\":\"2306\"},\"view\":{\"id\":\"2293\"}},\"id\":\"2292\",\"type\":\"GlyphRenderer\"},{\"attributes\":{},\"id\":\"2432\",\"type\":\"UnionRenderers\"},{\"attributes\":{\"line_color\":\"#9467bd\",\"line_width\":2,\"tags\":[\"apply_ranges\"],\"x\":{\"field\":\"coin_id\"},\"y\":{\"field\":\"value\"}},\"id\":\"2468\",\"type\":\"Line\"},{\"attributes\":{\"coordinates\":null,\"data_source\":{\"id\":\"2407\"},\"glyph\":{\"id\":\"2410\"},\"group\":null,\"hover_glyph\":null,\"muted_glyph\":{\"id\":\"2412\"},\"nonselection_glyph\":{\"id\":\"2411\"},\"selection_glyph\":{\"id\":\"2436\"},\"view\":{\"id\":\"2414\"}},\"id\":\"2413\",\"type\":\"GlyphRenderer\"},{\"attributes\":{\"data\":{\"Variable\":[\"price_change_percentage_200d\",\"price_change_percentage_200d\",\"price_change_percentage_200d\",\"price_change_percentage_200d\",\"price_change_percentage_200d\",\"price_change_percentage_200d\",\"price_change_percentage_200d\",\"price_change_percentage_200d\",\"price_change_percentage_200d\",\"price_change_percentage_200d\",\"price_change_percentage_200d\",\"price_change_percentage_200d\",\"price_change_percentage_200d\",\"price_change_percentage_200d\",\"price_change_percentage_200d\",\"price_change_percentage_200d\",\"price_change_percentage_200d\",\"price_change_percentage_200d\",\"price_change_percentage_200d\",\"price_change_percentage_200d\",\"price_change_percentage_200d\",\"price_change_percentage_200d\",\"price_change_percentage_200d\",\"price_change_percentage_200d\",\"price_change_percentage_200d\",\"price_change_percentage_200d\",\"price_change_percentage_200d\",\"price_change_percentage_200d\",\"price_change_percentage_200d\",\"price_change_percentage_200d\",\"price_change_percentage_200d\",\"price_change_percentage_200d\",\"price_change_percentage_200d\",\"price_change_percentage_200d\",\"price_change_percentage_200d\",\"price_change_percentage_200d\",\"price_change_percentage_200d\",\"price_change_percentage_200d\",\"price_change_percentage_200d\",\"price_change_percentage_200d\",\"price_change_percentage_200d\"],\"coin_id\":[\"bitcoin\",\"ethereum\",\"tether\",\"ripple\",\"bitcoin-cash\",\"binancecoin\",\"chainlink\",\"cardano\",\"litecoin\",\"bitcoin-cash-sv\",\"crypto-com-chain\",\"usd-coin\",\"eos\",\"monero\",\"tron\",\"tezos\",\"okb\",\"stellar\",\"cosmos\",\"cdai\",\"neo\",\"wrapped-bitcoin\",\"leo-token\",\"huobi-token\",\"nem\",\"binance-usd\",\"iota\",\"vechain\",\"zcash\",\"theta-token\",\"dash\",\"ethereum-classic\",\"ethlend\",\"maker\",\"havven\",\"omisego\",\"celsius-degree-token\",\"ontology\",\"ftx-token\",\"true-usd\",\"digibyte\"],\"value\":{\"__ndarray__\":\"DOQHHPHH1r//gIG0aaK9v0qe1m+fm+G/fPGdyBxU3b9ZByN2gf3fvyIHycT7F8i/O/53EAvR2D++a8nlDqmwP1sBHbb5Ht+/4k+Y0wMO4b//gPrvGWqXvy45WHeCnuG/AJfcnVdD4L8MPIuQS/TDvwphlPb13M6/GOs4S9+/3L/LNflWHkTdvySibbHlnda/bXVcUsMYvr9Y9l/R/aLhv6I4yIUlMce/lY06LTO51r8EBwd/4mLgv5kIsVtH7dy/bGsSwbY/qL8+M94nn5nhv6aqVR5GEdW/FcwoGgrAsz9LhEsRcPjQv5W7WmpBDPg/uSd0Urck4b8ZGmt7fNXgv71KbrCOhxJALaoBqWft1r//g9exGMPsP44HM1Fo9ek/i3lRnuUwCUDJDFxNuQ/bv8Fq/w34p9q/fY7K5zWd4b9M73Cr01DiPw==\",\"dtype\":\"float64\",\"order\":\"little\",\"shape\":[41]}},\"selected\":{\"id\":\"2408\"},\"selection_policy\":{\"id\":\"2432\"}},\"id\":\"2407\",\"type\":\"ColumnDataSource\"},{\"attributes\":{},\"id\":\"2464\",\"type\":\"UnionRenderers\"},{\"attributes\":{\"line_color\":\"#6d904f\",\"line_width\":2,\"tags\":[\"apply_ranges\"],\"x\":{\"field\":\"coin_id\"},\"y\":{\"field\":\"value\"}},\"id\":\"2356\",\"type\":\"Line\"},{\"attributes\":{\"callback\":null,\"renderers\":[{\"id\":\"2292\"},{\"id\":\"2313\"},{\"id\":\"2335\"},{\"id\":\"2359\"},{\"id\":\"2385\"},{\"id\":\"2413\"},{\"id\":\"2443\"}],\"tags\":[\"hv_created\"],\"tooltips\":[[\"Variable\",\"@{Variable}\"],[\"coin_id\",\"@{coin_id}\"],[\"value\",\"@{value}\"]]},\"id\":\"2244\",\"type\":\"HoverTool\"},{\"attributes\":{},\"id\":\"2287\",\"type\":\"Selection\"},{\"attributes\":{\"line_alpha\":0.2,\"line_color\":\"#9467bd\",\"line_width\":2,\"tags\":[\"apply_ranges\"],\"x\":{\"field\":\"coin_id\"},\"y\":{\"field\":\"value\"}},\"id\":\"2442\",\"type\":\"Line\"},{\"attributes\":{\"line_alpha\":0.2,\"line_color\":\"#e5ae38\",\"line_width\":2,\"tags\":[\"apply_ranges\"],\"x\":{\"field\":\"coin_id\"},\"y\":{\"field\":\"value\"}},\"id\":\"2334\",\"type\":\"Line\"},{\"attributes\":{\"line_alpha\":0.2,\"line_color\":\"#fc4f30\",\"line_width\":2,\"tags\":[\"apply_ranges\"],\"x\":{\"field\":\"coin_id\"},\"y\":{\"field\":\"value\"}},\"id\":\"2312\",\"type\":\"Line\"},{\"attributes\":{},\"id\":\"2408\",\"type\":\"Selection\"},{\"attributes\":{\"coordinates\":null,\"group\":null,\"text_color\":\"black\",\"text_font_size\":\"12pt\"},\"id\":\"2252\",\"type\":\"Title\"},{\"attributes\":{\"line_color\":\"#fc4f30\",\"line_width\":2,\"tags\":[\"apply_ranges\"],\"x\":{\"field\":\"coin_id\"},\"y\":{\"field\":\"value\"}},\"id\":\"2328\",\"type\":\"Line\"},{\"attributes\":{\"label\":{\"value\":\"price_change_percentage_200d\"},\"renderers\":[{\"id\":\"2413\"}]},\"id\":\"2435\",\"type\":\"LegendItem\"},{\"attributes\":{},\"id\":\"2256\",\"type\":\"CategoricalScale\"},{\"attributes\":{\"axis\":{\"id\":\"2260\"},\"coordinates\":null,\"grid_line_color\":null,\"group\":null,\"ticker\":null},\"id\":\"2262\",\"type\":\"Grid\"},{\"attributes\":{\"line_color\":\"#17becf\",\"line_width\":2,\"tags\":[\"apply_ranges\"],\"x\":{\"field\":\"coin_id\"},\"y\":{\"field\":\"value\"}},\"id\":\"2410\",\"type\":\"Line\"},{\"attributes\":{\"data\":{\"Variable\":[\"price_change_percentage_14d\",\"price_change_percentage_14d\",\"price_change_percentage_14d\",\"price_change_percentage_14d\",\"price_change_percentage_14d\",\"price_change_percentage_14d\",\"price_change_percentage_14d\",\"price_change_percentage_14d\",\"price_change_percentage_14d\",\"price_change_percentage_14d\",\"price_change_percentage_14d\",\"price_change_percentage_14d\",\"price_change_percentage_14d\",\"price_change_percentage_14d\",\"price_change_percentage_14d\",\"price_change_percentage_14d\",\"price_change_percentage_14d\",\"price_change_percentage_14d\",\"price_change_percentage_14d\",\"price_change_percentage_14d\",\"price_change_percentage_14d\",\"price_change_percentage_14d\",\"price_change_percentage_14d\",\"price_change_percentage_14d\",\"price_change_percentage_14d\",\"price_change_percentage_14d\",\"price_change_percentage_14d\",\"price_change_percentage_14d\",\"price_change_percentage_14d\",\"price_change_percentage_14d\",\"price_change_percentage_14d\",\"price_change_percentage_14d\",\"price_change_percentage_14d\",\"price_change_percentage_14d\",\"price_change_percentage_14d\",\"price_change_percentage_14d\",\"price_change_percentage_14d\",\"price_change_percentage_14d\",\"price_change_percentage_14d\",\"price_change_percentage_14d\",\"price_change_percentage_14d\"],\"coin_id\":[\"bitcoin\",\"ethereum\",\"tether\",\"ripple\",\"bitcoin-cash\",\"binancecoin\",\"chainlink\",\"cardano\",\"litecoin\",\"bitcoin-cash-sv\",\"crypto-com-chain\",\"usd-coin\",\"eos\",\"monero\",\"tron\",\"tezos\",\"okb\",\"stellar\",\"cosmos\",\"cdai\",\"neo\",\"wrapped-bitcoin\",\"leo-token\",\"huobi-token\",\"nem\",\"binance-usd\",\"iota\",\"vechain\",\"zcash\",\"theta-token\",\"dash\",\"ethereum-classic\",\"ethlend\",\"maker\",\"havven\",\"omisego\",\"celsius-degree-token\",\"ontology\",\"ftx-token\",\"true-usd\",\"digibyte\"],\"value\":{\"__ndarray__\":\"neLdrt216D+QSHVMzuDhPyN7AWhkM5a/zNxfKD3uzz+7EItmdSv8PzFprcZam+k/EKfjhlig8T8WzJCaqsPkP+79iab+eOs/dGM8YOG/z79LsmyPUd/wv4trczwdspe/ajdyZDByvT+dw3/YDp8BQID7ktz51cI/uQ3GIUaD0D9FVmWxpyjkvyGfjNZ4ncO/6GDgXhWY5D/E3RbWeMFdvwDRuPgYZ/O/MY0qhKOj6D9Wgw2Nv+brv83eKEG9pqA/S5+Hg2cM0z8wu/50imCPvyvMC00pp96/vJKgLKO8AcAMBXHRV67lP9k2MV03JOq/MLls7Q6ApD91cedROXjGvxIzzzexT/O/AkzpMNDmyb8r81Gxzg/6vztf9YWK6vm/FVU2faVBB0DcP0enpcj0v+RC29fyQqi/ljCfoLDSgr+uLyxJrgbtvw==\",\"dtype\":\"float64\",\"order\":\"little\",\"shape\":[41]}},\"selected\":{\"id\":\"2330\"},\"selection_policy\":{\"id\":\"2348\"}},\"id\":\"2329\",\"type\":\"ColumnDataSource\"},{\"attributes\":{\"below\":[{\"id\":\"2260\"}],\"center\":[{\"id\":\"2262\"},{\"id\":\"2266\"}],\"height\":400,\"left\":[{\"id\":\"2263\"}],\"margin\":[5,5,5,5],\"min_border_bottom\":10,\"min_border_left\":10,\"min_border_right\":10,\"min_border_top\":10,\"output_backend\":\"webgl\",\"renderers\":[{\"id\":\"2292\"},{\"id\":\"2313\"},{\"id\":\"2335\"},{\"id\":\"2359\"},{\"id\":\"2385\"},{\"id\":\"2413\"},{\"id\":\"2443\"}],\"right\":[{\"id\":\"2304\"}],\"sizing_mode\":\"fixed\",\"title\":{\"id\":\"2252\"},\"toolbar\":{\"id\":\"2273\"},\"width\":800,\"x_range\":{\"id\":\"2242\"},\"x_scale\":{\"id\":\"2256\"},\"y_range\":{\"id\":\"2243\"},\"y_scale\":{\"id\":\"2258\"}},\"id\":\"2251\",\"subtype\":\"Figure\",\"type\":\"Plot\"},{\"attributes\":{\"line_alpha\":0.2,\"line_color\":\"#8b8b8b\",\"line_width\":2,\"tags\":[\"apply_ranges\"],\"x\":{\"field\":\"coin_id\"},\"y\":{\"field\":\"value\"}},\"id\":\"2384\",\"type\":\"Line\"},{\"attributes\":{\"line_alpha\":0.1,\"line_color\":\"#6d904f\",\"line_width\":2,\"tags\":[\"apply_ranges\"],\"x\":{\"field\":\"coin_id\"},\"y\":{\"field\":\"value\"}},\"id\":\"2357\",\"type\":\"Line\"},{\"attributes\":{\"factors\":[\"bitcoin\",\"ethereum\",\"tether\",\"ripple\",\"bitcoin-cash\",\"binancecoin\",\"chainlink\",\"cardano\",\"litecoin\",\"bitcoin-cash-sv\",\"crypto-com-chain\",\"usd-coin\",\"eos\",\"monero\",\"tron\",\"tezos\",\"okb\",\"stellar\",\"cosmos\",\"cdai\",\"neo\",\"wrapped-bitcoin\",\"leo-token\",\"huobi-token\",\"nem\",\"binance-usd\",\"iota\",\"vechain\",\"zcash\",\"theta-token\",\"dash\",\"ethereum-classic\",\"ethlend\",\"maker\",\"havven\",\"omisego\",\"celsius-degree-token\",\"ontology\",\"ftx-token\",\"true-usd\",\"digibyte\"],\"tags\":[[[\"coin_id\",\"coin_id\",null]]]},\"id\":\"2242\",\"type\":\"FactorRange\"},{\"attributes\":{\"line_color\":\"#30a2da\",\"line_width\":2,\"tags\":[\"apply_ranges\"],\"x\":{\"field\":\"coin_id\"},\"y\":{\"field\":\"value\"}},\"id\":\"2289\",\"type\":\"Line\"},{\"attributes\":{\"end\":7.19559218900398,\"reset_end\":7.19559218900398,\"reset_start\":-6.088008620465985,\"start\":-6.088008620465985,\"tags\":[[[\"value\",\"value\",null]]]},\"id\":\"2243\",\"type\":\"Range1d\"},{\"attributes\":{\"line_color\":\"#6d904f\",\"line_width\":2,\"tags\":[\"apply_ranges\"],\"x\":{\"field\":\"coin_id\"},\"y\":{\"field\":\"value\"}},\"id\":\"2378\",\"type\":\"Line\"},{\"attributes\":{\"coordinates\":null,\"data_source\":{\"id\":\"2329\"},\"glyph\":{\"id\":\"2332\"},\"group\":null,\"hover_glyph\":null,\"muted_glyph\":{\"id\":\"2334\"},\"nonselection_glyph\":{\"id\":\"2333\"},\"selection_glyph\":{\"id\":\"2352\"},\"view\":{\"id\":\"2336\"}},\"id\":\"2335\",\"type\":\"GlyphRenderer\"},{\"attributes\":{},\"id\":\"2301\",\"type\":\"UnionRenderers\"},{\"attributes\":{\"line_alpha\":0.1,\"line_color\":\"#fc4f30\",\"line_width\":2,\"tags\":[\"apply_ranges\"],\"x\":{\"field\":\"coin_id\"},\"y\":{\"field\":\"value\"}},\"id\":\"2311\",\"type\":\"Line\"},{\"attributes\":{\"line_alpha\":0.1,\"line_color\":\"#e5ae38\",\"line_width\":2,\"tags\":[\"apply_ranges\"],\"x\":{\"field\":\"coin_id\"},\"y\":{\"field\":\"value\"}},\"id\":\"2333\",\"type\":\"Line\"},{\"attributes\":{\"data\":{\"Variable\":[\"price_change_percentage_60d\",\"price_change_percentage_60d\",\"price_change_percentage_60d\",\"price_change_percentage_60d\",\"price_change_percentage_60d\",\"price_change_percentage_60d\",\"price_change_percentage_60d\",\"price_change_percentage_60d\",\"price_change_percentage_60d\",\"price_change_percentage_60d\",\"price_change_percentage_60d\",\"price_change_percentage_60d\",\"price_change_percentage_60d\",\"price_change_percentage_60d\",\"price_change_percentage_60d\",\"price_change_percentage_60d\",\"price_change_percentage_60d\",\"price_change_percentage_60d\",\"price_change_percentage_60d\",\"price_change_percentage_60d\",\"price_change_percentage_60d\",\"price_change_percentage_60d\",\"price_change_percentage_60d\",\"price_change_percentage_60d\",\"price_change_percentage_60d\",\"price_change_percentage_60d\",\"price_change_percentage_60d\",\"price_change_percentage_60d\",\"price_change_percentage_60d\",\"price_change_percentage_60d\",\"price_change_percentage_60d\",\"price_change_percentage_60d\",\"price_change_percentage_60d\",\"price_change_percentage_60d\",\"price_change_percentage_60d\",\"price_change_percentage_60d\",\"price_change_percentage_60d\",\"price_change_percentage_60d\",\"price_change_percentage_60d\",\"price_change_percentage_60d\",\"price_change_percentage_60d\"],\"coin_id\":[\"bitcoin\",\"ethereum\",\"tether\",\"ripple\",\"bitcoin-cash\",\"binancecoin\",\"chainlink\",\"cardano\",\"litecoin\",\"bitcoin-cash-sv\",\"crypto-com-chain\",\"usd-coin\",\"eos\",\"monero\",\"tron\",\"tezos\",\"okb\",\"stellar\",\"cosmos\",\"cdai\",\"neo\",\"wrapped-bitcoin\",\"leo-token\",\"huobi-token\",\"nem\",\"binance-usd\",\"iota\",\"vechain\",\"zcash\",\"theta-token\",\"dash\",\"ethereum-classic\",\"ethlend\",\"maker\",\"havven\",\"omisego\",\"celsius-degree-token\",\"ontology\",\"ftx-token\",\"true-usd\",\"digibyte\"],\"value\":{\"__ndarray__\":\"WuEcz1tHsb+8Zl+wvYDRv/NPFCKtZIA/9jUSVuvh178eFEZdEaPSv1yAYuu56ug/vjg8PpHS7b8ckREiVyDfvx9JsudbdNe/aiVFZwbz4L9W3moe8mjWv0Jh5NFu9Wc/a3DERB6S5L8WEDujiprsP/dSaBPov74/f5XicfOX7r8zKsbTOPStv98yRpRBAeW/6XC4HOFxw79xuUrYIXKQP57k6uY/n9I/W9C9odgds79esR3HSmLEv6r5swCKILK/Ac4mqrpe/D8Nyy8BdnRwP/zEpjTMi+e/NMoYYQbG7b+91x7v6vjbvyEgxlr6Zvs/pSahu3Tf4b8N3Qd5BKjhv8pEmATLcKg/17n0bM1W2b/lih8VIOfqv50TPq3IJPs/LbsfBGQUE0Cp11/ETk3mv7q1htJaaMA/63DrujBDfj8dk5wRcTPlvw==\",\"dtype\":\"float64\",\"order\":\"little\",\"shape\":[41]}},\"selected\":{\"id\":\"2380\"},\"selection_policy\":{\"id\":\"2402\"}},\"id\":\"2379\",\"type\":\"ColumnDataSource\"},{\"attributes\":{},\"id\":\"2348\",\"type\":\"UnionRenderers\"},{\"attributes\":{\"source\":{\"id\":\"2329\"}},\"id\":\"2336\",\"type\":\"CDSView\"},{\"attributes\":{\"line_color\":\"#9467bd\",\"line_width\":2,\"tags\":[\"apply_ranges\"],\"x\":{\"field\":\"coin_id\"},\"y\":{\"field\":\"value\"}},\"id\":\"2440\",\"type\":\"Line\"},{\"attributes\":{},\"id\":\"2330\",\"type\":\"Selection\"},{\"attributes\":{},\"id\":\"2308\",\"type\":\"Selection\"},{\"attributes\":{\"label\":{\"value\":\"price_change_percentage_14d\"},\"renderers\":[{\"id\":\"2335\"}]},\"id\":\"2351\",\"type\":\"LegendItem\"},{\"attributes\":{\"coordinates\":null,\"data_source\":{\"id\":\"2307\"},\"glyph\":{\"id\":\"2310\"},\"group\":null,\"hover_glyph\":null,\"muted_glyph\":{\"id\":\"2312\"},\"nonselection_glyph\":{\"id\":\"2311\"},\"selection_glyph\":{\"id\":\"2328\"},\"view\":{\"id\":\"2314\"}},\"id\":\"2313\",\"type\":\"GlyphRenderer\"},{\"attributes\":{},\"id\":\"2282\",\"type\":\"AllLabels\"},{\"attributes\":{\"coordinates\":null,\"data_source\":{\"id\":\"2379\"},\"glyph\":{\"id\":\"2382\"},\"group\":null,\"hover_glyph\":null,\"muted_glyph\":{\"id\":\"2384\"},\"nonselection_glyph\":{\"id\":\"2383\"},\"selection_glyph\":{\"id\":\"2406\"},\"view\":{\"id\":\"2386\"}},\"id\":\"2385\",\"type\":\"GlyphRenderer\"},{\"attributes\":{\"line_alpha\":0.1,\"line_color\":\"#8b8b8b\",\"line_width\":2,\"tags\":[\"apply_ranges\"],\"x\":{\"field\":\"coin_id\"},\"y\":{\"field\":\"value\"}},\"id\":\"2383\",\"type\":\"Line\"},{\"attributes\":{},\"id\":\"2258\",\"type\":\"LinearScale\"},{\"attributes\":{\"line_color\":\"#e5ae38\",\"line_width\":2,\"tags\":[\"apply_ranges\"],\"x\":{\"field\":\"coin_id\"},\"y\":{\"field\":\"value\"}},\"id\":\"2332\",\"type\":\"Line\"},{\"attributes\":{},\"id\":\"2402\",\"type\":\"UnionRenderers\"},{\"attributes\":{},\"id\":\"2261\",\"type\":\"CategoricalTicker\"},{\"attributes\":{\"axis_label\":\"coin_id\",\"coordinates\":null,\"formatter\":{\"id\":\"2281\"},\"group\":null,\"major_label_orientation\":1.5707963267948966,\"major_label_policy\":{\"id\":\"2282\"},\"ticker\":{\"id\":\"2261\"}},\"id\":\"2260\",\"type\":\"CategoricalAxis\"},{\"attributes\":{\"line_color\":\"#17becf\",\"line_width\":2,\"tags\":[\"apply_ranges\"],\"x\":{\"field\":\"coin_id\"},\"y\":{\"field\":\"value\"}},\"id\":\"2436\",\"type\":\"Line\"},{\"attributes\":{},\"id\":\"2268\",\"type\":\"PanTool\"},{\"attributes\":{\"axis_label\":\"\",\"coordinates\":null,\"formatter\":{\"id\":\"2284\"},\"group\":null,\"major_label_policy\":{\"id\":\"2285\"},\"ticker\":{\"id\":\"2264\"}},\"id\":\"2263\",\"type\":\"LinearAxis\"},{\"attributes\":{},\"id\":\"2380\",\"type\":\"Selection\"},{\"attributes\":{\"source\":{\"id\":\"2379\"}},\"id\":\"2386\",\"type\":\"CDSView\"},{\"attributes\":{\"axis\":{\"id\":\"2263\"},\"coordinates\":null,\"dimension\":1,\"grid_line_color\":null,\"group\":null,\"ticker\":null},\"id\":\"2266\",\"type\":\"Grid\"},{\"attributes\":{\"label\":{\"value\":\"price_change_percentage_60d\"},\"renderers\":[{\"id\":\"2385\"}]},\"id\":\"2405\",\"type\":\"LegendItem\"},{\"attributes\":{},\"id\":\"2264\",\"type\":\"BasicTicker\"},{\"attributes\":{},\"id\":\"2269\",\"type\":\"WheelZoomTool\"},{\"attributes\":{\"source\":{\"id\":\"2307\"}},\"id\":\"2314\",\"type\":\"CDSView\"},{\"attributes\":{},\"id\":\"2267\",\"type\":\"SaveTool\"},{\"attributes\":{\"children\":[{\"id\":\"2251\"}],\"height\":400,\"margin\":[0,0,0,0],\"name\":\"Row02666\",\"sizing_mode\":\"fixed\",\"tags\":[\"embedded\"],\"width\":800},\"id\":\"2241\",\"type\":\"Row\"},{\"attributes\":{\"line_color\":\"#8b8b8b\",\"line_width\":2,\"tags\":[\"apply_ranges\"],\"x\":{\"field\":\"coin_id\"},\"y\":{\"field\":\"value\"}},\"id\":\"2382\",\"type\":\"Line\"},{\"attributes\":{\"data\":{\"Variable\":[\"price_change_percentage_1y\",\"price_change_percentage_1y\",\"price_change_percentage_1y\",\"price_change_percentage_1y\",\"price_change_percentage_1y\",\"price_change_percentage_1y\",\"price_change_percentage_1y\",\"price_change_percentage_1y\",\"price_change_percentage_1y\",\"price_change_percentage_1y\",\"price_change_percentage_1y\",\"price_change_percentage_1y\",\"price_change_percentage_1y\",\"price_change_percentage_1y\",\"price_change_percentage_1y\",\"price_change_percentage_1y\",\"price_change_percentage_1y\",\"price_change_percentage_1y\",\"price_change_percentage_1y\",\"price_change_percentage_1y\",\"price_change_percentage_1y\",\"price_change_percentage_1y\",\"price_change_percentage_1y\",\"price_change_percentage_1y\",\"price_change_percentage_1y\",\"price_change_percentage_1y\",\"price_change_percentage_1y\",\"price_change_percentage_1y\",\"price_change_percentage_1y\",\"price_change_percentage_1y\",\"price_change_percentage_1y\",\"price_change_percentage_1y\",\"price_change_percentage_1y\",\"price_change_percentage_1y\",\"price_change_percentage_1y\",\"price_change_percentage_1y\",\"price_change_percentage_1y\",\"price_change_percentage_1y\",\"price_change_percentage_1y\",\"price_change_percentage_1y\",\"price_change_percentage_1y\"],\"coin_id\":[\"bitcoin\",\"ethereum\",\"tether\",\"ripple\",\"bitcoin-cash\",\"binancecoin\",\"chainlink\",\"cardano\",\"litecoin\",\"bitcoin-cash-sv\",\"crypto-com-chain\",\"usd-coin\",\"eos\",\"monero\",\"tron\",\"tezos\",\"okb\",\"stellar\",\"cosmos\",\"cdai\",\"neo\",\"wrapped-bitcoin\",\"leo-token\",\"huobi-token\",\"nem\",\"binance-usd\",\"iota\",\"vechain\",\"zcash\",\"theta-token\",\"dash\",\"ethereum-classic\",\"ethlend\",\"maker\",\"havven\",\"omisego\",\"celsius-degree-token\",\"ontology\",\"ftx-token\",\"true-usd\",\"digibyte\"],\"value\":{\"__ndarray__\":\"ZYOvlNEa0L9BRW61XoTJv9PW7YFHDdK/aZ0VXjrq0r8x6nx330zRv1dc65xA3sy/PEz1RyW5kr9wGnoOFOXDv0SpUt3htdK/wvMdEihfyr9ph9T6L7Ohv1q3W4wXENK/2H7eTRD30r+I6xnpXXXFvxGVrMMs9M2/Zr4Y/7SQxb8cTqSC/lzFv73x0EUAVtG/vwghwWCLy7+wYtN8XRHSv+1uLrlveMa/xpEp/Zga0L+EJSoOWvbQv46S/rboxtC/QuRFHpuFvr+z90YIsAvSv0ERXhSEQtK/NqBkPEUTvr8dXF3JgH/Lvx0crWPUXdI/EaFv4Dku0r8WsZZ513nRv4M8maHAWhhAItIwj+5/0b95+v3EhDHRP/HCFkPCaZa/OfTrj2iT9T9a0yK6wrXSvxSiHMC8nsK/QHpCziMI0r/kEUnTKPXAvw==\",\"dtype\":\"float64\",\"order\":\"little\",\"shape\":[41]}},\"selected\":{\"id\":\"2438\"},\"selection_policy\":{\"id\":\"2464\"}},\"id\":\"2437\",\"type\":\"ColumnDataSource\"},{\"attributes\":{\"overlay\":{\"id\":\"2272\"}},\"id\":\"2270\",\"type\":\"BoxZoomTool\"},{\"attributes\":{\"data\":{\"Variable\":[\"price_change_percentage_24h\",\"price_change_percentage_24h\",\"price_change_percentage_24h\",\"price_change_percentage_24h\",\"price_change_percentage_24h\",\"price_change_percentage_24h\",\"price_change_percentage_24h\",\"price_change_percentage_24h\",\"price_change_percentage_24h\",\"price_change_percentage_24h\",\"price_change_percentage_24h\",\"price_change_percentage_24h\",\"price_change_percentage_24h\",\"price_change_percentage_24h\",\"price_change_percentage_24h\",\"price_change_percentage_24h\",\"price_change_percentage_24h\",\"price_change_percentage_24h\",\"price_change_percentage_24h\",\"price_change_percentage_24h\",\"price_change_percentage_24h\",\"price_change_percentage_24h\",\"price_change_percentage_24h\",\"price_change_percentage_24h\",\"price_change_percentage_24h\",\"price_change_percentage_24h\",\"price_change_percentage_24h\",\"price_change_percentage_24h\",\"price_change_percentage_24h\",\"price_change_percentage_24h\",\"price_change_percentage_24h\",\"price_change_percentage_24h\",\"price_change_percentage_24h\",\"price_change_percentage_24h\",\"price_change_percentage_24h\",\"price_change_percentage_24h\",\"price_change_percentage_24h\",\"price_change_percentage_24h\",\"price_change_percentage_24h\",\"price_change_percentage_24h\",\"price_change_percentage_24h\"],\"coin_id\":[\"bitcoin\",\"ethereum\",\"tether\",\"ripple\",\"bitcoin-cash\",\"binancecoin\",\"chainlink\",\"cardano\",\"litecoin\",\"bitcoin-cash-sv\",\"crypto-com-chain\",\"usd-coin\",\"eos\",\"monero\",\"tron\",\"tezos\",\"okb\",\"stellar\",\"cosmos\",\"cdai\",\"neo\",\"wrapped-bitcoin\",\"leo-token\",\"huobi-token\",\"nem\",\"binance-usd\",\"iota\",\"vechain\",\"zcash\",\"theta-token\",\"dash\",\"ethereum-classic\",\"ethlend\",\"maker\",\"havven\",\"omisego\",\"celsius-degree-token\",\"ontology\",\"ftx-token\",\"true-usd\",\"digibyte\"],\"value\":{\"__ndarray__\":\"DdlqYN9F4D88azDosLzHP54iRdTpS5Y/5SURtxHfpL8xCyMArRbzP/kOjHA0iuw/2wxzqW9Xhz81BL2hZD+6P0vbN/ba1rM/XJkZGJ+73D//slcesDPVP/QxOp6elqE/IGSTd0ruwz9Fpj8/c9DQPxs0XoR2pcA/jUB40RVnw790fnl54Irtv9XPDahDw9G/qq8st/Fh0L/6U5ZBISbHP6Slu6TDVtI/BllpN5h+4D+pjODODoCqPwTDDo/fo6q/wYaukuXmy79sd0yHwmevP8HhEPEMldA/ypmU5gu54j+sKNPN2lDAv1cH9WGFy/m/N7JuVBEB07/EU4GAhEGyv91nhz6W7BPA/ACFOIMFwL/EnH9IcNv2v5azwSWNt/4/VLqXBn668D/IKcQzxy3av5WrmDyeito/Bv22eE/6sz9Y362Ir3rzPw==\",\"dtype\":\"float64\",\"order\":\"little\",\"shape\":[41]}},\"selected\":{\"id\":\"2287\"},\"selection_policy\":{\"id\":\"2301\"}},\"id\":\"2286\",\"type\":\"ColumnDataSource\"},{\"attributes\":{},\"id\":\"2271\",\"type\":\"ResetTool\"},{\"attributes\":{\"label\":{\"value\":\"price_change_percentage_1y\"},\"renderers\":[{\"id\":\"2443\"}]},\"id\":\"2467\",\"type\":\"LegendItem\"},{\"attributes\":{\"source\":{\"id\":\"2437\"}},\"id\":\"2444\",\"type\":\"CDSView\"},{\"attributes\":{\"label\":{\"value\":\"price_change_percentage_24h\"},\"renderers\":[{\"id\":\"2292\"}]},\"id\":\"2305\",\"type\":\"LegendItem\"},{\"attributes\":{\"coordinates\":null,\"data_source\":{\"id\":\"2437\"},\"glyph\":{\"id\":\"2440\"},\"group\":null,\"hover_glyph\":null,\"muted_glyph\":{\"id\":\"2442\"},\"nonselection_glyph\":{\"id\":\"2441\"},\"selection_glyph\":{\"id\":\"2468\"},\"view\":{\"id\":\"2444\"}},\"id\":\"2443\",\"type\":\"GlyphRenderer\"},{\"attributes\":{\"line_color\":\"#30a2da\",\"line_width\":2,\"tags\":[\"apply_ranges\"],\"x\":{\"field\":\"coin_id\"},\"y\":{\"field\":\"value\"}},\"id\":\"2306\",\"type\":\"Line\"},{\"attributes\":{\"bottom_units\":\"screen\",\"coordinates\":null,\"fill_alpha\":0.5,\"fill_color\":\"lightgrey\",\"group\":null,\"left_units\":\"screen\",\"level\":\"overlay\",\"line_alpha\":1.0,\"line_color\":\"black\",\"line_dash\":[4,4],\"line_width\":2,\"right_units\":\"screen\",\"syncable\":false,\"top_units\":\"screen\"},\"id\":\"2272\",\"type\":\"BoxAnnotation\"},{\"attributes\":{\"data\":{\"Variable\":[\"price_change_percentage_7d\",\"price_change_percentage_7d\",\"price_change_percentage_7d\",\"price_change_percentage_7d\",\"price_change_percentage_7d\",\"price_change_percentage_7d\",\"price_change_percentage_7d\",\"price_change_percentage_7d\",\"price_change_percentage_7d\",\"price_change_percentage_7d\",\"price_change_percentage_7d\",\"price_change_percentage_7d\",\"price_change_percentage_7d\",\"price_change_percentage_7d\",\"price_change_percentage_7d\",\"price_change_percentage_7d\",\"price_change_percentage_7d\",\"price_change_percentage_7d\",\"price_change_percentage_7d\",\"price_change_percentage_7d\",\"price_change_percentage_7d\",\"price_change_percentage_7d\",\"price_change_percentage_7d\",\"price_change_percentage_7d\",\"price_change_percentage_7d\",\"price_change_percentage_7d\",\"price_change_percentage_7d\",\"price_change_percentage_7d\",\"price_change_percentage_7d\",\"price_change_percentage_7d\",\"price_change_percentage_7d\",\"price_change_percentage_7d\",\"price_change_percentage_7d\",\"price_change_percentage_7d\",\"price_change_percentage_7d\",\"price_change_percentage_7d\",\"price_change_percentage_7d\",\"price_change_percentage_7d\",\"price_change_percentage_7d\",\"price_change_percentage_7d\",\"price_change_percentage_7d\"],\"coin_id\":[\"bitcoin\",\"ethereum\",\"tether\",\"ripple\",\"bitcoin-cash\",\"binancecoin\",\"chainlink\",\"cardano\",\"litecoin\",\"bitcoin-cash-sv\",\"crypto-com-chain\",\"usd-coin\",\"eos\",\"monero\",\"tron\",\"tezos\",\"okb\",\"stellar\",\"cosmos\",\"cdai\",\"neo\",\"wrapped-bitcoin\",\"leo-token\",\"huobi-token\",\"nem\",\"binance-usd\",\"iota\",\"vechain\",\"zcash\",\"theta-token\",\"dash\",\"ethereum-classic\",\"ethlend\",\"maker\",\"havven\",\"omisego\",\"celsius-degree-token\",\"ontology\",\"ftx-token\",\"true-usd\",\"digibyte\"],\"value\":{\"__ndarray__\":\"Ulk8q3mQ3z9xoPpI+ebtP22UiL5Pmua/Uro8ah/z6b8uAdnT9gEAQIFpDjGZPPU/BDbpSPiTBEAlUWkixiD4P++MI2gdZdU/E5Ttp1doyL946vtUZtb5v0UZLH/ydOe/i98GjguF7b8qMp3jf678PxlAcFxBAKW/YmZRGoqp5j8Vdj8VbP/2vyeelkVDp9i/Wq6ZksNx/T/uJm9WzI7mvzC74lUf4tS/QXzKstaO3T85jfoETLXtv6ZqpXs9Q92/w7TyyiEu678nI2rMB53mv00uo6Hk788/30Zrgr7Q778jzwwdV7vtPwBUV66U6fq/V2X+mWVCuD8JJ0pHuV/Nv5CFotqbIae/sLW7TleV4j/yyBNmVh+av0g8Y/5ntdc/N/03JFjJ47+Htdvf1gXtv14vihmzf9o/fX1xtwIC5r/TTlu6Y3Ljvw==\",\"dtype\":\"float64\",\"order\":\"little\",\"shape\":[41]}},\"selected\":{\"id\":\"2308\"},\"selection_policy\":{\"id\":\"2324\"}},\"id\":\"2307\",\"type\":\"ColumnDataSource\"}],\"root_ids\":[\"2241\"]},\"title\":\"Bokeh Application\",\"version\":\"2.4.3\"}};\n",
       "    var render_items = [{\"docid\":\"a8d0b47a-b29b-4b25-a31d-4da98b53c0e8\",\"root_ids\":[\"2241\"],\"roots\":{\"2241\":\"d961024d-7387-499f-8f80-588b8161be84\"}}];\n",
       "    root.Bokeh.embed.embed_items_notebook(docs_json, render_items);\n",
       "    for (const render_item of render_items) {\n",
       "      for (const root_id of render_item.root_ids) {\n",
       "\tconst id_el = document.getElementById(root_id)\n",
       "\tif (id_el.children.length && (id_el.children[0].className === 'bk-root')) {\n",
       "\t  const root_el = id_el.children[0]\n",
       "\t  root_el.id = root_el.id + '-rendered'\n",
       "\t}\n",
       "      }\n",
       "    }\n",
       "  }\n",
       "  if (root.Bokeh !== undefined && root.Bokeh.Panel !== undefined) {\n",
       "    embed_document(root);\n",
       "  } else {\n",
       "    var attempts = 0;\n",
       "    var timer = setInterval(function(root) {\n",
       "      if (root.Bokeh !== undefined && root.Bokeh.Panel !== undefined) {\n",
       "        clearInterval(timer);\n",
       "        embed_document(root);\n",
       "      } else if (document.readyState == \"complete\") {\n",
       "        attempts++;\n",
       "        if (attempts > 200) {\n",
       "          clearInterval(timer);\n",
       "          console.log(\"Bokeh: ERROR: Unable to run BokehJS code because BokehJS library is missing\");\n",
       "        }\n",
       "      }\n",
       "    }, 25, root)\n",
       "  }\n",
       "})(window);</script>"
      ],
      "text/plain": [
       ":NdOverlay   [Variable]\n",
       "   :Curve   [coin_id]   (value)"
      ]
     },
     "execution_count": 6,
     "metadata": {
      "application/vnd.holoviews_exec.v0+json": {
       "id": "2241"
      }
     },
     "output_type": "execute_result"
    }
   ],
   "source": [
    "# Use the `StandardScaler()` module from scikit-learn to normalize the data from the CSV file\n",
    "s_scaler = StandardScaler()\n",
    "\n",
    "s_scaled = s_scaler.fit_transform(df_market_data)\n",
    "\n",
    "# Create a DataFrame with the scaled data\n",
    "# Copy the crypto names from the original data\n",
    "# Set the coinid column as index\n",
    "\n",
    "s_scaled_df = pd.DataFrame(s_scaled, columns=df_market_data.columns, index=df_market_data.index)\n",
    "\n",
    "s_scaled_df.hvplot.line(\n",
    "    width=800,\n",
    "    height=400,\n",
    "    rot=90\n",
    ")"
   ]
  },
  {
   "cell_type": "code",
   "execution_count": 7,
   "metadata": {},
   "outputs": [
    {
     "data": {},
     "metadata": {},
     "output_type": "display_data"
    },
    {
     "data": {
      "application/vnd.holoviews_exec.v0+json": "",
      "text/html": [
       "<div id='2606'>\n",
       "  <div class=\"bk-root\" id=\"9c2ab577-8317-4301-b925-4c9d747c7a76\" data-root-id=\"2606\"></div>\n",
       "</div>\n",
       "<script type=\"application/javascript\">(function(root) {\n",
       "  function embed_document(root) {\n",
       "    var docs_json = {\"f36f64ba-d046-457d-aa20-99405c30ca36\":{\"defs\":[{\"extends\":null,\"module\":null,\"name\":\"ReactiveHTML1\",\"overrides\":[],\"properties\":[]},{\"extends\":null,\"module\":null,\"name\":\"FlexBox1\",\"overrides\":[],\"properties\":[{\"default\":\"flex-start\",\"kind\":null,\"name\":\"align_content\"},{\"default\":\"flex-start\",\"kind\":null,\"name\":\"align_items\"},{\"default\":\"row\",\"kind\":null,\"name\":\"flex_direction\"},{\"default\":\"wrap\",\"kind\":null,\"name\":\"flex_wrap\"},{\"default\":\"flex-start\",\"kind\":null,\"name\":\"justify_content\"}]},{\"extends\":null,\"module\":null,\"name\":\"GridStack1\",\"overrides\":[],\"properties\":[{\"default\":\"warn\",\"kind\":null,\"name\":\"mode\"},{\"default\":null,\"kind\":null,\"name\":\"ncols\"},{\"default\":null,\"kind\":null,\"name\":\"nrows\"},{\"default\":true,\"kind\":null,\"name\":\"allow_resize\"},{\"default\":true,\"kind\":null,\"name\":\"allow_drag\"},{\"default\":[],\"kind\":null,\"name\":\"state\"}]},{\"extends\":null,\"module\":null,\"name\":\"click1\",\"overrides\":[],\"properties\":[{\"default\":\"\",\"kind\":null,\"name\":\"terminal_output\"},{\"default\":\"\",\"kind\":null,\"name\":\"debug_name\"},{\"default\":0,\"kind\":null,\"name\":\"clears\"}]},{\"extends\":null,\"module\":null,\"name\":\"NotificationAreaBase1\",\"overrides\":[],\"properties\":[{\"default\":\"bottom-right\",\"kind\":null,\"name\":\"position\"},{\"default\":0,\"kind\":null,\"name\":\"_clear\"}]},{\"extends\":null,\"module\":null,\"name\":\"NotificationArea1\",\"overrides\":[],\"properties\":[{\"default\":[],\"kind\":null,\"name\":\"notifications\"},{\"default\":\"bottom-right\",\"kind\":null,\"name\":\"position\"},{\"default\":0,\"kind\":null,\"name\":\"_clear\"},{\"default\":[{\"background\":\"#ffc107\",\"icon\":{\"className\":\"fas fa-exclamation-triangle\",\"color\":\"white\",\"tagName\":\"i\"},\"type\":\"warning\"},{\"background\":\"#007bff\",\"icon\":{\"className\":\"fas fa-info-circle\",\"color\":\"white\",\"tagName\":\"i\"},\"type\":\"info\"}],\"kind\":null,\"name\":\"types\"}]},{\"extends\":null,\"module\":null,\"name\":\"Notification\",\"overrides\":[],\"properties\":[{\"default\":null,\"kind\":null,\"name\":\"background\"},{\"default\":3000,\"kind\":null,\"name\":\"duration\"},{\"default\":null,\"kind\":null,\"name\":\"icon\"},{\"default\":\"\",\"kind\":null,\"name\":\"message\"},{\"default\":null,\"kind\":null,\"name\":\"notification_type\"},{\"default\":false,\"kind\":null,\"name\":\"_destroyed\"}]},{\"extends\":null,\"module\":null,\"name\":\"TemplateActions1\",\"overrides\":[],\"properties\":[{\"default\":0,\"kind\":null,\"name\":\"open_modal\"},{\"default\":0,\"kind\":null,\"name\":\"close_modal\"}]},{\"extends\":null,\"module\":null,\"name\":\"MaterialTemplateActions1\",\"overrides\":[],\"properties\":[{\"default\":0,\"kind\":null,\"name\":\"open_modal\"},{\"default\":0,\"kind\":null,\"name\":\"close_modal\"}]}],\"roots\":{\"references\":[{\"attributes\":{\"fill_alpha\":0.5,\"fill_color\":\"#30a2da\",\"hatch_alpha\":0.1,\"hatch_color\":\"#30a2da\",\"line_alpha\":1,\"tags\":[\"apply_ranges\"],\"x\":{\"field\":\"x\"},\"y\":{\"field\":\"y\"}},\"id\":\"2748\",\"type\":\"Patch\"},{\"attributes\":{},\"id\":\"2901\",\"type\":\"Selection\"},{\"attributes\":{\"fill_alpha\":0.2,\"fill_color\":\"#30a2da\",\"hatch_alpha\":0.2,\"hatch_color\":\"#30a2da\",\"line_alpha\":0.2,\"tags\":[\"apply_ranges\"],\"x\":{\"field\":\"x\"},\"y\":{\"field\":\"y\"}},\"id\":\"2957\",\"type\":\"Patch\"},{\"attributes\":{\"data\":{\"x\":{\"__ndarray__\":\"pEXmlAPx/79UkbVE96L+vwPdhPTqVP2/syhUpN4G/L9jdCNU0rj6vxLA8gPGavm/wgvCs7kc+L9yV5Fjrc72vyKjYBOhgPW/0e4vw5Qy9L+BOv9yiOTyvzCGziJ8lvG/4NGd0m9I8L8gO9oEx/Ttv4DSeGSuWOu/3mkXxJW86L8+AbYjfSDmv56YVINkhOO//C/z4kvo4L+4jiOFZpjcv3i9YEQ1YNe/NOydAwQo0r/oNbaFpd/Jv9AmYQiG3r6/gMOrCoL7o7+Axmr7B8alP0CowADJw78/oPblAUdSyj+QzLXBVGHSP9ideAKGmdc/GG87Q7fR3D8sIP9B9AThP8yIYOIMoeM/bPHBgiU95j8MWiMjPtnoP6zChMNWdes/UCvmY28R7j/4ySMCxFbwP0h+VFLQpPE/mDKFotzy8j/o5rXy6ED0Pzib5kL1jvU/ik8XkwHd9j/aA0jjDSv4Pyq4eDMaefk/emypgybH+j/KINrTMhX8PxrVCiQ/Y/0/bIk7dEux/j+8PWzEV///PwZ5TgqypgBALtNmMrhNAUBWLX9avvQBQH6Hl4LEmwJApuGvqspCA0DOO8jS0OkDQPaV4PrWkARAHvD4It03BUBIShFL494FQHCkKXPphQZAmP5Bm+8sB0DAWFrD9dMHQOiycuv7eghAEA2LEwIiCUA4Z6M7CMkJQGDBu2MOcApAiBvUixQXC0CwdeyzGr4LQNjPBNwgZQxAACodBCcMDUAohDUsLbMNQFLeTVQzWg5AejhmfDkBD0Cikn6kP6gPQGV2S+aiJxBAeaNX+iV7EECN0GMOqc4QQKH9byIsIhFAtSp8Nq91EUDJV4hKMskRQN2ElF61HBJA8bGgcjhwEkAF36yGu8MSQBkMuZo+FxNALjnFrsFqE0BCZtHCRL4TQFaT3dbHERRAasDp6kplFEB+7fX+zbgUQJIaAhNRDBVApkcOJ9RfFUC6dBo7V7MVQM6hJk/aBhZA4s4yY11aFkD2+z534K0WQAopS4tjARdAH1ZXn+ZUF0Azg2OzaagXQEewb8fs+xdAW917229PGEBb3Xvbb08YQEewb8fs+xdAM4Njs2moF0AfVlef5lQXQAopS4tjARdA9vs+d+CtFkDizjJjXVoWQM6hJk/aBhZAunQaO1ezFUCmRw4n1F8VQJIaAhNRDBVAfu31/s24FEBqwOnqSmUUQFaT3dbHERRAQmbRwkS+E0AuOcWuwWoTQBkMuZo+FxNABd+shrvDEkDxsaByOHASQN2ElF61HBJAyVeISjLJEUC1Knw2r3URQKH9byIsIhFAjdBjDqnOEEB5o1f6JXsQQGV2S+aiJxBAopJ+pD+oD0B6OGZ8OQEPQFLeTVQzWg5AKIQ1LC2zDUAAKh0EJwwNQNjPBNwgZQxAsHXssxq+C0CIG9SLFBcLQGDBu2MOcApAOGejOwjJCUAQDYsTAiIJQOiycuv7eghAwFhaw/XTB0CY/kGb7ywHQHCkKXPphQZASEoRS+PeBUAe8Pgi3TcFQPaV4PrWkARAzjvI0tDpA0Cm4a+qykIDQH6Hl4LEmwJAVi1/Wr70AUAu02YyuE0BQAZ5TgqypgBAvD1sxFf//z9siTt0S7H+PxrVCiQ/Y/0/yiDa0zIV/D96bKmDJsf6Pyq4eDMaefk/2gNI4w0r+D+KTxeTAd32Pzib5kL1jvU/6Oa18uhA9D+YMoWi3PLyP0h+VFLQpPE/+MkjAsRW8D9QK+ZjbxHuP6zChMNWdes/DFojIz7Z6D9s8cGCJT3mP8yIYOIMoeM/LCD/QfQE4T8YbztDt9HcP9ideAKGmdc/kMy1wVRh0j+g9uUBR1LKP0CowADJw78/gMZq+wfGpT+Aw6sKgvujv9AmYQiG3r6/6DW2haXfyb807J0DBCjSv3i9YEQ1YNe/uI4jhWaY3L/8L/PiS+jgv56YVINkhOO/PgG2I30g5r/eaRfElbzov4DSeGSuWOu/IDvaBMf07b/g0Z3Sb0jwvzCGziJ8lvG/gTr/cojk8r/R7i/DlDL0vyKjYBOhgPW/cleRY63O9r/CC8KzuRz4vxLA8gPGavm/Y3QjVNK4+r+zKFSk3gb8vwPdhPTqVP2/VJG1RPei/r+kReaUA/H/vw==\",\"dtype\":\"float64\",\"order\":\"little\",\"shape\":[200]},\"y\":{\"__ndarray__\":\"AAAAAAAAAAAAAAAAAAAAAAAAAAAAAAAAAAAAAAAAAAAAAAAAAAAAAAAAAAAAAAAAAAAAAAAAAAAAAAAAAAAAAAAAAAAAAAAAAAAAAAAAAAAAAAAAAAAAAAAAAAAAAAAAAAAAAAAAAAAAAAAAAAAAAAAAAAAAAAAAAAAAAAAAAAAAAAAAAAAAAAAAAAAAAAAAAAAAAAAAAAAAAAAAAAAAAAAAAAAAAAAAAAAAAAAAAAAAAAAAAAAAAAAAAAAAAAAAAAAAAAAAAAAAAAAAAAAAAAAAAAAAAAAAAAAAAAAAAAAAAAAAAAAAAAAAAAAAAAAAAAAAAAAAAAAAAAAAAAAAAAAAAAAAAAAAAAAAAAAAAAAAAAAAAAAAAAAAAAAAAAAAAAAAAAAAAAAAAAAAAAAAAAAAAAAAAAAAAAAAAAAAAAAAAAAAAAAAAAAAAAAAAAAAAAAAAAAAAAAAAAAAAAAAAAAAAAAAAAAAAAAAAAAAAAAAAAAAAAAAAAAAAAAAAAAAAAAAAAAAAAAAAAAAAAAAAAAAAAAAAAAAAAAAAAAAAAAAAAAAAAAAAAAAAAAAAAAAAAAAAAAAAAAAAAAAAAAAAAAAAAAAAAAAAAAAAAAAAAAAAAAAAAAAAAAAAAAAAAAAAAAAAAAAAAAAAAAAAAAAAAAAAAAAAAAAAAAAAAAAAAAAAAAAAAAAAAAAAAAAAAAAAAAAAAAAAAAAAAAAAAAAAAAAAAAAAAAAAAAAAAAAAAAAAAAAAAAAAAAAAAAAAAAAAAAAAAAAAAAAAAAAAAAAAAAAAAAAAAAAAAAAAAAAAAAAAAAAAAAAAAAAAAAAAAAAAAAAAAAAAAAAAAAAAAAAAAAAAAAAAAAAAAAAAAAAAAAAAAAAAAAAAAAAAAAAAAAAAAAAAAAAAAAAAAAAAAAAAAAAAAAAAAAAAAAAAAAAAAAAAAAAAAAAAAAAAAAAAAAAAAAAAAAAAAAAAAAAAAAAAAAAAAAAAAAAAAAAAAAAAAAAAAAAAAAAAAAAAAAAAAAAAAAAAAAAAAAAAAAAAAAAAAAAAAAAAAAAAAAAAAAAAAChOtI9J2ktP52neAHdFjg/kfwSblksQz+GKd3XlahNP4L8Uhx3SlY/65lUt7dHYD+XEVMZzRtnP6vQ+0Di328/l65sj6lcdT+jou/KE9N7Pxr5nlELnIE/5BWpfByphT+lOqMZhuSJP8gN0++vFI4/I2ansqb7kD8PkVdBJaSSP2nzHvAQ5ZM/klP7zy2nlD8MehJRZN6UP+5/JRMWjJQ/7qtyxra/kz/s/K01gpWSP+cEmQJ7M5E/vgAybUaKjz9Ib/RGFe2MP7noVni03oo/66mMpOaciT9lm1DLME2JP1Ct58fc+Ik/m9eNbwGMiz+7tK/GpNeNP5Lbg7xnS5A/H/qT/BK7kT87NmZLqA6TPx4F+1+YHJQ/zbHDrdTClD+nDKzB2OqUP1VxnDpKjJQ/E+A6a9Stkz9UM0CCLWSSP6Vw7duAz5A/iUt8L3Qvjj9vz/lXn9CKPwPT30ZX2Ic/pJZkaWSUhT9XewFraUWEP6+pWobYG4Q/j/kFBeA2hT++QX1VC6WHPzzjVYRMZos/5ODYXJQ3kD8VFRUyY1aTP5FJo7rIBJc/szq3Qgo5mz9sbDz+yuyfPwSu2F6Fj6I/XCCy4N9qpT/vAILrk4+oPy7z9ciRCaw/ZoilqIjqrz+eVQdRpCWyP31vGDXTprQ/MaMw01KPtz/kCXwoKfy6P85zq6csEb8/0FD9vg78wT8T0Idh/+7EP6d6UgMpd8g/OthoDBmmzD8SDZ5XccLQP3zRTv3Bh9M/SFM6aVmY1j/Wp2XGeN/ZP1a+7R3kPd0/lKWga3NF4D8Cg0WGcsvhP4G6hyiuF+M/Ui5T1PYR5D+UFwEg5aXkP2R6imtaxeQ/mIVrlGNq5D9pnlDwKJjjP6p7DPe8WuI/MzVpVczF4D9Aq00syOTdP0/uUhJU+Nk/bUO42e/81T90ViiPjiPSP8TOHgURJ80/lCceHuDQxj8rUvjbQ2PBP1kUcRtMzbk/ehg4ba2isj/HBPWkTTOqP0oF4veg7KE/WluY01/dlz/eG4bYWuqOP4oHLzhYe4M/Cs07wsvidz+4Jygdu3xsPw==\",\"dtype\":\"float64\",\"order\":\"little\",\"shape\":[200]}},\"selected\":{\"id\":\"2901\"},\"selection_policy\":{\"id\":\"3040\"}},\"id\":\"2900\",\"type\":\"ColumnDataSource\"},{\"attributes\":{},\"id\":\"2785\",\"type\":\"WheelZoomTool\"},{\"attributes\":{\"axis\":{\"id\":\"2879\"},\"coordinates\":null,\"grid_line_color\":null,\"group\":null,\"ticker\":null},\"id\":\"2882\",\"type\":\"Grid\"},{\"attributes\":{\"source\":{\"id\":\"2952\"}},\"id\":\"2959\",\"type\":\"CDSView\"},{\"attributes\":{\"coordinates\":null,\"data_source\":{\"id\":\"2952\"},\"glyph\":{\"id\":\"2955\"},\"group\":null,\"hover_glyph\":null,\"muted_glyph\":{\"id\":\"2957\"},\"nonselection_glyph\":{\"id\":\"2956\"},\"selection_glyph\":{\"id\":\"2960\"},\"view\":{\"id\":\"2959\"}},\"id\":\"2958\",\"type\":\"GlyphRenderer\"},{\"attributes\":{\"fill_alpha\":0.5,\"fill_color\":\"#30a2da\",\"hatch_color\":\"#30a2da\",\"tags\":[\"apply_ranges\"],\"x\":{\"field\":\"x\"},\"y\":{\"field\":\"y\"}},\"id\":\"2695\",\"type\":\"Patch\"},{\"attributes\":{},\"id\":\"2693\",\"type\":\"Selection\"},{\"attributes\":{\"overlay\":{\"id\":\"2788\"}},\"id\":\"2786\",\"type\":\"BoxZoomTool\"},{\"attributes\":{\"source\":{\"id\":\"2692\"}},\"id\":\"2699\",\"type\":\"CDSView\"},{\"attributes\":{},\"id\":\"2787\",\"type\":\"ResetTool\"},{\"attributes\":{},\"id\":\"2962\",\"type\":\"BasicTickFormatter\"},{\"attributes\":{},\"id\":\"2754\",\"type\":\"BasicTickFormatter\"},{\"attributes\":{\"bottom_units\":\"screen\",\"coordinates\":null,\"fill_alpha\":0.5,\"fill_color\":\"lightgrey\",\"group\":null,\"left_units\":\"screen\",\"level\":\"overlay\",\"line_alpha\":1.0,\"line_color\":\"black\",\"line_dash\":[4,4],\"line_width\":2,\"right_units\":\"screen\",\"syncable\":false,\"top_units\":\"screen\"},\"id\":\"2788\",\"type\":\"BoxAnnotation\"},{\"attributes\":{\"end\":0.46499731676812595,\"reset_end\":0.46499731676812595,\"reset_start\":0.0,\"tags\":[[[\"price_change_percentage_14d_density\",\"Density\",null]]]},\"id\":\"2712\",\"type\":\"Range1d\"},{\"attributes\":{},\"id\":\"2877\",\"type\":\"LinearScale\"},{\"attributes\":{},\"id\":\"2985\",\"type\":\"UnionRenderers\"},{\"attributes\":{\"coordinates\":null,\"group\":null,\"text\":\"price_change_percentage_200d\",\"text_color\":\"black\",\"text_font_size\":\"12pt\"},\"id\":\"2871\",\"type\":\"Title\"},{\"attributes\":{},\"id\":\"2807\",\"type\":\"AllLabels\"},{\"attributes\":{\"fill_alpha\":0.2,\"fill_color\":\"#30a2da\",\"hatch_alpha\":0.2,\"hatch_color\":\"#30a2da\",\"line_alpha\":0.2,\"tags\":[\"apply_ranges\"],\"x\":{\"field\":\"x\"},\"y\":{\"field\":\"y\"}},\"id\":\"2697\",\"type\":\"Patch\"},{\"attributes\":{\"fill_alpha\":0.5,\"fill_color\":\"#30a2da\",\"hatch_alpha\":0.1,\"hatch_color\":\"#30a2da\",\"line_alpha\":1,\"tags\":[\"apply_ranges\"],\"x\":{\"field\":\"x\"},\"y\":{\"field\":\"y\"}},\"id\":\"2800\",\"type\":\"Patch\"},{\"attributes\":{\"source\":{\"id\":\"2900\"}},\"id\":\"2907\",\"type\":\"CDSView\"},{\"attributes\":{\"callback\":null,\"renderers\":[{\"id\":\"2646\"}],\"tags\":[\"hv_created\"],\"tooltips\":[[\"price_change_percentage_24h\",\"@{price_change_percentage_24h}\"],[\"Density\",\"@{price_change_percentage_24h_density}\"]]},\"id\":\"2609\",\"type\":\"HoverTool\"},{\"attributes\":{\"end\":6.0775751394606585,\"reset_end\":6.0775751394606585,\"reset_start\":-1.9963413063418125,\"start\":-1.9963413063418125,\"tags\":[[[\"price_change_percentage_200d\",\"price_change_percentage_200d\",null]]]},\"id\":\"2867\",\"type\":\"Range1d\"},{\"attributes\":{\"fill_alpha\":0.5,\"fill_color\":\"#30a2da\",\"hatch_color\":\"#30a2da\",\"tags\":[\"apply_ranges\"],\"x\":{\"field\":\"x\"},\"y\":{\"field\":\"y\"}},\"id\":\"2700\",\"type\":\"Patch\"},{\"attributes\":{},\"id\":\"2797\",\"type\":\"Selection\"},{\"attributes\":{\"fill_alpha\":0.5,\"fill_color\":\"#30a2da\",\"hatch_color\":\"#30a2da\",\"tags\":[\"apply_ranges\"],\"x\":{\"field\":\"x\"},\"y\":{\"field\":\"y\"}},\"id\":\"2799\",\"type\":\"Patch\"},{\"attributes\":{\"below\":[{\"id\":\"2879\"}],\"center\":[{\"id\":\"2882\"},{\"id\":\"2886\"}],\"height\":300,\"left\":[{\"id\":\"2883\"}],\"margin\":null,\"min_border_bottom\":10,\"min_border_left\":10,\"min_border_right\":10,\"min_border_top\":10,\"output_backend\":\"webgl\",\"renderers\":[{\"id\":\"2906\"}],\"sizing_mode\":\"fixed\",\"title\":{\"id\":\"2871\"},\"toolbar\":{\"id\":\"2893\"},\"toolbar_location\":null,\"width\":700,\"x_range\":{\"id\":\"2867\"},\"x_scale\":{\"id\":\"2875\"},\"y_range\":{\"id\":\"2868\"},\"y_scale\":{\"id\":\"2877\"}},\"id\":\"2870\",\"subtype\":\"Figure\",\"type\":\"Plot\"},{\"attributes\":{\"source\":{\"id\":\"2796\"}},\"id\":\"2803\",\"type\":\"CDSView\"},{\"attributes\":{},\"id\":\"3029\",\"type\":\"UnionRenderers\"},{\"attributes\":{\"callback\":null,\"renderers\":[{\"id\":\"2906\"}],\"tags\":[\"hv_created\"],\"tooltips\":[[\"price_change_percentage_200d\",\"@{price_change_percentage_200d}\"],[\"Density\",\"@{price_change_percentage_200d_density}\"]]},\"id\":\"2869\",\"type\":\"HoverTool\"},{\"attributes\":{},\"id\":\"2721\",\"type\":\"LinearScale\"},{\"attributes\":{},\"id\":\"2702\",\"type\":\"BasicTickFormatter\"},{\"attributes\":{},\"id\":\"2889\",\"type\":\"WheelZoomTool\"},{\"attributes\":{\"children\":[{\"id\":\"3057\"},{\"id\":\"3055\"}]},\"id\":\"3058\",\"type\":\"Column\"},{\"attributes\":{\"active_drag\":{\"id\":\"2836\"},\"active_scroll\":{\"id\":\"2837\"},\"tools\":[{\"id\":\"2817\"},{\"id\":\"2835\"},{\"id\":\"2836\"},{\"id\":\"2837\"},{\"id\":\"2838\"},{\"id\":\"2839\"}]},\"id\":\"2841\",\"type\":\"Toolbar\"},{\"attributes\":{\"fill_alpha\":0.2,\"fill_color\":\"#30a2da\",\"hatch_alpha\":0.2,\"hatch_color\":\"#30a2da\",\"line_alpha\":0.2,\"tags\":[\"apply_ranges\"],\"x\":{\"field\":\"x\"},\"y\":{\"field\":\"y\"}},\"id\":\"2801\",\"type\":\"Patch\"},{\"attributes\":{},\"id\":\"2705\",\"type\":\"BasicTickFormatter\"},{\"attributes\":{\"fill_alpha\":0.5,\"fill_color\":\"#30a2da\",\"hatch_color\":\"#30a2da\",\"tags\":[\"apply_ranges\"],\"x\":{\"field\":\"x\"},\"y\":{\"field\":\"y\"}},\"id\":\"2804\",\"type\":\"Patch\"},{\"attributes\":{\"coordinates\":null,\"data_source\":{\"id\":\"2848\"},\"glyph\":{\"id\":\"2851\"},\"group\":null,\"hover_glyph\":null,\"muted_glyph\":{\"id\":\"2853\"},\"nonselection_glyph\":{\"id\":\"2852\"},\"selection_glyph\":{\"id\":\"2856\"},\"view\":{\"id\":\"2855\"}},\"id\":\"2854\",\"type\":\"GlyphRenderer\"},{\"attributes\":{},\"id\":\"2615\",\"type\":\"LinearScale\"},{\"attributes\":{},\"id\":\"2706\",\"type\":\"AllLabels\"},{\"attributes\":{\"overlay\":{\"id\":\"2892\"}},\"id\":\"2890\",\"type\":\"BoxZoomTool\"},{\"attributes\":{\"coordinates\":null,\"group\":null,\"text\":\"price_change_percentage_60d\",\"text_color\":\"black\",\"text_font_size\":\"12pt\"},\"id\":\"2819\",\"type\":\"Title\"},{\"attributes\":{},\"id\":\"2731\",\"type\":\"SaveTool\"},{\"attributes\":{},\"id\":\"2891\",\"type\":\"ResetTool\"},{\"attributes\":{\"coordinates\":null,\"group\":null,\"text\":\"price_change_percentage_24h\",\"text_color\":\"black\",\"text_font_size\":\"12pt\"},\"id\":\"2611\",\"type\":\"Title\"},{\"attributes\":{},\"id\":\"3007\",\"type\":\"UnionRenderers\"},{\"attributes\":{},\"id\":\"2806\",\"type\":\"BasicTickFormatter\"},{\"attributes\":{\"coordinates\":null,\"group\":null,\"text\":\"price_change_percentage_14d\",\"text_color\":\"black\",\"text_font_size\":\"12pt\"},\"id\":\"2715\",\"type\":\"Title\"},{\"attributes\":{\"bottom_units\":\"screen\",\"coordinates\":null,\"fill_alpha\":0.5,\"fill_color\":\"lightgrey\",\"group\":null,\"left_units\":\"screen\",\"level\":\"overlay\",\"line_alpha\":1.0,\"line_color\":\"black\",\"line_dash\":[4,4],\"line_width\":2,\"right_units\":\"screen\",\"syncable\":false,\"top_units\":\"screen\"},\"id\":\"2892\",\"type\":\"BoxAnnotation\"},{\"attributes\":{},\"id\":\"2617\",\"type\":\"LinearScale\"},{\"attributes\":{},\"id\":\"2823\",\"type\":\"LinearScale\"},{\"attributes\":{\"fill_alpha\":0.5,\"fill_color\":\"#30a2da\",\"hatch_color\":\"#30a2da\",\"tags\":[\"apply_ranges\"],\"x\":{\"field\":\"x\"},\"y\":{\"field\":\"y\"}},\"id\":\"2752\",\"type\":\"Patch\"},{\"attributes\":{\"callback\":null,\"renderers\":[{\"id\":\"2750\"}],\"tags\":[\"hv_created\"],\"tooltips\":[[\"price_change_percentage_14d\",\"@{price_change_percentage_14d}\"],[\"Density\",\"@{price_change_percentage_14d_density}\"]]},\"id\":\"2713\",\"type\":\"HoverTool\"},{\"attributes\":{\"toolbar\":{\"id\":\"3056\"},\"toolbar_location\":\"above\"},\"id\":\"3057\",\"type\":\"ToolbarBox\"},{\"attributes\":{},\"id\":\"2809\",\"type\":\"BasicTickFormatter\"},{\"attributes\":{\"fill_alpha\":0.5,\"fill_color\":\"#30a2da\",\"hatch_alpha\":0.1,\"hatch_color\":\"#30a2da\",\"line_alpha\":1,\"tags\":[\"apply_ranges\"],\"x\":{\"field\":\"x\"},\"y\":{\"field\":\"y\"}},\"id\":\"2904\",\"type\":\"Patch\"},{\"attributes\":{\"axis\":{\"id\":\"2619\"},\"coordinates\":null,\"grid_line_color\":null,\"group\":null,\"ticker\":null},\"id\":\"2622\",\"type\":\"Grid\"},{\"attributes\":{\"overlay\":{\"id\":\"2736\"}},\"id\":\"2734\",\"type\":\"BoxZoomTool\"},{\"attributes\":{\"fill_alpha\":0.5,\"fill_color\":\"#30a2da\",\"hatch_alpha\":0.1,\"hatch_color\":\"#30a2da\",\"line_alpha\":1,\"tags\":[\"apply_ranges\"],\"x\":{\"field\":\"x\"},\"y\":{\"field\":\"y\"}},\"id\":\"2696\",\"type\":\"Patch\"},{\"attributes\":{},\"id\":\"2810\",\"type\":\"AllLabels\"},{\"attributes\":{\"below\":[{\"id\":\"2619\"}],\"center\":[{\"id\":\"2622\"},{\"id\":\"2626\"}],\"height\":300,\"left\":[{\"id\":\"2623\"}],\"margin\":null,\"min_border_bottom\":10,\"min_border_left\":10,\"min_border_right\":10,\"min_border_top\":10,\"output_backend\":\"webgl\",\"renderers\":[{\"id\":\"2646\"}],\"sizing_mode\":\"fixed\",\"title\":{\"id\":\"2611\"},\"toolbar\":{\"id\":\"2633\"},\"toolbar_location\":null,\"width\":700,\"x_range\":{\"id\":\"2607\"},\"x_scale\":{\"id\":\"2615\"},\"y_range\":{\"id\":\"2608\"},\"y_scale\":{\"id\":\"2617\"}},\"id\":\"2610\",\"subtype\":\"Figure\",\"type\":\"Plot\"},{\"attributes\":{},\"id\":\"2719\",\"type\":\"LinearScale\"},{\"attributes\":{\"fill_alpha\":0.2,\"fill_color\":\"#30a2da\",\"hatch_alpha\":0.2,\"hatch_color\":\"#30a2da\",\"line_alpha\":0.2,\"tags\":[\"apply_ranges\"],\"x\":{\"field\":\"x\"},\"y\":{\"field\":\"y\"}},\"id\":\"2905\",\"type\":\"Patch\"},{\"attributes\":{},\"id\":\"2628\",\"type\":\"PanTool\"},{\"attributes\":{},\"id\":\"2735\",\"type\":\"ResetTool\"},{\"attributes\":{\"fill_alpha\":0.5,\"fill_color\":\"#30a2da\",\"hatch_color\":\"#30a2da\",\"tags\":[\"apply_ranges\"],\"x\":{\"field\":\"x\"},\"y\":{\"field\":\"y\"}},\"id\":\"2908\",\"type\":\"Patch\"},{\"attributes\":{\"axis_label\":\"price_change_percentage_24h\",\"coordinates\":null,\"formatter\":{\"id\":\"2650\"},\"group\":null,\"major_label_policy\":{\"id\":\"2651\"},\"ticker\":{\"id\":\"2620\"}},\"id\":\"2619\",\"type\":\"LinearAxis\"},{\"attributes\":{},\"id\":\"2620\",\"type\":\"BasicTicker\"},{\"attributes\":{\"axis_label\":\"Density\",\"coordinates\":null,\"formatter\":{\"id\":\"2653\"},\"group\":null,\"major_label_policy\":{\"id\":\"2654\"},\"ticker\":{\"id\":\"2624\"}},\"id\":\"2623\",\"type\":\"LinearAxis\"},{\"attributes\":{},\"id\":\"2965\",\"type\":\"BasicTickFormatter\"},{\"attributes\":{\"axis\":{\"id\":\"2623\"},\"coordinates\":null,\"dimension\":1,\"grid_line_color\":null,\"group\":null,\"ticker\":null},\"id\":\"2626\",\"type\":\"Grid\"},{\"attributes\":{\"toolbars\":[{\"id\":\"2633\"},{\"id\":\"2685\"},{\"id\":\"2737\"},{\"id\":\"2789\"},{\"id\":\"2841\"},{\"id\":\"2893\"},{\"id\":\"2945\"}],\"tools\":[{\"id\":\"2609\"},{\"id\":\"2627\"},{\"id\":\"2628\"},{\"id\":\"2629\"},{\"id\":\"2630\"},{\"id\":\"2631\"},{\"id\":\"2661\"},{\"id\":\"2679\"},{\"id\":\"2680\"},{\"id\":\"2681\"},{\"id\":\"2682\"},{\"id\":\"2683\"},{\"id\":\"2713\"},{\"id\":\"2731\"},{\"id\":\"2732\"},{\"id\":\"2733\"},{\"id\":\"2734\"},{\"id\":\"2735\"},{\"id\":\"2765\"},{\"id\":\"2783\"},{\"id\":\"2784\"},{\"id\":\"2785\"},{\"id\":\"2786\"},{\"id\":\"2787\"},{\"id\":\"2817\"},{\"id\":\"2835\"},{\"id\":\"2836\"},{\"id\":\"2837\"},{\"id\":\"2838\"},{\"id\":\"2839\"},{\"id\":\"2869\"},{\"id\":\"2887\"},{\"id\":\"2888\"},{\"id\":\"2889\"},{\"id\":\"2890\"},{\"id\":\"2891\"},{\"id\":\"2921\"},{\"id\":\"2939\"},{\"id\":\"2940\"},{\"id\":\"2941\"},{\"id\":\"2942\"},{\"id\":\"2943\"}]},\"id\":\"3056\",\"type\":\"ProxyToolbar\"},{\"attributes\":{\"end\":0.8351557224155735,\"reset_end\":0.8351557224155735,\"reset_start\":0.0,\"tags\":[[[\"price_change_percentage_1y_density\",\"Density\",null]]]},\"id\":\"2920\",\"type\":\"Range1d\"},{\"attributes\":{},\"id\":\"2624\",\"type\":\"BasicTicker\"},{\"attributes\":{},\"id\":\"2629\",\"type\":\"WheelZoomTool\"},{\"attributes\":{},\"id\":\"2771\",\"type\":\"LinearScale\"},{\"attributes\":{},\"id\":\"2963\",\"type\":\"AllLabels\"},{\"attributes\":{\"children\":[{\"id\":\"3058\"}],\"margin\":[0,0,0,0],\"name\":\"Row03480\",\"tags\":[\"embedded\"]},\"id\":\"2606\",\"type\":\"Row\"},{\"attributes\":{},\"id\":\"2910\",\"type\":\"BasicTickFormatter\"},{\"attributes\":{},\"id\":\"2733\",\"type\":\"WheelZoomTool\"},{\"attributes\":{},\"id\":\"2627\",\"type\":\"SaveTool\"},{\"attributes\":{},\"id\":\"2728\",\"type\":\"BasicTicker\"},{\"attributes\":{},\"id\":\"2966\",\"type\":\"AllLabels\"},{\"attributes\":{\"axis\":{\"id\":\"2727\"},\"coordinates\":null,\"dimension\":1,\"grid_line_color\":null,\"group\":null,\"ticker\":null},\"id\":\"2730\",\"type\":\"Grid\"},{\"attributes\":{},\"id\":\"2927\",\"type\":\"LinearScale\"},{\"attributes\":{\"overlay\":{\"id\":\"2632\"}},\"id\":\"2630\",\"type\":\"BoxZoomTool\"},{\"attributes\":{\"data\":{\"x\":{\"__ndarray__\":\"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\",\"dtype\":\"float64\",\"order\":\"little\",\"shape\":[200]},\"y\":{\"__ndarray__\":\"AAAAAAAAAAAAAAAAAAAAAAAAAAAAAAAAAAAAAAAAAAAAAAAAAAAAAAAAAAAAAAAAAAAAAAAAAAAAAAAAAAAAAAAAAAAAAAAAAAAAAAAAAAAAAAAAAAAAAAAAAAAAAAAAAAAAAAAAAAAAAAAAAAAAAAAAAAAAAAAAAAAAAAAAAAAAAAAAAAAAAAAAAAAAAAAAAAAAAAAAAAAAAAAAAAAAAAAAAAAAAAAAAAAAAAAAAAAAAAAAAAAAAAAAAAAAAAAAAAAAAAAAAAAAAAAAAAAAAAAAAAAAAAAAAAAAAAAAAAAAAAAAAAAAAAAAAAAAAAAAAAAAAAAAAAAAAAAAAAAAAAAAAAAAAAAAAAAAAAAAAAAAAAAAAAAAAAAAAAAAAAAAAAAAAAAAAAAAAAAAAAAAAAAAAAAAAAAAAAAAAAAAAAAAAAAAAAAAAAAAAAAAAAAAAAAAAAAAAAAAAAAAAAAAAAAAAAAAAAAAAAAAAAAAAAAAAAAAAAAAAAAAAAAAAAAAAAAAAAAAAAAAAAAAAAAAAAAAAAAAAAAAAAAAAAAAAAAAAAAAAAAAAAAAAAAAAAAAAAAAAAAAAAAAAAAAAAAAAAAAAAAAAAAAAAAAAAAAAAAAAAAAAAAAAAAAAAAAAAAAAAAAAAAAAAAAAAAAAAAAAAAAAAAAAAAAAAAAAAAAAAAAAAAAAAAAAAAAAAAAAAAAAAAAAAAAAAAAAAAAAAAAAAAAAAAAAAAAAAAAAAAAAAAAAAAAAAAAAAAAAAAAAAAAAAAAAAAAAAAAAAAAAAAAAAAAAAAAAAAAAAAAAAAAAAAAAAAAAAAAAAAAAAAAAAAAAAAAAAAAAAAAAAAAAAAAAAAAAAAAAAAAAAAAAAAAAAAAAAAAAAAAAAAAAAAAAAAAAAAAAAAAAAAAAAAAAAAAAAAAAAAAAAAAAAAAAAAAAAAAAAAAAAAAAAAAAAAAAAAAAAAAAAAAAAAAAAAAAAAAAAAAAAAAAAAAAAAAAAAAAAAAAAAAAAAAAAAAAAAAAAAAAAAAAAAAAAAAAAAAAAAAAAAAAAAAAAAAAAAAAAAAAAClw1CLrKstP+8moWu0+jo/SsqAtCuMRz8re3XlbLxTPxvjBXS1yV8/K8261Q2eaD8gL+jfTFpyPzM8K5WbYXo/BJv1RHxQgj+hn6jUHJ+IP3Ghfw4XE5A/Hs/YvDd2lD9h4vAEZICZP36U8J9mQ58/Gkd8qlHwoj+DCq795sWmP8aiOBlYRas/iaC/RclMsD/iYZnoY3qzP99JfEB2SLc/kQkMJcTYuz8HaB1sUqnAP32bQswR8cM/QAjVIdHZxz/nHrcHWnXMP2PyuogU5dA/Q/AyrqDl0z+SVJmxWSjXP4rjQYaoido/SbmPWOnW3T9L3XhvLGngPxh4P5IZneE/6mwCCfxo4j+x0qoVCrbiP4zgY3XveOI/P+bvEQ604T8n3rEddXfgPzjmY2ESvd0/5GJwtb4X2j9wfslPX0jWP4Zhch/OktI/J1SiJv9azj8tSqSHxnnIP+/WpLeBpMM/ujNYBG62vz82Fr81oAa6P4Ou8vXj4rU/tSIooYTmsj9FE2IiWK+wP6hO1atg060/Mwas62+uqj8qVl/SFaKnP/k2imvBi6Q/NFnwaeZqoT/q9gtJ0qmcP/Eu1qmL0ZY/0xRnL0OJkT8j4tdGtPqJPwRGdhI1h4I/81K9QupseT9PWXT7FcZwPymfcXCbRWU//Fybz1DsWT9hawZun15OP0dnsdoOJUE/i3IMu1feMj93nZDfvi0lP+0Qa4zM/hs/NGBtnGp8Gz+NMu5TdhYkP0LguajiUzE/4BhkaCx9Pj8fjQowBR5KP3VH2u49h1U/06HOTSsHYT9SsIKwltRpPxRzHhyryHI/62vSJiMxej9ATe7e1oGBP6ivmuQzcIY/T0eWjEOSiz8t2f0GfD2QP5RQp/mQV5I/RmZfA2fckz8AaE8UNZ6UP+lhqHY+hZQ/aAGrUpqUkz+FvIGvkumRP3YSGV2Qa48/sxBZKXJrij81rRdzVEyFP+VCrsf2dYA/Q0YxT+FkeD923RqiT1RxP944GAzjmmc/6vzZMInTXj8v/VNXL0xTP7U7i7rtKUc/Ye5wdy2oOj/15VybJWktPw==\",\"dtype\":\"float64\",\"order\":\"little\",\"shape\":[200]}},\"selected\":{\"id\":\"2641\"},\"selection_policy\":{\"id\":\"2985\"}},\"id\":\"2640\",\"type\":\"ColumnDataSource\"},{\"attributes\":{},\"id\":\"2631\",\"type\":\"ResetTool\"},{\"attributes\":{},\"id\":\"2835\",\"type\":\"SaveTool\"},{\"attributes\":{},\"id\":\"2913\",\"type\":\"BasicTickFormatter\"},{\"attributes\":{\"overlay\":{\"id\":\"2840\"}},\"id\":\"2838\",\"type\":\"BoxZoomTool\"},{\"attributes\":{\"axis_label\":\"Density\",\"coordinates\":null,\"formatter\":{\"id\":\"2757\"},\"group\":null,\"major_label_policy\":{\"id\":\"2758\"},\"ticker\":{\"id\":\"2728\"}},\"id\":\"2727\",\"type\":\"LinearAxis\"},{\"attributes\":{},\"id\":\"2839\",\"type\":\"ResetTool\"},{\"attributes\":{\"bottom_units\":\"screen\",\"coordinates\":null,\"fill_alpha\":0.5,\"fill_color\":\"lightgrey\",\"group\":null,\"left_units\":\"screen\",\"level\":\"overlay\",\"line_alpha\":1.0,\"line_color\":\"black\",\"line_dash\":[4,4],\"line_width\":2,\"right_units\":\"screen\",\"syncable\":false,\"top_units\":\"screen\"},\"id\":\"2632\",\"type\":\"BoxAnnotation\"},{\"attributes\":{},\"id\":\"2724\",\"type\":\"BasicTicker\"},{\"attributes\":{},\"id\":\"2914\",\"type\":\"AllLabels\"},{\"attributes\":{},\"id\":\"2837\",\"type\":\"WheelZoomTool\"},{\"attributes\":{\"fill_alpha\":0.5,\"fill_color\":\"#30a2da\",\"hatch_alpha\":0.1,\"hatch_color\":\"#30a2da\",\"line_alpha\":1,\"tags\":[\"apply_ranges\"],\"x\":{\"field\":\"x\"},\"y\":{\"field\":\"y\"}},\"id\":\"2644\",\"type\":\"Patch\"},{\"attributes\":{\"below\":[{\"id\":\"2827\"}],\"center\":[{\"id\":\"2830\"},{\"id\":\"2834\"}],\"height\":300,\"left\":[{\"id\":\"2831\"}],\"margin\":null,\"min_border_bottom\":10,\"min_border_left\":10,\"min_border_right\":10,\"min_border_top\":10,\"output_backend\":\"webgl\",\"renderers\":[{\"id\":\"2854\"}],\"sizing_mode\":\"fixed\",\"title\":{\"id\":\"2819\"},\"toolbar\":{\"id\":\"2841\"},\"toolbar_location\":null,\"width\":700,\"x_range\":{\"id\":\"2815\"},\"x_scale\":{\"id\":\"2823\"},\"y_range\":{\"id\":\"2816\"},\"y_scale\":{\"id\":\"2825\"}},\"id\":\"2818\",\"subtype\":\"Figure\",\"type\":\"Plot\"},{\"attributes\":{},\"id\":\"2932\",\"type\":\"BasicTicker\"},{\"attributes\":{\"end\":6.215107667102937,\"reset_end\":6.215107667102937,\"reset_start\":-2.401243586669194,\"start\":-2.401243586669194,\"tags\":[[[\"price_change_percentage_60d\",\"price_change_percentage_60d\",null]]]},\"id\":\"2815\",\"type\":\"Range1d\"},{\"attributes\":{\"axis_label\":\"price_change_percentage_14d\",\"coordinates\":null,\"formatter\":{\"id\":\"2754\"},\"group\":null,\"major_label_policy\":{\"id\":\"2755\"},\"ticker\":{\"id\":\"2724\"}},\"id\":\"2723\",\"type\":\"LinearAxis\"},{\"attributes\":{},\"id\":\"2832\",\"type\":\"BasicTicker\"},{\"attributes\":{\"below\":[{\"id\":\"2723\"}],\"center\":[{\"id\":\"2726\"},{\"id\":\"2730\"}],\"height\":300,\"left\":[{\"id\":\"2727\"}],\"margin\":null,\"min_border_bottom\":10,\"min_border_left\":10,\"min_border_right\":10,\"min_border_top\":10,\"output_backend\":\"webgl\",\"renderers\":[{\"id\":\"2750\"}],\"sizing_mode\":\"fixed\",\"title\":{\"id\":\"2715\"},\"toolbar\":{\"id\":\"2737\"},\"toolbar_location\":null,\"width\":700,\"x_range\":{\"id\":\"2711\"},\"x_scale\":{\"id\":\"2719\"},\"y_range\":{\"id\":\"2712\"},\"y_scale\":{\"id\":\"2721\"}},\"id\":\"2714\",\"subtype\":\"Figure\",\"type\":\"Plot\"},{\"attributes\":{\"axis\":{\"id\":\"2831\"},\"coordinates\":null,\"dimension\":1,\"grid_line_color\":null,\"group\":null,\"ticker\":null},\"id\":\"2834\",\"type\":\"Grid\"},{\"attributes\":{},\"id\":\"2641\",\"type\":\"Selection\"},{\"attributes\":{\"axis_label\":\"Density\",\"coordinates\":null,\"formatter\":{\"id\":\"2861\"},\"group\":null,\"major_label_policy\":{\"id\":\"2862\"},\"ticker\":{\"id\":\"2832\"}},\"id\":\"2831\",\"type\":\"LinearAxis\"},{\"attributes\":{\"fill_alpha\":0.5,\"fill_color\":\"#30a2da\",\"hatch_color\":\"#30a2da\",\"tags\":[\"apply_ranges\"],\"x\":{\"field\":\"x\"},\"y\":{\"field\":\"y\"}},\"id\":\"2643\",\"type\":\"Patch\"},{\"attributes\":{\"source\":{\"id\":\"2640\"}},\"id\":\"2647\",\"type\":\"CDSView\"},{\"attributes\":{\"below\":[{\"id\":\"2931\"}],\"center\":[{\"id\":\"2934\"},{\"id\":\"2938\"}],\"height\":300,\"left\":[{\"id\":\"2935\"}],\"margin\":null,\"min_border_bottom\":10,\"min_border_left\":10,\"min_border_right\":10,\"min_border_top\":10,\"output_backend\":\"webgl\",\"renderers\":[{\"id\":\"2958\"}],\"sizing_mode\":\"fixed\",\"title\":{\"id\":\"2923\"},\"toolbar\":{\"id\":\"2945\"},\"toolbar_location\":null,\"width\":700,\"x_range\":{\"id\":\"2919\"},\"x_scale\":{\"id\":\"2927\"},\"y_range\":{\"id\":\"2920\"},\"y_scale\":{\"id\":\"2929\"}},\"id\":\"2922\",\"subtype\":\"Figure\",\"type\":\"Plot\"},{\"attributes\":{},\"id\":\"2732\",\"type\":\"PanTool\"},{\"attributes\":{\"axis\":{\"id\":\"2723\"},\"coordinates\":null,\"grid_line_color\":null,\"group\":null,\"ticker\":null},\"id\":\"2726\",\"type\":\"Grid\"},{\"attributes\":{\"overlay\":{\"id\":\"2684\"}},\"id\":\"2682\",\"type\":\"BoxZoomTool\"},{\"attributes\":{},\"id\":\"2859\",\"type\":\"AllLabels\"},{\"attributes\":{},\"id\":\"2828\",\"type\":\"BasicTicker\"},{\"attributes\":{\"bottom_units\":\"screen\",\"coordinates\":null,\"fill_alpha\":0.5,\"fill_color\":\"lightgrey\",\"group\":null,\"left_units\":\"screen\",\"level\":\"overlay\",\"line_alpha\":1.0,\"line_color\":\"black\",\"line_dash\":[4,4],\"line_width\":2,\"right_units\":\"screen\",\"syncable\":false,\"top_units\":\"screen\"},\"id\":\"2736\",\"type\":\"BoxAnnotation\"},{\"attributes\":{\"axis_label\":\"Density\",\"coordinates\":null,\"formatter\":{\"id\":\"2965\"},\"group\":null,\"major_label_policy\":{\"id\":\"2966\"},\"ticker\":{\"id\":\"2936\"}},\"id\":\"2935\",\"type\":\"LinearAxis\"},{\"attributes\":{\"axis_label\":\"price_change_percentage_60d\",\"coordinates\":null,\"formatter\":{\"id\":\"2858\"},\"group\":null,\"major_label_policy\":{\"id\":\"2859\"},\"ticker\":{\"id\":\"2828\"}},\"id\":\"2827\",\"type\":\"LinearAxis\"},{\"attributes\":{\"active_drag\":{\"id\":\"2680\"},\"active_scroll\":{\"id\":\"2681\"},\"tools\":[{\"id\":\"2661\"},{\"id\":\"2679\"},{\"id\":\"2680\"},{\"id\":\"2681\"},{\"id\":\"2682\"},{\"id\":\"2683\"}]},\"id\":\"2685\",\"type\":\"Toolbar\"},{\"attributes\":{\"fill_alpha\":0.2,\"fill_color\":\"#30a2da\",\"hatch_alpha\":0.2,\"hatch_color\":\"#30a2da\",\"line_alpha\":0.2,\"tags\":[\"apply_ranges\"],\"x\":{\"field\":\"x\"},\"y\":{\"field\":\"y\"}},\"id\":\"2645\",\"type\":\"Patch\"},{\"attributes\":{},\"id\":\"2836\",\"type\":\"PanTool\"},{\"attributes\":{\"fill_alpha\":0.5,\"fill_color\":\"#30a2da\",\"hatch_color\":\"#30a2da\",\"tags\":[\"apply_ranges\"],\"x\":{\"field\":\"x\"},\"y\":{\"field\":\"y\"}},\"id\":\"2648\",\"type\":\"Patch\"},{\"attributes\":{\"end\":0.6366610158622087,\"reset_end\":0.6366610158622087,\"reset_start\":0.0,\"tags\":[[[\"price_change_percentage_30d_density\",\"Density\",null]]]},\"id\":\"2764\",\"type\":\"Range1d\"},{\"attributes\":{\"axis\":{\"id\":\"2935\"},\"coordinates\":null,\"dimension\":1,\"grid_line_color\":null,\"group\":null,\"ticker\":null},\"id\":\"2938\",\"type\":\"Grid\"},{\"attributes\":{\"coordinates\":null,\"data_source\":{\"id\":\"2692\"},\"glyph\":{\"id\":\"2695\"},\"group\":null,\"hover_glyph\":null,\"muted_glyph\":{\"id\":\"2697\"},\"nonselection_glyph\":{\"id\":\"2696\"},\"selection_glyph\":{\"id\":\"2700\"},\"view\":{\"id\":\"2699\"}},\"id\":\"2698\",\"type\":\"GlyphRenderer\"},{\"attributes\":{\"axis\":{\"id\":\"2827\"},\"coordinates\":null,\"grid_line_color\":null,\"group\":null,\"ticker\":null},\"id\":\"2830\",\"type\":\"Grid\"},{\"attributes\":{\"callback\":null,\"renderers\":[{\"id\":\"2854\"}],\"tags\":[\"hv_created\"],\"tooltips\":[[\"price_change_percentage_60d\",\"@{price_change_percentage_60d}\"],[\"Density\",\"@{price_change_percentage_60d_density}\"]]},\"id\":\"2817\",\"type\":\"HoverTool\"},{\"attributes\":{},\"id\":\"2936\",\"type\":\"BasicTicker\"},{\"attributes\":{},\"id\":\"2825\",\"type\":\"LinearScale\"},{\"attributes\":{},\"id\":\"2941\",\"type\":\"WheelZoomTool\"},{\"attributes\":{\"fill_alpha\":0.5,\"fill_color\":\"#30a2da\",\"hatch_color\":\"#30a2da\",\"tags\":[\"apply_ranges\"],\"x\":{\"field\":\"x\"},\"y\":{\"field\":\"y\"}},\"id\":\"2747\",\"type\":\"Patch\"},{\"attributes\":{\"data\":{\"x\":{\"__ndarray__\":\"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\",\"dtype\":\"float64\",\"order\":\"little\",\"shape\":[200]},\"y\":{\"__ndarray__\":\"AAAAAAAAAAAAAAAAAAAAAAAAAAAAAAAAAAAAAAAAAAAAAAAAAAAAAAAAAAAAAAAAAAAAAAAAAAAAAAAAAAAAAAAAAAAAAAAAAAAAAAAAAAAAAAAAAAAAAAAAAAAAAAAAAAAAAAAAAAAAAAAAAAAAAAAAAAAAAAAAAAAAAAAAAAAAAAAAAAAAAAAAAAAAAAAAAAAAAAAAAAAAAAAAAAAAAAAAAAAAAAAAAAAAAAAAAAAAAAAAAAAAAAAAAAAAAAAAAAAAAAAAAAAAAAAAAAAAAAAAAAAAAAAAAAAAAAAAAAAAAAAAAAAAAAAAAAAAAAAAAAAAAAAAAAAAAAAAAAAAAAAAAAAAAAAAAAAAAAAAAAAAAAAAAAAAAAAAAAAAAAAAAAAAAAAAAAAAAAAAAAAAAAAAAAAAAAAAAAAAAAAAAAAAAAAAAAAAAAAAAAAAAAAAAAAAAAAAAAAAAAAAAAAAAAAAAAAAAAAAAAAAAAAAAAAAAAAAAAAAAAAAAAAAAAAAAAAAAAAAAAAAAAAAAAAAAAAAAAAAAAAAAAAAAAAAAAAAAAAAAAAAAAAAAAAAAAAAAAAAAAAAAAAAAAAAAAAAAAAAAAAAAAAAAAAAAAAAAAAAAAAAAAAAAAAAAAAAAAAAAAAAAAAAAAAAAAAAAAAAAAAAAAAAAAAAAAAAAAAAAAAAAAAAAAAAAAAAAAAAAAAAAAAAAAAAAAAAAAAAAAAAAAAAAAAAAAAAAAAAAAAAAAAAAAAAAAAAAAAAAAAAAAAAAAAAAAAAAAAAAAAAAAAAAAAAAAAAAAAAAAAAAAAAAAAAAAAAAAAAAAAAAAAAAAAAAAAAAAAAAAAAAAAAAAAAAAAAAAAAAAAAAAAAAAAAAAAAAAAAAAAAAAAAAAAAAAAAAAAAAAAAAAAAAAAAAAAAAAAAAAAAAAAAAAAAAAAAAAAAAAAAAAAAAAAAAAAAAAAAAAAAAAAAAAAAAAAAAAAAAAAAAAAAAAAAAAAAAAAAAAAAAAAAAAAAAAAAAAAAAAAAAAAAAAAAAAAAAAAAAAAAAAAAAAAAAAAAAAAAAAAAAAD15VybJWktP33kR6w44Dg/5M44t1JdRD8/wPNozyJQPzRj63rsv1g/OPYWeQpfYj81wdI4vmVqPzABJLskW3I/o52WSG21eD89GyyOjBiAP3xk2DgQTIQ/i0To0uDFiD8L7NuqyUONP8BPzqf9upA/mQxz8NSDkj/GpCkC89STP5sX5slnj5Q/2KlAsHihlD8GriIzaAmUP9mSNK281ZI/5KdCvfYikT8KrEY1bi6OP6IIxht/uYk/zlsJtM44hT/cv7e8AvKAP6iiG2B/MXo/lClVws+Ycz+oFwu392RsPyed7L4P8GM/D2478Kg3Wz+XtZ80bDhSP/SDT8UPjkg/Ac773z7KQT/ht6Q8uys/P/GNKgns9kE/6XhMfVWpST99HbNX6BtUP0kjmDZXAmA/ZfpT26gWaT8wIZmq3iJzPyUe7bmLUHw/r0iNRrJLhD+5S3cyvi6MP0CSP5o49JI/pb+m4lKzmD+m5RN1LTKfP188lly4GaM/lFOJvSWxpj9zs+rsjS2qPxN6PB5cXK0/Ih5JqRsJsD+6rW8WehmxPyt/0Zz527E/IQNOldpZsj/RcWbXDKmyP6zDnm7I6rI/AlSbQR1Jsz/HnpvZH/SzP9TXwxxAH7U/+NM5xgP/tj9A0sc08sa5P6JGlAMop70/cFZrvnhkwT+E9XlvBKXEPyf9GPpOm8g/qXtxqnpBzT8n+VV/fkHRP6Voi3qUHdQ/8H7ectEa1z/wDHbvhhjaP+616/vk8dw/cq8SuxKB3z/mWjq9RNHgP7UemMIYnOE/s1NUeuoV4j935pO+UzjiPyxxidfpAeI/dqVxsxN24T86YXVYiJzgP6X6V9YgAd8/lISyakJg3D9MsR9SwnXZPxLPtx5DYtY/D8S2qrFF0z+btdD+Vz3QP+B/yw9mxMo/Dcu8TmSPxT/qGiVNAvbAP1RHrOC0C7o/oruFvH+Bsz/X20PSqHqsPwiS5eL/QKQ/VBpX+dIMnD/Wh2BlGOeSP4/cVu8uyIg/5iw2SReXfz/g8WKjtZFzP1+k8aJNjmc/j9t/uyWKWz9SJOpzGENPPw==\",\"dtype\":\"float64\",\"order\":\"little\",\"shape\":[200]}},\"selected\":{\"id\":\"2849\"},\"selection_policy\":{\"id\":\"3029\"}},\"id\":\"2848\",\"type\":\"ColumnDataSource\"},{\"attributes\":{\"end\":0.4265850871538362,\"reset_end\":0.4265850871538362,\"reset_start\":0.0,\"tags\":[[[\"price_change_percentage_7d_density\",\"Density\",null]]]},\"id\":\"2660\",\"type\":\"Range1d\"},{\"attributes\":{},\"id\":\"2783\",\"type\":\"SaveTool\"},{\"attributes\":{\"axis_label\":\"price_change_percentage_1y\",\"coordinates\":null,\"formatter\":{\"id\":\"2962\"},\"group\":null,\"major_label_policy\":{\"id\":\"2963\"},\"ticker\":{\"id\":\"2932\"}},\"id\":\"2931\",\"type\":\"LinearAxis\"},{\"attributes\":{},\"id\":\"3040\",\"type\":\"UnionRenderers\"},{\"attributes\":{\"bottom_units\":\"screen\",\"coordinates\":null,\"fill_alpha\":0.5,\"fill_color\":\"lightgrey\",\"group\":null,\"left_units\":\"screen\",\"level\":\"overlay\",\"line_alpha\":1.0,\"line_color\":\"black\",\"line_dash\":[4,4],\"line_width\":2,\"right_units\":\"screen\",\"syncable\":false,\"top_units\":\"screen\"},\"id\":\"2840\",\"type\":\"BoxAnnotation\"},{\"attributes\":{},\"id\":\"2650\",\"type\":\"BasicTickFormatter\"},{\"attributes\":{},\"id\":\"2745\",\"type\":\"Selection\"},{\"attributes\":{\"active_drag\":{\"id\":\"2784\"},\"active_scroll\":{\"id\":\"2785\"},\"tools\":[{\"id\":\"2765\"},{\"id\":\"2783\"},{\"id\":\"2784\"},{\"id\":\"2785\"},{\"id\":\"2786\"},{\"id\":\"2787\"}]},\"id\":\"2789\",\"type\":\"Toolbar\"},{\"attributes\":{},\"id\":\"2940\",\"type\":\"PanTool\"},{\"attributes\":{},\"id\":\"2667\",\"type\":\"LinearScale\"},{\"attributes\":{\"data\":{\"x\":{\"__ndarray__\":\"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\",\"dtype\":\"float64\",\"order\":\"little\",\"shape\":[200]},\"y\":{\"__ndarray__\":\"AAAAAAAAAAAAAAAAAAAAAAAAAAAAAAAAAAAAAAAAAAAAAAAAAAAAAAAAAAAAAAAAAAAAAAAAAAAAAAAAAAAAAAAAAAAAAAAAAAAAAAAAAAAAAAAAAAAAAAAAAAAAAAAAAAAAAAAAAAAAAAAAAAAAAAAAAAAAAAAAAAAAAAAAAAAAAAAAAAAAAAAAAAAAAAAAAAAAAAAAAAAAAAAAAAAAAAAAAAAAAAAAAAAAAAAAAAAAAAAAAAAAAAAAAAAAAAAAAAAAAAAAAAAAAAAAAAAAAAAAAAAAAAAAAAAAAAAAAAAAAAAAAAAAAAAAAAAAAAAAAAAAAAAAAAAAAAAAAAAAAAAAAAAAAAAAAAAAAAAAAAAAAAAAAAAAAAAAAAAAAAAAAAAAAAAAAAAAAAAAAAAAAAAAAAAAAAAAAAAAAAAAAAAAAAAAAAAAAAAAAAAAAAAAAAAAAAAAAAAAAAAAAAAAAAAAAAAAAAAAAAAAAAAAAAAAAAAAAAAAAAAAAAAAAAAAAAAAAAAAAAAAAAAAAAAAAAAAAAAAAAAAAAAAAAAAAAAAAAAAAAAAAAAAAAAAAAAAAAAAAAAAAAAAAAAAAAAAAAAAAAAAAAAAAAAAAAAAAAAAAAAAAAAAAAAAAAAAAAAAAAAAAAAAAAAAAAAAAAAAAAAAAAAAAAAAAAAAAAAAAAAAAAAAAAAAAAAAAAAAAAAAAAAAAAAAAAAAAAAAAAAAAAAAAAAAAAAAAAAAAAAAAAAAAAAAAAAAAAAAAAAAAAAAAAAAAAAAAAAAAAAAAAAAAAAAAAAAAAAAAAAAAAAAAAAAAAAAAAAAAAAAAAAAAAAAAAAAAAAAAAAAAAAAAAAAAAAAAAAAAAAAAAAAAAAAAAAAAAAAAAAAAAAAAAAAAAAAAAAAAAAAAAAAAAAAAAAAAAAAAAAAAAAAAAAAAAAAAAAAAAAAAAAAAAAAAAAAAAAAAAAAAAAAAAAAAAAAAAAAAAAAAAAAAAAAAAAAAAAAAAAAAAAAAAAAAAAAAAAAAAAAAAAAAAAAAAAAAAAAAAAAAAAAAAAAAAAAAAAAAAAAAADH5VybJWktP/xdKpqS3Dk/2dRLfIzlRT9UHka/+NlRPxwAkrTUBlw/ryg1oSkvZT/mUXmF/NVuPyPuVHACnHU/xTVtw7opfT8NWBkcs/KCPyLbYU1PtYc/CMQhsy6QjD/875MjSZGQP5tUOHuEgZI/5i7pTmLnkz+jU3zj3JyUP0+eVZX1jZQ/GoQxOFW8kz83i+85/j6SP4TYX0QkPpA/GWEjr2bYiz8c4+FPZPuGPxC73XaWQ4I/4JjUb5/zez8bI33+UJh0P0Ehquz5OG0/fgvOam/2Yz/QukLP9EJaP0yvNpH/oVA/iOB1mGtJRD8tLnUlONM3P9m0zuUe8So/9EdXqOZVHT92jVRdmsEOP3AmpdSFDP8+Nm3ok2gu7j5StMXMWEDcPsHS649oesk+CXfcSUg2tj4qihl9dCSjPtCP0jB/lJI+NyJ23VYWjz4QLI/V5OWaPsTUt2Hkgq4+k9PpY5KvwT6qXdh2xezTPuXRV7DWpOU+n+lS/6qk9j6opWTScM8GP32fgZpJIBY/RqQVWJKqJD9QRNBPRJYyPwwVzevoGEA/mDtQyInZSj/7Q+VfcpBVP6X7jeMlrmA/ZS3Zbj3baD9lpTiF8tdxP1j009MmsXg/svwf0RR6gD/FFyWY0DqFPxVhWD/yc4o/VnxWiPj2jz/Eu7VlKdCSPyOiMCqnuZU/vvFB2s7emD/hhhQlX5+cPyijbUpk06A/NrCVKy19pD9R2NIAIv+pP/JL8r0NG7E/8ptK3pENtz9WwqNha1S/P8FiSxYBLcU/L/fOlGwuzD+rHxhMElXSP7gbPcsINtc/K2IMA32E3D/urn2p1vfgPzKpcXiziOM/Z75WHo285T+Ii7ZKf13nP+FYyvVNQOg/blmJ8qFL6D/eXG2WkHznP/SdEJ5O5+U/GXY5iNaz4z8jChjFRxfhPyxjCwkOl9w/ADaE1+wN1z95gzASzevRP1eHjjYP28o/Ihlk9O5kwz85MRPEDP+6P3Ym+EVUG7I/WgzScdFnpz/rGhMeOSedPzVQj1CFfpE/h42hUcI6hD8W0igLtol2Pw==\",\"dtype\":\"float64\",\"order\":\"little\",\"shape\":[200]}},\"selected\":{\"id\":\"2953\"},\"selection_policy\":{\"id\":\"3051\"}},\"id\":\"2952\",\"type\":\"ColumnDataSource\"},{\"attributes\":{},\"id\":\"2653\",\"type\":\"BasicTickFormatter\"},{\"attributes\":{\"end\":3.3650072290328157,\"reset_end\":3.3650072290328157,\"reset_start\":-6.426236772268221,\"start\":-6.426236772268221,\"tags\":[[[\"price_change_percentage_24h\",\"price_change_percentage_24h\",null]]]},\"id\":\"2607\",\"type\":\"Range1d\"},{\"attributes\":{\"data\":{\"x\":{\"__ndarray__\":\"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\",\"dtype\":\"float64\",\"order\":\"little\",\"shape\":[200]},\"y\":{\"__ndarray__\":\"AAAAAAAAAAAAAAAAAAAAAAAAAAAAAAAAAAAAAAAAAAAAAAAAAAAAAAAAAAAAAAAAAAAAAAAAAAAAAAAAAAAAAAAAAAAAAAAAAAAAAAAAAAAAAAAAAAAAAAAAAAAAAAAAAAAAAAAAAAAAAAAAAAAAAAAAAAAAAAAAAAAAAAAAAAAAAAAAAAAAAAAAAAAAAAAAAAAAAAAAAAAAAAAAAAAAAAAAAAAAAAAAAAAAAAAAAAAAAAAAAAAAAAAAAAAAAAAAAAAAAAAAAAAAAAAAAAAAAAAAAAAAAAAAAAAAAAAAAAAAAAAAAAAAAAAAAAAAAAAAAAAAAAAAAAAAAAAAAAAAAAAAAAAAAAAAAAAAAAAAAAAAAAAAAAAAAAAAAAAAAAAAAAAAAAAAAAAAAAAAAAAAAAAAAAAAAAAAAAAAAAAAAAAAAAAAAAAAAAAAAAAAAAAAAAAAAAAAAAAAAAAAAAAAAAAAAAAAAAAAAAAAAAAAAAAAAAAAAAAAAAAAAAAAAAAAAAAAAAAAAAAAAAAAAAAAAAAAAAAAAAAAAAAAAAAAAAAAAAAAAAAAAAAAAAAAAAAAAAAAAAAAAAAAAAAAAAAAAAAAAAAAAAAAAAAAAAAAAAAAAAAAAAAAAAAAAAAAAAAAAAAAAAAAAAAAAAAAAAAAAAAAAAAAAAAAAAAAAAAAAAAAAAAAAAAAAAAAAAAAAAAAAAAAAAAAAAAAAAAAAAAAAAAAAAAAAAAAAAAAAAAAAAAAAAAAAAAAAAAAAAAAAAAAAAAAAAAAAAAAAAAAAAAAAAAAAAAAAAAAAAAAAAAAAAAAAAAAAAAAAAAAAAAAAAAAAAAAAAAAAAAAAAAAAAAAAAAAAAAAAAAAAAAAAAAAAAAAAAAAAAAAAAAAAAAAAAAAAAAAAAAAAAAAAAAAAAAAAAAAAAAAAAAAAAAAAAAAAAAAAAAAAAAAAAAAAAAAAAAAAAAAAAAAAAAAAAAAAAAAAAAAAAAAAAAAAAAAAAAAAAAAAAAAAAAAAAAAAAAAAAAAAAAAAAAAAAAAAAAAAAAAAAAAAAAAAAAAAAAAAAAAAAA/DHg2qoktP+ZDYj8nIzg/sHJ5y3cuQz/9lGT7gKZNP7CH4rNwSlY/nudCHotNYD88SJrjRjRnP4ZdtK2LEnA/R0Aiv3utdT+Jtdo7Xnp8PxhsPB+4OoI/H3y8KzzChj8PqDlaNbuLP4cw21argZA/L+Wj4f44kz+uQubVgu6VP2q3nY0Tj5g/BxCJoOoLmz9PbWjrRVydP6XRX4vpfZ8/FtFBBTO6oD/Mu/5dsKOhPzUU7gQ0gKI/+OBqFoVUoz9ToAjt8SSkPx2i+Y+V9aQ/EVBuTHHLpT9oXZavOq6mP41zUhGKqqc/dd5J1u7TqD+ryAwjXUaqP1HqD/hxJqw/+nw0rC+grj9iXrcnCfKwPx0NEu9UEbM/4OtGV53DtT85K8YhFRm5P8R7CIASGr0/Bd0+/7fiwD8kHkB1BojDP65bNezCcsY/ax6H4vuUyT+euVlXL97MP8cJW/k9HtA/i9ycU8TO0T9DHb3cd3fTP2HzO+MSD9U/YH6vUASM1j9LKDgwNuTXP9MuYHEHDdk/AMws7KT72T9yOL7R1KXaP4cTIjMkA9s/UFhDY0IO2z+3AlgNPcbaP4iNj6BKL9o/LFCzPuJS2T+rPH3kBD/YPyJGaXPJBNc/JWvJN2i21T9Qx7cXH2XUP8xjbsVOH9M/1NWERyLv0T/RmEcS8tnQP0whM87XwM8/mv4xv8X+zT/JZg59H2LMP5vlfLz63Mo/QNa4HcBhyT9D4AgZS+XHP+ybgA1BYMY/8e8Zv5HPxD/E2rPDODTDP7u2GFRwksE/rzte5yLhvz9Kc30Xuqu8P+jSpyfBkrk/SSzJQjWitj8HW1OI5uKzP5YZrqcXWrE/1c3MvG4Trj+GYx69E+KpPxNpQ4kZG6Y/fVvMLb+3oj8ep2x7EGKfP+NCJI1qAZo/kFYQtkdDlT+/egVfVR+RP+QDiyB/HIs/UXZY1wIRhT/RJ7UmvgqAP1owgCs16Xc/BU6LYYJrcT/OH/Fws8loP0AiwR+BNWE/3AsF5s9MVz9td2oflb5OP0cOWq8twkM/b71s2rq6OD9Jcelo+CAuPw==\",\"dtype\":\"float64\",\"order\":\"little\",\"shape\":[200]}},\"selected\":{\"id\":\"2745\"},\"selection_policy\":{\"id\":\"3007\"}},\"id\":\"2744\",\"type\":\"ColumnDataSource\"},{\"attributes\":{\"end\":0.6262910183527802,\"reset_end\":0.6262910183527802,\"reset_start\":0.0,\"tags\":[[[\"price_change_percentage_60d_density\",\"Density\",null]]]},\"id\":\"2816\",\"type\":\"Range1d\"},{\"attributes\":{\"active_drag\":{\"id\":\"2732\"},\"active_scroll\":{\"id\":\"2733\"},\"tools\":[{\"id\":\"2713\"},{\"id\":\"2731\"},{\"id\":\"2732\"},{\"id\":\"2733\"},{\"id\":\"2734\"},{\"id\":\"2735\"}]},\"id\":\"2737\",\"type\":\"Toolbar\"},{\"attributes\":{\"coordinates\":null,\"data_source\":{\"id\":\"2796\"},\"glyph\":{\"id\":\"2799\"},\"group\":null,\"hover_glyph\":null,\"muted_glyph\":{\"id\":\"2801\"},\"nonselection_glyph\":{\"id\":\"2800\"},\"selection_glyph\":{\"id\":\"2804\"},\"view\":{\"id\":\"2803\"}},\"id\":\"2802\",\"type\":\"GlyphRenderer\"},{\"attributes\":{\"axis\":{\"id\":\"2931\"},\"coordinates\":null,\"grid_line_color\":null,\"group\":null,\"ticker\":null},\"id\":\"2934\",\"type\":\"Grid\"},{\"attributes\":{\"end\":4.352248812603002,\"reset_end\":4.352248812603002,\"reset_start\":-3.6623029912507232,\"start\":-3.6623029912507232,\"tags\":[[[\"price_change_percentage_14d\",\"price_change_percentage_14d\",null]]]},\"id\":\"2711\",\"type\":\"Range1d\"},{\"attributes\":{},\"id\":\"2654\",\"type\":\"AllLabels\"},{\"attributes\":{},\"id\":\"2755\",\"type\":\"AllLabels\"},{\"attributes\":{\"fill_alpha\":0.5,\"fill_color\":\"#30a2da\",\"hatch_alpha\":0.1,\"hatch_color\":\"#30a2da\",\"line_alpha\":1,\"tags\":[\"apply_ranges\"],\"x\":{\"field\":\"x\"},\"y\":{\"field\":\"y\"}},\"id\":\"2852\",\"type\":\"Patch\"},{\"attributes\":{},\"id\":\"2672\",\"type\":\"BasicTicker\"},{\"attributes\":{\"coordinates\":null,\"data_source\":{\"id\":\"2744\"},\"glyph\":{\"id\":\"2747\"},\"group\":null,\"hover_glyph\":null,\"muted_glyph\":{\"id\":\"2749\"},\"nonselection_glyph\":{\"id\":\"2748\"},\"selection_glyph\":{\"id\":\"2752\"},\"view\":{\"id\":\"2751\"}},\"id\":\"2750\",\"type\":\"GlyphRenderer\"},{\"attributes\":{},\"id\":\"2887\",\"type\":\"SaveTool\"},{\"attributes\":{\"coordinates\":null,\"group\":null,\"text\":\"price_change_percentage_1y\",\"text_color\":\"black\",\"text_font_size\":\"12pt\"},\"id\":\"2923\",\"type\":\"Title\"},{\"attributes\":{},\"id\":\"2929\",\"type\":\"LinearScale\"},{\"attributes\":{},\"id\":\"3018\",\"type\":\"UnionRenderers\"},{\"attributes\":{},\"id\":\"2849\",\"type\":\"Selection\"},{\"attributes\":{\"source\":{\"id\":\"2744\"}},\"id\":\"2751\",\"type\":\"CDSView\"},{\"attributes\":{\"fill_alpha\":0.5,\"fill_color\":\"#30a2da\",\"hatch_color\":\"#30a2da\",\"tags\":[\"apply_ranges\"],\"x\":{\"field\":\"x\"},\"y\":{\"field\":\"y\"}},\"id\":\"2851\",\"type\":\"Patch\"},{\"attributes\":{\"end\":7.533820340806217,\"reset_end\":7.533820340806217,\"reset_start\":-1.7415244567370216,\"start\":-1.7415244567370216,\"tags\":[[[\"price_change_percentage_1y\",\"price_change_percentage_1y\",null]]]},\"id\":\"2919\",\"type\":\"Range1d\"},{\"attributes\":{\"source\":{\"id\":\"2848\"}},\"id\":\"2855\",\"type\":\"CDSView\"},{\"attributes\":{\"callback\":null,\"renderers\":[{\"id\":\"2958\"}],\"tags\":[\"hv_created\"],\"tooltips\":[[\"price_change_percentage_1y\",\"@{price_change_percentage_1y}\"],[\"Density\",\"@{price_change_percentage_1y_density}\"]]},\"id\":\"2921\",\"type\":\"HoverTool\"},{\"attributes\":{\"below\":[{\"id\":\"2671\"}],\"center\":[{\"id\":\"2674\"},{\"id\":\"2678\"}],\"height\":300,\"left\":[{\"id\":\"2675\"}],\"margin\":null,\"min_border_bottom\":10,\"min_border_left\":10,\"min_border_right\":10,\"min_border_top\":10,\"output_backend\":\"webgl\",\"renderers\":[{\"id\":\"2698\"}],\"sizing_mode\":\"fixed\",\"title\":{\"id\":\"2663\"},\"toolbar\":{\"id\":\"2685\"},\"toolbar_location\":null,\"width\":700,\"x_range\":{\"id\":\"2659\"},\"x_scale\":{\"id\":\"2667\"},\"y_range\":{\"id\":\"2660\"},\"y_scale\":{\"id\":\"2669\"}},\"id\":\"2662\",\"subtype\":\"Figure\",\"type\":\"Plot\"},{\"attributes\":{\"fill_alpha\":0.2,\"fill_color\":\"#30a2da\",\"hatch_alpha\":0.2,\"hatch_color\":\"#30a2da\",\"line_alpha\":0.2,\"tags\":[\"apply_ranges\"],\"x\":{\"field\":\"x\"},\"y\":{\"field\":\"y\"}},\"id\":\"2749\",\"type\":\"Patch\"},{\"attributes\":{},\"id\":\"2757\",\"type\":\"BasicTickFormatter\"},{\"attributes\":{\"overlay\":{\"id\":\"2944\"}},\"id\":\"2942\",\"type\":\"BoxZoomTool\"},{\"attributes\":{},\"id\":\"2939\",\"type\":\"SaveTool\"},{\"attributes\":{\"axis_label\":\"Density\",\"coordinates\":null,\"formatter\":{\"id\":\"2705\"},\"group\":null,\"major_label_policy\":{\"id\":\"2706\"},\"ticker\":{\"id\":\"2676\"}},\"id\":\"2675\",\"type\":\"LinearAxis\"},{\"attributes\":{\"fill_alpha\":0.2,\"fill_color\":\"#30a2da\",\"hatch_alpha\":0.2,\"hatch_color\":\"#30a2da\",\"line_alpha\":0.2,\"tags\":[\"apply_ranges\"],\"x\":{\"field\":\"x\"},\"y\":{\"field\":\"y\"}},\"id\":\"2853\",\"type\":\"Patch\"},{\"attributes\":{\"active_drag\":{\"id\":\"2888\"},\"active_scroll\":{\"id\":\"2889\"},\"tools\":[{\"id\":\"2869\"},{\"id\":\"2887\"},{\"id\":\"2888\"},{\"id\":\"2889\"},{\"id\":\"2890\"},{\"id\":\"2891\"}]},\"id\":\"2893\",\"type\":\"Toolbar\"},{\"attributes\":{\"fill_alpha\":0.5,\"fill_color\":\"#30a2da\",\"hatch_color\":\"#30a2da\",\"tags\":[\"apply_ranges\"],\"x\":{\"field\":\"x\"},\"y\":{\"field\":\"y\"}},\"id\":\"2856\",\"type\":\"Patch\"},{\"attributes\":{},\"id\":\"2703\",\"type\":\"AllLabels\"},{\"attributes\":{\"axis_label\":\"price_change_percentage_30d\",\"coordinates\":null,\"formatter\":{\"id\":\"2806\"},\"group\":null,\"major_label_policy\":{\"id\":\"2807\"},\"ticker\":{\"id\":\"2776\"}},\"id\":\"2775\",\"type\":\"LinearAxis\"},{\"attributes\":{\"axis\":{\"id\":\"2675\"},\"coordinates\":null,\"dimension\":1,\"grid_line_color\":null,\"group\":null,\"ticker\":null},\"id\":\"2678\",\"type\":\"Grid\"},{\"attributes\":{},\"id\":\"2758\",\"type\":\"AllLabels\"},{\"attributes\":{\"coordinates\":null,\"data_source\":{\"id\":\"2900\"},\"glyph\":{\"id\":\"2903\"},\"group\":null,\"hover_glyph\":null,\"muted_glyph\":{\"id\":\"2905\"},\"nonselection_glyph\":{\"id\":\"2904\"},\"selection_glyph\":{\"id\":\"2908\"},\"view\":{\"id\":\"2907\"}},\"id\":\"2906\",\"type\":\"GlyphRenderer\"},{\"attributes\":{},\"id\":\"2676\",\"type\":\"BasicTicker\"},{\"attributes\":{},\"id\":\"2681\",\"type\":\"WheelZoomTool\"},{\"attributes\":{},\"id\":\"2996\",\"type\":\"UnionRenderers\"},{\"attributes\":{},\"id\":\"2943\",\"type\":\"ResetTool\"},{\"attributes\":{\"axis_label\":\"price_change_percentage_7d\",\"coordinates\":null,\"formatter\":{\"id\":\"2702\"},\"group\":null,\"major_label_policy\":{\"id\":\"2703\"},\"ticker\":{\"id\":\"2672\"}},\"id\":\"2671\",\"type\":\"LinearAxis\"},{\"attributes\":{},\"id\":\"2683\",\"type\":\"ResetTool\"},{\"attributes\":{},\"id\":\"2858\",\"type\":\"BasicTickFormatter\"},{\"attributes\":{\"bottom_units\":\"screen\",\"coordinates\":null,\"fill_alpha\":0.5,\"fill_color\":\"lightgrey\",\"group\":null,\"left_units\":\"screen\",\"level\":\"overlay\",\"line_alpha\":1.0,\"line_color\":\"black\",\"line_dash\":[4,4],\"line_width\":2,\"right_units\":\"screen\",\"syncable\":false,\"top_units\":\"screen\"},\"id\":\"2944\",\"type\":\"BoxAnnotation\"},{\"attributes\":{\"data\":{\"x\":{\"__ndarray__\":\"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\",\"dtype\":\"float64\",\"order\":\"little\",\"shape\":[200]},\"y\":{\"__ndarray__\":\"AAAAAAAAAAAAAAAAAAAAAAAAAAAAAAAAAAAAAAAAAAAAAAAAAAAAAAAAAAAAAAAAAAAAAAAAAAAAAAAAAAAAAAAAAAAAAAAAAAAAAAAAAAAAAAAAAAAAAAAAAAAAAAAAAAAAAAAAAAAAAAAAAAAAAAAAAAAAAAAAAAAAAAAAAAAAAAAAAAAAAAAAAAAAAAAAAAAAAAAAAAAAAAAAAAAAAAAAAAAAAAAAAAAAAAAAAAAAAAAAAAAAAAAAAAAAAAAAAAAAAAAAAAAAAAAAAAAAAAAAAAAAAAAAAAAAAAAAAAAAAAAAAAAAAAAAAAAAAAAAAAAAAAAAAAAAAAAAAAAAAAAAAAAAAAAAAAAAAAAAAAAAAAAAAAAAAAAAAAAAAAAAAAAAAAAAAAAAAAAAAAAAAAAAAAAAAAAAAAAAAAAAAAAAAAAAAAAAAAAAAAAAAAAAAAAAAAAAAAAAAAAAAAAAAAAAAAAAAAAAAAAAAAAAAAAAAAAAAAAAAAAAAAAAAAAAAAAAAAAAAAAAAAAAAAAAAAAAAAAAAAAAAAAAAAAAAAAAAAAAAAAAAAAAAAAAAAAAAAAAAAAAAAAAAAAAAAAAAAAAAAAAAAAAAAAAAAAAAAAAAAAAAAAAAAAAAAAAAAAAAAAAAAAAAAAAAAAAAAAAAAAAAAAAAAAAAAAAAAAAAAAAAAAAAAAAAAAAAAAAAAAAAAAAAAAAAAAAAAAAAAAAAAAAAAAAAAAAAAAAAAAAAAAAAAAAAAAAAAAAAAAAAAAAAAAAAAAAAAAAAAAAAAAAAAAAAAAAAAAAAAAAAAAAAAAAAAAAAAAAAAAAAAAAAAAAAAAAAAAAAAAAAAAAAAAAAAAAAAAAAAAAAAAAAAAAAAAAAAAAAAAAAAAAAAAAAAAAAAAAAAAAAAAAAAAAAAAAAAAAAAAAAAAAAAAAAAAAAAAAAAAAAAAAAAAAAAAAAAAAAAAAAAAAAAAAAAAAAAAAAAAAAAAAAAAAAAAAAAAAAAAAAAAAAAAAAAAAAAAAAAAAAAAAAAAAAAAAAAAAAAAAAAAAAAAAAAAAAAAAAAAAAADH5VybJWktPxuaS73xaTo/9njWWwrGRj86fdilidlSPyrdQ2+99F0/p1teot/ZZj/ocqL177twP/wYLjBuh3c/p5w2pIfCfz/mTwHH55OEP9m632ZRmYk/G5EM5FaSjj/qbo11bIaRP4RNd1TxSZM/G8vAzYphlD//QQZ6fayUP161TBHPIZQ/KOP8JAvSkj97VN4ZBOSQP968lkrjGo0/1M+iGboSiD/uvYcQah2DP01+kQhIJH0/zgRv715TdT+x7SZZr/ZtP/ADmZNTNWQ/455rtf8qWj/XSuSy2ENQP6rO4GQ0aUM/heA7R2A9Nj/r+kJAcncoP8yApprW3Rk/QA0JVqRkCj/9DRaWso/6PkA7Jpr6E+0+F2H4+an95j7uJZWXSxvwPjNZCw8QtP4+jWxM03X/Dj/kZnMWbrQePwLGdKQ+XC0/17D9OjUFOz+RWpMtk+xHPxDyGswlYlQ/w5NYXJ63YD8BDNZZdWhqPzArJ02XGXQ/kJ4guESCfT8zAX8dt+mEP0Nupq3wqIw/sJm7C2sGkz80O5cv44iYPxcVnJ14154/17VY81j7oj8mZj+m1AGnP70ly4hsoqs/vCs4WOeNsD9+kZstV+WzP6GkWCn5Erg/KyEc25pZvT+dH/xs8PzBP3AFlVXzEsY/Ymvq29f5yj+Yi1RAK1TQPwOiGpI3ftM/iojEj/rc1j9Fahthd0baP0D75BgFiN0/x9QkRak14D89WB/NRV7hPw3sSvFTKOI/v2FxeWWF4j9thCV632/iPy+IUI936+E/Mu4yXmQE4T+zEdMm7JrfPx17pxz5utw/cLJaAe6Y2T9hqRX3BGLWP+CLX/bAPNM/rSP0ioxG0D9fH8iU8CXLP6D0uWzAWMY/ziV7lR0rwj+gLsTFey+9PwSc8s+NJbc/+VBFV9kasj/GopBK4eGrP5ENxVOcFqU/qhQKdsRAnz8RO8JiTaGWP56O1Eu88Y8/rwK5JuTshT/VxTVkdjV9P8N+bQAW2XI/kQwUQ3iHZz80zvccfmBcPwe7BKesg1A/3Yjt7eWIQj+m22/wkAs0Pw==\",\"dtype\":\"float64\",\"order\":\"little\",\"shape\":[200]}},\"selected\":{\"id\":\"2797\"},\"selection_policy\":{\"id\":\"3018\"}},\"id\":\"2796\",\"type\":\"ColumnDataSource\"},{\"attributes\":{},\"id\":\"2680\",\"type\":\"PanTool\"},{\"attributes\":{\"data\":{\"x\":{\"__ndarray__\":\"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\",\"dtype\":\"float64\",\"order\":\"little\",\"shape\":[200]},\"y\":{\"__ndarray__\":\"AAAAAAAAAAAAAAAAAAAAAAAAAAAAAAAAAAAAAAAAAAAAAAAAAAAAAAAAAAAAAAAAAAAAAAAAAAAAAAAAAAAAAAAAAAAAAAAAAAAAAAAAAAAAAAAAAAAAAAAAAAAAAAAAAAAAAAAAAAAAAAAAAAAAAAAAAAAAAAAAAAAAAAAAAAAAAAAAAAAAAAAAAAAAAAAAAAAAAAAAAAAAAAAAAAAAAAAAAAAAAAAAAAAAAAAAAAAAAAAAAAAAAAAAAAAAAAAAAAAAAAAAAAAAAAAAAAAAAAAAAAAAAAAAAAAAAAAAAAAAAAAAAAAAAAAAAAAAAAAAAAAAAAAAAAAAAAAAAAAAAAAAAAAAAAAAAAAAAAAAAAAAAAAAAAAAAAAAAAAAAAAAAAAAAAAAAAAAAAAAAAAAAAAAAAAAAAAAAAAAAAAAAAAAAAAAAAAAAAAAAAAAAAAAAAAAAAAAAAAAAAAAAAAAAAAAAAAAAAAAAAAAAAAAAAAAAAAAAAAAAAAAAAAAAAAAAAAAAAAAAAAAAAAAAAAAAAAAAAAAAAAAAAAAAAAAAAAAAAAAAAAAAAAAAAAAAAAAAAAAAAAAAAAAAAAAAAAAAAAAAAAAAAAAAAAAAAAAAAAAAAAAAAAAAAAAAAAAAAAAAAAAAAAAAAAAAAAAAAAAAAAAAAAAAAAAAAAAAAAAAAAAAAAAAAAAAAAAAAAAAAAAAAAAAAAAAAAAAAAAAAAAAAAAAAAAAAAAAAAAAAAAAAAAAAAAAAAAAAAAAAAAAAAAAAAAAAAAAAAAAAAAAAAAAAAAAAAAAAAAAAAAAAAAAAAAAAAAAAAAAAAAAAAAAAAAAAAAAAAAAAAAAAAAAAAAAAAAAAAAAAAAAAAAAAAAAAAAAAAAAAAAAAAAAAAAAAAAAAAAAAAAAAAAAAAAAAAAAAAAAAAAAAAAAAAAAAAAAAAAAAAAAAAAAAAAAAAAAAAAAAAAAAAAAAAAAAAAAAAAAAAAAAAAAAAAAAAAAAAAAAAAAAAAAAAAAAAAAAAAAAAAAAAAAAAAAAAAAAAAAAAAAAAAAAAAAAAAAAAAAAAAAACcvWLODv0tPzDGJIcNVjc/DpIQ167FQT9Q6PibV39KP8mqBGgLV1M/LvttfSumWz8oh0dny1xjP6AWZiEVlGo/1zZbbgTjcT//IV5kmJ53P2ZwFviUnn4/DL6RD69/gz85cTKuRWuIP6pPfXcsGY4/kz7ZeYBGkj+2FURRt+OVPxw4iUt245k/4TD8vi9Enj/lHfp504GhPwBN1B9ZD6Q/mKiTC0zIpj9L1JbWC6mpP7FwnCgnrKw/AjGpAOPJrz/CZ6i5AXyxPy9Wjqf/FLM/nbbA4dyotD90CUnjYjC2P97NbW8Npbc/FIRtAQQCuT+HRjSxDkW6P2KUe+Beb7s/qcJx1waGvD96n9rXBJK9P+qjgHLUn74/96gOmYm+vz83C+miRH/APz7Qap4AOME/SoN71KQQwj/+OwClrw7DP7vwaLVRNcQ/HennJwSFxT9fT/79YvvGPzVIPIFSk8g/OxVLYG5Fyj8M/bKbuAjMPz9X5jx2080/PlnmGCGczz+wGBLFKK3QP6AYOfrAg9E/w99QSchP0j+MM6dIdRDTPyFJaa4qxtM/ubqYpity1D8V/xcPJxbVP8UgDSGns9U/M/uwM3hL1j9AKdZwHN3WPwm6BttiZtc/kfBFdTXj1z8Ld2eYrE3YP6rI9OBsntg/eH4khUrN2D+rC1O6IdLYP2cHMvPJpdg/hfI/HwND2D85hURXOqfXP3j85G8H09Y/U8gjkU7K1T8MIAnI/pPUP+7N/SB2OdM/HiyJPKLF0T+3EZOj/kPQPxLZ+68sf80/m4Cn+VaEyj8m1AtrPqfHPzZiFx9O88Q/wHkEeZ5vwj+oBbPxeB/AP+m7Iv9fBrw/8uTtZDIyuD/CAYBq9ry0P9U64f+ZoLE/6MwN6c2urT/+CXWA7LioPwC5IRRiV6Q/hzm3/QqDoD/DuDff6WmaP3xghx8gy5Q/VHJfbD4YkD9uewj+AnqIP1RJ3jE+RYI/Eprn3UbCej8Mx60ezjZzPybx0jFcC2s/2O1588+lYj/lof2xLzBZP8r1UFaCqFA/fzSorXmSRT9nyNQniFg7Pw==\",\"dtype\":\"float64\",\"order\":\"little\",\"shape\":[200]}},\"selected\":{\"id\":\"2693\"},\"selection_policy\":{\"id\":\"2996\"}},\"id\":\"2692\",\"type\":\"ColumnDataSource\"},{\"attributes\":{},\"id\":\"2861\",\"type\":\"BasicTickFormatter\"},{\"attributes\":{\"fill_alpha\":0.5,\"fill_color\":\"#30a2da\",\"hatch_alpha\":0.1,\"hatch_color\":\"#30a2da\",\"line_alpha\":1,\"tags\":[\"apply_ranges\"],\"x\":{\"field\":\"x\"},\"y\":{\"field\":\"y\"}},\"id\":\"2956\",\"type\":\"Patch\"},{\"attributes\":{\"active_drag\":{\"id\":\"2940\"},\"active_scroll\":{\"id\":\"2941\"},\"tools\":[{\"id\":\"2921\"},{\"id\":\"2939\"},{\"id\":\"2940\"},{\"id\":\"2941\"},{\"id\":\"2942\"},{\"id\":\"2943\"}]},\"id\":\"2945\",\"type\":\"Toolbar\"},{\"attributes\":{},\"id\":\"2776\",\"type\":\"BasicTicker\"},{\"attributes\":{},\"id\":\"2784\",\"type\":\"PanTool\"},{\"attributes\":{\"axis\":{\"id\":\"2671\"},\"coordinates\":null,\"grid_line_color\":null,\"group\":null,\"ticker\":null},\"id\":\"2674\",\"type\":\"Grid\"},{\"attributes\":{\"axis_label\":\"Density\",\"coordinates\":null,\"formatter\":{\"id\":\"2809\"},\"group\":null,\"major_label_policy\":{\"id\":\"2810\"},\"ticker\":{\"id\":\"2780\"}},\"id\":\"2779\",\"type\":\"LinearAxis\"},{\"attributes\":{\"axis\":{\"id\":\"2775\"},\"coordinates\":null,\"grid_line_color\":null,\"group\":null,\"ticker\":null},\"id\":\"2778\",\"type\":\"Grid\"},{\"attributes\":{},\"id\":\"2862\",\"type\":\"AllLabels\"},{\"attributes\":{\"fill_alpha\":0.5,\"fill_color\":\"#30a2da\",\"hatch_color\":\"#30a2da\",\"tags\":[\"apply_ranges\"],\"x\":{\"field\":\"x\"},\"y\":{\"field\":\"y\"}},\"id\":\"2960\",\"type\":\"Patch\"},{\"attributes\":{\"axis_label\":\"price_change_percentage_200d\",\"coordinates\":null,\"formatter\":{\"id\":\"2910\"},\"group\":null,\"major_label_policy\":{\"id\":\"2911\"},\"ticker\":{\"id\":\"2880\"}},\"id\":\"2879\",\"type\":\"LinearAxis\"},{\"attributes\":{\"coordinates\":null,\"group\":null,\"text\":\"price_change_percentage_7d\",\"text_color\":\"black\",\"text_font_size\":\"12pt\"},\"id\":\"2663\",\"type\":\"Title\"},{\"attributes\":{},\"id\":\"2669\",\"type\":\"LinearScale\"},{\"attributes\":{\"children\":[[{\"id\":\"2610\"},0,0],[{\"id\":\"2662\"},0,1],[{\"id\":\"2714\"},1,0],[{\"id\":\"2766\"},1,1],[{\"id\":\"2818\"},2,0],[{\"id\":\"2870\"},2,1],[{\"id\":\"2922\"},3,0]]},\"id\":\"3055\",\"type\":\"GridBox\"},{\"attributes\":{},\"id\":\"2875\",\"type\":\"LinearScale\"},{\"attributes\":{\"end\":4.017445795364807,\"reset_end\":4.017445795364807,\"reset_start\":-3.127221444819865,\"start\":-3.127221444819865,\"tags\":[[[\"price_change_percentage_7d\",\"price_change_percentage_7d\",null]]]},\"id\":\"2659\",\"type\":\"Range1d\"},{\"attributes\":{\"callback\":null,\"renderers\":[{\"id\":\"2698\"}],\"tags\":[\"hv_created\"],\"tooltips\":[[\"price_change_percentage_7d\",\"@{price_change_percentage_7d}\"],[\"Density\",\"@{price_change_percentage_7d_density}\"]]},\"id\":\"2661\",\"type\":\"HoverTool\"},{\"attributes\":{\"end\":0.7139776253137062,\"reset_end\":0.7139776253137062,\"reset_start\":0.0,\"tags\":[[[\"price_change_percentage_200d_density\",\"Density\",null]]]},\"id\":\"2868\",\"type\":\"Range1d\"},{\"attributes\":{\"coordinates\":null,\"group\":null,\"text\":\"price_change_percentage_30d\",\"text_color\":\"black\",\"text_font_size\":\"12pt\"},\"id\":\"2767\",\"type\":\"Title\"},{\"attributes\":{},\"id\":\"3051\",\"type\":\"UnionRenderers\"},{\"attributes\":{},\"id\":\"2773\",\"type\":\"LinearScale\"},{\"attributes\":{\"fill_alpha\":0.5,\"fill_color\":\"#30a2da\",\"hatch_color\":\"#30a2da\",\"tags\":[\"apply_ranges\"],\"x\":{\"field\":\"x\"},\"y\":{\"field\":\"y\"}},\"id\":\"2955\",\"type\":\"Patch\"},{\"attributes\":{\"bottom_units\":\"screen\",\"coordinates\":null,\"fill_alpha\":0.5,\"fill_color\":\"lightgrey\",\"group\":null,\"left_units\":\"screen\",\"level\":\"overlay\",\"line_alpha\":1.0,\"line_color\":\"black\",\"line_dash\":[4,4],\"line_width\":2,\"right_units\":\"screen\",\"syncable\":false,\"top_units\":\"screen\"},\"id\":\"2684\",\"type\":\"BoxAnnotation\"},{\"attributes\":{},\"id\":\"2880\",\"type\":\"BasicTicker\"},{\"attributes\":{\"callback\":null,\"renderers\":[{\"id\":\"2802\"}],\"tags\":[\"hv_created\"],\"tooltips\":[[\"price_change_percentage_30d\",\"@{price_change_percentage_30d}\"],[\"Density\",\"@{price_change_percentage_30d_density}\"]]},\"id\":\"2765\",\"type\":\"HoverTool\"},{\"attributes\":{\"axis\":{\"id\":\"2779\"},\"coordinates\":null,\"dimension\":1,\"grid_line_color\":null,\"group\":null,\"ticker\":null},\"id\":\"2782\",\"type\":\"Grid\"},{\"attributes\":{},\"id\":\"2953\",\"type\":\"Selection\"},{\"attributes\":{\"active_drag\":{\"id\":\"2628\"},\"active_scroll\":{\"id\":\"2629\"},\"tools\":[{\"id\":\"2609\"},{\"id\":\"2627\"},{\"id\":\"2628\"},{\"id\":\"2629\"},{\"id\":\"2630\"},{\"id\":\"2631\"}]},\"id\":\"2633\",\"type\":\"Toolbar\"},{\"attributes\":{},\"id\":\"2780\",\"type\":\"BasicTicker\"},{\"attributes\":{},\"id\":\"2911\",\"type\":\"AllLabels\"},{\"attributes\":{\"end\":0.6431832810879603,\"reset_end\":0.6431832810879603,\"reset_start\":0.0,\"tags\":[[[\"price_change_percentage_24h_density\",\"Density\",null]]]},\"id\":\"2608\",\"type\":\"Range1d\"},{\"attributes\":{\"end\":6.796649498587669,\"reset_end\":6.796649498587669,\"reset_start\":-2.838347489226481,\"start\":-2.838347489226481,\"tags\":[[[\"price_change_percentage_30d\",\"price_change_percentage_30d\",null]]]},\"id\":\"2763\",\"type\":\"Range1d\"},{\"attributes\":{},\"id\":\"2651\",\"type\":\"AllLabels\"},{\"attributes\":{},\"id\":\"2679\",\"type\":\"SaveTool\"},{\"attributes\":{\"coordinates\":null,\"data_source\":{\"id\":\"2640\"},\"glyph\":{\"id\":\"2643\"},\"group\":null,\"hover_glyph\":null,\"muted_glyph\":{\"id\":\"2645\"},\"nonselection_glyph\":{\"id\":\"2644\"},\"selection_glyph\":{\"id\":\"2648\"},\"view\":{\"id\":\"2647\"}},\"id\":\"2646\",\"type\":\"GlyphRenderer\"},{\"attributes\":{\"below\":[{\"id\":\"2775\"}],\"center\":[{\"id\":\"2778\"},{\"id\":\"2782\"}],\"height\":300,\"left\":[{\"id\":\"2779\"}],\"margin\":null,\"min_border_bottom\":10,\"min_border_left\":10,\"min_border_right\":10,\"min_border_top\":10,\"output_backend\":\"webgl\",\"renderers\":[{\"id\":\"2802\"}],\"sizing_mode\":\"fixed\",\"title\":{\"id\":\"2767\"},\"toolbar\":{\"id\":\"2789\"},\"toolbar_location\":null,\"width\":700,\"x_range\":{\"id\":\"2763\"},\"x_scale\":{\"id\":\"2771\"},\"y_range\":{\"id\":\"2764\"},\"y_scale\":{\"id\":\"2773\"}},\"id\":\"2766\",\"subtype\":\"Figure\",\"type\":\"Plot\"},{\"attributes\":{\"axis_label\":\"Density\",\"coordinates\":null,\"formatter\":{\"id\":\"2913\"},\"group\":null,\"major_label_policy\":{\"id\":\"2914\"},\"ticker\":{\"id\":\"2884\"}},\"id\":\"2883\",\"type\":\"LinearAxis\"},{\"attributes\":{\"axis\":{\"id\":\"2883\"},\"coordinates\":null,\"dimension\":1,\"grid_line_color\":null,\"group\":null,\"ticker\":null},\"id\":\"2886\",\"type\":\"Grid\"},{\"attributes\":{},\"id\":\"2884\",\"type\":\"BasicTicker\"},{\"attributes\":{},\"id\":\"2888\",\"type\":\"PanTool\"},{\"attributes\":{\"fill_alpha\":0.5,\"fill_color\":\"#30a2da\",\"hatch_color\":\"#30a2da\",\"tags\":[\"apply_ranges\"],\"x\":{\"field\":\"x\"},\"y\":{\"field\":\"y\"}},\"id\":\"2903\",\"type\":\"Patch\"}],\"root_ids\":[\"2606\"]},\"title\":\"Bokeh Application\",\"version\":\"2.4.3\"}};\n",
       "    var render_items = [{\"docid\":\"f36f64ba-d046-457d-aa20-99405c30ca36\",\"root_ids\":[\"2606\"],\"roots\":{\"2606\":\"9c2ab577-8317-4301-b925-4c9d747c7a76\"}}];\n",
       "    root.Bokeh.embed.embed_items_notebook(docs_json, render_items);\n",
       "    for (const render_item of render_items) {\n",
       "      for (const root_id of render_item.root_ids) {\n",
       "\tconst id_el = document.getElementById(root_id)\n",
       "\tif (id_el.children.length && (id_el.children[0].className === 'bk-root')) {\n",
       "\t  const root_el = id_el.children[0]\n",
       "\t  root_el.id = root_el.id + '-rendered'\n",
       "\t}\n",
       "      }\n",
       "    }\n",
       "  }\n",
       "  if (root.Bokeh !== undefined && root.Bokeh.Panel !== undefined) {\n",
       "    embed_document(root);\n",
       "  } else {\n",
       "    var attempts = 0;\n",
       "    var timer = setInterval(function(root) {\n",
       "      if (root.Bokeh !== undefined && root.Bokeh.Panel !== undefined) {\n",
       "        clearInterval(timer);\n",
       "        embed_document(root);\n",
       "      } else if (document.readyState == \"complete\") {\n",
       "        attempts++;\n",
       "        if (attempts > 200) {\n",
       "          clearInterval(timer);\n",
       "          console.log(\"Bokeh: ERROR: Unable to run BokehJS code because BokehJS library is missing\");\n",
       "        }\n",
       "      }\n",
       "    }, 25, root)\n",
       "  }\n",
       "})(window);</script>"
      ],
      "text/plain": [
       ":Layout\n",
       "   .Distribution.Price_change_percentage_24h  :Distribution   [price_change_percentage_24h]   (Density)\n",
       "   .Distribution.Price_change_percentage_7d   :Distribution   [price_change_percentage_7d]   (Density)\n",
       "   .Distribution.Price_change_percentage_14d  :Distribution   [price_change_percentage_14d]   (Density)\n",
       "   .Distribution.Price_change_percentage_30d  :Distribution   [price_change_percentage_30d]   (Density)\n",
       "   .Distribution.Price_change_percentage_60d  :Distribution   [price_change_percentage_60d]   (Density)\n",
       "   .Distribution.Price_change_percentage_200d :Distribution   [price_change_percentage_200d]   (Density)\n",
       "   .Distribution.Price_change_percentage_1y   :Distribution   [price_change_percentage_1y]   (Density)"
      ]
     },
     "execution_count": 7,
     "metadata": {
      "application/vnd.holoviews_exec.v0+json": {
       "id": "2606"
      }
     },
     "output_type": "execute_result"
    }
   ],
   "source": [
    "plot_kdes(s_scaled_df)"
   ]
  },
  {
   "cell_type": "code",
   "execution_count": 8,
   "metadata": {},
   "outputs": [
    {
     "data": {
      "text/html": [
       "<div>\n",
       "<style scoped>\n",
       "    .dataframe tbody tr th:only-of-type {\n",
       "        vertical-align: middle;\n",
       "    }\n",
       "\n",
       "    .dataframe tbody tr th {\n",
       "        vertical-align: top;\n",
       "    }\n",
       "\n",
       "    .dataframe thead th {\n",
       "        text-align: right;\n",
       "    }\n",
       "</style>\n",
       "<table border=\"1\" class=\"dataframe\">\n",
       "  <thead>\n",
       "    <tr style=\"text-align: right;\">\n",
       "      <th></th>\n",
       "      <th>price_change_percentage_24h</th>\n",
       "      <th>price_change_percentage_7d</th>\n",
       "      <th>price_change_percentage_14d</th>\n",
       "      <th>price_change_percentage_30d</th>\n",
       "      <th>price_change_percentage_60d</th>\n",
       "      <th>price_change_percentage_200d</th>\n",
       "      <th>price_change_percentage_1y</th>\n",
       "    </tr>\n",
       "    <tr>\n",
       "      <th>coin_id</th>\n",
       "      <th></th>\n",
       "      <th></th>\n",
       "      <th></th>\n",
       "      <th></th>\n",
       "      <th></th>\n",
       "      <th></th>\n",
       "      <th></th>\n",
       "    </tr>\n",
       "  </thead>\n",
       "  <tbody>\n",
       "    <tr>\n",
       "      <th>neo</th>\n",
       "      <td>0.286546</td>\n",
       "      <td>-0.326301</td>\n",
       "      <td>-1.212670</td>\n",
       "      <td>-0.903134</td>\n",
       "      <td>0.290970</td>\n",
       "      <td>-0.181187</td>\n",
       "      <td>-0.175550</td>\n",
       "    </tr>\n",
       "    <tr>\n",
       "      <th>iota</th>\n",
       "      <td>0.259097</td>\n",
       "      <td>0.249508</td>\n",
       "      <td>-0.478953</td>\n",
       "      <td>-0.218997</td>\n",
       "      <td>-0.735815</td>\n",
       "      <td>-0.329179</td>\n",
       "      <td>-0.285310</td>\n",
       "    </tr>\n",
       "    <tr>\n",
       "      <th>ethlend</th>\n",
       "      <td>-4.981042</td>\n",
       "      <td>-0.045178</td>\n",
       "      <td>-1.206956</td>\n",
       "      <td>-1.212126</td>\n",
       "      <td>0.047736</td>\n",
       "      <td>4.632380</td>\n",
       "      <td>6.088625</td>\n",
       "    </tr>\n",
       "    <tr>\n",
       "      <th>bitcoin-cash</th>\n",
       "      <td>1.193036</td>\n",
       "      <td>2.000959</td>\n",
       "      <td>1.760610</td>\n",
       "      <td>0.545842</td>\n",
       "      <td>-0.291203</td>\n",
       "      <td>-0.499848</td>\n",
       "      <td>-0.270317</td>\n",
       "    </tr>\n",
       "    <tr>\n",
       "      <th>wrapped-bitcoin</th>\n",
       "      <td>0.515453</td>\n",
       "      <td>0.461843</td>\n",
       "      <td>0.769975</td>\n",
       "      <td>0.224045</td>\n",
       "      <td>-0.074674</td>\n",
       "      <td>-0.355054</td>\n",
       "      <td>-0.251623</td>\n",
       "    </tr>\n",
       "    <tr>\n",
       "      <th>litecoin</th>\n",
       "      <td>0.077497</td>\n",
       "      <td>0.334297</td>\n",
       "      <td>0.858520</td>\n",
       "      <td>-0.012646</td>\n",
       "      <td>-0.366477</td>\n",
       "      <td>-0.486266</td>\n",
       "      <td>-0.292351</td>\n",
       "    </tr>\n",
       "    <tr>\n",
       "      <th>ethereum</th>\n",
       "      <td>0.185446</td>\n",
       "      <td>0.934445</td>\n",
       "      <td>0.558692</td>\n",
       "      <td>-0.054341</td>\n",
       "      <td>-0.273483</td>\n",
       "      <td>-0.115759</td>\n",
       "      <td>-0.199352</td>\n",
       "    </tr>\n",
       "    <tr>\n",
       "      <th>usd-coin</th>\n",
       "      <td>0.034352</td>\n",
       "      <td>-0.733026</td>\n",
       "      <td>-0.023140</td>\n",
       "      <td>-0.065775</td>\n",
       "      <td>0.002925</td>\n",
       "      <td>-0.550599</td>\n",
       "      <td>-0.282232</td>\n",
       "    </tr>\n",
       "    <tr>\n",
       "      <th>crypto-com-chain</th>\n",
       "      <td>0.331280</td>\n",
       "      <td>-1.614844</td>\n",
       "      <td>-1.054521</td>\n",
       "      <td>-0.729931</td>\n",
       "      <td>-0.350155</td>\n",
       "      <td>-0.022866</td>\n",
       "      <td>-0.034570</td>\n",
       "    </tr>\n",
       "    <tr>\n",
       "      <th>zcash</th>\n",
       "      <td>-0.127467</td>\n",
       "      <td>0.929119</td>\n",
       "      <td>0.677532</td>\n",
       "      <td>0.223834</td>\n",
       "      <td>-0.437068</td>\n",
       "      <td>-0.265163</td>\n",
       "      <td>-0.214829</td>\n",
       "    </tr>\n",
       "  </tbody>\n",
       "</table>\n",
       "</div>"
      ],
      "text/plain": [
       "                  price_change_percentage_24h  price_change_percentage_7d  \\\n",
       "coin_id                                                                     \n",
       "neo                                  0.286546                   -0.326301   \n",
       "iota                                 0.259097                    0.249508   \n",
       "ethlend                             -4.981042                   -0.045178   \n",
       "bitcoin-cash                         1.193036                    2.000959   \n",
       "wrapped-bitcoin                      0.515453                    0.461843   \n",
       "litecoin                             0.077497                    0.334297   \n",
       "ethereum                             0.185446                    0.934445   \n",
       "usd-coin                             0.034352                   -0.733026   \n",
       "crypto-com-chain                     0.331280                   -1.614844   \n",
       "zcash                               -0.127467                    0.929119   \n",
       "\n",
       "                  price_change_percentage_14d  price_change_percentage_30d  \\\n",
       "coin_id                                                                      \n",
       "neo                                 -1.212670                    -0.903134   \n",
       "iota                                -0.478953                    -0.218997   \n",
       "ethlend                             -1.206956                    -1.212126   \n",
       "bitcoin-cash                         1.760610                     0.545842   \n",
       "wrapped-bitcoin                      0.769975                     0.224045   \n",
       "litecoin                             0.858520                    -0.012646   \n",
       "ethereum                             0.558692                    -0.054341   \n",
       "usd-coin                            -0.023140                    -0.065775   \n",
       "crypto-com-chain                    -1.054521                    -0.729931   \n",
       "zcash                                0.677532                     0.223834   \n",
       "\n",
       "                  price_change_percentage_60d  price_change_percentage_200d  \\\n",
       "coin_id                                                                       \n",
       "neo                                  0.290970                     -0.181187   \n",
       "iota                                -0.735815                     -0.329179   \n",
       "ethlend                              0.047736                      4.632380   \n",
       "bitcoin-cash                        -0.291203                     -0.499848   \n",
       "wrapped-bitcoin                     -0.074674                     -0.355054   \n",
       "litecoin                            -0.366477                     -0.486266   \n",
       "ethereum                            -0.273483                     -0.115759   \n",
       "usd-coin                             0.002925                     -0.550599   \n",
       "crypto-com-chain                    -0.350155                     -0.022866   \n",
       "zcash                               -0.437068                     -0.265163   \n",
       "\n",
       "                  price_change_percentage_1y  \n",
       "coin_id                                       \n",
       "neo                                -0.175550  \n",
       "iota                               -0.285310  \n",
       "ethlend                             6.088625  \n",
       "bitcoin-cash                       -0.270317  \n",
       "wrapped-bitcoin                    -0.251623  \n",
       "litecoin                           -0.292351  \n",
       "ethereum                           -0.199352  \n",
       "usd-coin                           -0.282232  \n",
       "crypto-com-chain                   -0.034570  \n",
       "zcash                              -0.214829  "
      ]
     },
     "execution_count": 8,
     "metadata": {},
     "output_type": "execute_result"
    }
   ],
   "source": [
    "# Display sample data\n",
    "\n",
    "s_scaled_df.sample(10)"
   ]
  },
  {
   "cell_type": "code",
   "execution_count": 9,
   "metadata": {},
   "outputs": [
    {
     "data": {},
     "metadata": {},
     "output_type": "display_data"
    },
    {
     "data": {
      "application/vnd.holoviews_exec.v0+json": "",
      "text/html": [
       "<div id='3480'>\n",
       "  <div class=\"bk-root\" id=\"f993a7f0-5e5e-46bf-8506-4005304c71f7\" data-root-id=\"3480\"></div>\n",
       "</div>\n",
       "<script type=\"application/javascript\">(function(root) {\n",
       "  function embed_document(root) {\n",
       "    var docs_json = {\"324d1e00-cde9-49c3-afc9-acda719f6d4f\":{\"defs\":[{\"extends\":null,\"module\":null,\"name\":\"ReactiveHTML1\",\"overrides\":[],\"properties\":[]},{\"extends\":null,\"module\":null,\"name\":\"FlexBox1\",\"overrides\":[],\"properties\":[{\"default\":\"flex-start\",\"kind\":null,\"name\":\"align_content\"},{\"default\":\"flex-start\",\"kind\":null,\"name\":\"align_items\"},{\"default\":\"row\",\"kind\":null,\"name\":\"flex_direction\"},{\"default\":\"wrap\",\"kind\":null,\"name\":\"flex_wrap\"},{\"default\":\"flex-start\",\"kind\":null,\"name\":\"justify_content\"}]},{\"extends\":null,\"module\":null,\"name\":\"GridStack1\",\"overrides\":[],\"properties\":[{\"default\":\"warn\",\"kind\":null,\"name\":\"mode\"},{\"default\":null,\"kind\":null,\"name\":\"ncols\"},{\"default\":null,\"kind\":null,\"name\":\"nrows\"},{\"default\":true,\"kind\":null,\"name\":\"allow_resize\"},{\"default\":true,\"kind\":null,\"name\":\"allow_drag\"},{\"default\":[],\"kind\":null,\"name\":\"state\"}]},{\"extends\":null,\"module\":null,\"name\":\"click1\",\"overrides\":[],\"properties\":[{\"default\":\"\",\"kind\":null,\"name\":\"terminal_output\"},{\"default\":\"\",\"kind\":null,\"name\":\"debug_name\"},{\"default\":0,\"kind\":null,\"name\":\"clears\"}]},{\"extends\":null,\"module\":null,\"name\":\"NotificationAreaBase1\",\"overrides\":[],\"properties\":[{\"default\":\"bottom-right\",\"kind\":null,\"name\":\"position\"},{\"default\":0,\"kind\":null,\"name\":\"_clear\"}]},{\"extends\":null,\"module\":null,\"name\":\"NotificationArea1\",\"overrides\":[],\"properties\":[{\"default\":[],\"kind\":null,\"name\":\"notifications\"},{\"default\":\"bottom-right\",\"kind\":null,\"name\":\"position\"},{\"default\":0,\"kind\":null,\"name\":\"_clear\"},{\"default\":[{\"background\":\"#ffc107\",\"icon\":{\"className\":\"fas fa-exclamation-triangle\",\"color\":\"white\",\"tagName\":\"i\"},\"type\":\"warning\"},{\"background\":\"#007bff\",\"icon\":{\"className\":\"fas fa-info-circle\",\"color\":\"white\",\"tagName\":\"i\"},\"type\":\"info\"}],\"kind\":null,\"name\":\"types\"}]},{\"extends\":null,\"module\":null,\"name\":\"Notification\",\"overrides\":[],\"properties\":[{\"default\":null,\"kind\":null,\"name\":\"background\"},{\"default\":3000,\"kind\":null,\"name\":\"duration\"},{\"default\":null,\"kind\":null,\"name\":\"icon\"},{\"default\":\"\",\"kind\":null,\"name\":\"message\"},{\"default\":null,\"kind\":null,\"name\":\"notification_type\"},{\"default\":false,\"kind\":null,\"name\":\"_destroyed\"}]},{\"extends\":null,\"module\":null,\"name\":\"TemplateActions1\",\"overrides\":[],\"properties\":[{\"default\":0,\"kind\":null,\"name\":\"open_modal\"},{\"default\":0,\"kind\":null,\"name\":\"close_modal\"}]},{\"extends\":null,\"module\":null,\"name\":\"MaterialTemplateActions1\",\"overrides\":[],\"properties\":[{\"default\":0,\"kind\":null,\"name\":\"open_modal\"},{\"default\":0,\"kind\":null,\"name\":\"close_modal\"}]}],\"roots\":{\"references\":[{\"attributes\":{},\"id\":\"3713\",\"type\":\"ResetTool\"},{\"attributes\":{},\"id\":\"3595\",\"type\":\"LinearScale\"},{\"attributes\":{},\"id\":\"3515\",\"type\":\"Selection\"},{\"attributes\":{\"axis\":{\"id\":\"3597\"},\"coordinates\":null,\"grid_line_color\":null,\"group\":null,\"ticker\":null},\"id\":\"3600\",\"type\":\"Grid\"},{\"attributes\":{\"fill_alpha\":0.5,\"fill_color\":\"#30a2da\",\"hatch_color\":\"#30a2da\",\"tags\":[\"apply_ranges\"],\"x\":{\"field\":\"x\"},\"y\":{\"field\":\"y\"}},\"id\":\"3517\",\"type\":\"Patch\"},{\"attributes\":{\"coordinates\":null,\"group\":null,\"text\":\"price_change_percentage_14d\",\"text_color\":\"black\",\"text_font_size\":\"12pt\"},\"id\":\"3589\",\"type\":\"Title\"},{\"attributes\":{\"source\":{\"id\":\"3514\"}},\"id\":\"3521\",\"type\":\"CDSView\"},{\"attributes\":{},\"id\":\"3606\",\"type\":\"PanTool\"},{\"attributes\":{\"overlay\":{\"id\":\"3714\"}},\"id\":\"3712\",\"type\":\"BoxZoomTool\"},{\"attributes\":{\"fill_alpha\":0.5,\"fill_color\":\"#30a2da\",\"hatch_alpha\":0.1,\"hatch_color\":\"#30a2da\",\"line_alpha\":1,\"tags\":[\"apply_ranges\"],\"x\":{\"field\":\"x\"},\"y\":{\"field\":\"y\"}},\"id\":\"3778\",\"type\":\"Patch\"},{\"attributes\":{\"fill_alpha\":0.5,\"fill_color\":\"#30a2da\",\"hatch_alpha\":0.1,\"hatch_color\":\"#30a2da\",\"line_alpha\":1,\"tags\":[\"apply_ranges\"],\"x\":{\"field\":\"x\"},\"y\":{\"field\":\"y\"}},\"id\":\"3830\",\"type\":\"Patch\"},{\"attributes\":{\"callback\":null,\"renderers\":[{\"id\":\"3520\"}],\"tags\":[\"hv_created\"],\"tooltips\":[[\"price_change_percentage_24h\",\"@{price_change_percentage_24h}\"],[\"Density\",\"@{price_change_percentage_24h_density}\"]]},\"id\":\"3483\",\"type\":\"HoverTool\"},{\"attributes\":{\"axis_label\":\"price_change_percentage_14d\",\"coordinates\":null,\"formatter\":{\"id\":\"3628\"},\"group\":null,\"major_label_policy\":{\"id\":\"3629\"},\"ticker\":{\"id\":\"3598\"}},\"id\":\"3597\",\"type\":\"LinearAxis\"},{\"attributes\":{\"coordinates\":null,\"data_source\":{\"id\":\"3774\"},\"glyph\":{\"id\":\"3777\"},\"group\":null,\"hover_glyph\":null,\"muted_glyph\":{\"id\":\"3779\"},\"nonselection_glyph\":{\"id\":\"3778\"},\"selection_glyph\":{\"id\":\"3782\"},\"view\":{\"id\":\"3781\"}},\"id\":\"3780\",\"type\":\"GlyphRenderer\"},{\"attributes\":{},\"id\":\"3598\",\"type\":\"BasicTicker\"},{\"attributes\":{\"axis_label\":\"Density\",\"coordinates\":null,\"formatter\":{\"id\":\"3631\"},\"group\":null,\"major_label_policy\":{\"id\":\"3632\"},\"ticker\":{\"id\":\"3602\"}},\"id\":\"3601\",\"type\":\"LinearAxis\"},{\"attributes\":{\"bottom_units\":\"screen\",\"coordinates\":null,\"fill_alpha\":0.5,\"fill_color\":\"lightgrey\",\"group\":null,\"left_units\":\"screen\",\"level\":\"overlay\",\"line_alpha\":1.0,\"line_color\":\"black\",\"line_dash\":[4,4],\"line_width\":2,\"right_units\":\"screen\",\"syncable\":false,\"top_units\":\"screen\"},\"id\":\"3714\",\"type\":\"BoxAnnotation\"},{\"attributes\":{\"fill_alpha\":0.2,\"fill_color\":\"#30a2da\",\"hatch_alpha\":0.2,\"hatch_color\":\"#30a2da\",\"line_alpha\":0.2,\"tags\":[\"apply_ranges\"],\"x\":{\"field\":\"x\"},\"y\":{\"field\":\"y\"}},\"id\":\"3519\",\"type\":\"Patch\"},{\"attributes\":{\"axis\":{\"id\":\"3601\"},\"coordinates\":null,\"dimension\":1,\"grid_line_color\":null,\"group\":null,\"ticker\":null},\"id\":\"3604\",\"type\":\"Grid\"},{\"attributes\":{\"source\":{\"id\":\"3774\"}},\"id\":\"3781\",\"type\":\"CDSView\"},{\"attributes\":{},\"id\":\"3602\",\"type\":\"BasicTicker\"},{\"attributes\":{\"fill_alpha\":0.5,\"fill_color\":\"#30a2da\",\"hatch_color\":\"#30a2da\",\"tags\":[\"apply_ranges\"],\"x\":{\"field\":\"x\"},\"y\":{\"field\":\"y\"}},\"id\":\"3522\",\"type\":\"Patch\"},{\"attributes\":{\"fill_alpha\":0.2,\"fill_color\":\"#30a2da\",\"hatch_alpha\":0.2,\"hatch_color\":\"#30a2da\",\"line_alpha\":0.2,\"tags\":[\"apply_ranges\"],\"x\":{\"field\":\"x\"},\"y\":{\"field\":\"y\"}},\"id\":\"3779\",\"type\":\"Patch\"},{\"attributes\":{},\"id\":\"3607\",\"type\":\"WheelZoomTool\"},{\"attributes\":{\"fill_alpha\":0.5,\"fill_color\":\"#30a2da\",\"hatch_color\":\"#30a2da\",\"tags\":[\"apply_ranges\"],\"x\":{\"field\":\"x\"},\"y\":{\"field\":\"y\"}},\"id\":\"3782\",\"type\":\"Patch\"},{\"attributes\":{\"end\":0.35562076964976125,\"reset_end\":0.35562076964976125,\"reset_start\":0.0,\"tags\":[[[\"price_change_percentage_60d_density\",\"Density\",null]]]},\"id\":\"3690\",\"type\":\"Range1d\"},{\"attributes\":{},\"id\":\"3605\",\"type\":\"SaveTool\"},{\"attributes\":{},\"id\":\"3711\",\"type\":\"WheelZoomTool\"},{\"attributes\":{},\"id\":\"3706\",\"type\":\"BasicTicker\"},{\"attributes\":{\"overlay\":{\"id\":\"3610\"}},\"id\":\"3608\",\"type\":\"BoxZoomTool\"},{\"attributes\":{},\"id\":\"3609\",\"type\":\"ResetTool\"},{\"attributes\":{\"coordinates\":null,\"group\":null,\"text\":\"price_change_percentage_7d\",\"text_color\":\"black\",\"text_font_size\":\"12pt\"},\"id\":\"3537\",\"type\":\"Title\"},{\"attributes\":{},\"id\":\"3785\",\"type\":\"AllLabels\"},{\"attributes\":{\"end\":0.11381296723854094,\"reset_end\":0.11381296723854094,\"reset_start\":0.0,\"tags\":[[[\"price_change_percentage_1y_density\",\"Density\",null]]]},\"id\":\"3794\",\"type\":\"Range1d\"},{\"attributes\":{\"axis\":{\"id\":\"3705\"},\"coordinates\":null,\"dimension\":1,\"grid_line_color\":null,\"group\":null,\"ticker\":null},\"id\":\"3708\",\"type\":\"Grid\"},{\"attributes\":{},\"id\":\"3524\",\"type\":\"BasicTickFormatter\"},{\"attributes\":{},\"id\":\"3784\",\"type\":\"BasicTickFormatter\"},{\"attributes\":{\"axis_label\":\"Density\",\"coordinates\":null,\"formatter\":{\"id\":\"3735\"},\"group\":null,\"major_label_policy\":{\"id\":\"3736\"},\"ticker\":{\"id\":\"3706\"}},\"id\":\"3705\",\"type\":\"LinearAxis\"},{\"attributes\":{},\"id\":\"3733\",\"type\":\"AllLabels\"},{\"attributes\":{},\"id\":\"3541\",\"type\":\"LinearScale\"},{\"attributes\":{},\"id\":\"3702\",\"type\":\"BasicTicker\"},{\"attributes\":{\"bottom_units\":\"screen\",\"coordinates\":null,\"fill_alpha\":0.5,\"fill_color\":\"lightgrey\",\"group\":null,\"left_units\":\"screen\",\"level\":\"overlay\",\"line_alpha\":1.0,\"line_color\":\"black\",\"line_dash\":[4,4],\"line_width\":2,\"right_units\":\"screen\",\"syncable\":false,\"top_units\":\"screen\"},\"id\":\"3610\",\"type\":\"BoxAnnotation\"},{\"attributes\":{},\"id\":\"3527\",\"type\":\"BasicTickFormatter\"},{\"attributes\":{},\"id\":\"3680\",\"type\":\"BasicTickFormatter\"},{\"attributes\":{},\"id\":\"3787\",\"type\":\"BasicTickFormatter\"},{\"attributes\":{\"end\":0.29505857599206997,\"reset_end\":0.29505857599206997,\"reset_start\":0.0,\"tags\":[[[\"price_change_percentage_24h_density\",\"Density\",null]]]},\"id\":\"3482\",\"type\":\"Range1d\"},{\"attributes\":{\"axis_label\":\"price_change_percentage_60d\",\"coordinates\":null,\"formatter\":{\"id\":\"3732\"},\"group\":null,\"major_label_policy\":{\"id\":\"3733\"},\"ticker\":{\"id\":\"3702\"}},\"id\":\"3701\",\"type\":\"LinearAxis\"},{\"attributes\":{\"fill_alpha\":0.5,\"fill_color\":\"#30a2da\",\"hatch_alpha\":0.1,\"hatch_color\":\"#30a2da\",\"line_alpha\":1,\"tags\":[\"apply_ranges\"],\"x\":{\"field\":\"x\"},\"y\":{\"field\":\"y\"}},\"id\":\"3622\",\"type\":\"Patch\"},{\"attributes\":{},\"id\":\"3801\",\"type\":\"LinearScale\"},{\"attributes\":{\"axis\":{\"id\":\"3701\"},\"coordinates\":null,\"grid_line_color\":null,\"group\":null,\"ticker\":null},\"id\":\"3704\",\"type\":\"Grid\"},{\"attributes\":{},\"id\":\"3528\",\"type\":\"AllLabels\"},{\"attributes\":{\"data\":{\"x\":{\"__ndarray__\":\"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\",\"dtype\":\"float64\",\"order\":\"little\",\"shape\":[200]},\"y\":{\"__ndarray__\":\"AAAAAAAAAAAAAAAAAAAAAAAAAAAAAAAAAAAAAAAAAAAAAAAAAAAAAAAAAAAAAAAAAAAAAAAAAAAAAAAAAAAAAAAAAAAAAAAAAAAAAAAAAAAAAAAAAAAAAAAAAAAAAAAAAAAAAAAAAAAAAAAAAAAAAAAAAAAAAAAAAAAAAAAAAAAAAAAAAAAAAAAAAAAAAAAAAAAAAAAAAAAAAAAAAAAAAAAAAAAAAAAAAAAAAAAAAAAAAAAAAAAAAAAAAAAAAAAAAAAAAAAAAAAAAAAAAAAAAAAAAAAAAAAAAAAAAAAAAAAAAAAAAAAAAAAAAAAAAAAAAAAAAAAAAAAAAAAAAAAAAAAAAAAAAAAAAAAAAAAAAAAAAAAAAAAAAAAAAAAAAAAAAAAAAAAAAAAAAAAAAAAAAAAAAAAAAAAAAAAAAAAAAAAAAAAAAAAAAAAAAAAAAAAAAAAAAAAAAAAAAAAAAAAAAAAAAAAAAAAAAAAAAAAAAAAAAAAAAAAAAAAAAAAAAAAAAAAAAAAAAAAAAAAAAAAAAAAAAAAAAAAAAAAAAAAAAAAAAAAAAAAAAAAAAAAAAAAAAAAAAAAAAAAAAAAAAAAAAAAAAAAAAAAAAAAAAAAAAAAAAAAAAAAAAAAAAAAAAAAAAAAAAAAAAAAAAAAAAAAAAAAAAAAAAAAAAAAAAAAAAAAAAAAAAAAAAAAAAAAAAAAAAAAAAAAAAAAAAAAAAAAAAAAAAAAAAAAAAAAAAAAAAAAAAAAAAAAAAAAAAAAAAAAAAAAAAAAAAAAAAAAAAAAAAAAAAAAAAAAAAAAAAAAAAAAAAAAAAAAAAAAAAAAAAAAAAAAAAAAAAAAAAAAAAAAAAAAAAAAAAAAAAAAAAAAAAAAAAAAAAAAAAAAAAAAAAAAAAAAAAAAAAAAAAAAAAAAAAAAAAAAAAAAAAAAAAAAAAAAAAAAAAAAAAAAAAAAAAAAAAAAAAAAAAAAAAAAAAAAAAAAAAAAAAAAAAAAAAAAAAAAAAAAAAAAAAAAAAAAAAAAAAAAAAAAAAAAAAAAAAAAAAAAAAAAAAAAAAAAAAAAAAAC2jlHgM7MgP3viTdUCQCw/Y2BTLnYgNz9paZmwHVNCP7yBKSNVG0w/0txa5fbcVD8VTqkiXvpdP8Z/ztGJ2GQ/H0WZcmkPbD8rLOeGdkdyP4eRJVzcDHc/OXN4PhgifD8MNetG/Z2AP/1o0kHw/4I/b/KY474GhT9ID+sGl4WGP6TMBVBWWYc/pnhtidpthz/MYjfDKcGGP7odM7TCY4U/SPQQswN2gz/SFVNqOSOBP7xYm+7BNn0/wc0ui7cZeD96fzPZaz5zPzk3sB0Jv20/ANZZjktBZj8lAHOydx9gP7Rp4zVhpFY/cU+bAcLoTj/jFhOmG7FEP2+MswO14js/4wZah/wzND/Bapu9DbMxP44FlQi5ZjQ/PvFrFWckPT/ue6JRLNZGPz4deAU+LlI/hqR8VNV9XD9vYXgNW7tlPzmIiCPfE3A/3uqnq3EMdz8czDN9rQCAP/pQ0ShhhoU/SchRBQYNjD8h+/TEtraRP+MaQQn3sJU/L8fsnBrFmT/Dnlm+jrqdPwS9bh/xq6A/OU6yde01oj+d7rmfPWujP4BiV+ceSKQ/lqDq4xLXpD8s53spAzGlP1h4EkKpe6U/HSL8pMnmpT+JdShl/qimP55H8YKx/Kc/Vzwjg4gdqj9IjsINCEatP74W769p1rA/gHX4ZWjAsz97VENp4XG3P1QawTTA8bs/ACG9sa2cwD8unpOXr5jDP7urFIcS2MY/r8XzoRs9yj/krOmZraLNPwyzjBp9b9A/tLIUMYPj0T+3kCjpPBnTPyBLkPCT/9M/iqxcteuJ1D8i86Pe/7DUP0w+k4E0c9Q/EYOarmbU0z8ILKJQWd3SPykUg93cmtE/L3DiTcsc0D+gUFUH1enMPwhb+seEa8k/vIUeSufixT+44j2gP3HCP543MczcZb4/Q3J4tAt8uD+ci+A/9kKzP0D47VwelK0/2szhBtImpj+vNRzdyCugP01iJ9hLAJc/5nj79NXajz/S+xwseXeFP5lA7GW2JHw/K00KvgPwcT/xpfbSOjlmP0geE+1BwFo/wMaQGG9GTz8y6yH/UcBBPw==\",\"dtype\":\"float64\",\"order\":\"little\",\"shape\":[200]}},\"selected\":{\"id\":\"3723\"},\"selection_policy\":{\"id\":\"3903\"}},\"id\":\"3722\",\"type\":\"ColumnDataSource\"},{\"attributes\":{},\"id\":\"3788\",\"type\":\"AllLabels\"},{\"attributes\":{},\"id\":\"3710\",\"type\":\"PanTool\"},{\"attributes\":{},\"id\":\"3914\",\"type\":\"UnionRenderers\"},{\"attributes\":{\"fill_alpha\":0.2,\"fill_color\":\"#30a2da\",\"hatch_alpha\":0.2,\"hatch_color\":\"#30a2da\",\"line_alpha\":0.2,\"tags\":[\"apply_ranges\"],\"x\":{\"field\":\"x\"},\"y\":{\"field\":\"y\"}},\"id\":\"3623\",\"type\":\"Patch\"},{\"attributes\":{\"fill_alpha\":0.5,\"fill_color\":\"#30a2da\",\"hatch_color\":\"#30a2da\",\"tags\":[\"apply_ranges\"],\"x\":{\"field\":\"x\"},\"y\":{\"field\":\"y\"}},\"id\":\"3626\",\"type\":\"Patch\"},{\"attributes\":{\"active_drag\":{\"id\":\"3658\"},\"active_scroll\":{\"id\":\"3659\"},\"tools\":[{\"id\":\"3639\"},{\"id\":\"3657\"},{\"id\":\"3658\"},{\"id\":\"3659\"},{\"id\":\"3660\"},{\"id\":\"3661\"}]},\"id\":\"3663\",\"type\":\"Toolbar\"},{\"attributes\":{\"fill_alpha\":0.5,\"fill_color\":\"#30a2da\",\"hatch_color\":\"#30a2da\",\"tags\":[\"apply_ranges\"],\"x\":{\"field\":\"x\"},\"y\":{\"field\":\"y\"}},\"id\":\"3621\",\"type\":\"Patch\"},{\"attributes\":{\"end\":56.93787071899408,\"reset_end\":56.93787071899408,\"reset_start\":-11.124297178009613,\"start\":-11.124297178009613,\"tags\":[[[\"price_change_percentage_1y\",\"price_change_percentage_1y\",null]]]},\"id\":\"3793\",\"type\":\"Range1d\"},{\"attributes\":{\"coordinates\":null,\"data_source\":{\"id\":\"3670\"},\"glyph\":{\"id\":\"3673\"},\"group\":null,\"hover_glyph\":null,\"muted_glyph\":{\"id\":\"3675\"},\"nonselection_glyph\":{\"id\":\"3674\"},\"selection_glyph\":{\"id\":\"3678\"},\"view\":{\"id\":\"3677\"}},\"id\":\"3676\",\"type\":\"GlyphRenderer\"},{\"attributes\":{\"callback\":null,\"renderers\":[{\"id\":\"3832\"}],\"tags\":[\"hv_created\"],\"tooltips\":[[\"price_change_percentage_1y\",\"@{price_change_percentage_1y}\"],[\"Density\",\"@{price_change_percentage_1y_density}\"]]},\"id\":\"3795\",\"type\":\"HoverTool\"},{\"attributes\":{\"end\":0.3674146697954467,\"reset_end\":0.3674146697954467,\"reset_start\":0.0,\"tags\":[[[\"price_change_percentage_30d_density\",\"Density\",null]]]},\"id\":\"3638\",\"type\":\"Range1d\"},{\"attributes\":{\"active_drag\":{\"id\":\"3606\"},\"active_scroll\":{\"id\":\"3607\"},\"tools\":[{\"id\":\"3587\"},{\"id\":\"3605\"},{\"id\":\"3606\"},{\"id\":\"3607\"},{\"id\":\"3608\"},{\"id\":\"3609\"}]},\"id\":\"3611\",\"type\":\"Toolbar\"},{\"attributes\":{},\"id\":\"3697\",\"type\":\"LinearScale\"},{\"attributes\":{},\"id\":\"3628\",\"type\":\"BasicTickFormatter\"},{\"attributes\":{},\"id\":\"3803\",\"type\":\"LinearScale\"},{\"attributes\":{},\"id\":\"3553\",\"type\":\"SaveTool\"},{\"attributes\":{},\"id\":\"3645\",\"type\":\"LinearScale\"},{\"attributes\":{\"overlay\":{\"id\":\"3558\"}},\"id\":\"3556\",\"type\":\"BoxZoomTool\"},{\"attributes\":{\"coordinates\":null,\"group\":null,\"text\":\"price_change_percentage_1y\",\"text_color\":\"black\",\"text_font_size\":\"12pt\"},\"id\":\"3797\",\"type\":\"Title\"},{\"attributes\":{},\"id\":\"3892\",\"type\":\"UnionRenderers\"},{\"attributes\":{\"fill_alpha\":0.5,\"fill_color\":\"#30a2da\",\"hatch_color\":\"#30a2da\",\"tags\":[\"apply_ranges\"],\"x\":{\"field\":\"x\"},\"y\":{\"field\":\"y\"}},\"id\":\"3725\",\"type\":\"Patch\"},{\"attributes\":{},\"id\":\"3723\",\"type\":\"Selection\"},{\"attributes\":{},\"id\":\"3631\",\"type\":\"BasicTickFormatter\"},{\"attributes\":{\"source\":{\"id\":\"3722\"}},\"id\":\"3729\",\"type\":\"CDSView\"},{\"attributes\":{},\"id\":\"3557\",\"type\":\"ResetTool\"},{\"attributes\":{\"axis\":{\"id\":\"3805\"},\"coordinates\":null,\"grid_line_color\":null,\"group\":null,\"ticker\":null},\"id\":\"3808\",\"type\":\"Grid\"},{\"attributes\":{\"below\":[{\"id\":\"3805\"}],\"center\":[{\"id\":\"3808\"},{\"id\":\"3812\"}],\"height\":300,\"left\":[{\"id\":\"3809\"}],\"margin\":null,\"min_border_bottom\":10,\"min_border_left\":10,\"min_border_right\":10,\"min_border_top\":10,\"output_backend\":\"webgl\",\"renderers\":[{\"id\":\"3832\"}],\"sizing_mode\":\"fixed\",\"title\":{\"id\":\"3797\"},\"toolbar\":{\"id\":\"3819\"},\"toolbar_location\":null,\"width\":700,\"x_range\":{\"id\":\"3793\"},\"x_scale\":{\"id\":\"3801\"},\"y_range\":{\"id\":\"3794\"},\"y_scale\":{\"id\":\"3803\"}},\"id\":\"3796\",\"subtype\":\"Figure\",\"type\":\"Plot\"},{\"attributes\":{\"below\":[{\"id\":\"3753\"}],\"center\":[{\"id\":\"3756\"},{\"id\":\"3760\"}],\"height\":300,\"left\":[{\"id\":\"3757\"}],\"margin\":null,\"min_border_bottom\":10,\"min_border_left\":10,\"min_border_right\":10,\"min_border_top\":10,\"output_backend\":\"webgl\",\"renderers\":[{\"id\":\"3780\"}],\"sizing_mode\":\"fixed\",\"title\":{\"id\":\"3745\"},\"toolbar\":{\"id\":\"3767\"},\"toolbar_location\":null,\"width\":700,\"x_range\":{\"id\":\"3741\"},\"x_scale\":{\"id\":\"3749\"},\"y_range\":{\"id\":\"3742\"},\"y_scale\":{\"id\":\"3751\"}},\"id\":\"3744\",\"subtype\":\"Figure\",\"type\":\"Plot\"},{\"attributes\":{},\"id\":\"3814\",\"type\":\"PanTool\"},{\"attributes\":{},\"id\":\"3555\",\"type\":\"WheelZoomTool\"},{\"attributes\":{\"below\":[{\"id\":\"3545\"}],\"center\":[{\"id\":\"3548\"},{\"id\":\"3552\"}],\"height\":300,\"left\":[{\"id\":\"3549\"}],\"margin\":null,\"min_border_bottom\":10,\"min_border_left\":10,\"min_border_right\":10,\"min_border_top\":10,\"output_backend\":\"webgl\",\"renderers\":[{\"id\":\"3572\"}],\"sizing_mode\":\"fixed\",\"title\":{\"id\":\"3537\"},\"toolbar\":{\"id\":\"3559\"},\"toolbar_location\":null,\"width\":700,\"x_range\":{\"id\":\"3533\"},\"x_scale\":{\"id\":\"3541\"},\"y_range\":{\"id\":\"3534\"},\"y_scale\":{\"id\":\"3543\"}},\"id\":\"3536\",\"subtype\":\"Figure\",\"type\":\"Plot\"},{\"attributes\":{\"axis_label\":\"price_change_percentage_1y\",\"coordinates\":null,\"formatter\":{\"id\":\"3836\"},\"group\":null,\"major_label_policy\":{\"id\":\"3837\"},\"ticker\":{\"id\":\"3806\"}},\"id\":\"3805\",\"type\":\"LinearAxis\"},{\"attributes\":{\"end\":3.5071788881424246,\"reset_end\":3.5071788881424246,\"reset_start\":-2.4473961068116887,\"start\":-2.4473961068116887,\"tags\":[[[\"price_change_percentage_7d\",\"price_change_percentage_7d\",null]]]},\"id\":\"3533\",\"type\":\"Range1d\"},{\"attributes\":{\"fill_alpha\":0.2,\"fill_color\":\"#30a2da\",\"hatch_alpha\":0.2,\"hatch_color\":\"#30a2da\",\"line_alpha\":0.2,\"tags\":[\"apply_ranges\"],\"x\":{\"field\":\"x\"},\"y\":{\"field\":\"y\"}},\"id\":\"3727\",\"type\":\"Patch\"},{\"attributes\":{},\"id\":\"3806\",\"type\":\"BasicTicker\"},{\"attributes\":{},\"id\":\"3550\",\"type\":\"BasicTicker\"},{\"attributes\":{\"axis\":{\"id\":\"3549\"},\"coordinates\":null,\"dimension\":1,\"grid_line_color\":null,\"group\":null,\"ticker\":null},\"id\":\"3552\",\"type\":\"Grid\"},{\"attributes\":{\"fill_alpha\":0.5,\"fill_color\":\"#30a2da\",\"hatch_color\":\"#30a2da\",\"tags\":[\"apply_ranges\"],\"x\":{\"field\":\"x\"},\"y\":{\"field\":\"y\"}},\"id\":\"3730\",\"type\":\"Patch\"},{\"attributes\":{\"axis_label\":\"Density\",\"coordinates\":null,\"formatter\":{\"id\":\"3839\"},\"group\":null,\"major_label_policy\":{\"id\":\"3840\"},\"ticker\":{\"id\":\"3810\"}},\"id\":\"3809\",\"type\":\"LinearAxis\"},{\"attributes\":{\"axis_label\":\"Density\",\"coordinates\":null,\"formatter\":{\"id\":\"3579\"},\"group\":null,\"major_label_policy\":{\"id\":\"3580\"},\"ticker\":{\"id\":\"3550\"}},\"id\":\"3549\",\"type\":\"LinearAxis\"},{\"attributes\":{\"below\":[{\"id\":\"3649\"}],\"center\":[{\"id\":\"3652\"},{\"id\":\"3656\"}],\"height\":300,\"left\":[{\"id\":\"3653\"}],\"margin\":null,\"min_border_bottom\":10,\"min_border_left\":10,\"min_border_right\":10,\"min_border_top\":10,\"output_backend\":\"webgl\",\"renderers\":[{\"id\":\"3676\"}],\"sizing_mode\":\"fixed\",\"title\":{\"id\":\"3641\"},\"toolbar\":{\"id\":\"3663\"},\"toolbar_location\":null,\"width\":700,\"x_range\":{\"id\":\"3637\"},\"x_scale\":{\"id\":\"3645\"},\"y_range\":{\"id\":\"3638\"},\"y_scale\":{\"id\":\"3647\"}},\"id\":\"3640\",\"subtype\":\"Figure\",\"type\":\"Plot\"},{\"attributes\":{\"axis\":{\"id\":\"3809\"},\"coordinates\":null,\"dimension\":1,\"grid_line_color\":null,\"group\":null,\"ticker\":null},\"id\":\"3812\",\"type\":\"Grid\"},{\"attributes\":{},\"id\":\"3810\",\"type\":\"BasicTicker\"},{\"attributes\":{},\"id\":\"3815\",\"type\":\"WheelZoomTool\"},{\"attributes\":{},\"id\":\"3632\",\"type\":\"AllLabels\"},{\"attributes\":{},\"id\":\"3577\",\"type\":\"AllLabels\"},{\"attributes\":{},\"id\":\"3546\",\"type\":\"BasicTicker\"},{\"attributes\":{},\"id\":\"3813\",\"type\":\"SaveTool\"},{\"attributes\":{},\"id\":\"3650\",\"type\":\"BasicTicker\"},{\"attributes\":{\"axis_label\":\"price_change_percentage_7d\",\"coordinates\":null,\"formatter\":{\"id\":\"3576\"},\"group\":null,\"major_label_policy\":{\"id\":\"3577\"},\"ticker\":{\"id\":\"3546\"}},\"id\":\"3545\",\"type\":\"LinearAxis\"},{\"attributes\":{\"overlay\":{\"id\":\"3818\"}},\"id\":\"3816\",\"type\":\"BoxZoomTool\"},{\"attributes\":{},\"id\":\"3732\",\"type\":\"BasicTickFormatter\"},{\"attributes\":{},\"id\":\"3870\",\"type\":\"UnionRenderers\"},{\"attributes\":{},\"id\":\"3817\",\"type\":\"ResetTool\"},{\"attributes\":{\"axis_label\":\"Density\",\"coordinates\":null,\"formatter\":{\"id\":\"3683\"},\"group\":null,\"major_label_policy\":{\"id\":\"3684\"},\"ticker\":{\"id\":\"3654\"}},\"id\":\"3653\",\"type\":\"LinearAxis\"},{\"attributes\":{},\"id\":\"3554\",\"type\":\"PanTool\"},{\"attributes\":{},\"id\":\"3749\",\"type\":\"LinearScale\"},{\"attributes\":{\"axis\":{\"id\":\"3653\"},\"coordinates\":null,\"dimension\":1,\"grid_line_color\":null,\"group\":null,\"ticker\":null},\"id\":\"3656\",\"type\":\"Grid\"},{\"attributes\":{\"axis\":{\"id\":\"3545\"},\"coordinates\":null,\"grid_line_color\":null,\"group\":null,\"ticker\":null},\"id\":\"3548\",\"type\":\"Grid\"},{\"attributes\":{},\"id\":\"3735\",\"type\":\"BasicTickFormatter\"},{\"attributes\":{},\"id\":\"3681\",\"type\":\"AllLabels\"},{\"attributes\":{\"callback\":null,\"renderers\":[{\"id\":\"3572\"}],\"tags\":[\"hv_created\"],\"tooltips\":[[\"price_change_percentage_7d\",\"@{price_change_percentage_7d}\"],[\"Density\",\"@{price_change_percentage_7d_density}\"]]},\"id\":\"3535\",\"type\":\"HoverTool\"},{\"attributes\":{},\"id\":\"3543\",\"type\":\"LinearScale\"},{\"attributes\":{\"bottom_units\":\"screen\",\"coordinates\":null,\"fill_alpha\":0.5,\"fill_color\":\"lightgrey\",\"group\":null,\"left_units\":\"screen\",\"level\":\"overlay\",\"line_alpha\":1.0,\"line_color\":\"black\",\"line_dash\":[4,4],\"line_width\":2,\"right_units\":\"screen\",\"syncable\":false,\"top_units\":\"screen\"},\"id\":\"3818\",\"type\":\"BoxAnnotation\"},{\"attributes\":{\"data\":{\"x\":{\"__ndarray__\":\"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\",\"dtype\":\"float64\",\"order\":\"little\",\"shape\":[200]},\"y\":{\"__ndarray__\":\"AAAAAAAAAAAAAAAAAAAAAAAAAAAAAAAAAAAAAAAAAAAAAAAAAAAAAAAAAAAAAAAAAAAAAAAAAAAAAAAAAAAAAAAAAAAAAAAAAAAAAAAAAAAAAAAAAAAAAAAAAAAAAAAAAAAAAAAAAAAAAAAAAAAAAAAAAAAAAAAAAAAAAAAAAAAAAAAAAAAAAAAAAAAAAAAAAAAAAAAAAAAAAAAAAAAAAAAAAAAAAAAAAAAAAAAAAAAAAAAAAAAAAAAAAAAAAAAAAAAAAAAAAAAAAAAAAAAAAAAAAAAAAAAAAAAAAAAAAAAAAAAAAAAAAAAAAAAAAAAAAAAAAAAAAAAAAAAAAAAAAAAAAAAAAAAAAAAAAAAAAAAAAAAAAAAAAAAAAAAAAAAAAAAAAAAAAAAAAAAAAAAAAAAAAAAAAAAAAAAAAAAAAAAAAAAAAAAAAAAAAAAAAAAAAAAAAAAAAAAAAAAAAAAAAAAAAAAAAAAAAAAAAAAAAAAAAAAAAAAAAAAAAAAAAAAAAAAAAAAAAAAAAAAAAAAAAAAAAAAAAAAAAAAAAAAAAAAAAAAAAAAAAAAAAAAAAAAAAAAAAAAAAAAAAAAAAAAAAAAAAAAAAAAAAAAAAAAAAAAAAAAAAAAAAAAAAAAAAAAAAAAAAAAAAAAAAAAAAAAAAAAAAAAAAAAAAAAAAAAAAAAAAAAAAAAAAAAAAAAAAAAAAAAAAAAAAAAAAAAAAAAAAAAAAAAAAAAAAAAAAAAAAAAAAAAAAAAAAAAAAAAAAAAAAAAAAAAAAAAAAAAAAAAAAAAAAAAAAAAAAAAAAAAAAAAAAAAAAAAAAAAAAAAAAAAAAAAAAAAAAAAAAAAAAAAAAAAAAAAAAAAAAAAAAAAAAAAAAAAAAAAAAAAAAAAAAAAAAAAAAAAAAAAAAAAAAAAAAAAAAAAAAAAAAAAAAAAAAAAAAAAAAAAAAAAAAAAAAAAAAAAAAAAAAAAAAAAAAAAAAAAAAAAAAAAAAAAAAAAAAAAAAAAAAAAAAAAAAAAAAAAAAAAAAAAAAAAAAAAAAAAAAAAAAAAAAAAAAAAAAAAAAAAygrROtP0xP8iqNLgJADw/nmVLrf1SRT+floHKEstPP1rGa8KRNFc/WamptWmWYD8J893zdztnP1MenHv1428/RfcDJjB2dT/JbMkwFFd8P9GAaIybXoI/iK0VtVRlhz9GMGOyqUyNP0PZEWiSDpI/iTyNSI7tlT/2ZNVdr0OaP4n8gu0JEJ8/D2XSaWAooj/dLtlwkgGlPzXeSE21Eag/u2bBWvNVqz9UBlil8smuP1wRaq2VM7E/TNideSsSsz+c9PXxlvq0P75mIMtS5bY/yfyulOfJuD/L9DC9rZ+6PwpcMJ3TXrw/rsQ/wYgBvj9yBpHAI4W/P/HpzYKJdcA/qMVVKbYcwT9tDNEFfb3BP+lZmzZbX8I/yN3WblwLwz96WxGUVsvDPyIlRGz+qMQ/9YhoA++sxT8FmwXOv93GP/n/8ahEP8g/iykh7A7SyT/9oaBIQJPLP3QCX6u3fM0/dvRJj5aFzz972QVwidHQP/Ci8ea/5NE/ronu8Lf20j97FBu3ZgLUP78y45LiA9U/VrR57bD41T+/XPUb4N/WP7SQDo/mudc/Uj6/CUiI2D+VwgyHCU3ZP7cvZgoECto/uZkIwizA2j/+NGSx7G7bP/3DKbyiE9w/oj7D12ep3D+SMdo9JindPyF9GCAKit0/uaYjo0XC3T8UneyDFMjdP8fYTfPfkt0/RcE2QFsc3T8PhOXSb2HcP6QnW9jTYts/6WGRkDIl2j8RLmLM3bDYPwxweN8SEdc/Bdnnje5S1T97e8zgN4TTPxh70NwustE/bY942hHRzz+BXUm3dGHMPwwVmaI5I8k/AuRtBuQexj+z+UOJZVjDPzEItRwh0MA/Lo0YLC4IvT/XysWCBeK4PzD0c5R/JrU/HBc19MHOsT9ilyWJ1amtP/SpJ+YjaKg/S2sNEt7Poz/XuQqqXLGfPxRCwtsD85g/f/W6KrlPkz/FQ1ImWV6NP1PQLJcL7IU/vz3CXbENgD8Uo7/04g13P3wZnquJOXA/U20/SOpfZj87z9a/7jhePzfyTlzS/FM/lozBEjXiST/egtHh1WdAPw==\",\"dtype\":\"float64\",\"order\":\"little\",\"shape\":[200]}},\"selected\":{\"id\":\"3567\"},\"selection_policy\":{\"id\":\"3870\"}},\"id\":\"3566\",\"type\":\"ColumnDataSource\"},{\"attributes\":{},\"id\":\"3654\",\"type\":\"BasicTicker\"},{\"attributes\":{},\"id\":\"3659\",\"type\":\"WheelZoomTool\"},{\"attributes\":{\"bottom_units\":\"screen\",\"coordinates\":null,\"fill_alpha\":0.5,\"fill_color\":\"lightgrey\",\"group\":null,\"left_units\":\"screen\",\"level\":\"overlay\",\"line_alpha\":1.0,\"line_color\":\"black\",\"line_dash\":[4,4],\"line_width\":2,\"right_units\":\"screen\",\"syncable\":false,\"top_units\":\"screen\"},\"id\":\"3558\",\"type\":\"BoxAnnotation\"},{\"attributes\":{},\"id\":\"3736\",\"type\":\"AllLabels\"},{\"attributes\":{\"overlay\":{\"id\":\"3662\"}},\"id\":\"3660\",\"type\":\"BoxZoomTool\"},{\"attributes\":{},\"id\":\"3758\",\"type\":\"BasicTicker\"},{\"attributes\":{\"axis_label\":\"price_change_percentage_30d\",\"coordinates\":null,\"formatter\":{\"id\":\"3680\"},\"group\":null,\"major_label_policy\":{\"id\":\"3681\"},\"ticker\":{\"id\":\"3650\"}},\"id\":\"3649\",\"type\":\"LinearAxis\"},{\"attributes\":{\"active_drag\":{\"id\":\"3502\"},\"active_scroll\":{\"id\":\"3503\"},\"tools\":[{\"id\":\"3483\"},{\"id\":\"3501\"},{\"id\":\"3502\"},{\"id\":\"3503\"},{\"id\":\"3504\"},{\"id\":\"3505\"}]},\"id\":\"3507\",\"type\":\"Toolbar\"},{\"attributes\":{\"fill_alpha\":0.5,\"fill_color\":\"#30a2da\",\"hatch_color\":\"#30a2da\",\"tags\":[\"apply_ranges\"],\"x\":{\"field\":\"x\"},\"y\":{\"field\":\"y\"}},\"id\":\"3829\",\"type\":\"Patch\"},{\"attributes\":{},\"id\":\"3658\",\"type\":\"PanTool\"},{\"attributes\":{\"fill_alpha\":0.2,\"fill_color\":\"#30a2da\",\"hatch_alpha\":0.2,\"hatch_color\":\"#30a2da\",\"line_alpha\":0.2,\"tags\":[\"apply_ranges\"],\"x\":{\"field\":\"x\"},\"y\":{\"field\":\"y\"}},\"id\":\"3831\",\"type\":\"Patch\"},{\"attributes\":{\"end\":0.32306535256137836,\"reset_end\":0.32306535256137836,\"reset_start\":0.0,\"tags\":[[[\"price_change_percentage_200d_density\",\"Density\",null]]]},\"id\":\"3742\",\"type\":\"Range1d\"},{\"attributes\":{},\"id\":\"3525\",\"type\":\"AllLabels\"},{\"attributes\":{\"fill_alpha\":0.5,\"fill_color\":\"#30a2da\",\"hatch_color\":\"#30a2da\",\"tags\":[\"apply_ranges\"],\"x\":{\"field\":\"x\"},\"y\":{\"field\":\"y\"}},\"id\":\"3834\",\"type\":\"Patch\"},{\"attributes\":{\"end\":0.5118431625971691,\"reset_end\":0.5118431625971691,\"reset_start\":0.0,\"tags\":[[[\"price_change_percentage_7d_density\",\"Density\",null]]]},\"id\":\"3534\",\"type\":\"Range1d\"},{\"attributes\":{\"toolbars\":[{\"id\":\"3507\"},{\"id\":\"3559\"},{\"id\":\"3611\"},{\"id\":\"3663\"},{\"id\":\"3715\"},{\"id\":\"3767\"},{\"id\":\"3819\"}],\"tools\":[{\"id\":\"3483\"},{\"id\":\"3501\"},{\"id\":\"3502\"},{\"id\":\"3503\"},{\"id\":\"3504\"},{\"id\":\"3505\"},{\"id\":\"3535\"},{\"id\":\"3553\"},{\"id\":\"3554\"},{\"id\":\"3555\"},{\"id\":\"3556\"},{\"id\":\"3557\"},{\"id\":\"3587\"},{\"id\":\"3605\"},{\"id\":\"3606\"},{\"id\":\"3607\"},{\"id\":\"3608\"},{\"id\":\"3609\"},{\"id\":\"3639\"},{\"id\":\"3657\"},{\"id\":\"3658\"},{\"id\":\"3659\"},{\"id\":\"3660\"},{\"id\":\"3661\"},{\"id\":\"3691\"},{\"id\":\"3709\"},{\"id\":\"3710\"},{\"id\":\"3711\"},{\"id\":\"3712\"},{\"id\":\"3713\"},{\"id\":\"3743\"},{\"id\":\"3761\"},{\"id\":\"3762\"},{\"id\":\"3763\"},{\"id\":\"3764\"},{\"id\":\"3765\"},{\"id\":\"3795\"},{\"id\":\"3813\"},{\"id\":\"3814\"},{\"id\":\"3815\"},{\"id\":\"3816\"},{\"id\":\"3817\"}]},\"id\":\"3930\",\"type\":\"ProxyToolbar\"},{\"attributes\":{\"coordinates\":null,\"data_source\":{\"id\":\"3514\"},\"glyph\":{\"id\":\"3517\"},\"group\":null,\"hover_glyph\":null,\"muted_glyph\":{\"id\":\"3519\"},\"nonselection_glyph\":{\"id\":\"3518\"},\"selection_glyph\":{\"id\":\"3522\"},\"view\":{\"id\":\"3521\"}},\"id\":\"3520\",\"type\":\"GlyphRenderer\"},{\"attributes\":{\"data\":{\"x\":{\"__ndarray__\":\"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\",\"dtype\":\"float64\",\"order\":\"little\",\"shape\":[200]},\"y\":{\"__ndarray__\":\"AAAAAAAAAAAAAAAAAAAAAAAAAAAAAAAAAAAAAAAAAAAAAAAAAAAAAAAAAAAAAAAAAAAAAAAAAAAAAAAAAAAAAAAAAAAAAAAAAAAAAAAAAAAAAAAAAAAAAAAAAAAAAAAAAAAAAAAAAAAAAAAAAAAAAAAAAAAAAAAAAAAAAAAAAAAAAAAAAAAAAAAAAAAAAAAAAAAAAAAAAAAAAAAAAAAAAAAAAAAAAAAAAAAAAAAAAAAAAAAAAAAAAAAAAAAAAAAAAAAAAAAAAAAAAAAAAAAAAAAAAAAAAAAAAAAAAAAAAAAAAAAAAAAAAAAAAAAAAAAAAAAAAAAAAAAAAAAAAAAAAAAAAAAAAAAAAAAAAAAAAAAAAAAAAAAAAAAAAAAAAAAAAAAAAAAAAAAAAAAAAAAAAAAAAAAAAAAAAAAAAAAAAAAAAAAAAAAAAAAAAAAAAAAAAAAAAAAAAAAAAAAAAAAAAAAAAAAAAAAAAAAAAAAAAAAAAAAAAAAAAAAAAAAAAAAAAAAAAAAAAAAAAAAAAAAAAAAAAAAAAAAAAAAAAAAAAAAAAAAAAAAAAAAAAAAAAAAAAAAAAAAAAAAAAAAAAAAAAAAAAAAAAAAAAAAAAAAAAAAAAAAAAAAAAAAAAAAAAAAAAAAAAAAAAAAAAAAAAAAAAAAAAAAAAAAAAAAAAAAAAAAAAAAAAAAAAAAAAAAAAAAAAAAAAAAAAAAAAAAAAAAAAAAAAAAAAAAAAAAAAAAAAAAAAAAAAAAAAAAAAAAAAAAAAAAAAAAAAAAAAAAAAAAAAAAAAAAAAAAAAAAAAAAAAAAAAAAAAAAAAAAAAAAAAAAAAAAAAAAAAAAAAAAAAAAAAAAAAAAAAAAAAAAAAAAAAAAAAAAAAAAAAAAAAAAAAAAAAAAAAAAAAAAAAAAAAAAAAAAAAAAAAAAAAAAAAAAAAAAAAAAAAAAAAAAAAAAAAAAAAAAAAAAAAAAAAAAAAAAAAAAAAAAAAAAAAAAAAAAAAAAAAAAAAAAAAAAAAAAAAAAAAAAAAAAAAAAAAAAAAAAAAAAAAAAAAAAAAAAAAAAAAADcq+vRCvkgP4BhSceVfC4/IaOvG/1IOj8D2NRjmcFFP7/e0tSZSVE/L6TfQuFfWj+0SlL3fFBjP7K02KsyKGs/7X/GHBlUcj+GdM43LcB3P8CxPkfKi30/JJS3Co2kgT8q7UdDMjqEP66LqRBWQ4Y/9U7APgyGhz9nVrRbjdyHPz183758PIc/0nNgEfO4hT+NHt8kv36DP9HClBfhy4A/Rr+PEvnIez+2THge8Q92P1/sFdxM0XA/i5CyJCqdaD9p9ecsuUphPwJwta0DU1c/CCr1Fe8zTj/3WJxT4cVCPzMhKyRrZzY/BRIncECrKT8bReLxOD0cP1gbmTPg2g0//lLhEnd2/j6QnyrfKKjuPo3BY2Pkx+A+AFIQXjCJ2j7xmBiIE5fiPoT/4zUDuPE+rqnrL4bjAT8mkGh5ObgRPx72ELGY8SA/4k9YCMovLz+s5Soq8Jw7P/WvNCO/hkc/0pRv5IBLUz9IV6a83npePykTM5gAM2c/MEjQMIoHcT/MLOnANyN4P042ZtceioA/D+jNXWb1hT+IqshWWlGMP4DRA1VyzJE/551qRp/olT+Wn2iD/42aP1Fpwio/5Z8/5P6kQFsboz9Eplv5sfamP26UgttByas/B2SkshLwsD+JjFds/MK0P6XLjNFIerk/O5LfDqwivz+65SsuuNjCP2x/E7+rf8Y/6BKnwnZjyj/4BKr8olPOP8iS++TbCtE/Zy2B9YG10j8q3KG22gvUP/5Ho6IQ9dQ/t+9j4ntg1T/OAH9JpEfVPwqcCeDRrtQ/j9AuZh2k0z+InK6mPT3SPykCw/eGlNA/ldg3jleLzT/CIF+Oi9XJP434ThYdNMY/LxIE2f/Iwj9bMn5qkVW/P1KGFjDZyrk/NjaVUEj4tD8wYTPSw9ewPw/xkso6t6o/46sX+oHlpD8NOBZfPhegP8xW0iEJV5g/I2/icjYJkj8gzZb1lR6KPxzS/R5Xb4I/B2BqT1tOeT/aHbAiN9twP0pBe+kTwWU/EDNkTD4oWz8LP0qwT2BQPxDjGseMD0M/CHHikIZkNT9axyeg0CInPw==\",\"dtype\":\"float64\",\"order\":\"little\",\"shape\":[200]}},\"selected\":{\"id\":\"3671\"},\"selection_policy\":{\"id\":\"3892\"}},\"id\":\"3670\",\"type\":\"ColumnDataSource\"},{\"attributes\":{\"axis\":{\"id\":\"3649\"},\"coordinates\":null,\"grid_line_color\":null,\"group\":null,\"ticker\":null},\"id\":\"3652\",\"type\":\"Grid\"},{\"attributes\":{\"axis\":{\"id\":\"3757\"},\"coordinates\":null,\"dimension\":1,\"grid_line_color\":null,\"group\":null,\"ticker\":null},\"id\":\"3760\",\"type\":\"Grid\"},{\"attributes\":{\"fill_alpha\":0.5,\"fill_color\":\"#30a2da\",\"hatch_alpha\":0.1,\"hatch_color\":\"#30a2da\",\"line_alpha\":1,\"tags\":[\"apply_ranges\"],\"x\":{\"field\":\"x\"},\"y\":{\"field\":\"y\"}},\"id\":\"3570\",\"type\":\"Patch\"},{\"attributes\":{\"fill_alpha\":0.5,\"fill_color\":\"#30a2da\",\"hatch_color\":\"#30a2da\",\"tags\":[\"apply_ranges\"],\"x\":{\"field\":\"x\"},\"y\":{\"field\":\"y\"}},\"id\":\"3569\",\"type\":\"Patch\"},{\"attributes\":{\"coordinates\":null,\"group\":null,\"text\":\"price_change_percentage_30d\",\"text_color\":\"black\",\"text_font_size\":\"12pt\"},\"id\":\"3641\",\"type\":\"Title\"},{\"attributes\":{},\"id\":\"3647\",\"type\":\"LinearScale\"},{\"attributes\":{},\"id\":\"3836\",\"type\":\"BasicTickFormatter\"},{\"attributes\":{\"children\":[[{\"id\":\"3484\"},0,0],[{\"id\":\"3536\"},0,1],[{\"id\":\"3588\"},1,0],[{\"id\":\"3640\"},1,1],[{\"id\":\"3692\"},2,0],[{\"id\":\"3744\"},2,1],[{\"id\":\"3796\"},3,0]]},\"id\":\"3929\",\"type\":\"GridBox\"},{\"attributes\":{},\"id\":\"3567\",\"type\":\"Selection\"},{\"attributes\":{\"end\":11.883078311015922,\"reset_end\":11.883078311015922,\"reset_start\":-4.812572337626474,\"start\":-4.812572337626474,\"tags\":[[[\"price_change_percentage_30d\",\"price_change_percentage_30d\",null]]]},\"id\":\"3637\",\"type\":\"Range1d\"},{\"attributes\":{},\"id\":\"3763\",\"type\":\"WheelZoomTool\"},{\"attributes\":{\"callback\":null,\"renderers\":[{\"id\":\"3676\"}],\"tags\":[\"hv_created\"],\"tooltips\":[[\"price_change_percentage_30d\",\"@{price_change_percentage_30d}\"],[\"Density\",\"@{price_change_percentage_30d_density}\"]]},\"id\":\"3639\",\"type\":\"HoverTool\"},{\"attributes\":{},\"id\":\"3657\",\"type\":\"SaveTool\"},{\"attributes\":{},\"id\":\"3761\",\"type\":\"SaveTool\"},{\"attributes\":{},\"id\":\"3839\",\"type\":\"BasicTickFormatter\"},{\"attributes\":{\"active_drag\":{\"id\":\"3554\"},\"active_scroll\":{\"id\":\"3555\"},\"tools\":[{\"id\":\"3535\"},{\"id\":\"3553\"},{\"id\":\"3554\"},{\"id\":\"3555\"},{\"id\":\"3556\"},{\"id\":\"3557\"}]},\"id\":\"3559\",\"type\":\"Toolbar\"},{\"attributes\":{\"overlay\":{\"id\":\"3766\"}},\"id\":\"3764\",\"type\":\"BoxZoomTool\"},{\"attributes\":{\"axis_label\":\"Density\",\"coordinates\":null,\"formatter\":{\"id\":\"3787\"},\"group\":null,\"major_label_policy\":{\"id\":\"3788\"},\"ticker\":{\"id\":\"3758\"}},\"id\":\"3757\",\"type\":\"LinearAxis\"},{\"attributes\":{},\"id\":\"3619\",\"type\":\"Selection\"},{\"attributes\":{},\"id\":\"3629\",\"type\":\"AllLabels\"},{\"attributes\":{\"end\":14.216173386431414,\"reset_end\":14.216173386431414,\"reset_start\":-3.6272618357350472,\"start\":-3.6272618357350472,\"tags\":[[[\"price_change_percentage_200d\",\"price_change_percentage_200d\",null]]]},\"id\":\"3741\",\"type\":\"Range1d\"},{\"attributes\":{},\"id\":\"3840\",\"type\":\"AllLabels\"},{\"attributes\":{\"fill_alpha\":0.5,\"fill_color\":\"#30a2da\",\"hatch_color\":\"#30a2da\",\"tags\":[\"apply_ranges\"],\"x\":{\"field\":\"x\"},\"y\":{\"field\":\"y\"}},\"id\":\"3777\",\"type\":\"Patch\"},{\"attributes\":{\"coordinates\":null,\"data_source\":{\"id\":\"3566\"},\"glyph\":{\"id\":\"3569\"},\"group\":null,\"hover_glyph\":null,\"muted_glyph\":{\"id\":\"3571\"},\"nonselection_glyph\":{\"id\":\"3570\"},\"selection_glyph\":{\"id\":\"3574\"},\"view\":{\"id\":\"3573\"}},\"id\":\"3572\",\"type\":\"GlyphRenderer\"},{\"attributes\":{},\"id\":\"3754\",\"type\":\"BasicTicker\"},{\"attributes\":{\"coordinates\":null,\"data_source\":{\"id\":\"3618\"},\"glyph\":{\"id\":\"3621\"},\"group\":null,\"hover_glyph\":null,\"muted_glyph\":{\"id\":\"3623\"},\"nonselection_glyph\":{\"id\":\"3622\"},\"selection_glyph\":{\"id\":\"3626\"},\"view\":{\"id\":\"3625\"}},\"id\":\"3624\",\"type\":\"GlyphRenderer\"},{\"attributes\":{\"source\":{\"id\":\"3566\"}},\"id\":\"3573\",\"type\":\"CDSView\"},{\"attributes\":{\"source\":{\"id\":\"3618\"}},\"id\":\"3625\",\"type\":\"CDSView\"},{\"attributes\":{},\"id\":\"3661\",\"type\":\"ResetTool\"},{\"attributes\":{\"axis_label\":\"price_change_percentage_200d\",\"coordinates\":null,\"formatter\":{\"id\":\"3784\"},\"group\":null,\"major_label_policy\":{\"id\":\"3785\"},\"ticker\":{\"id\":\"3754\"}},\"id\":\"3753\",\"type\":\"LinearAxis\"},{\"attributes\":{\"fill_alpha\":0.2,\"fill_color\":\"#30a2da\",\"hatch_alpha\":0.2,\"hatch_color\":\"#30a2da\",\"line_alpha\":0.2,\"tags\":[\"apply_ranges\"],\"x\":{\"field\":\"x\"},\"y\":{\"field\":\"y\"}},\"id\":\"3571\",\"type\":\"Patch\"},{\"attributes\":{},\"id\":\"3762\",\"type\":\"PanTool\"},{\"attributes\":{\"axis\":{\"id\":\"3753\"},\"coordinates\":null,\"grid_line_color\":null,\"group\":null,\"ticker\":null},\"id\":\"3756\",\"type\":\"Grid\"},{\"attributes\":{\"fill_alpha\":0.5,\"fill_color\":\"#30a2da\",\"hatch_color\":\"#30a2da\",\"tags\":[\"apply_ranges\"],\"x\":{\"field\":\"x\"},\"y\":{\"field\":\"y\"}},\"id\":\"3574\",\"type\":\"Patch\"},{\"attributes\":{\"bottom_units\":\"screen\",\"coordinates\":null,\"fill_alpha\":0.5,\"fill_color\":\"lightgrey\",\"group\":null,\"left_units\":\"screen\",\"level\":\"overlay\",\"line_alpha\":1.0,\"line_color\":\"black\",\"line_dash\":[4,4],\"line_width\":2,\"right_units\":\"screen\",\"syncable\":false,\"top_units\":\"screen\"},\"id\":\"3662\",\"type\":\"BoxAnnotation\"},{\"attributes\":{\"coordinates\":null,\"group\":null,\"text\":\"price_change_percentage_200d\",\"text_color\":\"black\",\"text_font_size\":\"12pt\"},\"id\":\"3745\",\"type\":\"Title\"},{\"attributes\":{\"data\":{\"x\":{\"__ndarray__\":\"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\",\"dtype\":\"float64\",\"order\":\"little\",\"shape\":[200]},\"y\":{\"__ndarray__\":\"AAAAAAAAAAAAAAAAAAAAAAAAAAAAAAAAAAAAAAAAAAAAAAAAAAAAAAAAAAAAAAAAAAAAAAAAAAAAAAAAAAAAAAAAAAAAAAAAAAAAAAAAAAAAAAAAAAAAAAAAAAAAAAAAAAAAAAAAAAAAAAAAAAAAAAAAAAAAAAAAAAAAAAAAAAAAAAAAAAAAAAAAAAAAAAAAAAAAAAAAAAAAAAAAAAAAAAAAAAAAAAAAAAAAAAAAAAAAAAAAAAAAAAAAAAAAAAAAAAAAAAAAAAAAAAAAAAAAAAAAAAAAAAAAAAAAAAAAAAAAAAAAAAAAAAAAAAAAAAAAAAAAAAAAAAAAAAAAAAAAAAAAAAAAAAAAAAAAAAAAAAAAAAAAAAAAAAAAAAAAAAAAAAAAAAAAAAAAAAAAAAAAAAAAAAAAAAAAAAAAAAAAAAAAAAAAAAAAAAAAAAAAAAAAAAAAAAAAAAAAAAAAAAAAAAAAAAAAAAAAAAAAAAAAAAAAAAAAAAAAAAAAAAAAAAAAAAAAAAAAAAAAAAAAAAAAAAAAAAAAAAAAAAAAAAAAAAAAAAAAAAAAAAAAAAAAAAAAAAAAAAAAAAAAAAAAAAAAAAAAAAAAAAAAAAAAAAAAAAAAAAAAAAAAAAAAAAAAAAAAAAAAAAAAAAAAAAAAAAAAAAAAAAAAAAAAAAAAAAAAAAAAAAAAAAAAAAAAAAAAAAAAAAAAAAAAAAAAAAAAAAAAAAAAAAAAAAAAAAAAAAAAAAAAAAAAAAAAAAAAAAAAAAAAAAAAAAAAAAAAAAAAAAAAAAAAAAAAAAAAAAAAAAAAAAAAAAAAAAAAAAAAAAAAAAAAAAAAAAAAAAAAAAAAAAAAAAAAAAAAAAAAAAAAAAAAAAAAAAAAAAAAAAAAAAAAAAAAAAAAAAAAAAAAAAAAAAAAAAAAAAAAAAAAAAAAAAAAAAAAAAAAAAAAAAAAAAAAAAAAAAAAAAAAAAAAAAAAAAAAAAAAAAAAAAAAAAAAAAAAAAAAAAAAAAAAAAAAAAAAAAAAAAAAAAAAAAAAAAAAAAAAAAAAAAAAAAAAAAAAAAAAAAAcXDrRrp0aP9Jb58bYzCU/7XHw2uxZMT+xfJVRFtc6PxRQ6+cyLEQ/as1QuVh3TT9f23BqpOlUPwS9/yd62Fw/omzGWP5UYz+Sl8PoMS5pP4Ni78tR328/x7Vsgy2acz8pWH4io253P7BhmqLqOHs/YC5oQwS9fj9kc1QWqt6AP7AE3skWAYI/dsCrg8Gwgj9yBhjduOKCPwC+Vts8mII/Z/VKSUnfgT/IX2cca9GAP7WsBZYQIn8/b/HK6gCLfD/4IzwWZy16PzDjG2QLUXg/4NbwCNItdz/XSUtJr+V2P4a0ugoLgXc/1EpkgODteD8p87p4rAF7PwB7pVkFfn0/xz2ttL0LgD/ZSMkHDj+BP3ZBOWFXM4I/8j0Vs8fJgj9PIxBR/u2CP5XjDg5smII/aEj3/hnPgT+1tTh5xqSAP59twIkcbX4/jlvIvCNRez8UAArZTER4P22V7wRElHU/oCF9d22Hcz8BWyp8R1hyP+yvs8KpMnI/HTPxDMwycz9+chT212V1PxMMFN7Ay3g/03jOMSNafT/3pVD393+BPz2cbfrP1IQ/up5VncuiiD+lqWzbKOSMP5b6r+7/y5A/7tZR7dphkz/ZPAgXFzqWPyxltkeCX5k/KR7geh3inD8/reGULmygP23k6oRvsKI/wdtU2S9SpT/vpDmDs2uoPw7SDyRpHaw/GHPQn4xGsD8MaaP2v/GyP8Rhly/+I7Y/jYdjtCntuT+7sHTzeFW+P26uw7ylrME/8gEzia5yxD9jv8C1EGrHPw8s/x+Idso/zz5raz5zzT+6povvjhrQP/t7QWU4R9E/XQAkdLgp0j9Iqp0PmK/SPzVeBRQQzNI/dZ7hG7550j8tvKasfbvRP9a83ZA7nNA/el34rYtbzj+VsZBBkA3LP3sg2lKPgMc/suA3qgnmwz8dG6KLS2rAP0kcNUfgYbo/hFKvI9altD+QK+ljjXivP5p/cyueWac/c9bs+FXdoD8NF2o57rWXP/qORi6WOJA/sipUH9KYhT8BtUywR/p7P681tfBpoXE/qnv6KbqdZT87zakYusdZPw==\",\"dtype\":\"float64\",\"order\":\"little\",\"shape\":[200]}},\"selected\":{\"id\":\"3775\"},\"selection_policy\":{\"id\":\"3914\"}},\"id\":\"3774\",\"type\":\"ColumnDataSource\"},{\"attributes\":{\"fill_alpha\":0.5,\"fill_color\":\"#30a2da\",\"hatch_alpha\":0.1,\"hatch_color\":\"#30a2da\",\"line_alpha\":1,\"tags\":[\"apply_ranges\"],\"x\":{\"field\":\"x\"},\"y\":{\"field\":\"y\"}},\"id\":\"3674\",\"type\":\"Patch\"},{\"attributes\":{\"below\":[{\"id\":\"3597\"}],\"center\":[{\"id\":\"3600\"},{\"id\":\"3604\"}],\"height\":300,\"left\":[{\"id\":\"3601\"}],\"margin\":null,\"min_border_bottom\":10,\"min_border_left\":10,\"min_border_right\":10,\"min_border_top\":10,\"output_backend\":\"webgl\",\"renderers\":[{\"id\":\"3624\"}],\"sizing_mode\":\"fixed\",\"title\":{\"id\":\"3589\"},\"toolbar\":{\"id\":\"3611\"},\"toolbar_location\":null,\"width\":700,\"x_range\":{\"id\":\"3585\"},\"x_scale\":{\"id\":\"3593\"},\"y_range\":{\"id\":\"3586\"},\"y_scale\":{\"id\":\"3595\"}},\"id\":\"3588\",\"subtype\":\"Figure\",\"type\":\"Plot\"},{\"attributes\":{\"callback\":null,\"renderers\":[{\"id\":\"3780\"}],\"tags\":[\"hv_created\"],\"tooltips\":[[\"price_change_percentage_200d\",\"@{price_change_percentage_200d}\"],[\"Density\",\"@{price_change_percentage_200d_density}\"]]},\"id\":\"3743\",\"type\":\"HoverTool\"},{\"attributes\":{\"data\":{\"x\":{\"__ndarray__\":\"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\",\"dtype\":\"float64\",\"order\":\"little\",\"shape\":[200]},\"y\":{\"__ndarray__\":\"AAAAAAAAAAAAAAAAAAAAAAAAAAAAAAAAAAAAAAAAAAAAAAAAAAAAAAAAAAAAAAAAAAAAAAAAAAAAAAAAAAAAAAAAAAAAAAAAAAAAAAAAAAAAAAAAAAAAAAAAAAAAAAAAAAAAAAAAAAAAAAAAAAAAAAAAAAAAAAAAAAAAAAAAAAAAAAAAAAAAAAAAAAAAAAAAAAAAAAAAAAAAAAAAAAAAAAAAAAAAAAAAAAAAAAAAAAAAAAAAAAAAAAAAAAAAAAAAAAAAAAAAAAAAAAAAAAAAAAAAAAAAAAAAAAAAAAAAAAAAAAAAAAAAAAAAAAAAAAAAAAAAAAAAAAAAAAAAAAAAAAAAAAAAAAAAAAAAAAAAAAAAAAAAAAAAAAAAAAAAAAAAAAAAAAAAAAAAAAAAAAAAAAAAAAAAAAAAAAAAAAAAAAAAAAAAAAAAAAAAAAAAAAAAAAAAAAAAAAAAAAAAAAAAAAAAAAAAAAAAAAAAAAAAAAAAAAAAAAAAAAAAAAAAAAAAAAAAAAAAAAAAAAAAAAAAAAAAAAAAAAAAAAAAAAAAAAAAAAAAAAAAAAAAAAAAAAAAAAAAAAAAAAAAAAAAAAAAAAAAAAAAAAAAAAAAAAAAAAAAAAAAAAAAAAAAAAAAAAAAAAAAAAAAAAAAAAAAAAAAAAAAAAAAAAAAAAAAAAAAAAAAAAAAAAAAAAAAAAAAAAAAAAAAAAAAAAAAAAAAAAAAAAAAAAAAAAAAAAAAAAAAAAAAAAAAAAAAAAAAAAAAAAAAAAAAAAAAAAAAAAAAAAAAAAAAAAAAAAAAAAAAAAAAAAAAAAAAAAAAAAAAAAAAAAAAAAAAAAAAAAAAAAAAAAAAAAAAAAAAAAAAAAAAAAAAAAAAAAAAAAAAAAAAAAAAAAAAAAAAAAAAAAAAAAAAAAAAAAAAAAAAAAAAAAAAAAAAAAAAAAAAAAAAAAAAAAAAAAAAAAAAAAAAAAAAAAAAAAAAAAAAAAAAAAAAAAAAAAAAAAAAAAAAAAAAAAAAAAAAAAAAAAAAAAAAAAAAAAAAAAAAAAAAAAAAAAAAAAAAAAAAAACpI3RN/TgbPxwDzCvdwCg/+uNRUtCaNT+KQPidkhtCP06K/q1NKk0/BG43pxmWVj/ekDA2qtZgP6uJzPRlNGg/01X56KjNcD/o31VKEpd2P4jBVDclf30/kgO7QwnGgj9zy5RKw2WHPzjEQp8Tr4w/7j3yZU5gkT+eYC1Q5+SUP/6Ei1xYBZk/4PipZgTpnT+vrw5i/N6hP07dCfmwXKU/burkpZqMqT/Z0Iu70ZKuP5ZdypnfS7I/as+hwA3itT9zha86RRy6P7Nqz5l5AL8/o5THJmBBwj/EyNGnOj/FP3+0cPkkWcg/Qm4m3qhgyz/nx9mQGx3OP34IxhUTKdA/p2eSOCPk0D8UA4XD1SrRPxpXWb3F8tA/TzKavSI+0D96k+WIUTfOP9iuSazzSMs/OTzkKqHwxz//nrQAu3HEPwjqfP+BCsE/+Ipx2djZuz+L1fqZ0HS2Pza4PqKgBbI/6wqfcZ0YrT+Pg7E/7OCnP+VHCRefFKQ/for4XlBXoT+H1NzB3p2eP+ZRatVqXZs/v1CKjON6mD9x37CS666VPzh+wAnM2ZI/7RK2bwj2jz89twdAaUyKPzBtXhCW74Q/V9uIsd8WgD8qruEd/NV3P8AcAOnd/3A/fEuQ4uRTZz/UnOPImcdeP5/Pc5xQhFM/wfiVjsjIRz/x2UmKLN07PwHyv6PfdS8/bCfPJdBPIT93HgQJbG4TP3k40r5/rwk/dqR6q983CT/svEJYLm4SPzbjdSHNyx8/ooetPjT5Kz+SbmoaY/Y3P/qous6IwEM/d3fVIAc/Tz8wu2qVA7NXP/bZf1HtO2E/PNLXSe0HaD8D+VoqEBBwP7CQfE9GlnQ/Yr/5KOtLeT8Xc4ZM8Mx9P5shyg4o1IA/HxKqVek4gj/gED74ueqCP14AUp3S04I/uxLOJgn3gT/tagr7PG+AP61dvA/t03w/SYQTvWw9eD/EkvWge4pzPxIJz/OTNG4/1pCJuKRhZj9Mq9gYlcxfP/FiYtZQqFU/ymjE7nBITD9rGKa8l7RBP1J0+1qtQDU/0U5gTiV1KD+Q862C8/saPw==\",\"dtype\":\"float64\",\"order\":\"little\",\"shape\":[200]}},\"selected\":{\"id\":\"3515\"},\"selection_policy\":{\"id\":\"3859\"}},\"id\":\"3514\",\"type\":\"ColumnDataSource\"},{\"attributes\":{\"toolbar\":{\"id\":\"3930\"},\"toolbar_location\":\"above\"},\"id\":\"3931\",\"type\":\"ToolbarBox\"},{\"attributes\":{\"end\":3.42469182009504,\"reset_end\":3.42469182009504,\"reset_start\":-2.868498428201814,\"start\":-2.868498428201814,\"tags\":[[[\"price_change_percentage_14d\",\"price_change_percentage_14d\",null]]]},\"id\":\"3585\",\"type\":\"Range1d\"},{\"attributes\":{},\"id\":\"3751\",\"type\":\"LinearScale\"},{\"attributes\":{},\"id\":\"3671\",\"type\":\"Selection\"},{\"attributes\":{},\"id\":\"3903\",\"type\":\"UnionRenderers\"},{\"attributes\":{},\"id\":\"3491\",\"type\":\"LinearScale\"},{\"attributes\":{\"end\":0.5921869412576087,\"reset_end\":0.5921869412576087,\"reset_start\":0.0,\"tags\":[[[\"price_change_percentage_14d_density\",\"Density\",null]]]},\"id\":\"3586\",\"type\":\"Range1d\"},{\"attributes\":{\"fill_alpha\":0.5,\"fill_color\":\"#30a2da\",\"hatch_color\":\"#30a2da\",\"tags\":[\"apply_ranges\"],\"x\":{\"field\":\"x\"},\"y\":{\"field\":\"y\"}},\"id\":\"3673\",\"type\":\"Patch\"},{\"attributes\":{\"source\":{\"id\":\"3670\"}},\"id\":\"3677\",\"type\":\"CDSView\"},{\"attributes\":{\"callback\":null,\"renderers\":[{\"id\":\"3624\"}],\"tags\":[\"hv_created\"],\"tooltips\":[[\"price_change_percentage_14d\",\"@{price_change_percentage_14d}\"],[\"Density\",\"@{price_change_percentage_14d_density}\"]]},\"id\":\"3587\",\"type\":\"HoverTool\"},{\"attributes\":{\"coordinates\":null,\"group\":null,\"text\":\"price_change_percentage_24h\",\"text_color\":\"black\",\"text_font_size\":\"12pt\"},\"id\":\"3485\",\"type\":\"Title\"},{\"attributes\":{},\"id\":\"3765\",\"type\":\"ResetTool\"},{\"attributes\":{\"active_drag\":{\"id\":\"3710\"},\"active_scroll\":{\"id\":\"3711\"},\"tools\":[{\"id\":\"3691\"},{\"id\":\"3709\"},{\"id\":\"3710\"},{\"id\":\"3711\"},{\"id\":\"3712\"},{\"id\":\"3713\"}]},\"id\":\"3715\",\"type\":\"Toolbar\"},{\"attributes\":{},\"id\":\"3576\",\"type\":\"BasicTickFormatter\"},{\"attributes\":{\"end\":7.166277040249881,\"reset_end\":7.166277040249881,\"reset_start\":-14.177161026294794,\"start\":-14.177161026294794,\"tags\":[[[\"price_change_percentage_24h\",\"price_change_percentage_24h\",null]]]},\"id\":\"3481\",\"type\":\"Range1d\"},{\"attributes\":{\"fill_alpha\":0.2,\"fill_color\":\"#30a2da\",\"hatch_alpha\":0.2,\"hatch_color\":\"#30a2da\",\"line_alpha\":0.2,\"tags\":[\"apply_ranges\"],\"x\":{\"field\":\"x\"},\"y\":{\"field\":\"y\"}},\"id\":\"3675\",\"type\":\"Patch\"},{\"attributes\":{},\"id\":\"3489\",\"type\":\"LinearScale\"},{\"attributes\":{\"fill_alpha\":0.5,\"fill_color\":\"#30a2da\",\"hatch_color\":\"#30a2da\",\"tags\":[\"apply_ranges\"],\"x\":{\"field\":\"x\"},\"y\":{\"field\":\"y\"}},\"id\":\"3678\",\"type\":\"Patch\"},{\"attributes\":{\"children\":[{\"id\":\"3931\"},{\"id\":\"3929\"}]},\"id\":\"3932\",\"type\":\"Column\"},{\"attributes\":{\"coordinates\":null,\"data_source\":{\"id\":\"3722\"},\"glyph\":{\"id\":\"3725\"},\"group\":null,\"hover_glyph\":null,\"muted_glyph\":{\"id\":\"3727\"},\"nonselection_glyph\":{\"id\":\"3726\"},\"selection_glyph\":{\"id\":\"3730\"},\"view\":{\"id\":\"3729\"}},\"id\":\"3728\",\"type\":\"GlyphRenderer\"},{\"attributes\":{\"axis\":{\"id\":\"3493\"},\"coordinates\":null,\"grid_line_color\":null,\"group\":null,\"ticker\":null},\"id\":\"3496\",\"type\":\"Grid\"},{\"attributes\":{\"bottom_units\":\"screen\",\"coordinates\":null,\"fill_alpha\":0.5,\"fill_color\":\"lightgrey\",\"group\":null,\"left_units\":\"screen\",\"level\":\"overlay\",\"line_alpha\":1.0,\"line_color\":\"black\",\"line_dash\":[4,4],\"line_width\":2,\"right_units\":\"screen\",\"syncable\":false,\"top_units\":\"screen\"},\"id\":\"3766\",\"type\":\"BoxAnnotation\"},{\"attributes\":{},\"id\":\"3683\",\"type\":\"BasicTickFormatter\"},{\"attributes\":{\"below\":[{\"id\":\"3493\"}],\"center\":[{\"id\":\"3496\"},{\"id\":\"3500\"}],\"height\":300,\"left\":[{\"id\":\"3497\"}],\"margin\":null,\"min_border_bottom\":10,\"min_border_left\":10,\"min_border_right\":10,\"min_border_top\":10,\"output_backend\":\"webgl\",\"renderers\":[{\"id\":\"3520\"}],\"sizing_mode\":\"fixed\",\"title\":{\"id\":\"3485\"},\"toolbar\":{\"id\":\"3507\"},\"toolbar_location\":null,\"width\":700,\"x_range\":{\"id\":\"3481\"},\"x_scale\":{\"id\":\"3489\"},\"y_range\":{\"id\":\"3482\"},\"y_scale\":{\"id\":\"3491\"}},\"id\":\"3484\",\"subtype\":\"Figure\",\"type\":\"Plot\"},{\"attributes\":{},\"id\":\"3881\",\"type\":\"UnionRenderers\"},{\"attributes\":{},\"id\":\"3775\",\"type\":\"Selection\"},{\"attributes\":{},\"id\":\"3502\",\"type\":\"PanTool\"},{\"attributes\":{\"data\":{\"x\":{\"__ndarray__\":\"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\",\"dtype\":\"float64\",\"order\":\"little\",\"shape\":[200]},\"y\":{\"__ndarray__\":\"AAAAAAAAAAAAAAAAAAAAAAAAAAAAAAAAAAAAAAAAAAAAAAAAAAAAAAAAAAAAAAAAAAAAAAAAAAAAAAAAAAAAAAAAAAAAAAAAAAAAAAAAAAAAAAAAAAAAAAAAAAAAAAAAAAAAAAAAAAAAAAAAAAAAAAAAAAAAAAAAAAAAAAAAAAAAAAAAAAAAAAAAAAAAAAAAAAAAAAAAAAAAAAAAAAAAAAAAAAAAAAAAAAAAAAAAAAAAAAAAAAAAAAAAAAAAAAAAAAAAAAAAAAAAAAAAAAAAAAAAAAAAAAAAAAAAAAAAAAAAAAAAAAAAAAAAAAAAAAAAAAAAAAAAAAAAAAAAAAAAAAAAAAAAAAAAAAAAAAAAAAAAAAAAAAAAAAAAAAAAAAAAAAAAAAAAAAAAAAAAAAAAAAAAAAAAAAAAAAAAAAAAAAAAAAAAAAAAAAAAAAAAAAAAAAAAAAAAAAAAAAAAAAAAAAAAAAAAAAAAAAAAAAAAAAAAAAAAAAAAAAAAAAAAAAAAAAAAAAAAAAAAAAAAAAAAAAAAAAAAAAAAAAAAAAAAAAAAAAAAAAAAAAAAAAAAAAAAAAAAAAAAAAAAAAAAAAAAAAAAAAAAAAAAAAAAAAAAAAAAAAAAAAAAAAAAAAAAAAAAAAAAAAAAAAAAAAAAAAAAAAAAAAAAAAAAAAAAAAAAAAAAAAAAAAAAAAAAAAAAAAAAAAAAAAAAAAAAAAAAAAAAAAAAAAAAAAAAAAAAAAAAAAAAAAAAAAAAAAAAAAAAAAAAAAAAAAAAAAAAAAAAAAAAAAAAAAAAAAAAAAAAAAAAAAAAAAAAAAAAAAAAAAAAAAAAAAAAAAAAAAAAAAAAAAAAAAAAAAAAAAAAAAAAAAAAAAAAAAAAAAAAAAAAAAAAAAAAAAAAAAAAAAAAAAAAAAAAAAAAAAAAAAAAAAAAAAAAAAAAAAAAAAAAAAAAAAAAAAAAAAAAAAAAAAAAAAAAAAAAAAAAAAAAAAAAAAAAAAAAAAAAAAAAAAAAAAAAAAAAAAAAAAAAAAAAAAAAAAAAAAAAAAAAAAAAAAAAAAAAAAAAAAAcsLui/s4yP6ganZZSvT4/5TdR4Z1tSD/t3U+3W+FSP6DnEThPY1w/uCfReh/DZD8z2WVeG41tP+by6NT8d3Q/0HYOqWubez9dJ7ggPiKCPzF92ysyN4c/mBt4Ft/7jD/+RlnkhKiRP5jk27aBBZU/+Hq+JQZ7mD+KAT8wPO6bP91e3//DRp8/NJhISuY4oT/IBdlAF7KiP1t6lbuIDaQ/E7LwzH9NpT9sVHTP2namPzHT4oyvj6c/VIaSrxOeqD8ROEwYg6epPxSze0o4sao/ctn+C5PBqz/dniy8ZOKsP7FJV6W3I64/bsE81XSerz+cZcrrGruwPz75ornN7LE/Zpx701iAsz9AhLfGm5S1P7PVgNCCSLg/5tSO85q3uz/RYuoxhfa/P/JA6r/vh8I/i+6uEhqBxT8/W6Seq9/IP1J/Bdqolsw/Kf608ydK0D8o7RhszWHSP60zWibihtQ/ony/OLet1j/555qmlcrYP4RQG3mu0do/mxgwtdK23D8LuG0pKm3eP3GIEXwr598/PsYexIaL4D+YFQs65ffgPy3Ps9hPM+E/xvcwMmQ64T/ADrr3hwzhP9whjN5prOA/mpsg3RAg4D/htYB7z+DeP8Rr8oigUN0/oYls/8im2z85qtIXPvnZP38hDUpPWtg/JEKUnO/W1j8BmBbT7XXVP+Cn2jUnONQ/syu9hJAZ0z+lm5zlzRLSP6J8bAEDG9E/QB4MTogp0D8wjkvQim7OP3feEgsXf8w/z/fkjc6Ayj9aP2q/8XTIP+hp7tziYMY/+RVHZrdMxD+El2AvrEHCPxnQIoi8SMA/ziqZjBXTvD9ygdgPZ1O5P1lEdqQgGbY/Ugs/W7gmsz+dWqEHP3uwP0xgGCAFJ6w/9wkYC2zWpz+Wjik0zfujPwNuqaozj6A/MVAI8ioUmz/MK8bgS86VP7SXxAh1Q5E/PtVpFSbUij9kF+bsDG6EP7747/qGc34/KCoN9E4vdj8HvLn1bJFvP5nTMhuI6mU/nH5vaFqsXT+OTaLFs5NTP5CkNuq6KUk/7VCZDVx+Pz/VSNMrVy8zPw==\",\"dtype\":\"float64\",\"order\":\"little\",\"shape\":[200]}},\"selected\":{\"id\":\"3619\"},\"selection_policy\":{\"id\":\"3881\"}},\"id\":\"3618\",\"type\":\"ColumnDataSource\"},{\"attributes\":{},\"id\":\"3925\",\"type\":\"UnionRenderers\"},{\"attributes\":{\"axis_label\":\"price_change_percentage_24h\",\"coordinates\":null,\"formatter\":{\"id\":\"3524\"},\"group\":null,\"major_label_policy\":{\"id\":\"3525\"},\"ticker\":{\"id\":\"3494\"}},\"id\":\"3493\",\"type\":\"LinearAxis\"},{\"attributes\":{\"data\":{\"x\":{\"__ndarray__\":\"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\",\"dtype\":\"float64\",\"order\":\"little\",\"shape\":[200]},\"y\":{\"__ndarray__\":\"AAAAAAAAAAAAAAAAAAAAAAAAAAAAAAAAAAAAAAAAAAAAAAAAAAAAAAAAAAAAAAAAAAAAAAAAAAAAAAAAAAAAAAAAAAAAAAAAAAAAAAAAAAAAAAAAAAAAAAAAAAAAAAAAAAAAAAAAAAAAAAAAAAAAAAAAAAAAAAAAAAAAAAAAAAAAAAAAAAAAAAAAAAAAAAAAAAAAAAAAAAAAAAAAAAAAAAAAAAAAAAAAAAAAAAAAAAAAAAAAAAAAAAAAAAAAAAAAAAAAAAAAAAAAAAAAAAAAAAAAAAAAAAAAAAAAAAAAAAAAAAAAAAAAAAAAAAAAAAAAAAAAAAAAAAAAAAAAAAAAAAAAAAAAAAAAAAAAAAAAAAAAAAAAAAAAAAAAAAAAAAAAAAAAAAAAAAAAAAAAAAAAAAAAAAAAAAAAAAAAAAAAAAAAAAAAAAAAAAAAAAAAAAAAAAAAAAAAAAAAAAAAAAAAAAAAAAAAAAAAAAAAAAAAAAAAAAAAAAAAAAAAAAAAAAAAAAAAAAAAAAAAAAAAAAAAAAAAAAAAAAAAAAAAAAAAAAAAAAAAAAAAAAAAAAAAAAAAAAAAAAAAAAAAAAAAAAAAAAAAAAAAAAAAAAAAAAAAAAAAAAAAAAAAAAAAAAAAAAAAAAAAAAAAAAAAAAAAAAAAAAAAAAAAAAAAAAAAAAAAAAAAAAAAAAAAAAAAAAAAAAAAAAAAAAAAAAAAAAAAAAAAAAAAAAAAAAAAAAAAAAAAAAAAAAAAAAAAAAAAAAAAAAAAAAAAAAAAAAAAAAAAAAAAAAAAAAAAAAAAAAAAAAAAAAAAAAAAAAAAAAAAAAAAAAAAAAAAAAAAAAAAAAAAAAAAAAAAAAAAAAAAAAAAAAAAAAAAAAAAAAAAAAAAAAAAAAAAAAAAAAAAAAAAAAAAAAAAAAAAAAAAAAAAAAAAAAAAAAAAAAAAAAAAAAAAAAAAAAAAAAAAAAAAAAAAAAAAAAAAAAAAAAAAAAAAAAAAAAAAAAAAAAAAAAAAAAAAAAAAAAAAAAAAAAAAAAAAAAAAAAAAAAAAAAAAAAAAAAAAAAAAAAAN7FrnNggAP1O/3wHiMQw/ayq9fUjfFz8hUuylRnYjPyOmFXslji4/Wq3kK3EYNz+NdtSZF89AP4mk1vMbj0c/cf9OQErLTz/Q3B7RVKhUP1kOroTi2Fk/Q4YwzeMjXz8K+qiT7w9iP09FlhbwLGQ/kkcEWBezZT/+I59u8XhmP0fCpeixaGY/UMDO7SeEZT9ygrFbaeRjP+3igWBKtWE/fzlVGYdbXj9W2St+MQ5ZPz1Afbdr6VM/OuQikzR5Tj/dfdmH/HNGP3LDhY7p2z8/UtncFIDDNT/iCXLogKEsP6fdlwEoIiI/N8+X6vgdFj8+60wqfvkJP9k0MJFhX/0+0nnjWHL77z7meW8h+8PgPmQZaw3S7NA+CDjiZ75zwD7TIuP82cyuPl8XIrrcxps+jZUu80w3iD5xb71dk950PuCG5CahQWQ+V1Ta7ivyYD5cf2o0JFNtPqP5AvHLoYA+Sh/6AQ1Ikz6E4X3t9rilPisTfh+8mLc+Mv4hK6WvyD7C9r7jRt7YPnn5Q0NSH+g+gGoDg+OH9j6Xg1knj0MEPx+oIxyzjBE/cIwOyKtFHT8tFZLUgIInP7QLLPFmLzI/8xcAYVUZOz8ba7KqEXRDPyT0XK9y60o/x4YkUaP2UT9PL5RCJSVXP4Fmndbp1lw/D1FJ255sYT9tW/1mrYJkP8vQ9VVtr2c/p2EdNTkdaz+xSzoQczRvP1R9a4oBWHI/mjg332VWdj/Ssaifj1d8PyT72B8ipoI/hjb85AIiiT/kY+kaAxSRPzLOO8cWFpc/vXOV0U+5nj9QH1pce/yjP6Z11mcgTqk/EJGwBSQXrz9TcXyzvX+yPzxWnqvdS7U/iOKROpaytz87cKlaJnm5P0+acXRrcLo/dwB2FMV8uj84j+MyBZu5P9BZ7zsz4bc/fbZiCuV6tT+vEoQABaKyP+1xbN1hK68/zxtfE2YiqT/220vEtomjP10gv1hUR50/IKP/DN8klT9sOy4mkW6NP5iCqrKHvYM/ipn94WaEeT95vT63jshvP8zJXAeTEmM/bQGUBP0NVj8aysSbQZJIPw==\",\"dtype\":\"float64\",\"order\":\"little\",\"shape\":[200]}},\"selected\":{\"id\":\"3827\"},\"selection_policy\":{\"id\":\"3925\"}},\"id\":\"3826\",\"type\":\"ColumnDataSource\"},{\"attributes\":{},\"id\":\"3494\",\"type\":\"BasicTicker\"},{\"attributes\":{},\"id\":\"3684\",\"type\":\"AllLabels\"},{\"attributes\":{\"axis_label\":\"Density\",\"coordinates\":null,\"formatter\":{\"id\":\"3527\"},\"group\":null,\"major_label_policy\":{\"id\":\"3528\"},\"ticker\":{\"id\":\"3498\"}},\"id\":\"3497\",\"type\":\"LinearAxis\"},{\"attributes\":{\"axis\":{\"id\":\"3497\"},\"coordinates\":null,\"dimension\":1,\"grid_line_color\":null,\"group\":null,\"ticker\":null},\"id\":\"3500\",\"type\":\"Grid\"},{\"attributes\":{},\"id\":\"3498\",\"type\":\"BasicTicker\"},{\"attributes\":{\"active_drag\":{\"id\":\"3814\"},\"active_scroll\":{\"id\":\"3815\"},\"tools\":[{\"id\":\"3795\"},{\"id\":\"3813\"},{\"id\":\"3814\"},{\"id\":\"3815\"},{\"id\":\"3816\"},{\"id\":\"3817\"}]},\"id\":\"3819\",\"type\":\"Toolbar\"},{\"attributes\":{},\"id\":\"3859\",\"type\":\"UnionRenderers\"},{\"attributes\":{},\"id\":\"3503\",\"type\":\"WheelZoomTool\"},{\"attributes\":{},\"id\":\"3580\",\"type\":\"AllLabels\"},{\"attributes\":{\"below\":[{\"id\":\"3701\"}],\"center\":[{\"id\":\"3704\"},{\"id\":\"3708\"}],\"height\":300,\"left\":[{\"id\":\"3705\"}],\"margin\":null,\"min_border_bottom\":10,\"min_border_left\":10,\"min_border_right\":10,\"min_border_top\":10,\"output_backend\":\"webgl\",\"renderers\":[{\"id\":\"3728\"}],\"sizing_mode\":\"fixed\",\"title\":{\"id\":\"3693\"},\"toolbar\":{\"id\":\"3715\"},\"toolbar_location\":null,\"width\":700,\"x_range\":{\"id\":\"3689\"},\"x_scale\":{\"id\":\"3697\"},\"y_range\":{\"id\":\"3690\"},\"y_scale\":{\"id\":\"3699\"}},\"id\":\"3692\",\"subtype\":\"Figure\",\"type\":\"Plot\"},{\"attributes\":{},\"id\":\"3501\",\"type\":\"SaveTool\"},{\"attributes\":{},\"id\":\"3827\",\"type\":\"Selection\"},{\"attributes\":{\"active_drag\":{\"id\":\"3762\"},\"active_scroll\":{\"id\":\"3763\"},\"tools\":[{\"id\":\"3743\"},{\"id\":\"3761\"},{\"id\":\"3762\"},{\"id\":\"3763\"},{\"id\":\"3764\"},{\"id\":\"3765\"}]},\"id\":\"3767\",\"type\":\"Toolbar\"},{\"attributes\":{\"children\":[{\"id\":\"3932\"}],\"margin\":[0,0,0,0],\"name\":\"Row04707\",\"tags\":[\"embedded\"]},\"id\":\"3480\",\"type\":\"Row\"},{\"attributes\":{\"overlay\":{\"id\":\"3506\"}},\"id\":\"3504\",\"type\":\"BoxZoomTool\"},{\"attributes\":{},\"id\":\"3505\",\"type\":\"ResetTool\"},{\"attributes\":{},\"id\":\"3837\",\"type\":\"AllLabels\"},{\"attributes\":{\"coordinates\":null,\"data_source\":{\"id\":\"3826\"},\"glyph\":{\"id\":\"3829\"},\"group\":null,\"hover_glyph\":null,\"muted_glyph\":{\"id\":\"3831\"},\"nonselection_glyph\":{\"id\":\"3830\"},\"selection_glyph\":{\"id\":\"3834\"},\"view\":{\"id\":\"3833\"}},\"id\":\"3832\",\"type\":\"GlyphRenderer\"},{\"attributes\":{},\"id\":\"3699\",\"type\":\"LinearScale\"},{\"attributes\":{\"bottom_units\":\"screen\",\"coordinates\":null,\"fill_alpha\":0.5,\"fill_color\":\"lightgrey\",\"group\":null,\"left_units\":\"screen\",\"level\":\"overlay\",\"line_alpha\":1.0,\"line_color\":\"black\",\"line_dash\":[4,4],\"line_width\":2,\"right_units\":\"screen\",\"syncable\":false,\"top_units\":\"screen\"},\"id\":\"3506\",\"type\":\"BoxAnnotation\"},{\"attributes\":{\"fill_alpha\":0.5,\"fill_color\":\"#30a2da\",\"hatch_alpha\":0.1,\"hatch_color\":\"#30a2da\",\"line_alpha\":1,\"tags\":[\"apply_ranges\"],\"x\":{\"field\":\"x\"},\"y\":{\"field\":\"y\"}},\"id\":\"3726\",\"type\":\"Patch\"},{\"attributes\":{},\"id\":\"3579\",\"type\":\"BasicTickFormatter\"},{\"attributes\":{\"coordinates\":null,\"group\":null,\"text\":\"price_change_percentage_60d\",\"text_color\":\"black\",\"text_font_size\":\"12pt\"},\"id\":\"3693\",\"type\":\"Title\"},{\"attributes\":{\"source\":{\"id\":\"3826\"}},\"id\":\"3833\",\"type\":\"CDSView\"},{\"attributes\":{\"fill_alpha\":0.5,\"fill_color\":\"#30a2da\",\"hatch_alpha\":0.1,\"hatch_color\":\"#30a2da\",\"line_alpha\":1,\"tags\":[\"apply_ranges\"],\"x\":{\"field\":\"x\"},\"y\":{\"field\":\"y\"}},\"id\":\"3518\",\"type\":\"Patch\"},{\"attributes\":{},\"id\":\"3709\",\"type\":\"SaveTool\"},{\"attributes\":{\"end\":11.226011155585477,\"reset_end\":11.226011155585477,\"reset_start\":-3.948421447225873,\"start\":-3.948421447225873,\"tags\":[[[\"price_change_percentage_60d\",\"price_change_percentage_60d\",null]]]},\"id\":\"3689\",\"type\":\"Range1d\"},{\"attributes\":{},\"id\":\"3593\",\"type\":\"LinearScale\"},{\"attributes\":{\"callback\":null,\"renderers\":[{\"id\":\"3728\"}],\"tags\":[\"hv_created\"],\"tooltips\":[[\"price_change_percentage_60d\",\"@{price_change_percentage_60d}\"],[\"Density\",\"@{price_change_percentage_60d_density}\"]]},\"id\":\"3691\",\"type\":\"HoverTool\"}],\"root_ids\":[\"3480\"]},\"title\":\"Bokeh Application\",\"version\":\"2.4.3\"}};\n",
       "    var render_items = [{\"docid\":\"324d1e00-cde9-49c3-afc9-acda719f6d4f\",\"root_ids\":[\"3480\"],\"roots\":{\"3480\":\"f993a7f0-5e5e-46bf-8506-4005304c71f7\"}}];\n",
       "    root.Bokeh.embed.embed_items_notebook(docs_json, render_items);\n",
       "    for (const render_item of render_items) {\n",
       "      for (const root_id of render_item.root_ids) {\n",
       "\tconst id_el = document.getElementById(root_id)\n",
       "\tif (id_el.children.length && (id_el.children[0].className === 'bk-root')) {\n",
       "\t  const root_el = id_el.children[0]\n",
       "\t  root_el.id = root_el.id + '-rendered'\n",
       "\t}\n",
       "      }\n",
       "    }\n",
       "  }\n",
       "  if (root.Bokeh !== undefined && root.Bokeh.Panel !== undefined) {\n",
       "    embed_document(root);\n",
       "  } else {\n",
       "    var attempts = 0;\n",
       "    var timer = setInterval(function(root) {\n",
       "      if (root.Bokeh !== undefined && root.Bokeh.Panel !== undefined) {\n",
       "        clearInterval(timer);\n",
       "        embed_document(root);\n",
       "      } else if (document.readyState == \"complete\") {\n",
       "        attempts++;\n",
       "        if (attempts > 200) {\n",
       "          clearInterval(timer);\n",
       "          console.log(\"Bokeh: ERROR: Unable to run BokehJS code because BokehJS library is missing\");\n",
       "        }\n",
       "      }\n",
       "    }, 25, root)\n",
       "  }\n",
       "})(window);</script>"
      ],
      "text/plain": [
       ":Layout\n",
       "   .Distribution.Price_change_percentage_24h  :Distribution   [price_change_percentage_24h]   (Density)\n",
       "   .Distribution.Price_change_percentage_7d   :Distribution   [price_change_percentage_7d]   (Density)\n",
       "   .Distribution.Price_change_percentage_14d  :Distribution   [price_change_percentage_14d]   (Density)\n",
       "   .Distribution.Price_change_percentage_30d  :Distribution   [price_change_percentage_30d]   (Density)\n",
       "   .Distribution.Price_change_percentage_60d  :Distribution   [price_change_percentage_60d]   (Density)\n",
       "   .Distribution.Price_change_percentage_200d :Distribution   [price_change_percentage_200d]   (Density)\n",
       "   .Distribution.Price_change_percentage_1y   :Distribution   [price_change_percentage_1y]   (Density)"
      ]
     },
     "execution_count": 9,
     "metadata": {
      "application/vnd.holoviews_exec.v0+json": {
       "id": "3480"
      }
     },
     "output_type": "execute_result"
    }
   ],
   "source": [
    "# due to some skews and the big outlier in 1y we'll try the robust scaler too\n",
    "\n",
    "# Use the `StandardScaler()` module from scikit-learn to normalize the data from the CSV file\n",
    "r_scaler = RobustScaler()\n",
    "\n",
    "r_scaled = r_scaler.fit_transform(df_market_data)\n",
    "\n",
    "r_scaled_df = pd.DataFrame(r_scaled, columns=df_market_data.columns, index=df_market_data.index)\n",
    "\n",
    "plot_kdes(r_scaled_df)\n",
    "\n",
    "# the results below are much better aligned on zero"
   ]
  },
  {
   "attachments": {},
   "cell_type": "markdown",
   "metadata": {},
   "source": [
    "---"
   ]
  },
  {
   "attachments": {},
   "cell_type": "markdown",
   "metadata": {},
   "source": [
    "### Find the Best Value for k Using the Original Data."
   ]
  },
  {
   "cell_type": "code",
   "execution_count": 10,
   "metadata": {},
   "outputs": [
    {
     "data": {
      "text/plain": [
       "[1, 2, 3, 4, 5, 6, 7, 8, 9, 10]"
      ]
     },
     "execution_count": 10,
     "metadata": {},
     "output_type": "execute_result"
    }
   ],
   "source": [
    "# Create a list with the number of k-values from 1 to 10\n",
    "ks = list(range(1,11))\n",
    "\n",
    "ks"
   ]
  },
  {
   "cell_type": "code",
   "execution_count": 11,
   "metadata": {},
   "outputs": [],
   "source": [
    "# Create an empty list to store the inertia values\n",
    "\n",
    "inertias = []\n",
    "\n",
    "# Create a for loop to compute the inertia with each possible value of k\n",
    "# Inside the loop:\n",
    "# 1. Create a KMeans model using the loop counter for the n_clusters\n",
    "# 2. Fit the model to the data using `df_market_data_scaled`\n",
    "# 3. Append the model.inertia_ to the inertia list\n",
    "\n",
    "def km_wrapper(df,k):\n",
    "    model = KMeans(n_clusters=k, random_state=0, init='k-means++', n_init=20)\n",
    "    model.fit(df)\n",
    "    return model\n",
    "\n",
    "for k in ks:\n",
    "    model = km_wrapper(r_scaled_df,k)\n",
    "    inertias.append(model.inertia_)\n"
   ]
  },
  {
   "cell_type": "code",
   "execution_count": 12,
   "metadata": {},
   "outputs": [
    {
     "data": {
      "text/html": [
       "<div>\n",
       "<style scoped>\n",
       "    .dataframe tbody tr th:only-of-type {\n",
       "        vertical-align: middle;\n",
       "    }\n",
       "\n",
       "    .dataframe tbody tr th {\n",
       "        vertical-align: top;\n",
       "    }\n",
       "\n",
       "    .dataframe thead th {\n",
       "        text-align: right;\n",
       "    }\n",
       "</style>\n",
       "<table border=\"1\" class=\"dataframe\">\n",
       "  <thead>\n",
       "    <tr style=\"text-align: right;\">\n",
       "      <th></th>\n",
       "      <th>k</th>\n",
       "      <th>inertia</th>\n",
       "    </tr>\n",
       "  </thead>\n",
       "  <tbody>\n",
       "    <tr>\n",
       "      <th>0</th>\n",
       "      <td>1</td>\n",
       "      <td>2906.777008</td>\n",
       "    </tr>\n",
       "    <tr>\n",
       "      <th>1</th>\n",
       "      <td>2</td>\n",
       "      <td>627.016576</td>\n",
       "    </tr>\n",
       "    <tr>\n",
       "      <th>2</th>\n",
       "      <td>3</td>\n",
       "      <td>279.997525</td>\n",
       "    </tr>\n",
       "    <tr>\n",
       "      <th>3</th>\n",
       "      <td>4</td>\n",
       "      <td>203.196406</td>\n",
       "    </tr>\n",
       "    <tr>\n",
       "      <th>4</th>\n",
       "      <td>5</td>\n",
       "      <td>158.824605</td>\n",
       "    </tr>\n",
       "    <tr>\n",
       "      <th>5</th>\n",
       "      <td>6</td>\n",
       "      <td>130.779495</td>\n",
       "    </tr>\n",
       "    <tr>\n",
       "      <th>6</th>\n",
       "      <td>7</td>\n",
       "      <td>112.029269</td>\n",
       "    </tr>\n",
       "    <tr>\n",
       "      <th>7</th>\n",
       "      <td>8</td>\n",
       "      <td>94.239542</td>\n",
       "    </tr>\n",
       "    <tr>\n",
       "      <th>8</th>\n",
       "      <td>9</td>\n",
       "      <td>80.869809</td>\n",
       "    </tr>\n",
       "    <tr>\n",
       "      <th>9</th>\n",
       "      <td>10</td>\n",
       "      <td>67.593185</td>\n",
       "    </tr>\n",
       "  </tbody>\n",
       "</table>\n",
       "</div>"
      ],
      "text/plain": [
       "    k      inertia\n",
       "0   1  2906.777008\n",
       "1   2   627.016576\n",
       "2   3   279.997525\n",
       "3   4   203.196406\n",
       "4   5   158.824605\n",
       "5   6   130.779495\n",
       "6   7   112.029269\n",
       "7   8    94.239542\n",
       "8   9    80.869809\n",
       "9  10    67.593185"
      ]
     },
     "execution_count": 12,
     "metadata": {},
     "output_type": "execute_result"
    }
   ],
   "source": [
    "# Create a dictionary with the data to plot the Elbow curve\n",
    "# Create a DataFrame with the data to plot the Elbow curve\n",
    "\n",
    "elbow_df = pd.DataFrame({\n",
    "    'k': ks,\n",
    "    'inertia': inertias\n",
    "})\n",
    "\n",
    "elbow_df"
   ]
  },
  {
   "cell_type": "code",
   "execution_count": 13,
   "metadata": {},
   "outputs": [
    {
     "data": {},
     "metadata": {},
     "output_type": "display_data"
    },
    {
     "data": {
      "application/vnd.holoviews_exec.v0+json": "",
      "text/html": [
       "<div id='4354'>\n",
       "  <div class=\"bk-root\" id=\"68a7cc80-eff4-468e-9a17-077ec7b0a4d7\" data-root-id=\"4354\"></div>\n",
       "</div>\n",
       "<script type=\"application/javascript\">(function(root) {\n",
       "  function embed_document(root) {\n",
       "    var docs_json = {\"55e4c664-5ad0-4bfd-a3ec-c67ae1eb4dcb\":{\"defs\":[{\"extends\":null,\"module\":null,\"name\":\"ReactiveHTML1\",\"overrides\":[],\"properties\":[]},{\"extends\":null,\"module\":null,\"name\":\"FlexBox1\",\"overrides\":[],\"properties\":[{\"default\":\"flex-start\",\"kind\":null,\"name\":\"align_content\"},{\"default\":\"flex-start\",\"kind\":null,\"name\":\"align_items\"},{\"default\":\"row\",\"kind\":null,\"name\":\"flex_direction\"},{\"default\":\"wrap\",\"kind\":null,\"name\":\"flex_wrap\"},{\"default\":\"flex-start\",\"kind\":null,\"name\":\"justify_content\"}]},{\"extends\":null,\"module\":null,\"name\":\"GridStack1\",\"overrides\":[],\"properties\":[{\"default\":\"warn\",\"kind\":null,\"name\":\"mode\"},{\"default\":null,\"kind\":null,\"name\":\"ncols\"},{\"default\":null,\"kind\":null,\"name\":\"nrows\"},{\"default\":true,\"kind\":null,\"name\":\"allow_resize\"},{\"default\":true,\"kind\":null,\"name\":\"allow_drag\"},{\"default\":[],\"kind\":null,\"name\":\"state\"}]},{\"extends\":null,\"module\":null,\"name\":\"click1\",\"overrides\":[],\"properties\":[{\"default\":\"\",\"kind\":null,\"name\":\"terminal_output\"},{\"default\":\"\",\"kind\":null,\"name\":\"debug_name\"},{\"default\":0,\"kind\":null,\"name\":\"clears\"}]},{\"extends\":null,\"module\":null,\"name\":\"NotificationAreaBase1\",\"overrides\":[],\"properties\":[{\"default\":\"bottom-right\",\"kind\":null,\"name\":\"position\"},{\"default\":0,\"kind\":null,\"name\":\"_clear\"}]},{\"extends\":null,\"module\":null,\"name\":\"NotificationArea1\",\"overrides\":[],\"properties\":[{\"default\":[],\"kind\":null,\"name\":\"notifications\"},{\"default\":\"bottom-right\",\"kind\":null,\"name\":\"position\"},{\"default\":0,\"kind\":null,\"name\":\"_clear\"},{\"default\":[{\"background\":\"#ffc107\",\"icon\":{\"className\":\"fas fa-exclamation-triangle\",\"color\":\"white\",\"tagName\":\"i\"},\"type\":\"warning\"},{\"background\":\"#007bff\",\"icon\":{\"className\":\"fas fa-info-circle\",\"color\":\"white\",\"tagName\":\"i\"},\"type\":\"info\"}],\"kind\":null,\"name\":\"types\"}]},{\"extends\":null,\"module\":null,\"name\":\"Notification\",\"overrides\":[],\"properties\":[{\"default\":null,\"kind\":null,\"name\":\"background\"},{\"default\":3000,\"kind\":null,\"name\":\"duration\"},{\"default\":null,\"kind\":null,\"name\":\"icon\"},{\"default\":\"\",\"kind\":null,\"name\":\"message\"},{\"default\":null,\"kind\":null,\"name\":\"notification_type\"},{\"default\":false,\"kind\":null,\"name\":\"_destroyed\"}]},{\"extends\":null,\"module\":null,\"name\":\"TemplateActions1\",\"overrides\":[],\"properties\":[{\"default\":0,\"kind\":null,\"name\":\"open_modal\"},{\"default\":0,\"kind\":null,\"name\":\"close_modal\"}]},{\"extends\":null,\"module\":null,\"name\":\"MaterialTemplateActions1\",\"overrides\":[],\"properties\":[{\"default\":0,\"kind\":null,\"name\":\"open_modal\"},{\"default\":0,\"kind\":null,\"name\":\"close_modal\"}]}],\"roots\":{\"references\":[{\"attributes\":{\"coordinates\":null,\"data_source\":{\"id\":\"4388\"},\"glyph\":{\"id\":\"4391\"},\"group\":null,\"hover_glyph\":null,\"muted_glyph\":{\"id\":\"4393\"},\"nonselection_glyph\":{\"id\":\"4392\"},\"selection_glyph\":{\"id\":\"4396\"},\"view\":{\"id\":\"4395\"}},\"id\":\"4394\",\"type\":\"GlyphRenderer\"},{\"attributes\":{},\"id\":\"4399\",\"type\":\"BasicTickFormatter\"},{\"attributes\":{},\"id\":\"4372\",\"type\":\"BasicTicker\"},{\"attributes\":{\"axis\":{\"id\":\"4371\"},\"coordinates\":null,\"dimension\":1,\"grid_line_color\":null,\"group\":null,\"ticker\":null},\"id\":\"4374\",\"type\":\"Grid\"},{\"attributes\":{\"source\":{\"id\":\"4388\"}},\"id\":\"4395\",\"type\":\"CDSView\"},{\"attributes\":{\"ticks\":[1,2,3,4,5,6,7,8,9,10]},\"id\":\"4397\",\"type\":\"FixedTicker\"},{\"attributes\":{},\"id\":\"4389\",\"type\":\"Selection\"},{\"attributes\":{},\"id\":\"4376\",\"type\":\"PanTool\"},{\"attributes\":{\"line_color\":\"#30a2da\",\"line_width\":2,\"tags\":[\"apply_ranges\"],\"x\":{\"field\":\"k\"},\"y\":{\"field\":\"inertia\"}},\"id\":\"4396\",\"type\":\"Line\"},{\"attributes\":{\"axis_label\":\"k\",\"coordinates\":null,\"formatter\":{\"id\":\"4399\"},\"group\":null,\"major_label_policy\":{\"id\":\"4400\"},\"ticker\":{\"id\":\"4397\"}},\"id\":\"4367\",\"type\":\"LinearAxis\"},{\"attributes\":{\"overlay\":{\"id\":\"4380\"}},\"id\":\"4378\",\"type\":\"BoxZoomTool\"},{\"attributes\":{},\"id\":\"4375\",\"type\":\"SaveTool\"},{\"attributes\":{},\"id\":\"4400\",\"type\":\"AllLabels\"},{\"attributes\":{},\"id\":\"4416\",\"type\":\"UnionRenderers\"},{\"attributes\":{\"children\":[{\"id\":\"4358\"}],\"height\":300,\"margin\":[0,0,0,0],\"name\":\"Row05325\",\"sizing_mode\":\"fixed\",\"tags\":[\"embedded\"],\"width\":700},\"id\":\"4354\",\"type\":\"Row\"},{\"attributes\":{\"active_drag\":{\"id\":\"4376\"},\"active_scroll\":{\"id\":\"4377\"},\"tools\":[{\"id\":\"4357\"},{\"id\":\"4375\"},{\"id\":\"4376\"},{\"id\":\"4377\"},{\"id\":\"4378\"},{\"id\":\"4379\"}]},\"id\":\"4381\",\"type\":\"Toolbar\"},{\"attributes\":{},\"id\":\"4365\",\"type\":\"LinearScale\"},{\"attributes\":{\"data\":{\"inertia\":{\"__ndarray__\":\"vunt0421pkDwQLbyIZiDQB/C0dz1f3FAqNgy9EhmaUAoWPQqY9pjQKh5RZ/xWGBAnj0Ujd8BXEDsoN+oVI9XQBp4WPOqN1RATspgvvblUEA=\",\"dtype\":\"float64\",\"order\":\"little\",\"shape\":[10]},\"k\":[1,2,3,4,5,6,7,8,9,10]},\"selected\":{\"id\":\"4389\"},\"selection_policy\":{\"id\":\"4416\"}},\"id\":\"4388\",\"type\":\"ColumnDataSource\"},{\"attributes\":{},\"id\":\"4379\",\"type\":\"ResetTool\"},{\"attributes\":{\"end\":10.0,\"reset_end\":10.0,\"reset_start\":1.0,\"start\":1.0,\"tags\":[[[\"k\",\"k\",null]]]},\"id\":\"4355\",\"type\":\"Range1d\"},{\"attributes\":{},\"id\":\"4404\",\"type\":\"BasicTickFormatter\"},{\"attributes\":{},\"id\":\"4405\",\"type\":\"AllLabels\"},{\"attributes\":{\"bottom_units\":\"screen\",\"coordinates\":null,\"fill_alpha\":0.5,\"fill_color\":\"lightgrey\",\"group\":null,\"left_units\":\"screen\",\"level\":\"overlay\",\"line_alpha\":1.0,\"line_color\":\"black\",\"line_dash\":[4,4],\"line_width\":2,\"right_units\":\"screen\",\"syncable\":false,\"top_units\":\"screen\"},\"id\":\"4380\",\"type\":\"BoxAnnotation\"},{\"attributes\":{\"axis\":{\"id\":\"4367\"},\"coordinates\":null,\"grid_line_color\":null,\"group\":null,\"ticker\":null},\"id\":\"4370\",\"type\":\"Grid\"},{\"attributes\":{\"line_alpha\":0.2,\"line_color\":\"#30a2da\",\"line_width\":2,\"tags\":[\"apply_ranges\"],\"x\":{\"field\":\"k\"},\"y\":{\"field\":\"inertia\"}},\"id\":\"4393\",\"type\":\"Line\"},{\"attributes\":{\"below\":[{\"id\":\"4367\"}],\"center\":[{\"id\":\"4370\"},{\"id\":\"4374\"}],\"height\":300,\"left\":[{\"id\":\"4371\"}],\"margin\":[5,5,5,5],\"min_border_bottom\":10,\"min_border_left\":10,\"min_border_right\":10,\"min_border_top\":10,\"output_backend\":\"webgl\",\"renderers\":[{\"id\":\"4394\"}],\"sizing_mode\":\"fixed\",\"title\":{\"id\":\"4359\"},\"toolbar\":{\"id\":\"4381\"},\"width\":700,\"x_range\":{\"id\":\"4355\"},\"x_scale\":{\"id\":\"4363\"},\"y_range\":{\"id\":\"4356\"},\"y_scale\":{\"id\":\"4365\"}},\"id\":\"4358\",\"subtype\":\"Figure\",\"type\":\"Plot\"},{\"attributes\":{},\"id\":\"4377\",\"type\":\"WheelZoomTool\"},{\"attributes\":{\"callback\":null,\"renderers\":[{\"id\":\"4394\"}],\"tags\":[\"hv_created\"],\"tooltips\":[[\"k\",\"@{k}\"],[\"inertia\",\"@{inertia}\"]]},\"id\":\"4357\",\"type\":\"HoverTool\"},{\"attributes\":{\"coordinates\":null,\"group\":null,\"text\":\"Elbow curve of k-means on cryptocurrencies\",\"text_color\":\"black\",\"text_font_size\":\"12pt\"},\"id\":\"4359\",\"type\":\"Title\"},{\"attributes\":{\"line_alpha\":0.1,\"line_color\":\"#30a2da\",\"line_width\":2,\"tags\":[\"apply_ranges\"],\"x\":{\"field\":\"k\"},\"y\":{\"field\":\"inertia\"}},\"id\":\"4392\",\"type\":\"Line\"},{\"attributes\":{\"axis_label\":\"inertia\",\"coordinates\":null,\"formatter\":{\"id\":\"4404\"},\"group\":null,\"major_label_policy\":{\"id\":\"4405\"},\"ticker\":{\"id\":\"4372\"}},\"id\":\"4371\",\"type\":\"LinearAxis\"},{\"attributes\":{},\"id\":\"4363\",\"type\":\"LinearScale\"},{\"attributes\":{\"line_color\":\"#30a2da\",\"line_width\":2,\"tags\":[\"apply_ranges\"],\"x\":{\"field\":\"k\"},\"y\":{\"field\":\"inertia\"}},\"id\":\"4391\",\"type\":\"Line\"},{\"attributes\":{\"end\":3190.6953897655576,\"reset_end\":3190.6953897655576,\"reset_start\":-216.32519720983927,\"start\":-216.32519720983927,\"tags\":[[[\"inertia\",\"inertia\",null]]]},\"id\":\"4356\",\"type\":\"Range1d\"}],\"root_ids\":[\"4354\"]},\"title\":\"Bokeh Application\",\"version\":\"2.4.3\"}};\n",
       "    var render_items = [{\"docid\":\"55e4c664-5ad0-4bfd-a3ec-c67ae1eb4dcb\",\"root_ids\":[\"4354\"],\"roots\":{\"4354\":\"68a7cc80-eff4-468e-9a17-077ec7b0a4d7\"}}];\n",
       "    root.Bokeh.embed.embed_items_notebook(docs_json, render_items);\n",
       "    for (const render_item of render_items) {\n",
       "      for (const root_id of render_item.root_ids) {\n",
       "\tconst id_el = document.getElementById(root_id)\n",
       "\tif (id_el.children.length && (id_el.children[0].className === 'bk-root')) {\n",
       "\t  const root_el = id_el.children[0]\n",
       "\t  root_el.id = root_el.id + '-rendered'\n",
       "\t}\n",
       "      }\n",
       "    }\n",
       "  }\n",
       "  if (root.Bokeh !== undefined && root.Bokeh.Panel !== undefined) {\n",
       "    embed_document(root);\n",
       "  } else {\n",
       "    var attempts = 0;\n",
       "    var timer = setInterval(function(root) {\n",
       "      if (root.Bokeh !== undefined && root.Bokeh.Panel !== undefined) {\n",
       "        clearInterval(timer);\n",
       "        embed_document(root);\n",
       "      } else if (document.readyState == \"complete\") {\n",
       "        attempts++;\n",
       "        if (attempts > 200) {\n",
       "          clearInterval(timer);\n",
       "          console.log(\"Bokeh: ERROR: Unable to run BokehJS code because BokehJS library is missing\");\n",
       "        }\n",
       "      }\n",
       "    }, 25, root)\n",
       "  }\n",
       "})(window);</script>"
      ],
      "text/plain": [
       ":Curve   [k]   (inertia)"
      ]
     },
     "execution_count": 13,
     "metadata": {
      "application/vnd.holoviews_exec.v0+json": {
       "id": "4354"
      }
     },
     "output_type": "execute_result"
    }
   ],
   "source": [
    "# Plot a line chart with all the inertia values computed with \n",
    "# the different values of k to visually identify the optimal value for k.\n",
    "\n",
    "elbow_plot = elbow_df.hvplot.line(x='k', y='inertia', title='Elbow curve of k-means on cryptocurrencies', xticks=ks)\n",
    "\n",
    "elbow_plot"
   ]
  },
  {
   "attachments": {},
   "cell_type": "markdown",
   "metadata": {},
   "source": [
    "#### Answer the following question: \n",
    "\n",
    "**Question:** What is the best value for `k`?\n",
    "\n",
    "**Answer:** ambiguous between 2 or 3, with the move from 2 to 3 clusters still yielding some but not a significant amount of marginal inertial loss"
   ]
  },
  {
   "attachments": {},
   "cell_type": "markdown",
   "metadata": {},
   "source": [
    "---"
   ]
  },
  {
   "attachments": {},
   "cell_type": "markdown",
   "metadata": {},
   "source": [
    "### Cluster Cryptocurrencies with K-means Using the Original Data"
   ]
  },
  {
   "cell_type": "code",
   "execution_count": 14,
   "metadata": {},
   "outputs": [
    {
     "name": "stdout",
     "output_type": "stream",
     "text": [
      "[1 1 1 1 1 1 1 1 1 1 1 1 1 1 1 1 1 1 1 1 1 1 1 1 1 1 1 1 1 0 1 1 0 1 1 1 0\n",
      " 1 1 1 1]\n",
      "[0 0 0 0 0 0 0 0 0 0 0 0 0 0 0 0 0 0 0 0 0 0 0 0 0 0 0 0 0 0 0 0 1 0 0 0 2\n",
      " 0 0 0 0]\n",
      "[0 0 0 0 0 0 0 0 0 0 0 0 0 0 0 0 0 0 0 0 0 0 0 0 0 0 0 0 0 0 0 0 1 0 0 0 0\n",
      " 0 0 0 0]\n",
      "[0 0 0 0 0 0 0 0 0 0 0 0 0 0 0 0 0 0 0 0 0 0 0 0 0 0 0 0 0 0 0 0 1 0 0 0 2\n",
      " 0 0 0 0]\n"
     ]
    },
    {
     "data": {
      "text/plain": [
       "[None, None, None, None]"
      ]
     },
     "execution_count": 14,
     "metadata": {},
     "output_type": "execute_result"
    }
   ],
   "source": [
    "# Initialise the K-Means model using the best value for k\n",
    "# Fit the K-Means model using the scaled data\n",
    "\n",
    "s_model_k2 = km_wrapper(s_scaled_df,2)\n",
    "s_model_k3 = km_wrapper(s_scaled_df,3)\n",
    "r_model_k2 = km_wrapper(r_scaled_df,2)\n",
    "r_model_k3 = km_wrapper(r_scaled_df,3)\n",
    "\n",
    "models = [\n",
    "    s_model_k2,\n",
    "    s_model_k3,\n",
    "    r_model_k2,\n",
    "    r_model_k3\n",
    "]\n",
    "\n",
    "# Predict the clusters to group the cryptocurrencies using the scaled data\n",
    "# Print the resulting array of cluster values.\n",
    "\n",
    "[print(x.labels_) for x in models]\n",
    "\n",
    "# note that both k=3 models using different standardisations pick out two individual coins as their own cluster"
   ]
  },
  {
   "cell_type": "code",
   "execution_count": 15,
   "metadata": {},
   "outputs": [],
   "source": [
    "# Create a copy of the DataFrame\n",
    "coins_df = r_scaled_df.copy()"
   ]
  },
  {
   "cell_type": "code",
   "execution_count": 16,
   "metadata": {},
   "outputs": [
    {
     "data": {
      "text/html": [
       "<div>\n",
       "<style scoped>\n",
       "    .dataframe tbody tr th:only-of-type {\n",
       "        vertical-align: middle;\n",
       "    }\n",
       "\n",
       "    .dataframe tbody tr th {\n",
       "        vertical-align: top;\n",
       "    }\n",
       "\n",
       "    .dataframe thead th {\n",
       "        text-align: right;\n",
       "    }\n",
       "</style>\n",
       "<table border=\"1\" class=\"dataframe\">\n",
       "  <thead>\n",
       "    <tr style=\"text-align: right;\">\n",
       "      <th></th>\n",
       "      <th>price_change_percentage_60d</th>\n",
       "      <th>price_change_percentage_1y</th>\n",
       "      <th>label</th>\n",
       "    </tr>\n",
       "    <tr>\n",
       "      <th>coin_id</th>\n",
       "      <th></th>\n",
       "      <th></th>\n",
       "      <th></th>\n",
       "    </tr>\n",
       "  </thead>\n",
       "  <tbody>\n",
       "    <tr>\n",
       "      <th>celsius-degree-token</th>\n",
       "      <td>8.680849</td>\n",
       "      <td>11.550113</td>\n",
       "      <td>2</td>\n",
       "    </tr>\n",
       "    <tr>\n",
       "      <th>ethlend</th>\n",
       "      <td>0.364526</td>\n",
       "      <td>46.333079</td>\n",
       "      <td>1</td>\n",
       "    </tr>\n",
       "    <tr>\n",
       "      <th>bitcoin</th>\n",
       "      <td>0.161591</td>\n",
       "      <td>-0.191552</td>\n",
       "      <td>0</td>\n",
       "    </tr>\n",
       "    <tr>\n",
       "      <th>dash</th>\n",
       "      <td>-0.703176</td>\n",
       "      <td>-0.429556</td>\n",
       "      <td>0</td>\n",
       "    </tr>\n",
       "    <tr>\n",
       "      <th>huobi-token</th>\n",
       "      <td>0.155755</td>\n",
       "      <td>-0.268627</td>\n",
       "      <td>0</td>\n",
       "    </tr>\n",
       "    <tr>\n",
       "      <th>nem</th>\n",
       "      <td>3.403148</td>\n",
       "      <td>0.780073</td>\n",
       "      <td>0</td>\n",
       "    </tr>\n",
       "    <tr>\n",
       "      <th>binance-usd</th>\n",
       "      <td>0.287533</td>\n",
       "      <td>-0.414087</td>\n",
       "      <td>0</td>\n",
       "    </tr>\n",
       "    <tr>\n",
       "      <th>iota</th>\n",
       "      <td>-1.015401</td>\n",
       "      <td>-0.438643</td>\n",
       "      <td>0</td>\n",
       "    </tr>\n",
       "    <tr>\n",
       "      <th>vechain</th>\n",
       "      <td>-1.358129</td>\n",
       "      <td>0.792875</td>\n",
       "      <td>0</td>\n",
       "    </tr>\n",
       "    <tr>\n",
       "      <th>zcash</th>\n",
       "      <td>-0.489271</td>\n",
       "      <td>0.078546</td>\n",
       "      <td>0</td>\n",
       "    </tr>\n",
       "  </tbody>\n",
       "</table>\n",
       "</div>"
      ],
      "text/plain": [
       "                      price_change_percentage_60d  price_change_percentage_1y  \\\n",
       "coin_id                                                                         \n",
       "celsius-degree-token                     8.680849                   11.550113   \n",
       "ethlend                                  0.364526                   46.333079   \n",
       "bitcoin                                  0.161591                   -0.191552   \n",
       "dash                                    -0.703176                   -0.429556   \n",
       "huobi-token                              0.155755                   -0.268627   \n",
       "nem                                      3.403148                    0.780073   \n",
       "binance-usd                              0.287533                   -0.414087   \n",
       "iota                                    -1.015401                   -0.438643   \n",
       "vechain                                 -1.358129                    0.792875   \n",
       "zcash                                   -0.489271                    0.078546   \n",
       "\n",
       "                      label  \n",
       "coin_id                      \n",
       "celsius-degree-token      2  \n",
       "ethlend                   1  \n",
       "bitcoin                   0  \n",
       "dash                      0  \n",
       "huobi-token               0  \n",
       "nem                       0  \n",
       "binance-usd               0  \n",
       "iota                      0  \n",
       "vechain                   0  \n",
       "zcash                     0  "
      ]
     },
     "execution_count": 16,
     "metadata": {},
     "output_type": "execute_result"
    }
   ],
   "source": [
    "# Add a new column to the DataFrame with the predicted clusters\n",
    "coins_df['label'] = r_model_k3.labels_\n",
    "\n",
    "# Display sample data\n",
    "coins_df[['price_change_percentage_60d','price_change_percentage_1y','label']].sort_values('label', ascending=False).head(10)"
   ]
  },
  {
   "cell_type": "code",
   "execution_count": 17,
   "metadata": {},
   "outputs": [
    {
     "data": {},
     "metadata": {},
     "output_type": "display_data"
    },
    {
     "data": {
      "application/vnd.holoviews_exec.v0+json": "",
      "text/html": [
       "<div id='4465'>\n",
       "  <div class=\"bk-root\" id=\"964b5084-0561-4448-9a29-f8f043eb644b\" data-root-id=\"4465\"></div>\n",
       "</div>\n",
       "<script type=\"application/javascript\">(function(root) {\n",
       "  function embed_document(root) {\n",
       "    var docs_json = {\"37ce6ee0-743d-4d88-a76a-6c44c44fc709\":{\"defs\":[{\"extends\":null,\"module\":null,\"name\":\"ReactiveHTML1\",\"overrides\":[],\"properties\":[]},{\"extends\":null,\"module\":null,\"name\":\"FlexBox1\",\"overrides\":[],\"properties\":[{\"default\":\"flex-start\",\"kind\":null,\"name\":\"align_content\"},{\"default\":\"flex-start\",\"kind\":null,\"name\":\"align_items\"},{\"default\":\"row\",\"kind\":null,\"name\":\"flex_direction\"},{\"default\":\"wrap\",\"kind\":null,\"name\":\"flex_wrap\"},{\"default\":\"flex-start\",\"kind\":null,\"name\":\"justify_content\"}]},{\"extends\":null,\"module\":null,\"name\":\"GridStack1\",\"overrides\":[],\"properties\":[{\"default\":\"warn\",\"kind\":null,\"name\":\"mode\"},{\"default\":null,\"kind\":null,\"name\":\"ncols\"},{\"default\":null,\"kind\":null,\"name\":\"nrows\"},{\"default\":true,\"kind\":null,\"name\":\"allow_resize\"},{\"default\":true,\"kind\":null,\"name\":\"allow_drag\"},{\"default\":[],\"kind\":null,\"name\":\"state\"}]},{\"extends\":null,\"module\":null,\"name\":\"click1\",\"overrides\":[],\"properties\":[{\"default\":\"\",\"kind\":null,\"name\":\"terminal_output\"},{\"default\":\"\",\"kind\":null,\"name\":\"debug_name\"},{\"default\":0,\"kind\":null,\"name\":\"clears\"}]},{\"extends\":null,\"module\":null,\"name\":\"NotificationAreaBase1\",\"overrides\":[],\"properties\":[{\"default\":\"bottom-right\",\"kind\":null,\"name\":\"position\"},{\"default\":0,\"kind\":null,\"name\":\"_clear\"}]},{\"extends\":null,\"module\":null,\"name\":\"NotificationArea1\",\"overrides\":[],\"properties\":[{\"default\":[],\"kind\":null,\"name\":\"notifications\"},{\"default\":\"bottom-right\",\"kind\":null,\"name\":\"position\"},{\"default\":0,\"kind\":null,\"name\":\"_clear\"},{\"default\":[{\"background\":\"#ffc107\",\"icon\":{\"className\":\"fas fa-exclamation-triangle\",\"color\":\"white\",\"tagName\":\"i\"},\"type\":\"warning\"},{\"background\":\"#007bff\",\"icon\":{\"className\":\"fas fa-info-circle\",\"color\":\"white\",\"tagName\":\"i\"},\"type\":\"info\"}],\"kind\":null,\"name\":\"types\"}]},{\"extends\":null,\"module\":null,\"name\":\"Notification\",\"overrides\":[],\"properties\":[{\"default\":null,\"kind\":null,\"name\":\"background\"},{\"default\":3000,\"kind\":null,\"name\":\"duration\"},{\"default\":null,\"kind\":null,\"name\":\"icon\"},{\"default\":\"\",\"kind\":null,\"name\":\"message\"},{\"default\":null,\"kind\":null,\"name\":\"notification_type\"},{\"default\":false,\"kind\":null,\"name\":\"_destroyed\"}]},{\"extends\":null,\"module\":null,\"name\":\"TemplateActions1\",\"overrides\":[],\"properties\":[{\"default\":0,\"kind\":null,\"name\":\"open_modal\"},{\"default\":0,\"kind\":null,\"name\":\"close_modal\"}]},{\"extends\":null,\"module\":null,\"name\":\"MaterialTemplateActions1\",\"overrides\":[],\"properties\":[{\"default\":0,\"kind\":null,\"name\":\"open_modal\"},{\"default\":0,\"kind\":null,\"name\":\"close_modal\"}]}],\"roots\":{\"references\":[{\"attributes\":{\"coordinates\":null,\"data_source\":{\"id\":\"4528\"},\"glyph\":{\"id\":\"4531\"},\"group\":null,\"hover_glyph\":null,\"muted_glyph\":{\"id\":\"4533\"},\"nonselection_glyph\":{\"id\":\"4532\"},\"selection_glyph\":{\"id\":\"4549\"},\"view\":{\"id\":\"4535\"}},\"id\":\"4534\",\"type\":\"GlyphRenderer\"},{\"attributes\":{},\"id\":\"4508\",\"type\":\"Selection\"},{\"attributes\":{\"below\":[{\"id\":\"4480\"}],\"center\":[{\"id\":\"4483\"},{\"id\":\"4487\"}],\"height\":300,\"left\":[{\"id\":\"4484\"}],\"margin\":[5,5,5,5],\"min_border_bottom\":10,\"min_border_left\":10,\"min_border_right\":10,\"min_border_top\":10,\"output_backend\":\"webgl\",\"renderers\":[{\"id\":\"4513\"},{\"id\":\"4534\"},{\"id\":\"4556\"}],\"right\":[{\"id\":\"4525\"}],\"sizing_mode\":\"fixed\",\"title\":{\"id\":\"4472\"},\"toolbar\":{\"id\":\"4494\"},\"width\":700,\"x_range\":{\"id\":\"4466\"},\"x_scale\":{\"id\":\"4476\"},\"y_range\":{\"id\":\"4467\"},\"y_scale\":{\"id\":\"4478\"}},\"id\":\"4471\",\"subtype\":\"Figure\",\"type\":\"Plot\"},{\"attributes\":{\"fill_alpha\":{\"value\":0.1},\"fill_color\":{\"value\":\"#30a2da\"},\"hatch_alpha\":{\"value\":0.1},\"hatch_color\":{\"value\":\"#30a2da\"},\"line_alpha\":{\"value\":0.1},\"line_color\":{\"value\":\"#30a2da\"},\"size\":{\"value\":5.477225575051661},\"tags\":[\"apply_ranges\"],\"x\":{\"field\":\"price_change_percentage_24h\"},\"y\":{\"field\":\"price_change_percentage_7d\"}},\"id\":\"4511\",\"type\":\"Scatter\"},{\"attributes\":{\"click_policy\":\"mute\",\"coordinates\":null,\"group\":null,\"items\":[{\"id\":\"4526\"},{\"id\":\"4548\"},{\"id\":\"4572\"}],\"location\":[0,0],\"title\":\"label\"},\"id\":\"4525\",\"type\":\"Legend\"},{\"attributes\":{\"fill_color\":{\"value\":\"#e5ae38\"},\"hatch_color\":{\"value\":\"#e5ae38\"},\"line_color\":{\"value\":\"#e5ae38\"},\"size\":{\"value\":5.477225575051661},\"tags\":[\"apply_ranges\"],\"x\":{\"field\":\"price_change_percentage_24h\"},\"y\":{\"field\":\"price_change_percentage_7d\"}},\"id\":\"4553\",\"type\":\"Scatter\"},{\"attributes\":{\"data\":{\"coin_id\":[\"bitcoin\",\"ethereum\",\"tether\",\"ripple\",\"bitcoin-cash\",\"binancecoin\",\"chainlink\",\"cardano\",\"litecoin\",\"bitcoin-cash-sv\",\"crypto-com-chain\",\"usd-coin\",\"eos\",\"monero\",\"tron\",\"tezos\",\"okb\",\"stellar\",\"cosmos\",\"cdai\",\"neo\",\"wrapped-bitcoin\",\"leo-token\",\"huobi-token\",\"nem\",\"binance-usd\",\"iota\",\"vechain\",\"zcash\",\"theta-token\",\"dash\",\"ethereum-classic\",\"maker\",\"havven\",\"omisego\",\"ontology\",\"ftx-token\",\"true-usd\",\"digibyte\"],\"label\":[0,0,0,0,0,0,0,0,0,0,0,0,0,0,0,0,0,0,0,0,0,0,0,0,0,0,0,0,0,0,0,0,0,0,0,0,0,0,0],\"price_change_percentage_24h\":{\"__ndarray__\":\"YCRMJRUR7j8Md82jsx7OP7laLMaKGL+//wtkvKt/0L91EEe8InQDQOCOiWJEZ/w/4DHSG3lxwr+qYVQ0QPCrPwAAAAAAAAAAIbOgZy7p6T9iLe384LPhP17bn6SfE7i/fNcV86fSxT8ZXWm4RNfZP/D3KTOOU70/zVdEuYj137/tRBLXdHMBwI91V34RxOi/9SeT3flC57/+1XRIgNbMP3hnzCQYKt0/N40FZLqM7j+7/74lDrqsvygXhnkSEtK/kjx6oICc5L/nn31Y0Aiiv7GHeEPJVdk/kSGXGR208T88pSUGPpjcv/HL1WRQdw3A2czyO3Me6r94cowdrcLUv+ukjAIgRty/86NpzplDCsDONoVeWhAQQFzKV8Mp+PC/POTg1rqF5z8KIg8zW1JTP9TH45Ej4QNA\",\"dtype\":\"float64\",\"order\":\"little\",\"shape\":[39]},\"price_change_percentage_7d\":{\"__ndarray__\":\"YRO/6yM94j8mlYxuxAHuP8ouLO8vgdu/KaWNaK+K4L+xBw62qzn9P43s5d72PfQ/7s4p0PNrAkDzwWAs2ab2P7NehlWQANw/AAAAAAAAAAAGwQ/JsP3yvyQ2mkOf7dy/IAsa+l+E479sU7bwZXL6Px2ZFSi97r8/peidlA/55z9yz5lizp/wv9nKEVVuwMS/7zHmIyMV+z805jAG/23bv/m7cl5b77y/mTgUtRln4T8SUAXilqzjvyPwwVNJb8y/XartIDmR4b8/2YEouIXbv0XBLUzKetc/oOfXNS5u5b8ouTHiZt3tP+m+KNYI4/O/YbYx1YNzzj+yhXACbY6gv6njQZnLkuQ/6W3Frd+ewT9I77FfMu7dPxvLSZ5bGuO/pThIQcEg4D/Ixga9UoPav+87uOB+Pta/\",\"dtype\":\"float64\",\"order\":\"little\",\"shape\":[39]}},\"selected\":{\"id\":\"4508\"},\"selection_policy\":{\"id\":\"4522\"}},\"id\":\"4507\",\"type\":\"ColumnDataSource\"},{\"attributes\":{\"source\":{\"id\":\"4528\"}},\"id\":\"4535\",\"type\":\"CDSView\"},{\"attributes\":{\"coordinates\":null,\"group\":null,\"text_color\":\"black\",\"text_font_size\":\"12pt\"},\"id\":\"4472\",\"type\":\"Title\"},{\"attributes\":{},\"id\":\"4503\",\"type\":\"AllLabels\"},{\"attributes\":{\"children\":[{\"id\":\"4471\"}],\"height\":300,\"margin\":[0,0,0,0],\"name\":\"Row05483\",\"sizing_mode\":\"fixed\",\"tags\":[\"embedded\"],\"width\":700},\"id\":\"4465\",\"type\":\"Row\"},{\"attributes\":{\"fill_alpha\":{\"value\":0.2},\"fill_color\":{\"value\":\"#fc4f30\"},\"hatch_alpha\":{\"value\":0.2},\"hatch_color\":{\"value\":\"#fc4f30\"},\"line_alpha\":{\"value\":0.2},\"line_color\":{\"value\":\"#fc4f30\"},\"size\":{\"value\":5.477225575051661},\"tags\":[\"apply_ranges\"],\"x\":{\"field\":\"price_change_percentage_24h\"},\"y\":{\"field\":\"price_change_percentage_7d\"}},\"id\":\"4533\",\"type\":\"Scatter\"},{\"attributes\":{\"axis\":{\"id\":\"4480\"},\"coordinates\":null,\"grid_line_color\":null,\"group\":null,\"ticker\":null},\"id\":\"4483\",\"type\":\"Grid\"},{\"attributes\":{\"angle\":{\"value\":0.0},\"fill_alpha\":{\"value\":1.0},\"fill_color\":{\"value\":\"#fc4f30\"},\"hatch_alpha\":{\"value\":1.0},\"hatch_color\":{\"value\":\"#fc4f30\"},\"hatch_scale\":{\"value\":12.0},\"hatch_weight\":{\"value\":1.0},\"line_alpha\":{\"value\":1.0},\"line_cap\":{\"value\":\"butt\"},\"line_color\":{\"value\":\"#fc4f30\"},\"line_dash\":{\"value\":[]},\"line_dash_offset\":{\"value\":0},\"line_join\":{\"value\":\"bevel\"},\"line_width\":{\"value\":1},\"marker\":{\"value\":\"circle\"},\"size\":{\"value\":5.477225575051661},\"tags\":[\"apply_ranges\"],\"x\":{\"field\":\"price_change_percentage_24h\"},\"y\":{\"field\":\"price_change_percentage_7d\"}},\"id\":\"4549\",\"type\":\"Scatter\"},{\"attributes\":{},\"id\":\"4489\",\"type\":\"PanTool\"},{\"attributes\":{},\"id\":\"4481\",\"type\":\"BasicTicker\"},{\"attributes\":{\"axis_label\":\"price_change_percentage_24h\",\"coordinates\":null,\"formatter\":{\"id\":\"4502\"},\"group\":null,\"major_label_policy\":{\"id\":\"4503\"},\"ticker\":{\"id\":\"4481\"}},\"id\":\"4480\",\"type\":\"LinearAxis\"},{\"attributes\":{\"coordinates\":null,\"data_source\":{\"id\":\"4550\"},\"glyph\":{\"id\":\"4553\"},\"group\":null,\"hover_glyph\":null,\"muted_glyph\":{\"id\":\"4555\"},\"nonselection_glyph\":{\"id\":\"4554\"},\"selection_glyph\":{\"id\":\"4573\"},\"view\":{\"id\":\"4557\"}},\"id\":\"4556\",\"type\":\"GlyphRenderer\"},{\"attributes\":{\"axis_label\":\"price_change_percentage_7d\",\"coordinates\":null,\"formatter\":{\"id\":\"4505\"},\"group\":null,\"major_label_policy\":{\"id\":\"4506\"},\"ticker\":{\"id\":\"4485\"}},\"id\":\"4484\",\"type\":\"LinearAxis\"},{\"attributes\":{\"axis\":{\"id\":\"4484\"},\"coordinates\":null,\"dimension\":1,\"grid_line_color\":null,\"group\":null,\"ticker\":null},\"id\":\"4487\",\"type\":\"Grid\"},{\"attributes\":{\"fill_alpha\":{\"value\":0.1},\"fill_color\":{\"value\":\"#e5ae38\"},\"hatch_alpha\":{\"value\":0.1},\"hatch_color\":{\"value\":\"#e5ae38\"},\"line_alpha\":{\"value\":0.1},\"line_color\":{\"value\":\"#e5ae38\"},\"size\":{\"value\":5.477225575051661},\"tags\":[\"apply_ranges\"],\"x\":{\"field\":\"price_change_percentage_24h\"},\"y\":{\"field\":\"price_change_percentage_7d\"}},\"id\":\"4554\",\"type\":\"Scatter\"},{\"attributes\":{\"label\":{\"value\":\"1\"},\"renderers\":[{\"id\":\"4534\"}]},\"id\":\"4548\",\"type\":\"LegendItem\"},{\"attributes\":{\"data\":{\"coin_id\":[\"ethlend\"],\"label\":[1],\"price_change_percentage_24h\":{\"__ndarray__\":\"RdU6xb8NJsA=\",\"dtype\":\"float64\",\"order\":\"little\",\"shape\":[1]},\"price_change_percentage_7d\":{\"__ndarray__\":\"OxxJa3sLvz8=\",\"dtype\":\"float64\",\"order\":\"little\",\"shape\":[1]}},\"selected\":{\"id\":\"4529\"},\"selection_policy\":{\"id\":\"4545\"}},\"id\":\"4528\",\"type\":\"ColumnDataSource\"},{\"attributes\":{},\"id\":\"4485\",\"type\":\"BasicTicker\"},{\"attributes\":{},\"id\":\"4522\",\"type\":\"UnionRenderers\"},{\"attributes\":{},\"id\":\"4490\",\"type\":\"WheelZoomTool\"},{\"attributes\":{},\"id\":\"4545\",\"type\":\"UnionRenderers\"},{\"attributes\":{},\"id\":\"4569\",\"type\":\"UnionRenderers\"},{\"attributes\":{\"angle\":{\"value\":0.0},\"fill_alpha\":{\"value\":1.0},\"fill_color\":{\"value\":\"#30a2da\"},\"hatch_alpha\":{\"value\":1.0},\"hatch_color\":{\"value\":\"#30a2da\"},\"hatch_scale\":{\"value\":12.0},\"hatch_weight\":{\"value\":1.0},\"line_alpha\":{\"value\":1.0},\"line_cap\":{\"value\":\"butt\"},\"line_color\":{\"value\":\"#30a2da\"},\"line_dash\":{\"value\":[]},\"line_dash_offset\":{\"value\":0},\"line_join\":{\"value\":\"bevel\"},\"line_width\":{\"value\":1},\"marker\":{\"value\":\"circle\"},\"size\":{\"value\":5.477225575051661},\"tags\":[\"apply_ranges\"],\"x\":{\"field\":\"price_change_percentage_24h\"},\"y\":{\"field\":\"price_change_percentage_7d\"}},\"id\":\"4527\",\"type\":\"Scatter\"},{\"attributes\":{\"fill_alpha\":{\"value\":0.2},\"fill_color\":{\"value\":\"#30a2da\"},\"hatch_alpha\":{\"value\":0.2},\"hatch_color\":{\"value\":\"#30a2da\"},\"line_alpha\":{\"value\":0.2},\"line_color\":{\"value\":\"#30a2da\"},\"size\":{\"value\":5.477225575051661},\"tags\":[\"apply_ranges\"],\"x\":{\"field\":\"price_change_percentage_24h\"},\"y\":{\"field\":\"price_change_percentage_7d\"}},\"id\":\"4512\",\"type\":\"Scatter\"},{\"attributes\":{},\"id\":\"4488\",\"type\":\"SaveTool\"},{\"attributes\":{\"fill_alpha\":{\"value\":0.1},\"fill_color\":{\"value\":\"#fc4f30\"},\"hatch_alpha\":{\"value\":0.1},\"hatch_color\":{\"value\":\"#fc4f30\"},\"line_alpha\":{\"value\":0.1},\"line_color\":{\"value\":\"#fc4f30\"},\"size\":{\"value\":5.477225575051661},\"tags\":[\"apply_ranges\"],\"x\":{\"field\":\"price_change_percentage_24h\"},\"y\":{\"field\":\"price_change_percentage_7d\"}},\"id\":\"4532\",\"type\":\"Scatter\"},{\"attributes\":{},\"id\":\"4551\",\"type\":\"Selection\"},{\"attributes\":{\"overlay\":{\"id\":\"4493\"}},\"id\":\"4491\",\"type\":\"BoxZoomTool\"},{\"attributes\":{\"fill_color\":{\"value\":\"#fc4f30\"},\"hatch_color\":{\"value\":\"#fc4f30\"},\"line_color\":{\"value\":\"#fc4f30\"},\"size\":{\"value\":5.477225575051661},\"tags\":[\"apply_ranges\"],\"x\":{\"field\":\"price_change_percentage_24h\"},\"y\":{\"field\":\"price_change_percentage_7d\"}},\"id\":\"4531\",\"type\":\"Scatter\"},{\"attributes\":{},\"id\":\"4492\",\"type\":\"ResetTool\"},{\"attributes\":{\"bottom_units\":\"screen\",\"coordinates\":null,\"fill_alpha\":0.5,\"fill_color\":\"lightgrey\",\"group\":null,\"left_units\":\"screen\",\"level\":\"overlay\",\"line_alpha\":1.0,\"line_color\":\"black\",\"line_dash\":[4,4],\"line_width\":2,\"right_units\":\"screen\",\"syncable\":false,\"top_units\":\"screen\"},\"id\":\"4493\",\"type\":\"BoxAnnotation\"},{\"attributes\":{\"end\":4.66066216472339,\"reset_end\":4.66066216472339,\"reset_start\":-11.671546150768302,\"start\":-11.671546150768302,\"tags\":[[[\"price_change_percentage_24h\",\"price_change_percentage_24h\",null]]]},\"id\":\"4466\",\"type\":\"Range1d\"},{\"attributes\":{\"label\":{\"value\":\"0\"},\"renderers\":[{\"id\":\"4513\"}]},\"id\":\"4526\",\"type\":\"LegendItem\"},{\"attributes\":{\"fill_color\":{\"value\":\"#30a2da\"},\"hatch_color\":{\"value\":\"#30a2da\"},\"line_color\":{\"value\":\"#30a2da\"},\"size\":{\"value\":5.477225575051661},\"tags\":[\"apply_ranges\"],\"x\":{\"field\":\"price_change_percentage_24h\"},\"y\":{\"field\":\"price_change_percentage_7d\"}},\"id\":\"4510\",\"type\":\"Scatter\"},{\"attributes\":{\"source\":{\"id\":\"4550\"}},\"id\":\"4557\",\"type\":\"CDSView\"},{\"attributes\":{\"angle\":{\"value\":0.0},\"fill_alpha\":{\"value\":1.0},\"fill_color\":{\"value\":\"#e5ae38\"},\"hatch_alpha\":{\"value\":1.0},\"hatch_color\":{\"value\":\"#e5ae38\"},\"hatch_scale\":{\"value\":12.0},\"hatch_weight\":{\"value\":1.0},\"line_alpha\":{\"value\":1.0},\"line_cap\":{\"value\":\"butt\"},\"line_color\":{\"value\":\"#e5ae38\"},\"line_dash\":{\"value\":[]},\"line_dash_offset\":{\"value\":0},\"line_join\":{\"value\":\"bevel\"},\"line_width\":{\"value\":1},\"marker\":{\"value\":\"circle\"},\"size\":{\"value\":5.477225575051661},\"tags\":[\"apply_ranges\"],\"x\":{\"field\":\"price_change_percentage_24h\"},\"y\":{\"field\":\"price_change_percentage_7d\"}},\"id\":\"4573\",\"type\":\"Scatter\"},{\"attributes\":{},\"id\":\"4476\",\"type\":\"LinearScale\"},{\"attributes\":{\"active_drag\":{\"id\":\"4489\"},\"active_scroll\":{\"id\":\"4490\"},\"tools\":[{\"id\":\"4468\"},{\"id\":\"4488\"},{\"id\":\"4489\"},{\"id\":\"4490\"},{\"id\":\"4491\"},{\"id\":\"4492\"}]},\"id\":\"4494\",\"type\":\"Toolbar\"},{\"attributes\":{\"callback\":null,\"renderers\":[{\"id\":\"4513\"},{\"id\":\"4534\"},{\"id\":\"4556\"}],\"tags\":[\"hv_created\"],\"tooltips\":[[\"label\",\"@{label}\"],[\"price_change_percentage_24h\",\"@{price_change_percentage_24h}\"],[\"price_change_percentage_7d\",\"@{price_change_percentage_7d}\"],[\"coin_id\",\"@{coin_id}\"]]},\"id\":\"4468\",\"type\":\"HoverTool\"},{\"attributes\":{\"data\":{\"coin_id\":[\"celsius-degree-token\"],\"label\":[2],\"price_change_percentage_24h\":{\"__ndarray__\":\"tTicA5/hAEA=\",\"dtype\":\"float64\",\"order\":\"little\",\"shape\":[1]},\"price_change_percentage_7d\":{\"__ndarray__\":\"87bi1m/P1r8=\",\"dtype\":\"float64\",\"order\":\"little\",\"shape\":[1]}},\"selected\":{\"id\":\"4551\"},\"selection_policy\":{\"id\":\"4569\"}},\"id\":\"4550\",\"type\":\"ColumnDataSource\"},{\"attributes\":{\"coordinates\":null,\"data_source\":{\"id\":\"4507\"},\"glyph\":{\"id\":\"4510\"},\"group\":null,\"hover_glyph\":null,\"muted_glyph\":{\"id\":\"4512\"},\"nonselection_glyph\":{\"id\":\"4511\"},\"selection_glyph\":{\"id\":\"4527\"},\"view\":{\"id\":\"4514\"}},\"id\":\"4513\",\"type\":\"GlyphRenderer\"},{\"attributes\":{},\"id\":\"4502\",\"type\":\"BasicTickFormatter\"},{\"attributes\":{\"label\":{\"value\":\"2\"},\"renderers\":[{\"id\":\"4556\"}]},\"id\":\"4572\",\"type\":\"LegendItem\"},{\"attributes\":{},\"id\":\"4529\",\"type\":\"Selection\"},{\"attributes\":{},\"id\":\"4506\",\"type\":\"AllLabels\"},{\"attributes\":{\"source\":{\"id\":\"4507\"}},\"id\":\"4514\",\"type\":\"CDSView\"},{\"attributes\":{},\"id\":\"4478\",\"type\":\"LinearScale\"},{\"attributes\":{},\"id\":\"4505\",\"type\":\"BasicTickFormatter\"},{\"attributes\":{\"end\":2.6572750783533103,\"reset_end\":2.6572750783533103,\"reset_start\":-1.597492297022574,\"start\":-1.597492297022574,\"tags\":[[[\"price_change_percentage_7d\",\"price_change_percentage_7d\",null]]]},\"id\":\"4467\",\"type\":\"Range1d\"},{\"attributes\":{\"fill_alpha\":{\"value\":0.2},\"fill_color\":{\"value\":\"#e5ae38\"},\"hatch_alpha\":{\"value\":0.2},\"hatch_color\":{\"value\":\"#e5ae38\"},\"line_alpha\":{\"value\":0.2},\"line_color\":{\"value\":\"#e5ae38\"},\"size\":{\"value\":5.477225575051661},\"tags\":[\"apply_ranges\"],\"x\":{\"field\":\"price_change_percentage_24h\"},\"y\":{\"field\":\"price_change_percentage_7d\"}},\"id\":\"4555\",\"type\":\"Scatter\"}],\"root_ids\":[\"4465\"]},\"title\":\"Bokeh Application\",\"version\":\"2.4.3\"}};\n",
       "    var render_items = [{\"docid\":\"37ce6ee0-743d-4d88-a76a-6c44c44fc709\",\"root_ids\":[\"4465\"],\"roots\":{\"4465\":\"964b5084-0561-4448-9a29-f8f043eb644b\"}}];\n",
       "    root.Bokeh.embed.embed_items_notebook(docs_json, render_items);\n",
       "    for (const render_item of render_items) {\n",
       "      for (const root_id of render_item.root_ids) {\n",
       "\tconst id_el = document.getElementById(root_id)\n",
       "\tif (id_el.children.length && (id_el.children[0].className === 'bk-root')) {\n",
       "\t  const root_el = id_el.children[0]\n",
       "\t  root_el.id = root_el.id + '-rendered'\n",
       "\t}\n",
       "      }\n",
       "    }\n",
       "  }\n",
       "  if (root.Bokeh !== undefined && root.Bokeh.Panel !== undefined) {\n",
       "    embed_document(root);\n",
       "  } else {\n",
       "    var attempts = 0;\n",
       "    var timer = setInterval(function(root) {\n",
       "      if (root.Bokeh !== undefined && root.Bokeh.Panel !== undefined) {\n",
       "        clearInterval(timer);\n",
       "        embed_document(root);\n",
       "      } else if (document.readyState == \"complete\") {\n",
       "        attempts++;\n",
       "        if (attempts > 200) {\n",
       "          clearInterval(timer);\n",
       "          console.log(\"Bokeh: ERROR: Unable to run BokehJS code because BokehJS library is missing\");\n",
       "        }\n",
       "      }\n",
       "    }, 25, root)\n",
       "  }\n",
       "})(window);</script>"
      ],
      "text/plain": [
       ":NdOverlay   [label]\n",
       "   :Scatter   [price_change_percentage_24h]   (price_change_percentage_7d,coin_id)"
      ]
     },
     "execution_count": 17,
     "metadata": {
      "application/vnd.holoviews_exec.v0+json": {
       "id": "4465"
      }
     },
     "output_type": "execute_result"
    }
   ],
   "source": [
    "# Create a scatter plot using hvPlot by setting \n",
    "# `x=\"price_change_percentage_24h\"` and `y=\"price_change_percentage_7d\"`. \n",
    "# Colour the graph points with the labels found using K-Means and \n",
    "# add the crypto name in the `hover_cols` parameter to identify \n",
    "# the cryptocurrency represented by each data point.\n",
    "\n",
    "cluster_plot = coins_df.hvplot.scatter(\n",
    "    x = \"price_change_percentage_24h\",\n",
    "    y=\"price_change_percentage_7d\",\n",
    "    by=\"label\",\n",
    "    hover_cols=['coin_id'])\n",
    "\n",
    "cluster_plot"
   ]
  },
  {
   "attachments": {},
   "cell_type": "markdown",
   "metadata": {},
   "source": [
    "---"
   ]
  },
  {
   "attachments": {},
   "cell_type": "markdown",
   "metadata": {},
   "source": [
    "### Optimise Clusters with Principal Component Analysis."
   ]
  },
  {
   "cell_type": "code",
   "execution_count": 18,
   "metadata": {},
   "outputs": [],
   "source": [
    "# Create a PCA model instance and set `n_components=3`.\n",
    "\n",
    "pca = PCA(n_components=3)"
   ]
  },
  {
   "cell_type": "code",
   "execution_count": 19,
   "metadata": {},
   "outputs": [
    {
     "data": {
      "text/html": [
       "<div>\n",
       "<style scoped>\n",
       "    .dataframe tbody tr th:only-of-type {\n",
       "        vertical-align: middle;\n",
       "    }\n",
       "\n",
       "    .dataframe tbody tr th {\n",
       "        vertical-align: top;\n",
       "    }\n",
       "\n",
       "    .dataframe thead th {\n",
       "        text-align: right;\n",
       "    }\n",
       "</style>\n",
       "<table border=\"1\" class=\"dataframe\">\n",
       "  <thead>\n",
       "    <tr style=\"text-align: right;\">\n",
       "      <th></th>\n",
       "      <th>price_change_percentage_200d</th>\n",
       "      <th>price_change_percentage_1y</th>\n",
       "      <th>label</th>\n",
       "      <th>PCA_1</th>\n",
       "      <th>PCA_2</th>\n",
       "      <th>PCA_3</th>\n",
       "    </tr>\n",
       "    <tr>\n",
       "      <th>coin_id</th>\n",
       "      <th></th>\n",
       "      <th></th>\n",
       "      <th></th>\n",
       "      <th></th>\n",
       "      <th></th>\n",
       "      <th></th>\n",
       "    </tr>\n",
       "  </thead>\n",
       "  <tbody>\n",
       "    <tr>\n",
       "      <th>bitcoin</th>\n",
       "      <td>-0.001989</td>\n",
       "      <td>-0.191552</td>\n",
       "      <td>0</td>\n",
       "      <td>-2.188670</td>\n",
       "      <td>0.520510</td>\n",
       "      <td>-0.741547</td>\n",
       "    </tr>\n",
       "    <tr>\n",
       "      <th>ethereum</th>\n",
       "      <td>0.528843</td>\n",
       "      <td>0.192112</td>\n",
       "      <td>0</td>\n",
       "      <td>-1.564105</td>\n",
       "      <td>-0.146419</td>\n",
       "      <td>-0.543574</td>\n",
       "    </tr>\n",
       "    <tr>\n",
       "      <th>tether</th>\n",
       "      <td>-0.431379</td>\n",
       "      <td>-0.414800</td>\n",
       "      <td>0</td>\n",
       "      <td>-2.264268</td>\n",
       "      <td>-0.342005</td>\n",
       "      <td>0.567130</td>\n",
       "    </tr>\n",
       "    <tr>\n",
       "      <th>ripple</th>\n",
       "      <td>-0.228084</td>\n",
       "      <td>-0.513757</td>\n",
       "      <td>0</td>\n",
       "      <td>-2.313358</td>\n",
       "      <td>-0.687349</td>\n",
       "      <td>0.506279</td>\n",
       "    </tr>\n",
       "    <tr>\n",
       "      <th>bitcoin-cash</th>\n",
       "      <td>-0.319996</td>\n",
       "      <td>-0.328626</td>\n",
       "      <td>0</td>\n",
       "      <td>-2.750554</td>\n",
       "      <td>1.217552</td>\n",
       "      <td>-2.570144</td>\n",
       "    </tr>\n",
       "  </tbody>\n",
       "</table>\n",
       "</div>"
      ],
      "text/plain": [
       "              price_change_percentage_200d  price_change_percentage_1y  label  \\\n",
       "coin_id                                                                         \n",
       "bitcoin                          -0.001989                   -0.191552      0   \n",
       "ethereum                          0.528843                    0.192112      0   \n",
       "tether                           -0.431379                   -0.414800      0   \n",
       "ripple                           -0.228084                   -0.513757      0   \n",
       "bitcoin-cash                     -0.319996                   -0.328626      0   \n",
       "\n",
       "                 PCA_1     PCA_2     PCA_3  \n",
       "coin_id                                     \n",
       "bitcoin      -2.188670  0.520510 -0.741547  \n",
       "ethereum     -1.564105 -0.146419 -0.543574  \n",
       "tether       -2.264268 -0.342005  0.567130  \n",
       "ripple       -2.313358 -0.687349  0.506279  \n",
       "bitcoin-cash -2.750554  1.217552 -2.570144  "
      ]
     },
     "execution_count": 19,
     "metadata": {},
     "output_type": "execute_result"
    }
   ],
   "source": [
    "# Use the PCA model with `fit_transform` to reduce to \n",
    "# three principal components.\n",
    "\n",
    "# View the first five rows of the DataFrame. \n",
    "\n",
    "pca_result = pca.fit_transform(r_scaled_df)\n",
    "\n",
    "coins_df['PCA_1'] = pca_result[:, 0]\n",
    "coins_df['PCA_2'] = pca_result[:, 1]\n",
    "coins_df['PCA_3'] = pca_result[:, 2]\n",
    "\n",
    "coins_df.iloc[:,-6:].head(5)"
   ]
  },
  {
   "cell_type": "code",
   "execution_count": 20,
   "metadata": {},
   "outputs": [
    {
     "name": "stdout",
     "output_type": "stream",
     "text": [
      "[0.854359   0.0944445  0.02027866]\n"
     ]
    },
    {
     "data": {
      "text/plain": [
       "0.9690821550730448"
      ]
     },
     "execution_count": 20,
     "metadata": {},
     "output_type": "execute_result"
    }
   ],
   "source": [
    "# Retrieve the explained variance to determine how much information \n",
    "# can be attributed to each principal component.\n",
    "\n",
    "print(pca.explained_variance_ratio_)\n",
    "\n",
    "sum(pca.explained_variance_ratio_)"
   ]
  },
  {
   "attachments": {},
   "cell_type": "markdown",
   "metadata": {},
   "source": [
    "#### Answer the following question: \n",
    "\n",
    "**Question:** What is the total explained variance of the three principal components?\n",
    "\n",
    "**Answer:** 96.9%"
   ]
  },
  {
   "cell_type": "code",
   "execution_count": 21,
   "metadata": {},
   "outputs": [
    {
     "data": {
      "text/html": [
       "<div>\n",
       "<style scoped>\n",
       "    .dataframe tbody tr th:only-of-type {\n",
       "        vertical-align: middle;\n",
       "    }\n",
       "\n",
       "    .dataframe tbody tr th {\n",
       "        vertical-align: top;\n",
       "    }\n",
       "\n",
       "    .dataframe thead th {\n",
       "        text-align: right;\n",
       "    }\n",
       "</style>\n",
       "<table border=\"1\" class=\"dataframe\">\n",
       "  <thead>\n",
       "    <tr style=\"text-align: right;\">\n",
       "      <th></th>\n",
       "      <th>PCA_1</th>\n",
       "      <th>PCA_2</th>\n",
       "      <th>PCA_3</th>\n",
       "    </tr>\n",
       "    <tr>\n",
       "      <th>coin_id</th>\n",
       "      <th></th>\n",
       "      <th></th>\n",
       "      <th></th>\n",
       "    </tr>\n",
       "  </thead>\n",
       "  <tbody>\n",
       "    <tr>\n",
       "      <th>wrapped-bitcoin</th>\n",
       "      <td>-2.191919</td>\n",
       "      <td>0.506026</td>\n",
       "      <td>-0.749852</td>\n",
       "    </tr>\n",
       "    <tr>\n",
       "      <th>ftx-token</th>\n",
       "      <td>-1.427115</td>\n",
       "      <td>-0.274910</td>\n",
       "      <td>-0.722448</td>\n",
       "    </tr>\n",
       "    <tr>\n",
       "      <th>neo</th>\n",
       "      <td>-1.419327</td>\n",
       "      <td>-0.679032</td>\n",
       "      <td>-0.081215</td>\n",
       "    </tr>\n",
       "    <tr>\n",
       "      <th>stellar</th>\n",
       "      <td>-2.001164</td>\n",
       "      <td>-1.509676</td>\n",
       "      <td>0.545020</td>\n",
       "    </tr>\n",
       "    <tr>\n",
       "      <th>ripple</th>\n",
       "      <td>-2.313358</td>\n",
       "      <td>-0.687349</td>\n",
       "      <td>0.506279</td>\n",
       "    </tr>\n",
       "  </tbody>\n",
       "</table>\n",
       "</div>"
      ],
      "text/plain": [
       "                    PCA_1     PCA_2     PCA_3\n",
       "coin_id                                      \n",
       "wrapped-bitcoin -2.191919  0.506026 -0.749852\n",
       "ftx-token       -1.427115 -0.274910 -0.722448\n",
       "neo             -1.419327 -0.679032 -0.081215\n",
       "stellar         -2.001164 -1.509676  0.545020\n",
       "ripple          -2.313358 -0.687349  0.506279"
      ]
     },
     "execution_count": 21,
     "metadata": {},
     "output_type": "execute_result"
    }
   ],
   "source": [
    "# Create a new DataFrame with the PCA data.\n",
    "# Creating a DataFrame with the PCA data\n",
    "# Copy the crypto names from the original data\n",
    "# Set the coinid column as index\n",
    "# Display sample data\n",
    "\n",
    "coins_pca_df = coins_df.iloc[:,-3:]\n",
    "\n",
    "coins_pca_df.sample(5)\n"
   ]
  },
  {
   "attachments": {},
   "cell_type": "markdown",
   "metadata": {},
   "source": [
    "---"
   ]
  },
  {
   "attachments": {},
   "cell_type": "markdown",
   "metadata": {},
   "source": [
    "### Find the Best Value for k Using the PCA Data"
   ]
  },
  {
   "cell_type": "code",
   "execution_count": 22,
   "metadata": {},
   "outputs": [
    {
     "data": {
      "text/plain": [
       "[1, 2, 3, 4, 5, 6, 7, 8, 9, 10]"
      ]
     },
     "execution_count": 22,
     "metadata": {},
     "output_type": "execute_result"
    }
   ],
   "source": [
    "# Create a list with the number of k-values from 1 to 11\n",
    "ks"
   ]
  },
  {
   "cell_type": "code",
   "execution_count": 23,
   "metadata": {},
   "outputs": [],
   "source": [
    "# Create an empty list to store the inertia values\n",
    "pca_inertias = []\n",
    "\n",
    "# Create a for loop to compute the inertia with each possible value of k\n",
    "# Inside the loop:\n",
    "# 1. Create a KMeans model using the loop counter for the n_clusters\n",
    "# 2. Fit the model to the data using `df_market_data_pca`\n",
    "# 3. Append the model.inertia_ to the inertia list\n",
    "\n",
    "for k in ks:\n",
    "    model = km_wrapper(coins_pca_df,k)\n",
    "    pca_inertias.append(model.inertia_)\n"
   ]
  },
  {
   "cell_type": "code",
   "execution_count": 24,
   "metadata": {},
   "outputs": [
    {
     "data": {
      "text/html": [
       "<div>\n",
       "<style scoped>\n",
       "    .dataframe tbody tr th:only-of-type {\n",
       "        vertical-align: middle;\n",
       "    }\n",
       "\n",
       "    .dataframe tbody tr th {\n",
       "        vertical-align: top;\n",
       "    }\n",
       "\n",
       "    .dataframe thead th {\n",
       "        text-align: right;\n",
       "    }\n",
       "</style>\n",
       "<table border=\"1\" class=\"dataframe\">\n",
       "  <thead>\n",
       "    <tr style=\"text-align: right;\">\n",
       "      <th></th>\n",
       "      <th>k</th>\n",
       "      <th>inertia</th>\n",
       "      <th>pca_inertia</th>\n",
       "    </tr>\n",
       "  </thead>\n",
       "  <tbody>\n",
       "    <tr>\n",
       "      <th>0</th>\n",
       "      <td>1</td>\n",
       "      <td>2906.777008</td>\n",
       "      <td>2816.905727</td>\n",
       "    </tr>\n",
       "    <tr>\n",
       "      <th>1</th>\n",
       "      <td>2</td>\n",
       "      <td>627.016576</td>\n",
       "      <td>537.501537</td>\n",
       "    </tr>\n",
       "    <tr>\n",
       "      <th>2</th>\n",
       "      <td>3</td>\n",
       "      <td>279.997525</td>\n",
       "      <td>191.483700</td>\n",
       "    </tr>\n",
       "    <tr>\n",
       "      <th>3</th>\n",
       "      <td>4</td>\n",
       "      <td>203.196406</td>\n",
       "      <td>122.136845</td>\n",
       "    </tr>\n",
       "    <tr>\n",
       "      <th>4</th>\n",
       "      <td>5</td>\n",
       "      <td>158.824605</td>\n",
       "      <td>80.206163</td>\n",
       "    </tr>\n",
       "    <tr>\n",
       "      <th>5</th>\n",
       "      <td>6</td>\n",
       "      <td>130.779495</td>\n",
       "      <td>62.234674</td>\n",
       "    </tr>\n",
       "    <tr>\n",
       "      <th>6</th>\n",
       "      <td>7</td>\n",
       "      <td>112.029269</td>\n",
       "      <td>48.428755</td>\n",
       "    </tr>\n",
       "    <tr>\n",
       "      <th>7</th>\n",
       "      <td>8</td>\n",
       "      <td>94.239542</td>\n",
       "      <td>39.706361</td>\n",
       "    </tr>\n",
       "    <tr>\n",
       "      <th>8</th>\n",
       "      <td>9</td>\n",
       "      <td>80.869809</td>\n",
       "      <td>30.034357</td>\n",
       "    </tr>\n",
       "    <tr>\n",
       "      <th>9</th>\n",
       "      <td>10</td>\n",
       "      <td>67.593185</td>\n",
       "      <td>23.559862</td>\n",
       "    </tr>\n",
       "  </tbody>\n",
       "</table>\n",
       "</div>"
      ],
      "text/plain": [
       "    k      inertia  pca_inertia\n",
       "0   1  2906.777008  2816.905727\n",
       "1   2   627.016576   537.501537\n",
       "2   3   279.997525   191.483700\n",
       "3   4   203.196406   122.136845\n",
       "4   5   158.824605    80.206163\n",
       "5   6   130.779495    62.234674\n",
       "6   7   112.029269    48.428755\n",
       "7   8    94.239542    39.706361\n",
       "8   9    80.869809    30.034357\n",
       "9  10    67.593185    23.559862"
      ]
     },
     "execution_count": 24,
     "metadata": {},
     "output_type": "execute_result"
    }
   ],
   "source": [
    "# Create a dictionary with the data to plot the Elbow curve\n",
    "# Create a DataFrame with the data to plot the Elbow curve\n",
    "\n",
    "elbow_df['pca_inertia'] = pca_inertias\n",
    "\n",
    "elbow_df"
   ]
  },
  {
   "cell_type": "code",
   "execution_count": 25,
   "metadata": {},
   "outputs": [
    {
     "data": {},
     "metadata": {},
     "output_type": "display_data"
    },
    {
     "data": {
      "application/vnd.holoviews_exec.v0+json": "",
      "text/html": [
       "<div id='4663'>\n",
       "  <div class=\"bk-root\" id=\"bcba1752-b5b4-4d72-a5cf-f4dac21cdcaf\" data-root-id=\"4663\"></div>\n",
       "</div>\n",
       "<script type=\"application/javascript\">(function(root) {\n",
       "  function embed_document(root) {\n",
       "    var docs_json = {\"059feeec-9683-4b90-a64b-eb620a182d72\":{\"defs\":[{\"extends\":null,\"module\":null,\"name\":\"ReactiveHTML1\",\"overrides\":[],\"properties\":[]},{\"extends\":null,\"module\":null,\"name\":\"FlexBox1\",\"overrides\":[],\"properties\":[{\"default\":\"flex-start\",\"kind\":null,\"name\":\"align_content\"},{\"default\":\"flex-start\",\"kind\":null,\"name\":\"align_items\"},{\"default\":\"row\",\"kind\":null,\"name\":\"flex_direction\"},{\"default\":\"wrap\",\"kind\":null,\"name\":\"flex_wrap\"},{\"default\":\"flex-start\",\"kind\":null,\"name\":\"justify_content\"}]},{\"extends\":null,\"module\":null,\"name\":\"GridStack1\",\"overrides\":[],\"properties\":[{\"default\":\"warn\",\"kind\":null,\"name\":\"mode\"},{\"default\":null,\"kind\":null,\"name\":\"ncols\"},{\"default\":null,\"kind\":null,\"name\":\"nrows\"},{\"default\":true,\"kind\":null,\"name\":\"allow_resize\"},{\"default\":true,\"kind\":null,\"name\":\"allow_drag\"},{\"default\":[],\"kind\":null,\"name\":\"state\"}]},{\"extends\":null,\"module\":null,\"name\":\"click1\",\"overrides\":[],\"properties\":[{\"default\":\"\",\"kind\":null,\"name\":\"terminal_output\"},{\"default\":\"\",\"kind\":null,\"name\":\"debug_name\"},{\"default\":0,\"kind\":null,\"name\":\"clears\"}]},{\"extends\":null,\"module\":null,\"name\":\"NotificationAreaBase1\",\"overrides\":[],\"properties\":[{\"default\":\"bottom-right\",\"kind\":null,\"name\":\"position\"},{\"default\":0,\"kind\":null,\"name\":\"_clear\"}]},{\"extends\":null,\"module\":null,\"name\":\"NotificationArea1\",\"overrides\":[],\"properties\":[{\"default\":[],\"kind\":null,\"name\":\"notifications\"},{\"default\":\"bottom-right\",\"kind\":null,\"name\":\"position\"},{\"default\":0,\"kind\":null,\"name\":\"_clear\"},{\"default\":[{\"background\":\"#ffc107\",\"icon\":{\"className\":\"fas fa-exclamation-triangle\",\"color\":\"white\",\"tagName\":\"i\"},\"type\":\"warning\"},{\"background\":\"#007bff\",\"icon\":{\"className\":\"fas fa-info-circle\",\"color\":\"white\",\"tagName\":\"i\"},\"type\":\"info\"}],\"kind\":null,\"name\":\"types\"}]},{\"extends\":null,\"module\":null,\"name\":\"Notification\",\"overrides\":[],\"properties\":[{\"default\":null,\"kind\":null,\"name\":\"background\"},{\"default\":3000,\"kind\":null,\"name\":\"duration\"},{\"default\":null,\"kind\":null,\"name\":\"icon\"},{\"default\":\"\",\"kind\":null,\"name\":\"message\"},{\"default\":null,\"kind\":null,\"name\":\"notification_type\"},{\"default\":false,\"kind\":null,\"name\":\"_destroyed\"}]},{\"extends\":null,\"module\":null,\"name\":\"TemplateActions1\",\"overrides\":[],\"properties\":[{\"default\":0,\"kind\":null,\"name\":\"open_modal\"},{\"default\":0,\"kind\":null,\"name\":\"close_modal\"}]},{\"extends\":null,\"module\":null,\"name\":\"MaterialTemplateActions1\",\"overrides\":[],\"properties\":[{\"default\":0,\"kind\":null,\"name\":\"open_modal\"},{\"default\":0,\"kind\":null,\"name\":\"close_modal\"}]}],\"roots\":{\"references\":[{\"attributes\":{\"axis\":{\"id\":\"4680\"},\"coordinates\":null,\"dimension\":1,\"grid_line_color\":null,\"group\":null,\"ticker\":null},\"id\":\"4683\",\"type\":\"Grid\"},{\"attributes\":{\"line_alpha\":0.2,\"line_color\":\"#30a2da\",\"line_width\":2,\"tags\":[\"apply_ranges\"],\"x\":{\"field\":\"k\"},\"y\":{\"field\":\"pca_inertia\"}},\"id\":\"4702\",\"type\":\"Line\"},{\"attributes\":{\"callback\":null,\"renderers\":[{\"id\":\"4703\"}],\"tags\":[\"hv_created\"],\"tooltips\":[[\"k\",\"@{k}\"],[\"pca_inertia\",\"@{pca_inertia}\"]]},\"id\":\"4666\",\"type\":\"HoverTool\"},{\"attributes\":{},\"id\":\"4709\",\"type\":\"AllLabels\"},{\"attributes\":{\"overlay\":{\"id\":\"4689\"}},\"id\":\"4687\",\"type\":\"BoxZoomTool\"},{\"attributes\":{\"ticks\":[1,2,3,4,5,6,7,8,9,10]},\"id\":\"4706\",\"type\":\"FixedTicker\"},{\"attributes\":{\"coordinates\":null,\"data_source\":{\"id\":\"4697\"},\"glyph\":{\"id\":\"4700\"},\"group\":null,\"hover_glyph\":null,\"muted_glyph\":{\"id\":\"4702\"},\"nonselection_glyph\":{\"id\":\"4701\"},\"selection_glyph\":{\"id\":\"4705\"},\"view\":{\"id\":\"4704\"}},\"id\":\"4703\",\"type\":\"GlyphRenderer\"},{\"attributes\":{\"bottom_units\":\"screen\",\"coordinates\":null,\"fill_alpha\":0.5,\"fill_color\":\"lightgrey\",\"group\":null,\"left_units\":\"screen\",\"level\":\"overlay\",\"line_alpha\":1.0,\"line_color\":\"black\",\"line_dash\":[4,4],\"line_width\":2,\"right_units\":\"screen\",\"syncable\":false,\"top_units\":\"screen\"},\"id\":\"4689\",\"type\":\"BoxAnnotation\"},{\"attributes\":{\"source\":{\"id\":\"4697\"}},\"id\":\"4704\",\"type\":\"CDSView\"},{\"attributes\":{\"data\":{\"k\":[1,2,3,4,5,6,7,8,9,10],\"pca_inertia\":{\"__ndarray__\":\"Sgtru88BpkAV9MAlA8yAQH4jTnh672dAPmQOEsKIXkAkCzjEMQ1UQClomsgJHk9A3FOqcuE2SEDZoSYJatpDQJqbnKTLCD5AQO6VIVOPN0A=\",\"dtype\":\"float64\",\"order\":\"little\",\"shape\":[10]}},\"selected\":{\"id\":\"4698\"},\"selection_policy\":{\"id\":\"4725\"}},\"id\":\"4697\",\"type\":\"ColumnDataSource\"},{\"attributes\":{},\"id\":\"4688\",\"type\":\"ResetTool\"},{\"attributes\":{},\"id\":\"4685\",\"type\":\"PanTool\"},{\"attributes\":{\"line_color\":\"#30a2da\",\"line_width\":2,\"tags\":[\"apply_ranges\"],\"x\":{\"field\":\"k\"},\"y\":{\"field\":\"pca_inertia\"}},\"id\":\"4705\",\"type\":\"Line\"},{\"attributes\":{},\"id\":\"4708\",\"type\":\"BasicTickFormatter\"},{\"attributes\":{\"axis_label\":\"pca_inertia\",\"coordinates\":null,\"formatter\":{\"id\":\"4713\"},\"group\":null,\"major_label_policy\":{\"id\":\"4714\"},\"ticker\":{\"id\":\"4681\"}},\"id\":\"4680\",\"type\":\"LinearAxis\"},{\"attributes\":{\"children\":[{\"id\":\"4667\"}],\"height\":300,\"margin\":[0,0,0,0],\"name\":\"Row05642\",\"sizing_mode\":\"fixed\",\"tags\":[\"embedded\"],\"width\":700},\"id\":\"4663\",\"type\":\"Row\"},{\"attributes\":{},\"id\":\"4681\",\"type\":\"BasicTicker\"},{\"attributes\":{\"end\":10.0,\"reset_end\":10.0,\"reset_start\":1.0,\"start\":1.0,\"tags\":[[[\"k\",\"k\",null]]]},\"id\":\"4664\",\"type\":\"Range1d\"},{\"attributes\":{},\"id\":\"4684\",\"type\":\"SaveTool\"},{\"attributes\":{},\"id\":\"4713\",\"type\":\"BasicTickFormatter\"},{\"attributes\":{\"axis_label\":\"k\",\"coordinates\":null,\"formatter\":{\"id\":\"4708\"},\"group\":null,\"major_label_policy\":{\"id\":\"4709\"},\"ticker\":{\"id\":\"4706\"}},\"id\":\"4676\",\"type\":\"LinearAxis\"},{\"attributes\":{\"end\":3096.240313214999,\"reset_end\":3096.240313214999,\"reset_start\":-255.77472422170473,\"start\":-255.77472422170473,\"tags\":[[[\"pca_inertia\",\"pca_inertia\",null]]]},\"id\":\"4665\",\"type\":\"Range1d\"},{\"attributes\":{},\"id\":\"4686\",\"type\":\"WheelZoomTool\"},{\"attributes\":{},\"id\":\"4698\",\"type\":\"Selection\"},{\"attributes\":{},\"id\":\"4725\",\"type\":\"UnionRenderers\"},{\"attributes\":{\"coordinates\":null,\"group\":null,\"text\":\"Elbow curve of k-means on cryptocurrencies (PCA)\",\"text_color\":\"black\",\"text_font_size\":\"12pt\"},\"id\":\"4668\",\"type\":\"Title\"},{\"attributes\":{},\"id\":\"4672\",\"type\":\"LinearScale\"},{\"attributes\":{\"below\":[{\"id\":\"4676\"}],\"center\":[{\"id\":\"4679\"},{\"id\":\"4683\"}],\"height\":300,\"left\":[{\"id\":\"4680\"}],\"margin\":[5,5,5,5],\"min_border_bottom\":10,\"min_border_left\":10,\"min_border_right\":10,\"min_border_top\":10,\"output_backend\":\"webgl\",\"renderers\":[{\"id\":\"4703\"}],\"sizing_mode\":\"fixed\",\"title\":{\"id\":\"4668\"},\"toolbar\":{\"id\":\"4690\"},\"width\":700,\"x_range\":{\"id\":\"4664\"},\"x_scale\":{\"id\":\"4672\"},\"y_range\":{\"id\":\"4665\"},\"y_scale\":{\"id\":\"4674\"}},\"id\":\"4667\",\"subtype\":\"Figure\",\"type\":\"Plot\"},{\"attributes\":{\"axis\":{\"id\":\"4676\"},\"coordinates\":null,\"grid_line_color\":null,\"group\":null,\"ticker\":null},\"id\":\"4679\",\"type\":\"Grid\"},{\"attributes\":{\"line_alpha\":0.1,\"line_color\":\"#30a2da\",\"line_width\":2,\"tags\":[\"apply_ranges\"],\"x\":{\"field\":\"k\"},\"y\":{\"field\":\"pca_inertia\"}},\"id\":\"4701\",\"type\":\"Line\"},{\"attributes\":{},\"id\":\"4674\",\"type\":\"LinearScale\"},{\"attributes\":{\"active_drag\":{\"id\":\"4685\"},\"active_scroll\":{\"id\":\"4686\"},\"tools\":[{\"id\":\"4666\"},{\"id\":\"4684\"},{\"id\":\"4685\"},{\"id\":\"4686\"},{\"id\":\"4687\"},{\"id\":\"4688\"}]},\"id\":\"4690\",\"type\":\"Toolbar\"},{\"attributes\":{},\"id\":\"4714\",\"type\":\"AllLabels\"},{\"attributes\":{\"line_color\":\"#30a2da\",\"line_width\":2,\"tags\":[\"apply_ranges\"],\"x\":{\"field\":\"k\"},\"y\":{\"field\":\"pca_inertia\"}},\"id\":\"4700\",\"type\":\"Line\"}],\"root_ids\":[\"4663\"]},\"title\":\"Bokeh Application\",\"version\":\"2.4.3\"}};\n",
       "    var render_items = [{\"docid\":\"059feeec-9683-4b90-a64b-eb620a182d72\",\"root_ids\":[\"4663\"],\"roots\":{\"4663\":\"bcba1752-b5b4-4d72-a5cf-f4dac21cdcaf\"}}];\n",
       "    root.Bokeh.embed.embed_items_notebook(docs_json, render_items);\n",
       "    for (const render_item of render_items) {\n",
       "      for (const root_id of render_item.root_ids) {\n",
       "\tconst id_el = document.getElementById(root_id)\n",
       "\tif (id_el.children.length && (id_el.children[0].className === 'bk-root')) {\n",
       "\t  const root_el = id_el.children[0]\n",
       "\t  root_el.id = root_el.id + '-rendered'\n",
       "\t}\n",
       "      }\n",
       "    }\n",
       "  }\n",
       "  if (root.Bokeh !== undefined && root.Bokeh.Panel !== undefined) {\n",
       "    embed_document(root);\n",
       "  } else {\n",
       "    var attempts = 0;\n",
       "    var timer = setInterval(function(root) {\n",
       "      if (root.Bokeh !== undefined && root.Bokeh.Panel !== undefined) {\n",
       "        clearInterval(timer);\n",
       "        embed_document(root);\n",
       "      } else if (document.readyState == \"complete\") {\n",
       "        attempts++;\n",
       "        if (attempts > 200) {\n",
       "          clearInterval(timer);\n",
       "          console.log(\"Bokeh: ERROR: Unable to run BokehJS code because BokehJS library is missing\");\n",
       "        }\n",
       "      }\n",
       "    }, 25, root)\n",
       "  }\n",
       "})(window);</script>"
      ],
      "text/plain": [
       ":Curve   [k]   (pca_inertia)"
      ]
     },
     "execution_count": 25,
     "metadata": {
      "application/vnd.holoviews_exec.v0+json": {
       "id": "4663"
      }
     },
     "output_type": "execute_result"
    }
   ],
   "source": [
    "# Plot a line chart with all the inertia values computed with \n",
    "# the different values of k to visually identify the optimal value for k.\n",
    "\n",
    "pca_elbow_plot = elbow_df.hvplot.line(x='k', y='pca_inertia', title='Elbow curve of k-means on cryptocurrencies (PCA)', xticks=ks)\n",
    "\n",
    "pca_elbow_plot"
   ]
  },
  {
   "attachments": {},
   "cell_type": "markdown",
   "metadata": {},
   "source": [
    "#### Answer the following questions: \n",
    "\n",
    "* **Question:** What is the best value for `k` when using the PCA data?\n",
    "\n",
    "  * **Answer:** Similarly, the answer is ambiguously 2 or 3\n",
    "\n",
    "\n",
    "&nbsp;\n",
    "\n",
    "* **Question:** Does it differ from the best k value found using the original data?\n",
    "\n",
    "  * **Answer:** No"
   ]
  },
  {
   "attachments": {},
   "cell_type": "markdown",
   "metadata": {},
   "source": [
    "### Cluster Cryptocurrencies with K-means Using the PCA Data"
   ]
  },
  {
   "cell_type": "code",
   "execution_count": 26,
   "metadata": {},
   "outputs": [
    {
     "name": "stdout",
     "output_type": "stream",
     "text": [
      "[1 1 1 1 1 1 1 1 1 1 1 1 1 1 1 1 1 1 1 1 1 1 1 1 1 1 1 1 1 0 1 1 0 1 1 1 0\n",
      " 1 1 1 1]\n",
      "[0 0 0 0 0 0 0 0 0 0 0 0 0 0 0 0 0 0 0 0 0 0 0 0 0 0 0 0 0 0 0 0 1 0 0 0 2\n",
      " 0 0 0 0]\n",
      "[0 0 0 0 0 0 0 0 0 0 0 0 0 0 0 0 0 0 0 0 0 0 0 0 0 0 0 0 0 0 0 0 1 0 0 0 0\n",
      " 0 0 0 0]\n",
      "[0 0 0 0 0 0 0 0 0 0 0 0 0 0 0 0 0 0 0 0 0 0 0 0 0 0 0 0 0 0 0 0 1 0 0 0 2\n",
      " 0 0 0 0]\n",
      "[0 0 0 0 0 0 0 0 0 0 0 0 0 0 0 0 0 0 0 0 0 0 0 0 0 0 0 0 0 0 0 0 1 0 0 0 2\n",
      " 0 0 0 0]\n"
     ]
    },
    {
     "data": {
      "text/plain": [
       "[None, None, None, None, None]"
      ]
     },
     "execution_count": 26,
     "metadata": {},
     "output_type": "execute_result"
    }
   ],
   "source": [
    "# Fit the K-Means model using the PCA data\n",
    "\n",
    "p_model_k3 = km_wrapper(coins_pca_df,3)\n",
    "\n",
    "models.append(p_model_k3)\n",
    "\n",
    "[print(x.labels_) for x in models]\n",
    "\n",
    "# (same clusters as before)"
   ]
  },
  {
   "cell_type": "code",
   "execution_count": 27,
   "metadata": {},
   "outputs": [
    {
     "data": {
      "text/plain": [
       "array([0, 0, 0, 0, 0, 0, 0, 0, 0, 0, 0, 0, 0, 0, 0, 0, 0, 0, 0, 0, 0, 0,\n",
       "       0, 0, 0, 0, 0, 0, 0, 0, 0, 0, 1, 0, 0, 0, 2, 0, 0, 0, 0],\n",
       "      dtype=int32)"
      ]
     },
     "execution_count": 27,
     "metadata": {},
     "output_type": "execute_result"
    }
   ],
   "source": [
    "# Predict the clusters to group the cryptocurrencies using the PCA data\n",
    "\n",
    "# Print the resulting array of cluster values.\n",
    "\n",
    "p_model_k3.labels_"
   ]
  },
  {
   "cell_type": "code",
   "execution_count": 28,
   "metadata": {},
   "outputs": [
    {
     "data": {
      "text/html": [
       "<div>\n",
       "<style scoped>\n",
       "    .dataframe tbody tr th:only-of-type {\n",
       "        vertical-align: middle;\n",
       "    }\n",
       "\n",
       "    .dataframe tbody tr th {\n",
       "        vertical-align: top;\n",
       "    }\n",
       "\n",
       "    .dataframe thead th {\n",
       "        text-align: right;\n",
       "    }\n",
       "</style>\n",
       "<table border=\"1\" class=\"dataframe\">\n",
       "  <thead>\n",
       "    <tr style=\"text-align: right;\">\n",
       "      <th></th>\n",
       "      <th>PCA_1</th>\n",
       "      <th>PCA_2</th>\n",
       "      <th>PCA_3</th>\n",
       "      <th>PCA_label</th>\n",
       "    </tr>\n",
       "    <tr>\n",
       "      <th>coin_id</th>\n",
       "      <th></th>\n",
       "      <th></th>\n",
       "      <th></th>\n",
       "      <th></th>\n",
       "    </tr>\n",
       "  </thead>\n",
       "  <tbody>\n",
       "    <tr>\n",
       "      <th>celsius-degree-token</th>\n",
       "      <td>11.064407</td>\n",
       "      <td>13.781783</td>\n",
       "      <td>0.478997</td>\n",
       "      <td>2</td>\n",
       "    </tr>\n",
       "    <tr>\n",
       "      <th>ethlend</th>\n",
       "      <td>47.001114</td>\n",
       "      <td>-3.766282</td>\n",
       "      <td>-0.720656</td>\n",
       "      <td>1</td>\n",
       "    </tr>\n",
       "    <tr>\n",
       "      <th>bitcoin</th>\n",
       "      <td>-2.188670</td>\n",
       "      <td>0.520510</td>\n",
       "      <td>-0.741547</td>\n",
       "      <td>0</td>\n",
       "    </tr>\n",
       "    <tr>\n",
       "      <th>dash</th>\n",
       "      <td>-2.180401</td>\n",
       "      <td>-1.491193</td>\n",
       "      <td>0.457111</td>\n",
       "      <td>0</td>\n",
       "    </tr>\n",
       "    <tr>\n",
       "      <th>huobi-token</th>\n",
       "      <td>-2.047348</td>\n",
       "      <td>-0.547904</td>\n",
       "      <td>0.516148</td>\n",
       "      <td>0</td>\n",
       "    </tr>\n",
       "    <tr>\n",
       "      <th>nem</th>\n",
       "      <td>-0.589249</td>\n",
       "      <td>1.530066</td>\n",
       "      <td>1.817678</td>\n",
       "      <td>0</td>\n",
       "    </tr>\n",
       "    <tr>\n",
       "      <th>binance-usd</th>\n",
       "      <td>-2.282306</td>\n",
       "      <td>-0.311453</td>\n",
       "      <td>0.495543</td>\n",
       "      <td>0</td>\n",
       "    </tr>\n",
       "    <tr>\n",
       "      <th>iota</th>\n",
       "      <td>-2.342942</td>\n",
       "      <td>-1.024056</td>\n",
       "      <td>-0.562620</td>\n",
       "      <td>0</td>\n",
       "    </tr>\n",
       "    <tr>\n",
       "      <th>vechain</th>\n",
       "      <td>-1.107466</td>\n",
       "      <td>-1.410692</td>\n",
       "      <td>-0.998343</td>\n",
       "      <td>0</td>\n",
       "    </tr>\n",
       "    <tr>\n",
       "      <th>zcash</th>\n",
       "      <td>-1.621563</td>\n",
       "      <td>-0.346552</td>\n",
       "      <td>-0.030286</td>\n",
       "      <td>0</td>\n",
       "    </tr>\n",
       "  </tbody>\n",
       "</table>\n",
       "</div>"
      ],
      "text/plain": [
       "                          PCA_1      PCA_2     PCA_3  PCA_label\n",
       "coin_id                                                        \n",
       "celsius-degree-token  11.064407  13.781783  0.478997          2\n",
       "ethlend               47.001114  -3.766282 -0.720656          1\n",
       "bitcoin               -2.188670   0.520510 -0.741547          0\n",
       "dash                  -2.180401  -1.491193  0.457111          0\n",
       "huobi-token           -2.047348  -0.547904  0.516148          0\n",
       "nem                   -0.589249   1.530066  1.817678          0\n",
       "binance-usd           -2.282306  -0.311453  0.495543          0\n",
       "iota                  -2.342942  -1.024056 -0.562620          0\n",
       "vechain               -1.107466  -1.410692 -0.998343          0\n",
       "zcash                 -1.621563  -0.346552 -0.030286          0"
      ]
     },
     "execution_count": 28,
     "metadata": {},
     "output_type": "execute_result"
    }
   ],
   "source": [
    "# Add a new column to the DataFrame with the predicted clusters\n",
    "coins_df['PCA_label'] = p_model_k3.labels_\n",
    "\n",
    "# Display sample data\n",
    "coins_df.iloc[:,-4:].sort_values('PCA_label', ascending=False).head(10)\n"
   ]
  },
  {
   "cell_type": "code",
   "execution_count": 29,
   "metadata": {},
   "outputs": [
    {
     "data": {},
     "metadata": {},
     "output_type": "display_data"
    },
    {
     "data": {
      "application/vnd.holoviews_exec.v0+json": "",
      "text/html": [
       "<div id='4774'>\n",
       "  <div class=\"bk-root\" id=\"72fc8596-3748-484c-8380-eab46a3970ea\" data-root-id=\"4774\"></div>\n",
       "</div>\n",
       "<script type=\"application/javascript\">(function(root) {\n",
       "  function embed_document(root) {\n",
       "    var docs_json = {\"c7807f18-0405-412d-a332-36c094b6434f\":{\"defs\":[{\"extends\":null,\"module\":null,\"name\":\"ReactiveHTML1\",\"overrides\":[],\"properties\":[]},{\"extends\":null,\"module\":null,\"name\":\"FlexBox1\",\"overrides\":[],\"properties\":[{\"default\":\"flex-start\",\"kind\":null,\"name\":\"align_content\"},{\"default\":\"flex-start\",\"kind\":null,\"name\":\"align_items\"},{\"default\":\"row\",\"kind\":null,\"name\":\"flex_direction\"},{\"default\":\"wrap\",\"kind\":null,\"name\":\"flex_wrap\"},{\"default\":\"flex-start\",\"kind\":null,\"name\":\"justify_content\"}]},{\"extends\":null,\"module\":null,\"name\":\"GridStack1\",\"overrides\":[],\"properties\":[{\"default\":\"warn\",\"kind\":null,\"name\":\"mode\"},{\"default\":null,\"kind\":null,\"name\":\"ncols\"},{\"default\":null,\"kind\":null,\"name\":\"nrows\"},{\"default\":true,\"kind\":null,\"name\":\"allow_resize\"},{\"default\":true,\"kind\":null,\"name\":\"allow_drag\"},{\"default\":[],\"kind\":null,\"name\":\"state\"}]},{\"extends\":null,\"module\":null,\"name\":\"click1\",\"overrides\":[],\"properties\":[{\"default\":\"\",\"kind\":null,\"name\":\"terminal_output\"},{\"default\":\"\",\"kind\":null,\"name\":\"debug_name\"},{\"default\":0,\"kind\":null,\"name\":\"clears\"}]},{\"extends\":null,\"module\":null,\"name\":\"NotificationAreaBase1\",\"overrides\":[],\"properties\":[{\"default\":\"bottom-right\",\"kind\":null,\"name\":\"position\"},{\"default\":0,\"kind\":null,\"name\":\"_clear\"}]},{\"extends\":null,\"module\":null,\"name\":\"NotificationArea1\",\"overrides\":[],\"properties\":[{\"default\":[],\"kind\":null,\"name\":\"notifications\"},{\"default\":\"bottom-right\",\"kind\":null,\"name\":\"position\"},{\"default\":0,\"kind\":null,\"name\":\"_clear\"},{\"default\":[{\"background\":\"#ffc107\",\"icon\":{\"className\":\"fas fa-exclamation-triangle\",\"color\":\"white\",\"tagName\":\"i\"},\"type\":\"warning\"},{\"background\":\"#007bff\",\"icon\":{\"className\":\"fas fa-info-circle\",\"color\":\"white\",\"tagName\":\"i\"},\"type\":\"info\"}],\"kind\":null,\"name\":\"types\"}]},{\"extends\":null,\"module\":null,\"name\":\"Notification\",\"overrides\":[],\"properties\":[{\"default\":null,\"kind\":null,\"name\":\"background\"},{\"default\":3000,\"kind\":null,\"name\":\"duration\"},{\"default\":null,\"kind\":null,\"name\":\"icon\"},{\"default\":\"\",\"kind\":null,\"name\":\"message\"},{\"default\":null,\"kind\":null,\"name\":\"notification_type\"},{\"default\":false,\"kind\":null,\"name\":\"_destroyed\"}]},{\"extends\":null,\"module\":null,\"name\":\"TemplateActions1\",\"overrides\":[],\"properties\":[{\"default\":0,\"kind\":null,\"name\":\"open_modal\"},{\"default\":0,\"kind\":null,\"name\":\"close_modal\"}]},{\"extends\":null,\"module\":null,\"name\":\"MaterialTemplateActions1\",\"overrides\":[],\"properties\":[{\"default\":0,\"kind\":null,\"name\":\"open_modal\"},{\"default\":0,\"kind\":null,\"name\":\"close_modal\"}]}],\"roots\":{\"references\":[{\"attributes\":{\"fill_alpha\":{\"value\":0.2},\"fill_color\":{\"value\":\"#e5ae38\"},\"hatch_alpha\":{\"value\":0.2},\"hatch_color\":{\"value\":\"#e5ae38\"},\"line_alpha\":{\"value\":0.2},\"line_color\":{\"value\":\"#e5ae38\"},\"size\":{\"value\":5.477225575051661},\"tags\":[\"apply_ranges\"],\"x\":{\"field\":\"PCA_1\"},\"y\":{\"field\":\"PCA_2\"}},\"id\":\"4864\",\"type\":\"Scatter\"},{\"attributes\":{\"end\":15.5365899716849,\"reset_end\":15.5365899716849,\"reset_start\":-5.521088270868631,\"start\":-5.521088270868631,\"tags\":[[[\"PCA_2\",\"PCA_2\",null]]]},\"id\":\"4776\",\"type\":\"Range1d\"},{\"attributes\":{},\"id\":\"4812\",\"type\":\"AllLabels\"},{\"attributes\":{\"label\":{\"value\":\"0\"},\"renderers\":[{\"id\":\"4822\"}]},\"id\":\"4835\",\"type\":\"LegendItem\"},{\"attributes\":{},\"id\":\"4831\",\"type\":\"UnionRenderers\"},{\"attributes\":{\"angle\":{\"value\":0.0},\"fill_alpha\":{\"value\":1.0},\"fill_color\":{\"value\":\"#e5ae38\"},\"hatch_alpha\":{\"value\":1.0},\"hatch_color\":{\"value\":\"#e5ae38\"},\"hatch_scale\":{\"value\":12.0},\"hatch_weight\":{\"value\":1.0},\"line_alpha\":{\"value\":1.0},\"line_cap\":{\"value\":\"butt\"},\"line_color\":{\"value\":\"#e5ae38\"},\"line_dash\":{\"value\":[]},\"line_dash_offset\":{\"value\":0},\"line_join\":{\"value\":\"bevel\"},\"line_width\":{\"value\":1},\"marker\":{\"value\":\"circle\"},\"size\":{\"value\":5.477225575051661},\"tags\":[\"apply_ranges\"],\"x\":{\"field\":\"PCA_1\"},\"y\":{\"field\":\"PCA_2\"}},\"id\":\"4882\",\"type\":\"Scatter\"},{\"attributes\":{\"fill_alpha\":{\"value\":0.1},\"fill_color\":{\"value\":\"#fc4f30\"},\"hatch_alpha\":{\"value\":0.1},\"hatch_color\":{\"value\":\"#fc4f30\"},\"line_alpha\":{\"value\":0.1},\"line_color\":{\"value\":\"#fc4f30\"},\"size\":{\"value\":5.477225575051661},\"tags\":[\"apply_ranges\"],\"x\":{\"field\":\"PCA_1\"},\"y\":{\"field\":\"PCA_2\"}},\"id\":\"4841\",\"type\":\"Scatter\"},{\"attributes\":{},\"id\":\"4785\",\"type\":\"LinearScale\"},{\"attributes\":{},\"id\":\"4814\",\"type\":\"BasicTickFormatter\"},{\"attributes\":{\"angle\":{\"value\":0.0},\"fill_alpha\":{\"value\":1.0},\"fill_color\":{\"value\":\"#30a2da\"},\"hatch_alpha\":{\"value\":1.0},\"hatch_color\":{\"value\":\"#30a2da\"},\"hatch_scale\":{\"value\":12.0},\"hatch_weight\":{\"value\":1.0},\"line_alpha\":{\"value\":1.0},\"line_cap\":{\"value\":\"butt\"},\"line_color\":{\"value\":\"#30a2da\"},\"line_dash\":{\"value\":[]},\"line_dash_offset\":{\"value\":0},\"line_join\":{\"value\":\"bevel\"},\"line_width\":{\"value\":1},\"marker\":{\"value\":\"circle\"},\"size\":{\"value\":5.477225575051661},\"tags\":[\"apply_ranges\"],\"x\":{\"field\":\"PCA_1\"},\"y\":{\"field\":\"PCA_2\"}},\"id\":\"4836\",\"type\":\"Scatter\"},{\"attributes\":{},\"id\":\"4787\",\"type\":\"LinearScale\"},{\"attributes\":{\"source\":{\"id\":\"4859\"}},\"id\":\"4866\",\"type\":\"CDSView\"},{\"attributes\":{\"fill_alpha\":{\"value\":0.2},\"fill_color\":{\"value\":\"#fc4f30\"},\"hatch_alpha\":{\"value\":0.2},\"hatch_color\":{\"value\":\"#fc4f30\"},\"line_alpha\":{\"value\":0.2},\"line_color\":{\"value\":\"#fc4f30\"},\"size\":{\"value\":5.477225575051661},\"tags\":[\"apply_ranges\"],\"x\":{\"field\":\"PCA_1\"},\"y\":{\"field\":\"PCA_2\"}},\"id\":\"4842\",\"type\":\"Scatter\"},{\"attributes\":{\"coordinates\":null,\"group\":null,\"text_color\":\"black\",\"text_font_size\":\"12pt\"},\"id\":\"4781\",\"type\":\"Title\"},{\"attributes\":{},\"id\":\"4815\",\"type\":\"AllLabels\"},{\"attributes\":{\"data\":{\"PCA_1\":{\"__ndarray__\":\"YXI+/PkgJkA=\",\"dtype\":\"float64\",\"order\":\"little\",\"shape\":[1]},\"PCA_2\":{\"__ndarray__\":\"30Cp60WQK0A=\",\"dtype\":\"float64\",\"order\":\"little\",\"shape\":[1]},\"PCA_label\":[2],\"coin_id\":[\"celsius-degree-token\"]},\"selected\":{\"id\":\"4860\"},\"selection_policy\":{\"id\":\"4878\"}},\"id\":\"4859\",\"type\":\"ColumnDataSource\"},{\"attributes\":{\"axis\":{\"id\":\"4789\"},\"coordinates\":null,\"grid_line_color\":null,\"group\":null,\"ticker\":null},\"id\":\"4792\",\"type\":\"Grid\"},{\"attributes\":{},\"id\":\"4860\",\"type\":\"Selection\"},{\"attributes\":{\"label\":{\"value\":\"2\"},\"renderers\":[{\"id\":\"4865\"}]},\"id\":\"4881\",\"type\":\"LegendItem\"},{\"attributes\":{\"below\":[{\"id\":\"4789\"}],\"center\":[{\"id\":\"4792\"},{\"id\":\"4796\"}],\"height\":300,\"left\":[{\"id\":\"4793\"}],\"margin\":[5,5,5,5],\"min_border_bottom\":10,\"min_border_left\":10,\"min_border_right\":10,\"min_border_top\":10,\"output_backend\":\"webgl\",\"renderers\":[{\"id\":\"4822\"},{\"id\":\"4843\"},{\"id\":\"4865\"}],\"right\":[{\"id\":\"4834\"}],\"sizing_mode\":\"fixed\",\"title\":{\"id\":\"4781\"},\"toolbar\":{\"id\":\"4803\"},\"width\":700,\"x_range\":{\"id\":\"4775\"},\"x_scale\":{\"id\":\"4785\"},\"y_range\":{\"id\":\"4776\"},\"y_scale\":{\"id\":\"4787\"}},\"id\":\"4780\",\"subtype\":\"Figure\",\"type\":\"Plot\"},{\"attributes\":{},\"id\":\"4838\",\"type\":\"Selection\"},{\"attributes\":{\"click_policy\":\"mute\",\"coordinates\":null,\"group\":null,\"items\":[{\"id\":\"4835\"},{\"id\":\"4857\"},{\"id\":\"4881\"}],\"location\":[0,0],\"title\":\"PCA_label\"},\"id\":\"4834\",\"type\":\"Legend\"},{\"attributes\":{},\"id\":\"4798\",\"type\":\"PanTool\"},{\"attributes\":{\"data\":{\"PCA_1\":{\"__ndarray__\":\"O1MpgySAR0A=\",\"dtype\":\"float64\",\"order\":\"little\",\"shape\":[1]},\"PCA_2\":{\"__ndarray__\":\"JLWUU1ghDsA=\",\"dtype\":\"float64\",\"order\":\"little\",\"shape\":[1]},\"PCA_label\":[1],\"coin_id\":[\"ethlend\"]},\"selected\":{\"id\":\"4838\"},\"selection_policy\":{\"id\":\"4854\"}},\"id\":\"4837\",\"type\":\"ColumnDataSource\"},{\"attributes\":{},\"id\":\"4878\",\"type\":\"UnionRenderers\"},{\"attributes\":{},\"id\":\"4790\",\"type\":\"BasicTicker\"},{\"attributes\":{\"coordinates\":null,\"data_source\":{\"id\":\"4859\"},\"glyph\":{\"id\":\"4862\"},\"group\":null,\"hover_glyph\":null,\"muted_glyph\":{\"id\":\"4864\"},\"nonselection_glyph\":{\"id\":\"4863\"},\"selection_glyph\":{\"id\":\"4882\"},\"view\":{\"id\":\"4866\"}},\"id\":\"4865\",\"type\":\"GlyphRenderer\"},{\"attributes\":{\"coordinates\":null,\"data_source\":{\"id\":\"4837\"},\"glyph\":{\"id\":\"4840\"},\"group\":null,\"hover_glyph\":null,\"muted_glyph\":{\"id\":\"4842\"},\"nonselection_glyph\":{\"id\":\"4841\"},\"selection_glyph\":{\"id\":\"4858\"},\"view\":{\"id\":\"4844\"}},\"id\":\"4843\",\"type\":\"GlyphRenderer\"},{\"attributes\":{\"axis_label\":\"PCA_1\",\"coordinates\":null,\"formatter\":{\"id\":\"4811\"},\"group\":null,\"major_label_policy\":{\"id\":\"4812\"},\"ticker\":{\"id\":\"4790\"}},\"id\":\"4789\",\"type\":\"LinearAxis\"},{\"attributes\":{\"source\":{\"id\":\"4816\"}},\"id\":\"4823\",\"type\":\"CDSView\"},{\"attributes\":{\"fill_color\":{\"value\":\"#e5ae38\"},\"hatch_color\":{\"value\":\"#e5ae38\"},\"line_color\":{\"value\":\"#e5ae38\"},\"size\":{\"value\":5.477225575051661},\"tags\":[\"apply_ranges\"],\"x\":{\"field\":\"PCA_1\"},\"y\":{\"field\":\"PCA_2\"}},\"id\":\"4862\",\"type\":\"Scatter\"},{\"attributes\":{\"axis_label\":\"PCA_2\",\"coordinates\":null,\"formatter\":{\"id\":\"4814\"},\"group\":null,\"major_label_policy\":{\"id\":\"4815\"},\"ticker\":{\"id\":\"4794\"}},\"id\":\"4793\",\"type\":\"LinearAxis\"},{\"attributes\":{\"axis\":{\"id\":\"4793\"},\"coordinates\":null,\"dimension\":1,\"grid_line_color\":null,\"group\":null,\"ticker\":null},\"id\":\"4796\",\"type\":\"Grid\"},{\"attributes\":{},\"id\":\"4794\",\"type\":\"BasicTicker\"},{\"attributes\":{\"coordinates\":null,\"data_source\":{\"id\":\"4816\"},\"glyph\":{\"id\":\"4819\"},\"group\":null,\"hover_glyph\":null,\"muted_glyph\":{\"id\":\"4821\"},\"nonselection_glyph\":{\"id\":\"4820\"},\"selection_glyph\":{\"id\":\"4836\"},\"view\":{\"id\":\"4823\"}},\"id\":\"4822\",\"type\":\"GlyphRenderer\"},{\"attributes\":{\"angle\":{\"value\":0.0},\"fill_alpha\":{\"value\":1.0},\"fill_color\":{\"value\":\"#fc4f30\"},\"hatch_alpha\":{\"value\":1.0},\"hatch_color\":{\"value\":\"#fc4f30\"},\"hatch_scale\":{\"value\":12.0},\"hatch_weight\":{\"value\":1.0},\"line_alpha\":{\"value\":1.0},\"line_cap\":{\"value\":\"butt\"},\"line_color\":{\"value\":\"#fc4f30\"},\"line_dash\":{\"value\":[]},\"line_dash_offset\":{\"value\":0},\"line_join\":{\"value\":\"bevel\"},\"line_width\":{\"value\":1},\"marker\":{\"value\":\"circle\"},\"size\":{\"value\":5.477225575051661},\"tags\":[\"apply_ranges\"],\"x\":{\"field\":\"PCA_1\"},\"y\":{\"field\":\"PCA_2\"}},\"id\":\"4858\",\"type\":\"Scatter\"},{\"attributes\":{},\"id\":\"4799\",\"type\":\"WheelZoomTool\"},{\"attributes\":{\"source\":{\"id\":\"4837\"}},\"id\":\"4844\",\"type\":\"CDSView\"},{\"attributes\":{\"fill_color\":{\"value\":\"#30a2da\"},\"hatch_color\":{\"value\":\"#30a2da\"},\"line_color\":{\"value\":\"#30a2da\"},\"size\":{\"value\":5.477225575051661},\"tags\":[\"apply_ranges\"],\"x\":{\"field\":\"PCA_1\"},\"y\":{\"field\":\"PCA_2\"}},\"id\":\"4819\",\"type\":\"Scatter\"},{\"attributes\":{},\"id\":\"4797\",\"type\":\"SaveTool\"},{\"attributes\":{\"fill_alpha\":{\"value\":0.2},\"fill_color\":{\"value\":\"#30a2da\"},\"hatch_alpha\":{\"value\":0.2},\"hatch_color\":{\"value\":\"#30a2da\"},\"line_alpha\":{\"value\":0.2},\"line_color\":{\"value\":\"#30a2da\"},\"size\":{\"value\":5.477225575051661},\"tags\":[\"apply_ranges\"],\"x\":{\"field\":\"PCA_1\"},\"y\":{\"field\":\"PCA_2\"}},\"id\":\"4821\",\"type\":\"Scatter\"},{\"attributes\":{\"overlay\":{\"id\":\"4802\"}},\"id\":\"4800\",\"type\":\"BoxZoomTool\"},{\"attributes\":{\"fill_alpha\":{\"value\":0.1},\"fill_color\":{\"value\":\"#e5ae38\"},\"hatch_alpha\":{\"value\":0.1},\"hatch_color\":{\"value\":\"#e5ae38\"},\"line_alpha\":{\"value\":0.1},\"line_color\":{\"value\":\"#e5ae38\"},\"size\":{\"value\":5.477225575051661},\"tags\":[\"apply_ranges\"],\"x\":{\"field\":\"PCA_1\"},\"y\":{\"field\":\"PCA_2\"}},\"id\":\"4863\",\"type\":\"Scatter\"},{\"attributes\":{},\"id\":\"4801\",\"type\":\"ResetTool\"},{\"attributes\":{\"fill_alpha\":{\"value\":0.1},\"fill_color\":{\"value\":\"#30a2da\"},\"hatch_alpha\":{\"value\":0.1},\"hatch_color\":{\"value\":\"#30a2da\"},\"line_alpha\":{\"value\":0.1},\"line_color\":{\"value\":\"#30a2da\"},\"size\":{\"value\":5.477225575051661},\"tags\":[\"apply_ranges\"],\"x\":{\"field\":\"PCA_1\"},\"y\":{\"field\":\"PCA_2\"}},\"id\":\"4820\",\"type\":\"Scatter\"},{\"attributes\":{\"label\":{\"value\":\"1\"},\"renderers\":[{\"id\":\"4843\"}]},\"id\":\"4857\",\"type\":\"LegendItem\"},{\"attributes\":{},\"id\":\"4854\",\"type\":\"UnionRenderers\"},{\"attributes\":{\"callback\":null,\"renderers\":[{\"id\":\"4822\"},{\"id\":\"4843\"},{\"id\":\"4865\"}],\"tags\":[\"hv_created\"],\"tooltips\":[[\"PCA_label\",\"@{PCA_label}\"],[\"PCA_1\",\"@{PCA_1}\"],[\"PCA_2\",\"@{PCA_2}\"],[\"coin_id\",\"@{coin_id}\"]]},\"id\":\"4777\",\"type\":\"HoverTool\"},{\"attributes\":{\"bottom_units\":\"screen\",\"coordinates\":null,\"fill_alpha\":0.5,\"fill_color\":\"lightgrey\",\"group\":null,\"left_units\":\"screen\",\"level\":\"overlay\",\"line_alpha\":1.0,\"line_color\":\"black\",\"line_dash\":[4,4],\"line_width\":2,\"right_units\":\"screen\",\"syncable\":false,\"top_units\":\"screen\"},\"id\":\"4802\",\"type\":\"BoxAnnotation\"},{\"attributes\":{\"end\":49.133328612778456,\"reset_end\":49.133328612778456,\"reset_start\":-4.8827681096279125,\"start\":-4.8827681096279125,\"tags\":[[[\"PCA_1\",\"PCA_1\",null]]]},\"id\":\"4775\",\"type\":\"Range1d\"},{\"attributes\":{},\"id\":\"4811\",\"type\":\"BasicTickFormatter\"},{\"attributes\":{\"active_drag\":{\"id\":\"4798\"},\"active_scroll\":{\"id\":\"4799\"},\"tools\":[{\"id\":\"4777\"},{\"id\":\"4797\"},{\"id\":\"4798\"},{\"id\":\"4799\"},{\"id\":\"4800\"},{\"id\":\"4801\"}]},\"id\":\"4803\",\"type\":\"Toolbar\"},{\"attributes\":{\"fill_color\":{\"value\":\"#fc4f30\"},\"hatch_color\":{\"value\":\"#fc4f30\"},\"line_color\":{\"value\":\"#fc4f30\"},\"size\":{\"value\":5.477225575051661},\"tags\":[\"apply_ranges\"],\"x\":{\"field\":\"PCA_1\"},\"y\":{\"field\":\"PCA_2\"}},\"id\":\"4840\",\"type\":\"Scatter\"},{\"attributes\":{\"data\":{\"PCA_1\":{\"__ndarray__\":\"rh8fSmWCAcBi64nLkgb5v2tEalo4HQLAbnL8qMGBAsBImB9VIgEGwERscs+dMADALg80AA54m7+nrJDKcjnyvwfxFwfv+QLAZapbVMqd/7+x3WtKkXTbv8/CDZXYLALAAfp+sZy0A8AubFhABc30vy129B/m8/y/jhM1H6gc979aYQks/UPvv+HD7QtiAgDA52ywr+Be97/A8UaSiboCwEFnOtWPtfa/AZADEg2JAcCldlnV3iYBwFk7X8X3YADAwjBCIyHb4r94SDJxKUICwKfCUiRYvgLAo0jEFS648b/FWu3b6/H5vxbtDbfIFQ5ATRIp4XVxAcAn+jFNCpABwO3Y3ZAofwDA/5c42VylB0A9tMAqen7bvyFsHCOMCAHAHY69yXbV9r9sLVcNNU8CwFrzqGCXTvO/\",\"dtype\":\"float64\",\"order\":\"little\",\"shape\":[39]},\"PCA_2\":{\"__ndarray__\":\"9psWbgSo4D+jjpBR3b3Cv2xjhWRo49W/IcIOfcL+5b9O3DFzF3vzP0t/Jtgtafg/cw/gusJC8b/PA/k0HU65P2N8S60EId6/zqkewXM1379VwoL0Nv7wv8XTZpd699W/dGoBOxQn8b9tT/lEQ68HQBjZTuvX7tu/prTMOenw/79qrSr3zlb6v8E9WUaiJ/i/dRmR+DJaxL/cELcN6M3Sv3ynWsyhuuW/rM0/x10x4D+iuJcYQrfdvyBMS+BtiOG/9P2bqSZ7+D83Mnk42u7Tv5VQxliIYvC/qvpQRDKS9r+BUmRd6C3Wv6Quk6RHiARAj0/qCe3b978b5mvAtJHsv0pHHtobpLW/FDLS42wyBcAhy6v8MZ0JQAWLIoV1pQfAM1TlGx+Y0b8Y4nCP5MfSv4/5X6BtPfA/\",\"dtype\":\"float64\",\"order\":\"little\",\"shape\":[39]},\"PCA_label\":[0,0,0,0,0,0,0,0,0,0,0,0,0,0,0,0,0,0,0,0,0,0,0,0,0,0,0,0,0,0,0,0,0,0,0,0,0,0,0],\"coin_id\":[\"bitcoin\",\"ethereum\",\"tether\",\"ripple\",\"bitcoin-cash\",\"binancecoin\",\"chainlink\",\"cardano\",\"litecoin\",\"bitcoin-cash-sv\",\"crypto-com-chain\",\"usd-coin\",\"eos\",\"monero\",\"tron\",\"tezos\",\"okb\",\"stellar\",\"cosmos\",\"cdai\",\"neo\",\"wrapped-bitcoin\",\"leo-token\",\"huobi-token\",\"nem\",\"binance-usd\",\"iota\",\"vechain\",\"zcash\",\"theta-token\",\"dash\",\"ethereum-classic\",\"maker\",\"havven\",\"omisego\",\"ontology\",\"ftx-token\",\"true-usd\",\"digibyte\"]},\"selected\":{\"id\":\"4817\"},\"selection_policy\":{\"id\":\"4831\"}},\"id\":\"4816\",\"type\":\"ColumnDataSource\"},{\"attributes\":{},\"id\":\"4817\",\"type\":\"Selection\"},{\"attributes\":{\"children\":[{\"id\":\"4780\"}],\"height\":300,\"margin\":[0,0,0,0],\"name\":\"Row05804\",\"sizing_mode\":\"fixed\",\"tags\":[\"embedded\"],\"width\":700},\"id\":\"4774\",\"type\":\"Row\"}],\"root_ids\":[\"4774\"]},\"title\":\"Bokeh Application\",\"version\":\"2.4.3\"}};\n",
       "    var render_items = [{\"docid\":\"c7807f18-0405-412d-a332-36c094b6434f\",\"root_ids\":[\"4774\"],\"roots\":{\"4774\":\"72fc8596-3748-484c-8380-eab46a3970ea\"}}];\n",
       "    root.Bokeh.embed.embed_items_notebook(docs_json, render_items);\n",
       "    for (const render_item of render_items) {\n",
       "      for (const root_id of render_item.root_ids) {\n",
       "\tconst id_el = document.getElementById(root_id)\n",
       "\tif (id_el.children.length && (id_el.children[0].className === 'bk-root')) {\n",
       "\t  const root_el = id_el.children[0]\n",
       "\t  root_el.id = root_el.id + '-rendered'\n",
       "\t}\n",
       "      }\n",
       "    }\n",
       "  }\n",
       "  if (root.Bokeh !== undefined && root.Bokeh.Panel !== undefined) {\n",
       "    embed_document(root);\n",
       "  } else {\n",
       "    var attempts = 0;\n",
       "    var timer = setInterval(function(root) {\n",
       "      if (root.Bokeh !== undefined && root.Bokeh.Panel !== undefined) {\n",
       "        clearInterval(timer);\n",
       "        embed_document(root);\n",
       "      } else if (document.readyState == \"complete\") {\n",
       "        attempts++;\n",
       "        if (attempts > 200) {\n",
       "          clearInterval(timer);\n",
       "          console.log(\"Bokeh: ERROR: Unable to run BokehJS code because BokehJS library is missing\");\n",
       "        }\n",
       "      }\n",
       "    }, 25, root)\n",
       "  }\n",
       "})(window);</script>"
      ],
      "text/plain": [
       ":NdOverlay   [PCA_label]\n",
       "   :Scatter   [PCA_1]   (PCA_2,coin_id)"
      ]
     },
     "execution_count": 29,
     "metadata": {
      "application/vnd.holoviews_exec.v0+json": {
       "id": "4774"
      }
     },
     "output_type": "execute_result"
    }
   ],
   "source": [
    "# Create a scatter plot using hvPlot by setting \n",
    "# `x=\"PC1\"` and `y=\"PC2\"`. \n",
    "# Colour the graph points with the labels found using K-Means and \n",
    "# add the crypto name in the `hover_cols` parameter to identify \n",
    "# the cryptocurrency represented by each data point.\n",
    "\n",
    "pca_cluster_plot = coins_df.hvplot.scatter(\n",
    "    x = \"PCA_1\",\n",
    "    y=\"PCA_2\",\n",
    "    by=\"PCA_label\",\n",
    "    hover_cols=['coin_id'])\n",
    "\n",
    "pca_cluster_plot"
   ]
  },
  {
   "attachments": {},
   "cell_type": "markdown",
   "metadata": {},
   "source": [
    "### Visualise and Compare the Results\n",
    "\n",
    "In this section, you will visually analyse the cluster analysis results by contrasting the outcome with and without using the optimisation techniques."
   ]
  },
  {
   "cell_type": "code",
   "execution_count": 30,
   "metadata": {},
   "outputs": [
    {
     "data": {},
     "metadata": {},
     "output_type": "display_data"
    },
    {
     "data": {
      "application/vnd.holoviews_exec.v0+json": "",
      "text/html": [
       "<div id='4972'>\n",
       "  <div class=\"bk-root\" id=\"c898df58-c85f-4302-b537-ee87ba8ade25\" data-root-id=\"4972\"></div>\n",
       "</div>\n",
       "<script type=\"application/javascript\">(function(root) {\n",
       "  function embed_document(root) {\n",
       "    var docs_json = {\"22e7bfb2-6443-46e2-887d-29e6472b5432\":{\"defs\":[{\"extends\":null,\"module\":null,\"name\":\"ReactiveHTML1\",\"overrides\":[],\"properties\":[]},{\"extends\":null,\"module\":null,\"name\":\"FlexBox1\",\"overrides\":[],\"properties\":[{\"default\":\"flex-start\",\"kind\":null,\"name\":\"align_content\"},{\"default\":\"flex-start\",\"kind\":null,\"name\":\"align_items\"},{\"default\":\"row\",\"kind\":null,\"name\":\"flex_direction\"},{\"default\":\"wrap\",\"kind\":null,\"name\":\"flex_wrap\"},{\"default\":\"flex-start\",\"kind\":null,\"name\":\"justify_content\"}]},{\"extends\":null,\"module\":null,\"name\":\"GridStack1\",\"overrides\":[],\"properties\":[{\"default\":\"warn\",\"kind\":null,\"name\":\"mode\"},{\"default\":null,\"kind\":null,\"name\":\"ncols\"},{\"default\":null,\"kind\":null,\"name\":\"nrows\"},{\"default\":true,\"kind\":null,\"name\":\"allow_resize\"},{\"default\":true,\"kind\":null,\"name\":\"allow_drag\"},{\"default\":[],\"kind\":null,\"name\":\"state\"}]},{\"extends\":null,\"module\":null,\"name\":\"click1\",\"overrides\":[],\"properties\":[{\"default\":\"\",\"kind\":null,\"name\":\"terminal_output\"},{\"default\":\"\",\"kind\":null,\"name\":\"debug_name\"},{\"default\":0,\"kind\":null,\"name\":\"clears\"}]},{\"extends\":null,\"module\":null,\"name\":\"NotificationAreaBase1\",\"overrides\":[],\"properties\":[{\"default\":\"bottom-right\",\"kind\":null,\"name\":\"position\"},{\"default\":0,\"kind\":null,\"name\":\"_clear\"}]},{\"extends\":null,\"module\":null,\"name\":\"NotificationArea1\",\"overrides\":[],\"properties\":[{\"default\":[],\"kind\":null,\"name\":\"notifications\"},{\"default\":\"bottom-right\",\"kind\":null,\"name\":\"position\"},{\"default\":0,\"kind\":null,\"name\":\"_clear\"},{\"default\":[{\"background\":\"#ffc107\",\"icon\":{\"className\":\"fas fa-exclamation-triangle\",\"color\":\"white\",\"tagName\":\"i\"},\"type\":\"warning\"},{\"background\":\"#007bff\",\"icon\":{\"className\":\"fas fa-info-circle\",\"color\":\"white\",\"tagName\":\"i\"},\"type\":\"info\"}],\"kind\":null,\"name\":\"types\"}]},{\"extends\":null,\"module\":null,\"name\":\"Notification\",\"overrides\":[],\"properties\":[{\"default\":null,\"kind\":null,\"name\":\"background\"},{\"default\":3000,\"kind\":null,\"name\":\"duration\"},{\"default\":null,\"kind\":null,\"name\":\"icon\"},{\"default\":\"\",\"kind\":null,\"name\":\"message\"},{\"default\":null,\"kind\":null,\"name\":\"notification_type\"},{\"default\":false,\"kind\":null,\"name\":\"_destroyed\"}]},{\"extends\":null,\"module\":null,\"name\":\"TemplateActions1\",\"overrides\":[],\"properties\":[{\"default\":0,\"kind\":null,\"name\":\"open_modal\"},{\"default\":0,\"kind\":null,\"name\":\"close_modal\"}]},{\"extends\":null,\"module\":null,\"name\":\"MaterialTemplateActions1\",\"overrides\":[],\"properties\":[{\"default\":0,\"kind\":null,\"name\":\"open_modal\"},{\"default\":0,\"kind\":null,\"name\":\"close_modal\"}]}],\"roots\":{\"references\":[{\"attributes\":{\"line_alpha\":0.2,\"line_color\":\"#fc4f30\",\"line_width\":2,\"tags\":[\"apply_ranges\"],\"x\":{\"field\":\"k\"},\"y\":{\"field\":\"pca_inertia\"}},\"id\":\"5031\",\"type\":\"Line\"},{\"attributes\":{\"line_color\":\"#30a2da\",\"line_width\":2,\"tags\":[\"apply_ranges\"],\"x\":{\"field\":\"k\"},\"y\":{\"field\":\"inertia\"}},\"id\":\"5025\",\"type\":\"Line\"},{\"attributes\":{\"ticks\":[1,2,3,4,5,6,7,8,9,10]},\"id\":\"5008\",\"type\":\"FixedTicker\"},{\"attributes\":{\"coordinates\":null,\"data_source\":{\"id\":\"5026\"},\"glyph\":{\"id\":\"5029\"},\"group\":null,\"hover_glyph\":null,\"muted_glyph\":{\"id\":\"5031\"},\"nonselection_glyph\":{\"id\":\"5030\"},\"selection_glyph\":{\"id\":\"5034\"},\"view\":{\"id\":\"5033\"}},\"id\":\"5032\",\"type\":\"GlyphRenderer\"},{\"attributes\":{},\"id\":\"5027\",\"type\":\"Selection\"},{\"attributes\":{\"callback\":null,\"renderers\":[{\"id\":\"5023\"}],\"tags\":[\"hv_created\"],\"tooltips\":[[\"k\",\"@{k}\"],[\"inertia\",\"@{inertia}\"]]},\"id\":\"4975\",\"type\":\"HoverTool\"},{\"attributes\":{},\"id\":\"4982\",\"type\":\"LinearScale\"},{\"attributes\":{\"below\":[{\"id\":\"4986\"}],\"center\":[{\"id\":\"4989\"},{\"id\":\"4993\"}],\"height\":300,\"left\":[{\"id\":\"4990\"}],\"margin\":[5,5,5,5],\"min_border_bottom\":10,\"min_border_left\":10,\"min_border_right\":10,\"min_border_top\":10,\"output_backend\":\"webgl\",\"renderers\":[{\"id\":\"5023\"},{\"id\":\"5032\"}],\"sizing_mode\":\"fixed\",\"title\":{\"id\":\"4978\"},\"toolbar\":{\"id\":\"5000\"},\"width\":700,\"x_range\":{\"id\":\"4973\"},\"x_scale\":{\"id\":\"4982\"},\"y_range\":{\"id\":\"4974\"},\"y_scale\":{\"id\":\"4984\"}},\"id\":\"4977\",\"subtype\":\"Figure\",\"type\":\"Plot\"},{\"attributes\":{},\"id\":\"5016\",\"type\":\"AllLabels\"},{\"attributes\":{\"source\":{\"id\":\"5026\"}},\"id\":\"5033\",\"type\":\"CDSView\"},{\"attributes\":{\"line_alpha\":0.1,\"line_color\":\"#fc4f30\",\"line_width\":2,\"tags\":[\"apply_ranges\"],\"x\":{\"field\":\"k\"},\"y\":{\"field\":\"pca_inertia\"}},\"id\":\"5030\",\"type\":\"Line\"},{\"attributes\":{\"end\":10.0,\"reset_end\":10.0,\"reset_start\":1.0,\"start\":1.0,\"tags\":[[[\"k\",\"k\",null]]]},\"id\":\"4973\",\"type\":\"Range1d\"},{\"attributes\":{\"end\":3195.098722046233,\"reset_end\":3195.098722046233,\"reset_start\":-264.7618522972715,\"start\":-264.7618522972715,\"tags\":[[[\"inertia\",\"inertia\",null]]]},\"id\":\"4974\",\"type\":\"Range1d\"},{\"attributes\":{\"data\":{\"k\":[1,2,3,4,5,6,7,8,9,10],\"pca_inertia\":{\"__ndarray__\":\"Sgtru88BpkAV9MAlA8yAQH4jTnh672dAPmQOEsKIXkAkCzjEMQ1UQClomsgJHk9A3FOqcuE2SEDZoSYJatpDQJqbnKTLCD5AQO6VIVOPN0A=\",\"dtype\":\"float64\",\"order\":\"little\",\"shape\":[10]}},\"selected\":{\"id\":\"5027\"},\"selection_policy\":{\"id\":\"5047\"}},\"id\":\"5026\",\"type\":\"ColumnDataSource\"},{\"attributes\":{\"line_alpha\":0.2,\"line_color\":\"#30a2da\",\"line_width\":2,\"tags\":[\"apply_ranges\"],\"x\":{\"field\":\"k\"},\"y\":{\"field\":\"inertia\"}},\"id\":\"5022\",\"type\":\"Line\"},{\"attributes\":{},\"id\":\"4995\",\"type\":\"PanTool\"},{\"attributes\":{\"line_alpha\":0.1,\"line_color\":\"#30a2da\",\"line_width\":2,\"tags\":[\"apply_ranges\"],\"x\":{\"field\":\"k\"},\"y\":{\"field\":\"inertia\"}},\"id\":\"5021\",\"type\":\"Line\"},{\"attributes\":{\"line_color\":\"#30a2da\",\"line_width\":2,\"tags\":[\"apply_ranges\"],\"x\":{\"field\":\"k\"},\"y\":{\"field\":\"inertia\"}},\"id\":\"5020\",\"type\":\"Line\"},{\"attributes\":{},\"id\":\"5045\",\"type\":\"UnionRenderers\"},{\"attributes\":{},\"id\":\"5018\",\"type\":\"Selection\"},{\"attributes\":{\"axis\":{\"id\":\"4986\"},\"coordinates\":null,\"grid_line_color\":null,\"group\":null,\"ticker\":null},\"id\":\"4989\",\"type\":\"Grid\"},{\"attributes\":{\"active_drag\":{\"id\":\"4995\"},\"active_scroll\":{\"id\":\"4996\"},\"tools\":[{\"id\":\"4975\"},{\"id\":\"4976\"},{\"id\":\"4994\"},{\"id\":\"4995\"},{\"id\":\"4996\"},{\"id\":\"4997\"},{\"id\":\"4998\"}]},\"id\":\"5000\",\"type\":\"Toolbar\"},{\"attributes\":{},\"id\":\"4984\",\"type\":\"LinearScale\"},{\"attributes\":{},\"id\":\"5015\",\"type\":\"BasicTickFormatter\"},{\"attributes\":{\"axis_label\":\"k\",\"coordinates\":null,\"formatter\":{\"id\":\"5010\"},\"group\":null,\"major_label_policy\":{\"id\":\"5011\"},\"ticker\":{\"id\":\"5008\"}},\"id\":\"4986\",\"type\":\"LinearAxis\"},{\"attributes\":{},\"id\":\"5011\",\"type\":\"AllLabels\"},{\"attributes\":{\"axis_label\":\"inertia\",\"coordinates\":null,\"formatter\":{\"id\":\"5015\"},\"group\":null,\"major_label_policy\":{\"id\":\"5016\"},\"ticker\":{\"id\":\"4991\"}},\"id\":\"4990\",\"type\":\"LinearAxis\"},{\"attributes\":{},\"id\":\"5047\",\"type\":\"UnionRenderers\"},{\"attributes\":{\"axis\":{\"id\":\"4990\"},\"coordinates\":null,\"dimension\":1,\"grid_line_color\":null,\"group\":null,\"ticker\":null},\"id\":\"4993\",\"type\":\"Grid\"},{\"attributes\":{\"line_color\":\"#fc4f30\",\"line_width\":2,\"tags\":[\"apply_ranges\"],\"x\":{\"field\":\"k\"},\"y\":{\"field\":\"pca_inertia\"}},\"id\":\"5034\",\"type\":\"Line\"},{\"attributes\":{},\"id\":\"4991\",\"type\":\"BasicTicker\"},{\"attributes\":{},\"id\":\"4996\",\"type\":\"WheelZoomTool\"},{\"attributes\":{\"coordinates\":null,\"data_source\":{\"id\":\"5017\"},\"glyph\":{\"id\":\"5020\"},\"group\":null,\"hover_glyph\":null,\"muted_glyph\":{\"id\":\"5022\"},\"nonselection_glyph\":{\"id\":\"5021\"},\"selection_glyph\":{\"id\":\"5025\"},\"view\":{\"id\":\"5024\"}},\"id\":\"5023\",\"type\":\"GlyphRenderer\"},{\"attributes\":{},\"id\":\"4994\",\"type\":\"SaveTool\"},{\"attributes\":{\"source\":{\"id\":\"5017\"}},\"id\":\"5024\",\"type\":\"CDSView\"},{\"attributes\":{\"callback\":null,\"renderers\":[{\"id\":\"5032\"}],\"tags\":[\"hv_created\"],\"tooltips\":[[\"k\",\"@{k}\"],[\"pca_inertia\",\"@{pca_inertia}\"]]},\"id\":\"4976\",\"type\":\"HoverTool\"},{\"attributes\":{\"children\":[{\"id\":\"4977\"}],\"height\":300,\"margin\":[0,0,0,0],\"name\":\"Row05884\",\"sizing_mode\":\"fixed\",\"tags\":[\"embedded\"],\"width\":700},\"id\":\"4972\",\"type\":\"Row\"},{\"attributes\":{\"overlay\":{\"id\":\"4999\"}},\"id\":\"4997\",\"type\":\"BoxZoomTool\"},{\"attributes\":{},\"id\":\"4998\",\"type\":\"ResetTool\"},{\"attributes\":{\"line_color\":\"#fc4f30\",\"line_width\":2,\"tags\":[\"apply_ranges\"],\"x\":{\"field\":\"k\"},\"y\":{\"field\":\"pca_inertia\"}},\"id\":\"5029\",\"type\":\"Line\"},{\"attributes\":{\"data\":{\"inertia\":{\"__ndarray__\":\"vunt0421pkDwQLbyIZiDQB/C0dz1f3FAqNgy9EhmaUAoWPQqY9pjQKh5RZ/xWGBAnj0Ujd8BXEDsoN+oVI9XQBp4WPOqN1RATspgvvblUEA=\",\"dtype\":\"float64\",\"order\":\"little\",\"shape\":[10]},\"k\":[1,2,3,4,5,6,7,8,9,10]},\"selected\":{\"id\":\"5018\"},\"selection_policy\":{\"id\":\"5045\"}},\"id\":\"5017\",\"type\":\"ColumnDataSource\"},{\"attributes\":{\"bottom_units\":\"screen\",\"coordinates\":null,\"fill_alpha\":0.5,\"fill_color\":\"lightgrey\",\"group\":null,\"left_units\":\"screen\",\"level\":\"overlay\",\"line_alpha\":1.0,\"line_color\":\"black\",\"line_dash\":[4,4],\"line_width\":2,\"right_units\":\"screen\",\"syncable\":false,\"top_units\":\"screen\"},\"id\":\"4999\",\"type\":\"BoxAnnotation\"},{\"attributes\":{},\"id\":\"5010\",\"type\":\"BasicTickFormatter\"},{\"attributes\":{\"coordinates\":null,\"group\":null,\"text\":\"Elbow curve of k-means on cryptocurrencies\",\"text_color\":\"black\",\"text_font_size\":\"12pt\"},\"id\":\"4978\",\"type\":\"Title\"}],\"root_ids\":[\"4972\"]},\"title\":\"Bokeh Application\",\"version\":\"2.4.3\"}};\n",
       "    var render_items = [{\"docid\":\"22e7bfb2-6443-46e2-887d-29e6472b5432\",\"root_ids\":[\"4972\"],\"roots\":{\"4972\":\"c898df58-c85f-4302-b537-ee87ba8ade25\"}}];\n",
       "    root.Bokeh.embed.embed_items_notebook(docs_json, render_items);\n",
       "    for (const render_item of render_items) {\n",
       "      for (const root_id of render_item.root_ids) {\n",
       "\tconst id_el = document.getElementById(root_id)\n",
       "\tif (id_el.children.length && (id_el.children[0].className === 'bk-root')) {\n",
       "\t  const root_el = id_el.children[0]\n",
       "\t  root_el.id = root_el.id + '-rendered'\n",
       "\t}\n",
       "      }\n",
       "    }\n",
       "  }\n",
       "  if (root.Bokeh !== undefined && root.Bokeh.Panel !== undefined) {\n",
       "    embed_document(root);\n",
       "  } else {\n",
       "    var attempts = 0;\n",
       "    var timer = setInterval(function(root) {\n",
       "      if (root.Bokeh !== undefined && root.Bokeh.Panel !== undefined) {\n",
       "        clearInterval(timer);\n",
       "        embed_document(root);\n",
       "      } else if (document.readyState == \"complete\") {\n",
       "        attempts++;\n",
       "        if (attempts > 200) {\n",
       "          clearInterval(timer);\n",
       "          console.log(\"Bokeh: ERROR: Unable to run BokehJS code because BokehJS library is missing\");\n",
       "        }\n",
       "      }\n",
       "    }, 25, root)\n",
       "  }\n",
       "})(window);</script>"
      ],
      "text/plain": [
       ":Overlay\n",
       "   .Curve.I  :Curve   [k]   (inertia)\n",
       "   .Curve.II :Curve   [k]   (pca_inertia)"
      ]
     },
     "execution_count": 30,
     "metadata": {
      "application/vnd.holoviews_exec.v0+json": {
       "id": "4972"
      }
     },
     "output_type": "execute_result"
    }
   ],
   "source": [
    "# Composite plot to contrast the Elbow curves\n",
    "\n",
    "elbow_plot * pca_elbow_plot"
   ]
  },
  {
   "cell_type": "code",
   "execution_count": 31,
   "metadata": {},
   "outputs": [
    {
     "data": {},
     "metadata": {},
     "output_type": "display_data"
    },
    {
     "data": {
      "application/vnd.holoviews_exec.v0+json": "",
      "text/html": [
       "<div id='5106'>\n",
       "  <div class=\"bk-root\" id=\"1459471b-9a99-4eb7-bcb8-b64b690ef6d6\" data-root-id=\"5106\"></div>\n",
       "</div>\n",
       "<script type=\"application/javascript\">(function(root) {\n",
       "  function embed_document(root) {\n",
       "    var docs_json = {\"b85d1041-0ad1-42a3-b2fd-a59196cfe1f2\":{\"defs\":[{\"extends\":null,\"module\":null,\"name\":\"ReactiveHTML1\",\"overrides\":[],\"properties\":[]},{\"extends\":null,\"module\":null,\"name\":\"FlexBox1\",\"overrides\":[],\"properties\":[{\"default\":\"flex-start\",\"kind\":null,\"name\":\"align_content\"},{\"default\":\"flex-start\",\"kind\":null,\"name\":\"align_items\"},{\"default\":\"row\",\"kind\":null,\"name\":\"flex_direction\"},{\"default\":\"wrap\",\"kind\":null,\"name\":\"flex_wrap\"},{\"default\":\"flex-start\",\"kind\":null,\"name\":\"justify_content\"}]},{\"extends\":null,\"module\":null,\"name\":\"GridStack1\",\"overrides\":[],\"properties\":[{\"default\":\"warn\",\"kind\":null,\"name\":\"mode\"},{\"default\":null,\"kind\":null,\"name\":\"ncols\"},{\"default\":null,\"kind\":null,\"name\":\"nrows\"},{\"default\":true,\"kind\":null,\"name\":\"allow_resize\"},{\"default\":true,\"kind\":null,\"name\":\"allow_drag\"},{\"default\":[],\"kind\":null,\"name\":\"state\"}]},{\"extends\":null,\"module\":null,\"name\":\"click1\",\"overrides\":[],\"properties\":[{\"default\":\"\",\"kind\":null,\"name\":\"terminal_output\"},{\"default\":\"\",\"kind\":null,\"name\":\"debug_name\"},{\"default\":0,\"kind\":null,\"name\":\"clears\"}]},{\"extends\":null,\"module\":null,\"name\":\"NotificationAreaBase1\",\"overrides\":[],\"properties\":[{\"default\":\"bottom-right\",\"kind\":null,\"name\":\"position\"},{\"default\":0,\"kind\":null,\"name\":\"_clear\"}]},{\"extends\":null,\"module\":null,\"name\":\"NotificationArea1\",\"overrides\":[],\"properties\":[{\"default\":[],\"kind\":null,\"name\":\"notifications\"},{\"default\":\"bottom-right\",\"kind\":null,\"name\":\"position\"},{\"default\":0,\"kind\":null,\"name\":\"_clear\"},{\"default\":[{\"background\":\"#ffc107\",\"icon\":{\"className\":\"fas fa-exclamation-triangle\",\"color\":\"white\",\"tagName\":\"i\"},\"type\":\"warning\"},{\"background\":\"#007bff\",\"icon\":{\"className\":\"fas fa-info-circle\",\"color\":\"white\",\"tagName\":\"i\"},\"type\":\"info\"}],\"kind\":null,\"name\":\"types\"}]},{\"extends\":null,\"module\":null,\"name\":\"Notification\",\"overrides\":[],\"properties\":[{\"default\":null,\"kind\":null,\"name\":\"background\"},{\"default\":3000,\"kind\":null,\"name\":\"duration\"},{\"default\":null,\"kind\":null,\"name\":\"icon\"},{\"default\":\"\",\"kind\":null,\"name\":\"message\"},{\"default\":null,\"kind\":null,\"name\":\"notification_type\"},{\"default\":false,\"kind\":null,\"name\":\"_destroyed\"}]},{\"extends\":null,\"module\":null,\"name\":\"TemplateActions1\",\"overrides\":[],\"properties\":[{\"default\":0,\"kind\":null,\"name\":\"open_modal\"},{\"default\":0,\"kind\":null,\"name\":\"close_modal\"}]},{\"extends\":null,\"module\":null,\"name\":\"MaterialTemplateActions1\",\"overrides\":[],\"properties\":[{\"default\":0,\"kind\":null,\"name\":\"open_modal\"},{\"default\":0,\"kind\":null,\"name\":\"close_modal\"}]}],\"roots\":{\"references\":[{\"attributes\":{},\"id\":\"5242\",\"type\":\"PanTool\"},{\"attributes\":{\"label\":{\"value\":\"0\"},\"renderers\":[{\"id\":\"5154\"}]},\"id\":\"5167\",\"type\":\"LegendItem\"},{\"attributes\":{},\"id\":\"5256\",\"type\":\"AllLabels\"},{\"attributes\":{\"source\":{\"id\":\"5191\"}},\"id\":\"5198\",\"type\":\"CDSView\"},{\"attributes\":{\"axis_label\":\"PCA_2\",\"coordinates\":null,\"formatter\":{\"id\":\"5258\"},\"group\":null,\"major_label_policy\":{\"id\":\"5259\"},\"ticker\":{\"id\":\"5238\"}},\"id\":\"5237\",\"type\":\"LinearAxis\"},{\"attributes\":{},\"id\":\"5163\",\"type\":\"UnionRenderers\"},{\"attributes\":{\"axis\":{\"id\":\"5237\"},\"coordinates\":null,\"dimension\":1,\"grid_line_color\":null,\"group\":null,\"ticker\":null},\"id\":\"5240\",\"type\":\"Grid\"},{\"attributes\":{\"coordinates\":null,\"data_source\":{\"id\":\"5191\"},\"glyph\":{\"id\":\"5194\"},\"group\":null,\"hover_glyph\":null,\"muted_glyph\":{\"id\":\"5196\"},\"nonselection_glyph\":{\"id\":\"5195\"},\"selection_glyph\":{\"id\":\"5214\"},\"view\":{\"id\":\"5198\"}},\"id\":\"5197\",\"type\":\"GlyphRenderer\"},{\"attributes\":{},\"id\":\"5122\",\"type\":\"BasicTicker\"},{\"attributes\":{},\"id\":\"5238\",\"type\":\"BasicTicker\"},{\"attributes\":{\"data\":{\"PCA_1\":{\"__ndarray__\":\"rh8fSmWCAcBi64nLkgb5v2tEalo4HQLAbnL8qMGBAsBImB9VIgEGwERscs+dMADALg80AA54m7+nrJDKcjnyvwfxFwfv+QLAZapbVMqd/7+x3WtKkXTbv8/CDZXYLALAAfp+sZy0A8AubFhABc30vy129B/m8/y/jhM1H6gc979aYQks/UPvv+HD7QtiAgDA52ywr+Be97/A8UaSiboCwEFnOtWPtfa/AZADEg2JAcCldlnV3iYBwFk7X8X3YADAwjBCIyHb4r94SDJxKUICwKfCUiRYvgLAo0jEFS648b/FWu3b6/H5vxbtDbfIFQ5ATRIp4XVxAcAn+jFNCpABwO3Y3ZAofwDA/5c42VylB0A9tMAqen7bvyFsHCOMCAHAHY69yXbV9r9sLVcNNU8CwFrzqGCXTvO/\",\"dtype\":\"float64\",\"order\":\"little\",\"shape\":[39]},\"PCA_2\":{\"__ndarray__\":\"9psWbgSo4D+jjpBR3b3Cv2xjhWRo49W/IcIOfcL+5b9O3DFzF3vzP0t/Jtgtafg/cw/gusJC8b/PA/k0HU65P2N8S60EId6/zqkewXM1379VwoL0Nv7wv8XTZpd699W/dGoBOxQn8b9tT/lEQ68HQBjZTuvX7tu/prTMOenw/79qrSr3zlb6v8E9WUaiJ/i/dRmR+DJaxL/cELcN6M3Sv3ynWsyhuuW/rM0/x10x4D+iuJcYQrfdvyBMS+BtiOG/9P2bqSZ7+D83Mnk42u7Tv5VQxliIYvC/qvpQRDKS9r+BUmRd6C3Wv6Quk6RHiARAj0/qCe3b978b5mvAtJHsv0pHHtobpLW/FDLS42wyBcAhy6v8MZ0JQAWLIoV1pQfAM1TlGx+Y0b8Y4nCP5MfSv4/5X6BtPfA/\",\"dtype\":\"float64\",\"order\":\"little\",\"shape\":[39]},\"PCA_label\":[0,0,0,0,0,0,0,0,0,0,0,0,0,0,0,0,0,0,0,0,0,0,0,0,0,0,0,0,0,0,0,0,0,0,0,0,0,0,0],\"coin_id\":[\"bitcoin\",\"ethereum\",\"tether\",\"ripple\",\"bitcoin-cash\",\"binancecoin\",\"chainlink\",\"cardano\",\"litecoin\",\"bitcoin-cash-sv\",\"crypto-com-chain\",\"usd-coin\",\"eos\",\"monero\",\"tron\",\"tezos\",\"okb\",\"stellar\",\"cosmos\",\"cdai\",\"neo\",\"wrapped-bitcoin\",\"leo-token\",\"huobi-token\",\"nem\",\"binance-usd\",\"iota\",\"vechain\",\"zcash\",\"theta-token\",\"dash\",\"ethereum-classic\",\"maker\",\"havven\",\"omisego\",\"ontology\",\"ftx-token\",\"true-usd\",\"digibyte\"]},\"selected\":{\"id\":\"5261\"},\"selection_policy\":{\"id\":\"5275\"}},\"id\":\"5260\",\"type\":\"ColumnDataSource\"},{\"attributes\":{},\"id\":\"5243\",\"type\":\"WheelZoomTool\"},{\"attributes\":{\"end\":2.6572750783533103,\"reset_end\":2.6572750783533103,\"reset_start\":-1.597492297022574,\"start\":-1.597492297022574,\"tags\":[[[\"price_change_percentage_7d\",\"price_change_percentage_7d\",null]]]},\"id\":\"5108\",\"type\":\"Range1d\"},{\"attributes\":{},\"id\":\"5119\",\"type\":\"LinearScale\"},{\"attributes\":{\"below\":[{\"id\":\"5233\"}],\"center\":[{\"id\":\"5236\"},{\"id\":\"5240\"}],\"height\":300,\"left\":[{\"id\":\"5237\"}],\"margin\":null,\"min_border_bottom\":10,\"min_border_left\":10,\"min_border_right\":10,\"min_border_top\":10,\"output_backend\":\"webgl\",\"renderers\":[{\"id\":\"5266\"},{\"id\":\"5287\"},{\"id\":\"5309\"}],\"right\":[{\"id\":\"5278\"}],\"sizing_mode\":\"fixed\",\"title\":{\"id\":\"5225\"},\"toolbar\":{\"id\":\"5247\"},\"toolbar_location\":null,\"width\":700,\"x_range\":{\"id\":\"5219\"},\"x_scale\":{\"id\":\"5229\"},\"y_range\":{\"id\":\"5220\"},\"y_scale\":{\"id\":\"5231\"}},\"id\":\"5224\",\"subtype\":\"Figure\",\"type\":\"Plot\"},{\"attributes\":{\"toolbar\":{\"id\":\"5364\"},\"toolbar_location\":\"above\"},\"id\":\"5365\",\"type\":\"ToolbarBox\"},{\"attributes\":{},\"id\":\"5144\",\"type\":\"AllLabels\"},{\"attributes\":{\"end\":49.133328612778456,\"reset_end\":49.133328612778456,\"reset_start\":-4.8827681096279125,\"start\":-4.8827681096279125,\"tags\":[[[\"PCA_1\",\"PCA_1\",null]]]},\"id\":\"5219\",\"type\":\"Range1d\"},{\"attributes\":{\"coordinates\":null,\"data_source\":{\"id\":\"5281\"},\"glyph\":{\"id\":\"5284\"},\"group\":null,\"hover_glyph\":null,\"muted_glyph\":{\"id\":\"5286\"},\"nonselection_glyph\":{\"id\":\"5285\"},\"selection_glyph\":{\"id\":\"5302\"},\"view\":{\"id\":\"5288\"}},\"id\":\"5287\",\"type\":\"GlyphRenderer\"},{\"attributes\":{},\"id\":\"5241\",\"type\":\"SaveTool\"},{\"attributes\":{\"source\":{\"id\":\"5169\"}},\"id\":\"5176\",\"type\":\"CDSView\"},{\"attributes\":{\"axis_label\":\"price_change_percentage_7d\",\"coordinates\":null,\"formatter\":{\"id\":\"5146\"},\"group\":null,\"major_label_policy\":{\"id\":\"5147\"},\"ticker\":{\"id\":\"5126\"}},\"id\":\"5125\",\"type\":\"LinearAxis\"},{\"attributes\":{\"label\":{\"value\":\"2\"},\"renderers\":[{\"id\":\"5197\"}]},\"id\":\"5213\",\"type\":\"LegendItem\"},{\"attributes\":{\"overlay\":{\"id\":\"5246\"}},\"id\":\"5244\",\"type\":\"BoxZoomTool\"},{\"attributes\":{\"axis_label\":\"price_change_percentage_24h\",\"coordinates\":null,\"formatter\":{\"id\":\"5143\"},\"group\":null,\"major_label_policy\":{\"id\":\"5144\"},\"ticker\":{\"id\":\"5122\"}},\"id\":\"5121\",\"type\":\"LinearAxis\"},{\"attributes\":{},\"id\":\"5282\",\"type\":\"Selection\"},{\"attributes\":{},\"id\":\"5245\",\"type\":\"ResetTool\"},{\"attributes\":{},\"id\":\"5210\",\"type\":\"UnionRenderers\"},{\"attributes\":{},\"id\":\"5129\",\"type\":\"SaveTool\"},{\"attributes\":{\"callback\":null,\"renderers\":[{\"id\":\"5154\"},{\"id\":\"5175\"},{\"id\":\"5197\"}],\"tags\":[\"hv_created\"],\"tooltips\":[[\"label\",\"@{label}\"],[\"price_change_percentage_24h\",\"@{price_change_percentage_24h}\"],[\"price_change_percentage_7d\",\"@{price_change_percentage_7d}\"],[\"coin_id\",\"@{coin_id}\"]]},\"id\":\"5109\",\"type\":\"HoverTool\"},{\"attributes\":{},\"id\":\"5130\",\"type\":\"PanTool\"},{\"attributes\":{\"bottom_units\":\"screen\",\"coordinates\":null,\"fill_alpha\":0.5,\"fill_color\":\"lightgrey\",\"group\":null,\"left_units\":\"screen\",\"level\":\"overlay\",\"line_alpha\":1.0,\"line_color\":\"black\",\"line_dash\":[4,4],\"line_width\":2,\"right_units\":\"screen\",\"syncable\":false,\"top_units\":\"screen\"},\"id\":\"5246\",\"type\":\"BoxAnnotation\"},{\"attributes\":{},\"id\":\"5126\",\"type\":\"BasicTicker\"},{\"attributes\":{},\"id\":\"5298\",\"type\":\"UnionRenderers\"},{\"attributes\":{},\"id\":\"5131\",\"type\":\"WheelZoomTool\"},{\"attributes\":{\"fill_alpha\":{\"value\":0.1},\"fill_color\":{\"value\":\"#30a2da\"},\"hatch_alpha\":{\"value\":0.1},\"hatch_color\":{\"value\":\"#30a2da\"},\"line_alpha\":{\"value\":0.1},\"line_color\":{\"value\":\"#30a2da\"},\"size\":{\"value\":5.477225575051661},\"tags\":[\"apply_ranges\"],\"x\":{\"field\":\"PCA_1\"},\"y\":{\"field\":\"PCA_2\"}},\"id\":\"5264\",\"type\":\"Scatter\"},{\"attributes\":{\"fill_alpha\":{\"value\":0.1},\"fill_color\":{\"value\":\"#fc4f30\"},\"hatch_alpha\":{\"value\":0.1},\"hatch_color\":{\"value\":\"#fc4f30\"},\"line_alpha\":{\"value\":0.1},\"line_color\":{\"value\":\"#fc4f30\"},\"size\":{\"value\":5.477225575051661},\"tags\":[\"apply_ranges\"],\"x\":{\"field\":\"PCA_1\"},\"y\":{\"field\":\"PCA_2\"}},\"id\":\"5285\",\"type\":\"Scatter\"},{\"attributes\":{\"axis\":{\"id\":\"5125\"},\"coordinates\":null,\"dimension\":1,\"grid_line_color\":null,\"group\":null,\"ticker\":null},\"id\":\"5128\",\"type\":\"Grid\"},{\"attributes\":{\"fill_alpha\":{\"value\":0.2},\"fill_color\":{\"value\":\"#fc4f30\"},\"hatch_alpha\":{\"value\":0.2},\"hatch_color\":{\"value\":\"#fc4f30\"},\"line_alpha\":{\"value\":0.2},\"line_color\":{\"value\":\"#fc4f30\"},\"size\":{\"value\":5.477225575051661},\"tags\":[\"apply_ranges\"],\"x\":{\"field\":\"PCA_1\"},\"y\":{\"field\":\"PCA_2\"}},\"id\":\"5286\",\"type\":\"Scatter\"},{\"attributes\":{\"active_drag\":{\"id\":\"5242\"},\"active_scroll\":{\"id\":\"5243\"},\"tools\":[{\"id\":\"5221\"},{\"id\":\"5241\"},{\"id\":\"5242\"},{\"id\":\"5243\"},{\"id\":\"5244\"},{\"id\":\"5245\"}]},\"id\":\"5247\",\"type\":\"Toolbar\"},{\"attributes\":{\"axis\":{\"id\":\"5121\"},\"coordinates\":null,\"grid_line_color\":null,\"group\":null,\"ticker\":null},\"id\":\"5124\",\"type\":\"Grid\"},{\"attributes\":{\"fill_alpha\":{\"value\":0.2},\"fill_color\":{\"value\":\"#e5ae38\"},\"hatch_alpha\":{\"value\":0.2},\"hatch_color\":{\"value\":\"#e5ae38\"},\"line_alpha\":{\"value\":0.2},\"line_color\":{\"value\":\"#e5ae38\"},\"size\":{\"value\":5.477225575051661},\"tags\":[\"apply_ranges\"],\"x\":{\"field\":\"price_change_percentage_24h\"},\"y\":{\"field\":\"price_change_percentage_7d\"}},\"id\":\"5196\",\"type\":\"Scatter\"},{\"attributes\":{\"overlay\":{\"id\":\"5134\"}},\"id\":\"5132\",\"type\":\"BoxZoomTool\"},{\"attributes\":{\"end\":15.5365899716849,\"reset_end\":15.5365899716849,\"reset_start\":-5.521088270868631,\"start\":-5.521088270868631,\"tags\":[[[\"PCA_2\",\"PCA_2\",null]]]},\"id\":\"5220\",\"type\":\"Range1d\"},{\"attributes\":{},\"id\":\"5255\",\"type\":\"BasicTickFormatter\"},{\"attributes\":{},\"id\":\"5133\",\"type\":\"ResetTool\"},{\"attributes\":{\"label\":{\"value\":\"1\"},\"renderers\":[{\"id\":\"5175\"}]},\"id\":\"5189\",\"type\":\"LegendItem\"},{\"attributes\":{\"data\":{\"PCA_1\":{\"__ndarray__\":\"YXI+/PkgJkA=\",\"dtype\":\"float64\",\"order\":\"little\",\"shape\":[1]},\"PCA_2\":{\"__ndarray__\":\"30Cp60WQK0A=\",\"dtype\":\"float64\",\"order\":\"little\",\"shape\":[1]},\"PCA_label\":[2],\"coin_id\":[\"celsius-degree-token\"]},\"selected\":{\"id\":\"5304\"},\"selection_policy\":{\"id\":\"5322\"}},\"id\":\"5303\",\"type\":\"ColumnDataSource\"},{\"attributes\":{},\"id\":\"5259\",\"type\":\"AllLabels\"},{\"attributes\":{\"angle\":{\"value\":0.0},\"fill_alpha\":{\"value\":1.0},\"fill_color\":{\"value\":\"#e5ae38\"},\"hatch_alpha\":{\"value\":1.0},\"hatch_color\":{\"value\":\"#e5ae38\"},\"hatch_scale\":{\"value\":12.0},\"hatch_weight\":{\"value\":1.0},\"line_alpha\":{\"value\":1.0},\"line_cap\":{\"value\":\"butt\"},\"line_color\":{\"value\":\"#e5ae38\"},\"line_dash\":{\"value\":[]},\"line_dash_offset\":{\"value\":0},\"line_join\":{\"value\":\"bevel\"},\"line_width\":{\"value\":1},\"marker\":{\"value\":\"circle\"},\"size\":{\"value\":5.477225575051661},\"tags\":[\"apply_ranges\"],\"x\":{\"field\":\"PCA_1\"},\"y\":{\"field\":\"PCA_2\"}},\"id\":\"5326\",\"type\":\"Scatter\"},{\"attributes\":{\"coordinates\":null,\"data_source\":{\"id\":\"5169\"},\"glyph\":{\"id\":\"5172\"},\"group\":null,\"hover_glyph\":null,\"muted_glyph\":{\"id\":\"5174\"},\"nonselection_glyph\":{\"id\":\"5173\"},\"selection_glyph\":{\"id\":\"5190\"},\"view\":{\"id\":\"5176\"}},\"id\":\"5175\",\"type\":\"GlyphRenderer\"},{\"attributes\":{},\"id\":\"5170\",\"type\":\"Selection\"},{\"attributes\":{},\"id\":\"5258\",\"type\":\"BasicTickFormatter\"},{\"attributes\":{\"bottom_units\":\"screen\",\"coordinates\":null,\"fill_alpha\":0.5,\"fill_color\":\"lightgrey\",\"group\":null,\"left_units\":\"screen\",\"level\":\"overlay\",\"line_alpha\":1.0,\"line_color\":\"black\",\"line_dash\":[4,4],\"line_width\":2,\"right_units\":\"screen\",\"syncable\":false,\"top_units\":\"screen\"},\"id\":\"5134\",\"type\":\"BoxAnnotation\"},{\"attributes\":{\"coordinates\":null,\"group\":null,\"text_color\":\"black\",\"text_font_size\":\"12pt\"},\"id\":\"5113\",\"type\":\"Title\"},{\"attributes\":{\"fill_alpha\":{\"value\":0.1},\"fill_color\":{\"value\":\"#30a2da\"},\"hatch_alpha\":{\"value\":0.1},\"hatch_color\":{\"value\":\"#30a2da\"},\"line_alpha\":{\"value\":0.1},\"line_color\":{\"value\":\"#30a2da\"},\"size\":{\"value\":5.477225575051661},\"tags\":[\"apply_ranges\"],\"x\":{\"field\":\"price_change_percentage_24h\"},\"y\":{\"field\":\"price_change_percentage_7d\"}},\"id\":\"5152\",\"type\":\"Scatter\"},{\"attributes\":{\"active_drag\":{\"id\":\"5130\"},\"active_scroll\":{\"id\":\"5131\"},\"tools\":[{\"id\":\"5109\"},{\"id\":\"5129\"},{\"id\":\"5130\"},{\"id\":\"5131\"},{\"id\":\"5132\"},{\"id\":\"5133\"}]},\"id\":\"5135\",\"type\":\"Toolbar\"},{\"attributes\":{},\"id\":\"5186\",\"type\":\"UnionRenderers\"},{\"attributes\":{\"source\":{\"id\":\"5303\"}},\"id\":\"5310\",\"type\":\"CDSView\"},{\"attributes\":{},\"id\":\"5143\",\"type\":\"BasicTickFormatter\"},{\"attributes\":{\"fill_alpha\":{\"value\":0.1},\"fill_color\":{\"value\":\"#fc4f30\"},\"hatch_alpha\":{\"value\":0.1},\"hatch_color\":{\"value\":\"#fc4f30\"},\"line_alpha\":{\"value\":0.1},\"line_color\":{\"value\":\"#fc4f30\"},\"size\":{\"value\":5.477225575051661},\"tags\":[\"apply_ranges\"],\"x\":{\"field\":\"price_change_percentage_24h\"},\"y\":{\"field\":\"price_change_percentage_7d\"}},\"id\":\"5173\",\"type\":\"Scatter\"},{\"attributes\":{},\"id\":\"5261\",\"type\":\"Selection\"},{\"attributes\":{\"fill_alpha\":{\"value\":0.2},\"fill_color\":{\"value\":\"#30a2da\"},\"hatch_alpha\":{\"value\":0.2},\"hatch_color\":{\"value\":\"#30a2da\"},\"line_alpha\":{\"value\":0.2},\"line_color\":{\"value\":\"#30a2da\"},\"size\":{\"value\":5.477225575051661},\"tags\":[\"apply_ranges\"],\"x\":{\"field\":\"PCA_1\"},\"y\":{\"field\":\"PCA_2\"}},\"id\":\"5265\",\"type\":\"Scatter\"},{\"attributes\":{\"fill_alpha\":{\"value\":0.1},\"fill_color\":{\"value\":\"#e5ae38\"},\"hatch_alpha\":{\"value\":0.1},\"hatch_color\":{\"value\":\"#e5ae38\"},\"line_alpha\":{\"value\":0.1},\"line_color\":{\"value\":\"#e5ae38\"},\"size\":{\"value\":5.477225575051661},\"tags\":[\"apply_ranges\"],\"x\":{\"field\":\"price_change_percentage_24h\"},\"y\":{\"field\":\"price_change_percentage_7d\"}},\"id\":\"5195\",\"type\":\"Scatter\"},{\"attributes\":{},\"id\":\"5147\",\"type\":\"AllLabels\"},{\"attributes\":{\"fill_alpha\":{\"value\":0.2},\"fill_color\":{\"value\":\"#fc4f30\"},\"hatch_alpha\":{\"value\":0.2},\"hatch_color\":{\"value\":\"#fc4f30\"},\"line_alpha\":{\"value\":0.2},\"line_color\":{\"value\":\"#fc4f30\"},\"size\":{\"value\":5.477225575051661},\"tags\":[\"apply_ranges\"],\"x\":{\"field\":\"price_change_percentage_24h\"},\"y\":{\"field\":\"price_change_percentage_7d\"}},\"id\":\"5174\",\"type\":\"Scatter\"},{\"attributes\":{\"coordinates\":null,\"data_source\":{\"id\":\"5260\"},\"glyph\":{\"id\":\"5263\"},\"group\":null,\"hover_glyph\":null,\"muted_glyph\":{\"id\":\"5265\"},\"nonselection_glyph\":{\"id\":\"5264\"},\"selection_glyph\":{\"id\":\"5280\"},\"view\":{\"id\":\"5267\"}},\"id\":\"5266\",\"type\":\"GlyphRenderer\"},{\"attributes\":{},\"id\":\"5146\",\"type\":\"BasicTickFormatter\"},{\"attributes\":{\"source\":{\"id\":\"5260\"}},\"id\":\"5267\",\"type\":\"CDSView\"},{\"attributes\":{\"angle\":{\"value\":0.0},\"fill_alpha\":{\"value\":1.0},\"fill_color\":{\"value\":\"#e5ae38\"},\"hatch_alpha\":{\"value\":1.0},\"hatch_color\":{\"value\":\"#e5ae38\"},\"hatch_scale\":{\"value\":12.0},\"hatch_weight\":{\"value\":1.0},\"line_alpha\":{\"value\":1.0},\"line_cap\":{\"value\":\"butt\"},\"line_color\":{\"value\":\"#e5ae38\"},\"line_dash\":{\"value\":[]},\"line_dash_offset\":{\"value\":0},\"line_join\":{\"value\":\"bevel\"},\"line_width\":{\"value\":1},\"marker\":{\"value\":\"circle\"},\"size\":{\"value\":5.477225575051661},\"tags\":[\"apply_ranges\"],\"x\":{\"field\":\"price_change_percentage_24h\"},\"y\":{\"field\":\"price_change_percentage_7d\"}},\"id\":\"5214\",\"type\":\"Scatter\"},{\"attributes\":{\"data\":{\"PCA_1\":{\"__ndarray__\":\"O1MpgySAR0A=\",\"dtype\":\"float64\",\"order\":\"little\",\"shape\":[1]},\"PCA_2\":{\"__ndarray__\":\"JLWUU1ghDsA=\",\"dtype\":\"float64\",\"order\":\"little\",\"shape\":[1]},\"PCA_label\":[1],\"coin_id\":[\"ethlend\"]},\"selected\":{\"id\":\"5282\"},\"selection_policy\":{\"id\":\"5298\"}},\"id\":\"5281\",\"type\":\"ColumnDataSource\"},{\"attributes\":{\"angle\":{\"value\":0.0},\"fill_alpha\":{\"value\":1.0},\"fill_color\":{\"value\":\"#fc4f30\"},\"hatch_alpha\":{\"value\":1.0},\"hatch_color\":{\"value\":\"#fc4f30\"},\"hatch_scale\":{\"value\":12.0},\"hatch_weight\":{\"value\":1.0},\"line_alpha\":{\"value\":1.0},\"line_cap\":{\"value\":\"butt\"},\"line_color\":{\"value\":\"#fc4f30\"},\"line_dash\":{\"value\":[]},\"line_dash_offset\":{\"value\":0},\"line_join\":{\"value\":\"bevel\"},\"line_width\":{\"value\":1},\"marker\":{\"value\":\"circle\"},\"size\":{\"value\":5.477225575051661},\"tags\":[\"apply_ranges\"],\"x\":{\"field\":\"PCA_1\"},\"y\":{\"field\":\"PCA_2\"}},\"id\":\"5302\",\"type\":\"Scatter\"},{\"attributes\":{},\"id\":\"5149\",\"type\":\"Selection\"},{\"attributes\":{\"fill_alpha\":{\"value\":0.2},\"fill_color\":{\"value\":\"#30a2da\"},\"hatch_alpha\":{\"value\":0.2},\"hatch_color\":{\"value\":\"#30a2da\"},\"line_alpha\":{\"value\":0.2},\"line_color\":{\"value\":\"#30a2da\"},\"size\":{\"value\":5.477225575051661},\"tags\":[\"apply_ranges\"],\"x\":{\"field\":\"price_change_percentage_24h\"},\"y\":{\"field\":\"price_change_percentage_7d\"}},\"id\":\"5153\",\"type\":\"Scatter\"},{\"attributes\":{\"coordinates\":null,\"data_source\":{\"id\":\"5303\"},\"glyph\":{\"id\":\"5306\"},\"group\":null,\"hover_glyph\":null,\"muted_glyph\":{\"id\":\"5308\"},\"nonselection_glyph\":{\"id\":\"5307\"},\"selection_glyph\":{\"id\":\"5326\"},\"view\":{\"id\":\"5310\"}},\"id\":\"5309\",\"type\":\"GlyphRenderer\"},{\"attributes\":{\"children\":[{\"id\":\"5365\"},{\"id\":\"5363\"}]},\"id\":\"5366\",\"type\":\"Column\"},{\"attributes\":{\"toolbars\":[{\"id\":\"5135\"},{\"id\":\"5247\"}],\"tools\":[{\"id\":\"5109\"},{\"id\":\"5129\"},{\"id\":\"5130\"},{\"id\":\"5131\"},{\"id\":\"5132\"},{\"id\":\"5133\"},{\"id\":\"5221\"},{\"id\":\"5241\"},{\"id\":\"5242\"},{\"id\":\"5243\"},{\"id\":\"5244\"},{\"id\":\"5245\"}]},\"id\":\"5364\",\"type\":\"ProxyToolbar\"},{\"attributes\":{},\"id\":\"5231\",\"type\":\"LinearScale\"},{\"attributes\":{\"axis_label\":\"PCA_1\",\"coordinates\":null,\"formatter\":{\"id\":\"5255\"},\"group\":null,\"major_label_policy\":{\"id\":\"5256\"},\"ticker\":{\"id\":\"5234\"}},\"id\":\"5233\",\"type\":\"LinearAxis\"},{\"attributes\":{\"label\":{\"value\":\"2\"},\"renderers\":[{\"id\":\"5309\"}]},\"id\":\"5325\",\"type\":\"LegendItem\"},{\"attributes\":{\"coordinates\":null,\"data_source\":{\"id\":\"5148\"},\"glyph\":{\"id\":\"5151\"},\"group\":null,\"hover_glyph\":null,\"muted_glyph\":{\"id\":\"5153\"},\"nonselection_glyph\":{\"id\":\"5152\"},\"selection_glyph\":{\"id\":\"5168\"},\"view\":{\"id\":\"5155\"}},\"id\":\"5154\",\"type\":\"GlyphRenderer\"},{\"attributes\":{\"fill_color\":{\"value\":\"#e5ae38\"},\"hatch_color\":{\"value\":\"#e5ae38\"},\"line_color\":{\"value\":\"#e5ae38\"},\"size\":{\"value\":5.477225575051661},\"tags\":[\"apply_ranges\"],\"x\":{\"field\":\"PCA_1\"},\"y\":{\"field\":\"PCA_2\"}},\"id\":\"5306\",\"type\":\"Scatter\"},{\"attributes\":{\"source\":{\"id\":\"5148\"}},\"id\":\"5155\",\"type\":\"CDSView\"},{\"attributes\":{\"data\":{\"coin_id\":[\"ethlend\"],\"label\":[1],\"price_change_percentage_24h\":{\"__ndarray__\":\"RdU6xb8NJsA=\",\"dtype\":\"float64\",\"order\":\"little\",\"shape\":[1]},\"price_change_percentage_7d\":{\"__ndarray__\":\"OxxJa3sLvz8=\",\"dtype\":\"float64\",\"order\":\"little\",\"shape\":[1]}},\"selected\":{\"id\":\"5170\"},\"selection_policy\":{\"id\":\"5186\"}},\"id\":\"5169\",\"type\":\"ColumnDataSource\"},{\"attributes\":{\"fill_alpha\":{\"value\":0.1},\"fill_color\":{\"value\":\"#e5ae38\"},\"hatch_alpha\":{\"value\":0.1},\"hatch_color\":{\"value\":\"#e5ae38\"},\"line_alpha\":{\"value\":0.1},\"line_color\":{\"value\":\"#e5ae38\"},\"size\":{\"value\":5.477225575051661},\"tags\":[\"apply_ranges\"],\"x\":{\"field\":\"PCA_1\"},\"y\":{\"field\":\"PCA_2\"}},\"id\":\"5307\",\"type\":\"Scatter\"},{\"attributes\":{\"children\":[{\"id\":\"5366\"}],\"margin\":[0,0,0,0],\"name\":\"Row05937\",\"tags\":[\"embedded\"]},\"id\":\"5106\",\"type\":\"Row\"},{\"attributes\":{\"click_policy\":\"mute\",\"coordinates\":null,\"group\":null,\"items\":[{\"id\":\"5167\"},{\"id\":\"5189\"},{\"id\":\"5213\"}],\"location\":[0,0],\"title\":\"label\"},\"id\":\"5166\",\"type\":\"Legend\"},{\"attributes\":{\"data\":{\"coin_id\":[\"celsius-degree-token\"],\"label\":[2],\"price_change_percentage_24h\":{\"__ndarray__\":\"tTicA5/hAEA=\",\"dtype\":\"float64\",\"order\":\"little\",\"shape\":[1]},\"price_change_percentage_7d\":{\"__ndarray__\":\"87bi1m/P1r8=\",\"dtype\":\"float64\",\"order\":\"little\",\"shape\":[1]}},\"selected\":{\"id\":\"5192\"},\"selection_policy\":{\"id\":\"5210\"}},\"id\":\"5191\",\"type\":\"ColumnDataSource\"},{\"attributes\":{\"data\":{\"coin_id\":[\"bitcoin\",\"ethereum\",\"tether\",\"ripple\",\"bitcoin-cash\",\"binancecoin\",\"chainlink\",\"cardano\",\"litecoin\",\"bitcoin-cash-sv\",\"crypto-com-chain\",\"usd-coin\",\"eos\",\"monero\",\"tron\",\"tezos\",\"okb\",\"stellar\",\"cosmos\",\"cdai\",\"neo\",\"wrapped-bitcoin\",\"leo-token\",\"huobi-token\",\"nem\",\"binance-usd\",\"iota\",\"vechain\",\"zcash\",\"theta-token\",\"dash\",\"ethereum-classic\",\"maker\",\"havven\",\"omisego\",\"ontology\",\"ftx-token\",\"true-usd\",\"digibyte\"],\"label\":[0,0,0,0,0,0,0,0,0,0,0,0,0,0,0,0,0,0,0,0,0,0,0,0,0,0,0,0,0,0,0,0,0,0,0,0,0,0,0],\"price_change_percentage_24h\":{\"__ndarray__\":\"YCRMJRUR7j8Md82jsx7OP7laLMaKGL+//wtkvKt/0L91EEe8InQDQOCOiWJEZ/w/4DHSG3lxwr+qYVQ0QPCrPwAAAAAAAAAAIbOgZy7p6T9iLe384LPhP17bn6SfE7i/fNcV86fSxT8ZXWm4RNfZP/D3KTOOU70/zVdEuYj137/tRBLXdHMBwI91V34RxOi/9SeT3flC57/+1XRIgNbMP3hnzCQYKt0/N40FZLqM7j+7/74lDrqsvygXhnkSEtK/kjx6oICc5L/nn31Y0Aiiv7GHeEPJVdk/kSGXGR208T88pSUGPpjcv/HL1WRQdw3A2czyO3Me6r94cowdrcLUv+ukjAIgRty/86NpzplDCsDONoVeWhAQQFzKV8Mp+PC/POTg1rqF5z8KIg8zW1JTP9TH45Ej4QNA\",\"dtype\":\"float64\",\"order\":\"little\",\"shape\":[39]},\"price_change_percentage_7d\":{\"__ndarray__\":\"YRO/6yM94j8mlYxuxAHuP8ouLO8vgdu/KaWNaK+K4L+xBw62qzn9P43s5d72PfQ/7s4p0PNrAkDzwWAs2ab2P7NehlWQANw/AAAAAAAAAAAGwQ/JsP3yvyQ2mkOf7dy/IAsa+l+E479sU7bwZXL6Px2ZFSi97r8/peidlA/55z9yz5lizp/wv9nKEVVuwMS/7zHmIyMV+z805jAG/23bv/m7cl5b77y/mTgUtRln4T8SUAXilqzjvyPwwVNJb8y/XartIDmR4b8/2YEouIXbv0XBLUzKetc/oOfXNS5u5b8ouTHiZt3tP+m+KNYI4/O/YbYx1YNzzj+yhXACbY6gv6njQZnLkuQ/6W3Frd+ewT9I77FfMu7dPxvLSZ5bGuO/pThIQcEg4D/Ixga9UoPav+87uOB+Pta/\",\"dtype\":\"float64\",\"order\":\"little\",\"shape\":[39]}},\"selected\":{\"id\":\"5149\"},\"selection_policy\":{\"id\":\"5163\"}},\"id\":\"5148\",\"type\":\"ColumnDataSource\"},{\"attributes\":{\"label\":{\"value\":\"0\"},\"renderers\":[{\"id\":\"5266\"}]},\"id\":\"5279\",\"type\":\"LegendItem\"},{\"attributes\":{\"end\":4.66066216472339,\"reset_end\":4.66066216472339,\"reset_start\":-11.671546150768302,\"start\":-11.671546150768302,\"tags\":[[[\"price_change_percentage_24h\",\"price_change_percentage_24h\",null]]]},\"id\":\"5107\",\"type\":\"Range1d\"},{\"attributes\":{\"angle\":{\"value\":0.0},\"fill_alpha\":{\"value\":1.0},\"fill_color\":{\"value\":\"#30a2da\"},\"hatch_alpha\":{\"value\":1.0},\"hatch_color\":{\"value\":\"#30a2da\"},\"hatch_scale\":{\"value\":12.0},\"hatch_weight\":{\"value\":1.0},\"line_alpha\":{\"value\":1.0},\"line_cap\":{\"value\":\"butt\"},\"line_color\":{\"value\":\"#30a2da\"},\"line_dash\":{\"value\":[]},\"line_dash_offset\":{\"value\":0},\"line_join\":{\"value\":\"bevel\"},\"line_width\":{\"value\":1},\"marker\":{\"value\":\"circle\"},\"size\":{\"value\":5.477225575051661},\"tags\":[\"apply_ranges\"],\"x\":{\"field\":\"PCA_1\"},\"y\":{\"field\":\"PCA_2\"}},\"id\":\"5280\",\"type\":\"Scatter\"},{\"attributes\":{\"children\":[[{\"id\":\"5112\"},0,0],[{\"id\":\"5224\"},0,1]]},\"id\":\"5363\",\"type\":\"GridBox\"},{\"attributes\":{\"angle\":{\"value\":0.0},\"fill_alpha\":{\"value\":1.0},\"fill_color\":{\"value\":\"#fc4f30\"},\"hatch_alpha\":{\"value\":1.0},\"hatch_color\":{\"value\":\"#fc4f30\"},\"hatch_scale\":{\"value\":12.0},\"hatch_weight\":{\"value\":1.0},\"line_alpha\":{\"value\":1.0},\"line_cap\":{\"value\":\"butt\"},\"line_color\":{\"value\":\"#fc4f30\"},\"line_dash\":{\"value\":[]},\"line_dash_offset\":{\"value\":0},\"line_join\":{\"value\":\"bevel\"},\"line_width\":{\"value\":1},\"marker\":{\"value\":\"circle\"},\"size\":{\"value\":5.477225575051661},\"tags\":[\"apply_ranges\"],\"x\":{\"field\":\"price_change_percentage_24h\"},\"y\":{\"field\":\"price_change_percentage_7d\"}},\"id\":\"5190\",\"type\":\"Scatter\"},{\"attributes\":{},\"id\":\"5192\",\"type\":\"Selection\"},{\"attributes\":{},\"id\":\"5322\",\"type\":\"UnionRenderers\"},{\"attributes\":{\"callback\":null,\"renderers\":[{\"id\":\"5266\"},{\"id\":\"5287\"},{\"id\":\"5309\"}],\"tags\":[\"hv_created\"],\"tooltips\":[[\"PCA_label\",\"@{PCA_label}\"],[\"PCA_1\",\"@{PCA_1}\"],[\"PCA_2\",\"@{PCA_2}\"],[\"coin_id\",\"@{coin_id}\"]]},\"id\":\"5221\",\"type\":\"HoverTool\"},{\"attributes\":{\"label\":{\"value\":\"1\"},\"renderers\":[{\"id\":\"5287\"}]},\"id\":\"5301\",\"type\":\"LegendItem\"},{\"attributes\":{\"fill_color\":{\"value\":\"#30a2da\"},\"hatch_color\":{\"value\":\"#30a2da\"},\"line_color\":{\"value\":\"#30a2da\"},\"size\":{\"value\":5.477225575051661},\"tags\":[\"apply_ranges\"],\"x\":{\"field\":\"PCA_1\"},\"y\":{\"field\":\"PCA_2\"}},\"id\":\"5263\",\"type\":\"Scatter\"},{\"attributes\":{\"fill_color\":{\"value\":\"#e5ae38\"},\"hatch_color\":{\"value\":\"#e5ae38\"},\"line_color\":{\"value\":\"#e5ae38\"},\"size\":{\"value\":5.477225575051661},\"tags\":[\"apply_ranges\"],\"x\":{\"field\":\"price_change_percentage_24h\"},\"y\":{\"field\":\"price_change_percentage_7d\"}},\"id\":\"5194\",\"type\":\"Scatter\"},{\"attributes\":{\"source\":{\"id\":\"5281\"}},\"id\":\"5288\",\"type\":\"CDSView\"},{\"attributes\":{},\"id\":\"5229\",\"type\":\"LinearScale\"},{\"attributes\":{\"fill_color\":{\"value\":\"#fc4f30\"},\"hatch_color\":{\"value\":\"#fc4f30\"},\"line_color\":{\"value\":\"#fc4f30\"},\"size\":{\"value\":5.477225575051661},\"tags\":[\"apply_ranges\"],\"x\":{\"field\":\"PCA_1\"},\"y\":{\"field\":\"PCA_2\"}},\"id\":\"5284\",\"type\":\"Scatter\"},{\"attributes\":{\"below\":[{\"id\":\"5121\"}],\"center\":[{\"id\":\"5124\"},{\"id\":\"5128\"}],\"height\":300,\"left\":[{\"id\":\"5125\"}],\"margin\":null,\"min_border_bottom\":10,\"min_border_left\":10,\"min_border_right\":10,\"min_border_top\":10,\"output_backend\":\"webgl\",\"renderers\":[{\"id\":\"5154\"},{\"id\":\"5175\"},{\"id\":\"5197\"}],\"right\":[{\"id\":\"5166\"}],\"sizing_mode\":\"fixed\",\"title\":{\"id\":\"5113\"},\"toolbar\":{\"id\":\"5135\"},\"toolbar_location\":null,\"width\":700,\"x_range\":{\"id\":\"5107\"},\"x_scale\":{\"id\":\"5117\"},\"y_range\":{\"id\":\"5108\"},\"y_scale\":{\"id\":\"5119\"}},\"id\":\"5112\",\"subtype\":\"Figure\",\"type\":\"Plot\"},{\"attributes\":{\"click_policy\":\"mute\",\"coordinates\":null,\"group\":null,\"items\":[{\"id\":\"5279\"},{\"id\":\"5301\"},{\"id\":\"5325\"}],\"location\":[0,0],\"title\":\"PCA_label\"},\"id\":\"5278\",\"type\":\"Legend\"},{\"attributes\":{\"coordinates\":null,\"group\":null,\"text_color\":\"black\",\"text_font_size\":\"12pt\"},\"id\":\"5225\",\"type\":\"Title\"},{\"attributes\":{},\"id\":\"5117\",\"type\":\"LinearScale\"},{\"attributes\":{},\"id\":\"5275\",\"type\":\"UnionRenderers\"},{\"attributes\":{},\"id\":\"5234\",\"type\":\"BasicTicker\"},{\"attributes\":{\"angle\":{\"value\":0.0},\"fill_alpha\":{\"value\":1.0},\"fill_color\":{\"value\":\"#30a2da\"},\"hatch_alpha\":{\"value\":1.0},\"hatch_color\":{\"value\":\"#30a2da\"},\"hatch_scale\":{\"value\":12.0},\"hatch_weight\":{\"value\":1.0},\"line_alpha\":{\"value\":1.0},\"line_cap\":{\"value\":\"butt\"},\"line_color\":{\"value\":\"#30a2da\"},\"line_dash\":{\"value\":[]},\"line_dash_offset\":{\"value\":0},\"line_join\":{\"value\":\"bevel\"},\"line_width\":{\"value\":1},\"marker\":{\"value\":\"circle\"},\"size\":{\"value\":5.477225575051661},\"tags\":[\"apply_ranges\"],\"x\":{\"field\":\"price_change_percentage_24h\"},\"y\":{\"field\":\"price_change_percentage_7d\"}},\"id\":\"5168\",\"type\":\"Scatter\"},{\"attributes\":{},\"id\":\"5304\",\"type\":\"Selection\"},{\"attributes\":{\"fill_alpha\":{\"value\":0.2},\"fill_color\":{\"value\":\"#e5ae38\"},\"hatch_alpha\":{\"value\":0.2},\"hatch_color\":{\"value\":\"#e5ae38\"},\"line_alpha\":{\"value\":0.2},\"line_color\":{\"value\":\"#e5ae38\"},\"size\":{\"value\":5.477225575051661},\"tags\":[\"apply_ranges\"],\"x\":{\"field\":\"PCA_1\"},\"y\":{\"field\":\"PCA_2\"}},\"id\":\"5308\",\"type\":\"Scatter\"},{\"attributes\":{\"fill_color\":{\"value\":\"#30a2da\"},\"hatch_color\":{\"value\":\"#30a2da\"},\"line_color\":{\"value\":\"#30a2da\"},\"size\":{\"value\":5.477225575051661},\"tags\":[\"apply_ranges\"],\"x\":{\"field\":\"price_change_percentage_24h\"},\"y\":{\"field\":\"price_change_percentage_7d\"}},\"id\":\"5151\",\"type\":\"Scatter\"},{\"attributes\":{\"axis\":{\"id\":\"5233\"},\"coordinates\":null,\"grid_line_color\":null,\"group\":null,\"ticker\":null},\"id\":\"5236\",\"type\":\"Grid\"},{\"attributes\":{\"fill_color\":{\"value\":\"#fc4f30\"},\"hatch_color\":{\"value\":\"#fc4f30\"},\"line_color\":{\"value\":\"#fc4f30\"},\"size\":{\"value\":5.477225575051661},\"tags\":[\"apply_ranges\"],\"x\":{\"field\":\"price_change_percentage_24h\"},\"y\":{\"field\":\"price_change_percentage_7d\"}},\"id\":\"5172\",\"type\":\"Scatter\"}],\"root_ids\":[\"5106\"]},\"title\":\"Bokeh Application\",\"version\":\"2.4.3\"}};\n",
       "    var render_items = [{\"docid\":\"b85d1041-0ad1-42a3-b2fd-a59196cfe1f2\",\"root_ids\":[\"5106\"],\"roots\":{\"5106\":\"1459471b-9a99-4eb7-bcb8-b64b690ef6d6\"}}];\n",
       "    root.Bokeh.embed.embed_items_notebook(docs_json, render_items);\n",
       "    for (const render_item of render_items) {\n",
       "      for (const root_id of render_item.root_ids) {\n",
       "\tconst id_el = document.getElementById(root_id)\n",
       "\tif (id_el.children.length && (id_el.children[0].className === 'bk-root')) {\n",
       "\t  const root_el = id_el.children[0]\n",
       "\t  root_el.id = root_el.id + '-rendered'\n",
       "\t}\n",
       "      }\n",
       "    }\n",
       "  }\n",
       "  if (root.Bokeh !== undefined && root.Bokeh.Panel !== undefined) {\n",
       "    embed_document(root);\n",
       "  } else {\n",
       "    var attempts = 0;\n",
       "    var timer = setInterval(function(root) {\n",
       "      if (root.Bokeh !== undefined && root.Bokeh.Panel !== undefined) {\n",
       "        clearInterval(timer);\n",
       "        embed_document(root);\n",
       "      } else if (document.readyState == \"complete\") {\n",
       "        attempts++;\n",
       "        if (attempts > 200) {\n",
       "          clearInterval(timer);\n",
       "          console.log(\"Bokeh: ERROR: Unable to run BokehJS code because BokehJS library is missing\");\n",
       "        }\n",
       "      }\n",
       "    }, 25, root)\n",
       "  }\n",
       "})(window);</script>"
      ],
      "text/plain": [
       ":Layout\n",
       "   .NdOverlay.I  :NdOverlay   [label]\n",
       "      :Scatter   [price_change_percentage_24h]   (price_change_percentage_7d,coin_id)\n",
       "   .NdOverlay.II :NdOverlay   [PCA_label]\n",
       "      :Scatter   [PCA_1]   (PCA_2,coin_id)"
      ]
     },
     "execution_count": 31,
     "metadata": {
      "application/vnd.holoviews_exec.v0+json": {
       "id": "5106"
      }
     },
     "output_type": "execute_result"
    }
   ],
   "source": [
    "# Composite plot to contrast the clusters\n",
    "\n",
    "cluster_plot + pca_cluster_plot\n"
   ]
  },
  {
   "cell_type": "code",
   "execution_count": 34,
   "metadata": {},
   "outputs": [
    {
     "data": {},
     "metadata": {},
     "output_type": "display_data"
    },
    {
     "data": {
      "application/vnd.holoviews_exec.v0+json": "",
      "text/html": [
       "<div id='5536'>\n",
       "  <div class=\"bk-root\" id=\"7a17040b-a15b-4255-9201-13a3fa71159c\" data-root-id=\"5536\"></div>\n",
       "</div>\n",
       "<script type=\"application/javascript\">(function(root) {\n",
       "  function embed_document(root) {\n",
       "    var docs_json = {\"1b4e914e-0c79-4f0a-af07-24c3574f7a17\":{\"defs\":[{\"extends\":null,\"module\":null,\"name\":\"ReactiveHTML1\",\"overrides\":[],\"properties\":[]},{\"extends\":null,\"module\":null,\"name\":\"FlexBox1\",\"overrides\":[],\"properties\":[{\"default\":\"flex-start\",\"kind\":null,\"name\":\"align_content\"},{\"default\":\"flex-start\",\"kind\":null,\"name\":\"align_items\"},{\"default\":\"row\",\"kind\":null,\"name\":\"flex_direction\"},{\"default\":\"wrap\",\"kind\":null,\"name\":\"flex_wrap\"},{\"default\":\"flex-start\",\"kind\":null,\"name\":\"justify_content\"}]},{\"extends\":null,\"module\":null,\"name\":\"GridStack1\",\"overrides\":[],\"properties\":[{\"default\":\"warn\",\"kind\":null,\"name\":\"mode\"},{\"default\":null,\"kind\":null,\"name\":\"ncols\"},{\"default\":null,\"kind\":null,\"name\":\"nrows\"},{\"default\":true,\"kind\":null,\"name\":\"allow_resize\"},{\"default\":true,\"kind\":null,\"name\":\"allow_drag\"},{\"default\":[],\"kind\":null,\"name\":\"state\"}]},{\"extends\":null,\"module\":null,\"name\":\"click1\",\"overrides\":[],\"properties\":[{\"default\":\"\",\"kind\":null,\"name\":\"terminal_output\"},{\"default\":\"\",\"kind\":null,\"name\":\"debug_name\"},{\"default\":0,\"kind\":null,\"name\":\"clears\"}]},{\"extends\":null,\"module\":null,\"name\":\"NotificationAreaBase1\",\"overrides\":[],\"properties\":[{\"default\":\"bottom-right\",\"kind\":null,\"name\":\"position\"},{\"default\":0,\"kind\":null,\"name\":\"_clear\"}]},{\"extends\":null,\"module\":null,\"name\":\"NotificationArea1\",\"overrides\":[],\"properties\":[{\"default\":[],\"kind\":null,\"name\":\"notifications\"},{\"default\":\"bottom-right\",\"kind\":null,\"name\":\"position\"},{\"default\":0,\"kind\":null,\"name\":\"_clear\"},{\"default\":[{\"background\":\"#ffc107\",\"icon\":{\"className\":\"fas fa-exclamation-triangle\",\"color\":\"white\",\"tagName\":\"i\"},\"type\":\"warning\"},{\"background\":\"#007bff\",\"icon\":{\"className\":\"fas fa-info-circle\",\"color\":\"white\",\"tagName\":\"i\"},\"type\":\"info\"}],\"kind\":null,\"name\":\"types\"}]},{\"extends\":null,\"module\":null,\"name\":\"Notification\",\"overrides\":[],\"properties\":[{\"default\":null,\"kind\":null,\"name\":\"background\"},{\"default\":3000,\"kind\":null,\"name\":\"duration\"},{\"default\":null,\"kind\":null,\"name\":\"icon\"},{\"default\":\"\",\"kind\":null,\"name\":\"message\"},{\"default\":null,\"kind\":null,\"name\":\"notification_type\"},{\"default\":false,\"kind\":null,\"name\":\"_destroyed\"}]},{\"extends\":null,\"module\":null,\"name\":\"TemplateActions1\",\"overrides\":[],\"properties\":[{\"default\":0,\"kind\":null,\"name\":\"open_modal\"},{\"default\":0,\"kind\":null,\"name\":\"close_modal\"}]},{\"extends\":null,\"module\":null,\"name\":\"MaterialTemplateActions1\",\"overrides\":[],\"properties\":[{\"default\":0,\"kind\":null,\"name\":\"open_modal\"},{\"default\":0,\"kind\":null,\"name\":\"close_modal\"}]}],\"roots\":{\"references\":[{\"attributes\":{\"source\":{\"id\":\"5599\"}},\"id\":\"5606\",\"type\":\"CDSView\"},{\"attributes\":{\"fill_color\":{\"value\":\"#fc4f30\"},\"hatch_color\":{\"value\":\"#fc4f30\"},\"line_color\":{\"value\":\"#fc4f30\"},\"size\":{\"value\":5.477225575051661},\"tags\":[\"apply_ranges\"],\"x\":{\"field\":\"price_change_percentage_1y\"},\"y\":{\"field\":\"price_change_percentage_30d\"}},\"id\":\"5602\",\"type\":\"Scatter\"},{\"attributes\":{\"click_policy\":\"mute\",\"coordinates\":null,\"group\":null,\"items\":[{\"id\":\"5709\"},{\"id\":\"5731\"},{\"id\":\"5755\"}],\"location\":[0,0],\"title\":\"PCA_label\"},\"id\":\"5708\",\"type\":\"Legend\"},{\"attributes\":{\"data\":{\"PCA_1\":{\"__ndarray__\":\"YXI+/PkgJkA=\",\"dtype\":\"float64\",\"order\":\"little\",\"shape\":[1]},\"PCA_2\":{\"__ndarray__\":\"30Cp60WQK0A=\",\"dtype\":\"float64\",\"order\":\"little\",\"shape\":[1]},\"PCA_label\":[2],\"coin_id\":[\"celsius-degree-token\"]},\"selected\":{\"id\":\"5734\"},\"selection_policy\":{\"id\":\"5752\"}},\"id\":\"5733\",\"type\":\"ColumnDataSource\"},{\"attributes\":{},\"id\":\"5556\",\"type\":\"BasicTicker\"},{\"attributes\":{\"angle\":{\"value\":0.0},\"fill_alpha\":{\"value\":1.0},\"fill_color\":{\"value\":\"#e5ae38\"},\"hatch_alpha\":{\"value\":1.0},\"hatch_color\":{\"value\":\"#e5ae38\"},\"hatch_scale\":{\"value\":12.0},\"hatch_weight\":{\"value\":1.0},\"line_alpha\":{\"value\":1.0},\"line_cap\":{\"value\":\"butt\"},\"line_color\":{\"value\":\"#e5ae38\"},\"line_dash\":{\"value\":[]},\"line_dash_offset\":{\"value\":0},\"line_join\":{\"value\":\"bevel\"},\"line_width\":{\"value\":1},\"marker\":{\"value\":\"circle\"},\"size\":{\"value\":5.477225575051661},\"tags\":[\"apply_ranges\"],\"x\":{\"field\":\"PCA_1\"},\"y\":{\"field\":\"PCA_2\"}},\"id\":\"5756\",\"type\":\"Scatter\"},{\"attributes\":{},\"id\":\"5563\",\"type\":\"ResetTool\"},{\"attributes\":{\"coordinates\":null,\"data_source\":{\"id\":\"5690\"},\"glyph\":{\"id\":\"5693\"},\"group\":null,\"hover_glyph\":null,\"muted_glyph\":{\"id\":\"5695\"},\"nonselection_glyph\":{\"id\":\"5694\"},\"selection_glyph\":{\"id\":\"5710\"},\"view\":{\"id\":\"5697\"}},\"id\":\"5696\",\"type\":\"GlyphRenderer\"},{\"attributes\":{\"data\":{\"PCA_1\":{\"__ndarray__\":\"rh8fSmWCAcBi64nLkgb5v2tEalo4HQLAbnL8qMGBAsBImB9VIgEGwERscs+dMADALg80AA54m7+nrJDKcjnyvwfxFwfv+QLAZapbVMqd/7+x3WtKkXTbv8/CDZXYLALAAfp+sZy0A8AubFhABc30vy129B/m8/y/jhM1H6gc979aYQks/UPvv+HD7QtiAgDA52ywr+Be97/A8UaSiboCwEFnOtWPtfa/AZADEg2JAcCldlnV3iYBwFk7X8X3YADAwjBCIyHb4r94SDJxKUICwKfCUiRYvgLAo0jEFS648b/FWu3b6/H5vxbtDbfIFQ5ATRIp4XVxAcAn+jFNCpABwO3Y3ZAofwDA/5c42VylB0A9tMAqen7bvyFsHCOMCAHAHY69yXbV9r9sLVcNNU8CwFrzqGCXTvO/\",\"dtype\":\"float64\",\"order\":\"little\",\"shape\":[39]},\"PCA_2\":{\"__ndarray__\":\"9psWbgSo4D+jjpBR3b3Cv2xjhWRo49W/IcIOfcL+5b9O3DFzF3vzP0t/Jtgtafg/cw/gusJC8b/PA/k0HU65P2N8S60EId6/zqkewXM1379VwoL0Nv7wv8XTZpd699W/dGoBOxQn8b9tT/lEQ68HQBjZTuvX7tu/prTMOenw/79qrSr3zlb6v8E9WUaiJ/i/dRmR+DJaxL/cELcN6M3Sv3ynWsyhuuW/rM0/x10x4D+iuJcYQrfdvyBMS+BtiOG/9P2bqSZ7+D83Mnk42u7Tv5VQxliIYvC/qvpQRDKS9r+BUmRd6C3Wv6Quk6RHiARAj0/qCe3b978b5mvAtJHsv0pHHtobpLW/FDLS42wyBcAhy6v8MZ0JQAWLIoV1pQfAM1TlGx+Y0b8Y4nCP5MfSv4/5X6BtPfA/\",\"dtype\":\"float64\",\"order\":\"little\",\"shape\":[39]},\"PCA_label\":[0,0,0,0,0,0,0,0,0,0,0,0,0,0,0,0,0,0,0,0,0,0,0,0,0,0,0,0,0,0,0,0,0,0,0,0,0,0,0],\"coin_id\":[\"bitcoin\",\"ethereum\",\"tether\",\"ripple\",\"bitcoin-cash\",\"binancecoin\",\"chainlink\",\"cardano\",\"litecoin\",\"bitcoin-cash-sv\",\"crypto-com-chain\",\"usd-coin\",\"eos\",\"monero\",\"tron\",\"tezos\",\"okb\",\"stellar\",\"cosmos\",\"cdai\",\"neo\",\"wrapped-bitcoin\",\"leo-token\",\"huobi-token\",\"nem\",\"binance-usd\",\"iota\",\"vechain\",\"zcash\",\"theta-token\",\"dash\",\"ethereum-classic\",\"maker\",\"havven\",\"omisego\",\"ontology\",\"ftx-token\",\"true-usd\",\"digibyte\"]},\"selected\":{\"id\":\"5691\"},\"selection_policy\":{\"id\":\"5705\"}},\"id\":\"5690\",\"type\":\"ColumnDataSource\"},{\"attributes\":{\"click_policy\":\"mute\",\"coordinates\":null,\"group\":null,\"items\":[{\"id\":\"5597\"},{\"id\":\"5619\"},{\"id\":\"5643\"}],\"location\":[0,0],\"title\":\"label\"},\"id\":\"5596\",\"type\":\"Legend\"},{\"attributes\":{\"source\":{\"id\":\"5690\"}},\"id\":\"5697\",\"type\":\"CDSView\"},{\"attributes\":{},\"id\":\"5559\",\"type\":\"SaveTool\"},{\"attributes\":{\"fill_alpha\":{\"value\":0.2},\"fill_color\":{\"value\":\"#30a2da\"},\"hatch_alpha\":{\"value\":0.2},\"hatch_color\":{\"value\":\"#30a2da\"},\"line_alpha\":{\"value\":0.2},\"line_color\":{\"value\":\"#30a2da\"},\"size\":{\"value\":5.477225575051661},\"tags\":[\"apply_ranges\"],\"x\":{\"field\":\"PCA_1\"},\"y\":{\"field\":\"PCA_2\"}},\"id\":\"5695\",\"type\":\"Scatter\"},{\"attributes\":{\"fill_alpha\":{\"value\":0.2},\"fill_color\":{\"value\":\"#30a2da\"},\"hatch_alpha\":{\"value\":0.2},\"hatch_color\":{\"value\":\"#30a2da\"},\"line_alpha\":{\"value\":0.2},\"line_color\":{\"value\":\"#30a2da\"},\"size\":{\"value\":5.477225575051661},\"tags\":[\"apply_ranges\"],\"x\":{\"field\":\"price_change_percentage_1y\"},\"y\":{\"field\":\"price_change_percentage_30d\"}},\"id\":\"5583\",\"type\":\"Scatter\"},{\"attributes\":{},\"id\":\"5691\",\"type\":\"Selection\"},{\"attributes\":{\"children\":[{\"id\":\"5795\"},{\"id\":\"5793\"}]},\"id\":\"5796\",\"type\":\"Column\"},{\"attributes\":{},\"id\":\"5640\",\"type\":\"UnionRenderers\"},{\"attributes\":{\"below\":[{\"id\":\"5551\"}],\"center\":[{\"id\":\"5554\"},{\"id\":\"5558\"}],\"height\":300,\"left\":[{\"id\":\"5555\"}],\"margin\":null,\"min_border_bottom\":10,\"min_border_left\":10,\"min_border_right\":10,\"min_border_top\":10,\"output_backend\":\"webgl\",\"renderers\":[{\"id\":\"5584\"},{\"id\":\"5605\"},{\"id\":\"5627\"}],\"right\":[{\"id\":\"5596\"}],\"sizing_mode\":\"fixed\",\"title\":{\"id\":\"5543\"},\"toolbar\":{\"id\":\"5565\"},\"toolbar_location\":null,\"width\":700,\"x_range\":{\"id\":\"5537\"},\"x_scale\":{\"id\":\"5547\"},\"y_range\":{\"id\":\"5538\"},\"y_scale\":{\"id\":\"5549\"}},\"id\":\"5542\",\"subtype\":\"Figure\",\"type\":\"Plot\"},{\"attributes\":{},\"id\":\"5688\",\"type\":\"BasicTickFormatter\"},{\"attributes\":{\"coordinates\":null,\"data_source\":{\"id\":\"5621\"},\"glyph\":{\"id\":\"5624\"},\"group\":null,\"hover_glyph\":null,\"muted_glyph\":{\"id\":\"5626\"},\"nonselection_glyph\":{\"id\":\"5625\"},\"selection_glyph\":{\"id\":\"5644\"},\"view\":{\"id\":\"5628\"}},\"id\":\"5627\",\"type\":\"GlyphRenderer\"},{\"attributes\":{\"end\":49.133328612778456,\"reset_end\":49.133328612778456,\"reset_start\":-4.8827681096279125,\"start\":-4.8827681096279125,\"tags\":[[[\"PCA_1\",\"PCA_1\",null]]]},\"id\":\"5649\",\"type\":\"Range1d\"},{\"attributes\":{\"fill_color\":{\"value\":\"#30a2da\"},\"hatch_color\":{\"value\":\"#30a2da\"},\"line_color\":{\"value\":\"#30a2da\"},\"size\":{\"value\":5.477225575051661},\"tags\":[\"apply_ranges\"],\"x\":{\"field\":\"price_change_percentage_1y\"},\"y\":{\"field\":\"price_change_percentage_30d\"}},\"id\":\"5581\",\"type\":\"Scatter\"},{\"attributes\":{},\"id\":\"5689\",\"type\":\"AllLabels\"},{\"attributes\":{},\"id\":\"5579\",\"type\":\"Selection\"},{\"attributes\":{},\"id\":\"5561\",\"type\":\"WheelZoomTool\"},{\"attributes\":{\"bottom_units\":\"screen\",\"coordinates\":null,\"fill_alpha\":0.5,\"fill_color\":\"lightgrey\",\"group\":null,\"left_units\":\"screen\",\"level\":\"overlay\",\"line_alpha\":1.0,\"line_color\":\"black\",\"line_dash\":[4,4],\"line_width\":2,\"right_units\":\"screen\",\"syncable\":false,\"top_units\":\"screen\"},\"id\":\"5564\",\"type\":\"BoxAnnotation\"},{\"attributes\":{},\"id\":\"5576\",\"type\":\"BasicTickFormatter\"},{\"attributes\":{},\"id\":\"5622\",\"type\":\"Selection\"},{\"attributes\":{\"angle\":{\"value\":0.0},\"fill_alpha\":{\"value\":1.0},\"fill_color\":{\"value\":\"#fc4f30\"},\"hatch_alpha\":{\"value\":1.0},\"hatch_color\":{\"value\":\"#fc4f30\"},\"hatch_scale\":{\"value\":12.0},\"hatch_weight\":{\"value\":1.0},\"line_alpha\":{\"value\":1.0},\"line_cap\":{\"value\":\"butt\"},\"line_color\":{\"value\":\"#fc4f30\"},\"line_dash\":{\"value\":[]},\"line_dash_offset\":{\"value\":0},\"line_join\":{\"value\":\"bevel\"},\"line_width\":{\"value\":1},\"marker\":{\"value\":\"circle\"},\"size\":{\"value\":5.477225575051661},\"tags\":[\"apply_ranges\"],\"x\":{\"field\":\"PCA_1\"},\"y\":{\"field\":\"PCA_2\"}},\"id\":\"5732\",\"type\":\"Scatter\"},{\"attributes\":{\"angle\":{\"value\":0.0},\"fill_alpha\":{\"value\":1.0},\"fill_color\":{\"value\":\"#30a2da\"},\"hatch_alpha\":{\"value\":1.0},\"hatch_color\":{\"value\":\"#30a2da\"},\"hatch_scale\":{\"value\":12.0},\"hatch_weight\":{\"value\":1.0},\"line_alpha\":{\"value\":1.0},\"line_cap\":{\"value\":\"butt\"},\"line_color\":{\"value\":\"#30a2da\"},\"line_dash\":{\"value\":[]},\"line_dash_offset\":{\"value\":0},\"line_join\":{\"value\":\"bevel\"},\"line_width\":{\"value\":1},\"marker\":{\"value\":\"circle\"},\"size\":{\"value\":5.477225575051661},\"tags\":[\"apply_ranges\"],\"x\":{\"field\":\"PCA_1\"},\"y\":{\"field\":\"PCA_2\"}},\"id\":\"5710\",\"type\":\"Scatter\"},{\"attributes\":{},\"id\":\"5685\",\"type\":\"BasicTickFormatter\"},{\"attributes\":{\"active_drag\":{\"id\":\"5672\"},\"active_scroll\":{\"id\":\"5673\"},\"tools\":[{\"id\":\"5651\"},{\"id\":\"5671\"},{\"id\":\"5672\"},{\"id\":\"5673\"},{\"id\":\"5674\"},{\"id\":\"5675\"}]},\"id\":\"5677\",\"type\":\"Toolbar\"},{\"attributes\":{},\"id\":\"5552\",\"type\":\"BasicTicker\"},{\"attributes\":{\"fill_alpha\":{\"value\":0.1},\"fill_color\":{\"value\":\"#fc4f30\"},\"hatch_alpha\":{\"value\":0.1},\"hatch_color\":{\"value\":\"#fc4f30\"},\"line_alpha\":{\"value\":0.1},\"line_color\":{\"value\":\"#fc4f30\"},\"size\":{\"value\":5.477225575051661},\"tags\":[\"apply_ranges\"],\"x\":{\"field\":\"PCA_1\"},\"y\":{\"field\":\"PCA_2\"}},\"id\":\"5715\",\"type\":\"Scatter\"},{\"attributes\":{\"overlay\":{\"id\":\"5564\"}},\"id\":\"5562\",\"type\":\"BoxZoomTool\"},{\"attributes\":{\"fill_alpha\":{\"value\":0.1},\"fill_color\":{\"value\":\"#30a2da\"},\"hatch_alpha\":{\"value\":0.1},\"hatch_color\":{\"value\":\"#30a2da\"},\"line_alpha\":{\"value\":0.1},\"line_color\":{\"value\":\"#30a2da\"},\"size\":{\"value\":5.477225575051661},\"tags\":[\"apply_ranges\"],\"x\":{\"field\":\"PCA_1\"},\"y\":{\"field\":\"PCA_2\"}},\"id\":\"5694\",\"type\":\"Scatter\"},{\"attributes\":{\"axis_label\":\"price_change_percentage_1y\",\"coordinates\":null,\"formatter\":{\"id\":\"5573\"},\"group\":null,\"major_label_policy\":{\"id\":\"5574\"},\"ticker\":{\"id\":\"5552\"}},\"id\":\"5551\",\"type\":\"LinearAxis\"},{\"attributes\":{\"coordinates\":null,\"group\":null,\"text_color\":\"black\",\"text_font_size\":\"12pt\"},\"id\":\"5543\",\"type\":\"Title\"},{\"attributes\":{},\"id\":\"5577\",\"type\":\"AllLabels\"},{\"attributes\":{\"fill_alpha\":{\"value\":0.2},\"fill_color\":{\"value\":\"#fc4f30\"},\"hatch_alpha\":{\"value\":0.2},\"hatch_color\":{\"value\":\"#fc4f30\"},\"line_alpha\":{\"value\":0.2},\"line_color\":{\"value\":\"#fc4f30\"},\"size\":{\"value\":5.477225575051661},\"tags\":[\"apply_ranges\"],\"x\":{\"field\":\"PCA_1\"},\"y\":{\"field\":\"PCA_2\"}},\"id\":\"5716\",\"type\":\"Scatter\"},{\"attributes\":{\"source\":{\"id\":\"5578\"}},\"id\":\"5585\",\"type\":\"CDSView\"},{\"attributes\":{\"fill_color\":{\"value\":\"#e5ae38\"},\"hatch_color\":{\"value\":\"#e5ae38\"},\"line_color\":{\"value\":\"#e5ae38\"},\"size\":{\"value\":5.477225575051661},\"tags\":[\"apply_ranges\"],\"x\":{\"field\":\"price_change_percentage_1y\"},\"y\":{\"field\":\"price_change_percentage_30d\"}},\"id\":\"5624\",\"type\":\"Scatter\"},{\"attributes\":{\"bottom_units\":\"screen\",\"coordinates\":null,\"fill_alpha\":0.5,\"fill_color\":\"lightgrey\",\"group\":null,\"left_units\":\"screen\",\"level\":\"overlay\",\"line_alpha\":1.0,\"line_color\":\"black\",\"line_dash\":[4,4],\"line_width\":2,\"right_units\":\"screen\",\"syncable\":false,\"top_units\":\"screen\"},\"id\":\"5676\",\"type\":\"BoxAnnotation\"},{\"attributes\":{},\"id\":\"5734\",\"type\":\"Selection\"},{\"attributes\":{\"fill_alpha\":{\"value\":0.1},\"fill_color\":{\"value\":\"#e5ae38\"},\"hatch_alpha\":{\"value\":0.1},\"hatch_color\":{\"value\":\"#e5ae38\"},\"line_alpha\":{\"value\":0.1},\"line_color\":{\"value\":\"#e5ae38\"},\"size\":{\"value\":5.477225575051661},\"tags\":[\"apply_ranges\"],\"x\":{\"field\":\"PCA_1\"},\"y\":{\"field\":\"PCA_2\"}},\"id\":\"5737\",\"type\":\"Scatter\"},{\"attributes\":{},\"id\":\"5671\",\"type\":\"SaveTool\"},{\"attributes\":{\"end\":15.5365899716849,\"reset_end\":15.5365899716849,\"reset_start\":-5.521088270868631,\"start\":-5.521088270868631,\"tags\":[[[\"PCA_2\",\"PCA_2\",null]]]},\"id\":\"5650\",\"type\":\"Range1d\"},{\"attributes\":{},\"id\":\"5675\",\"type\":\"ResetTool\"},{\"attributes\":{\"children\":[{\"id\":\"5796\"}],\"margin\":[0,0,0,0],\"name\":\"Row06325\",\"tags\":[\"embedded\"]},\"id\":\"5536\",\"type\":\"Row\"},{\"attributes\":{\"coordinates\":null,\"data_source\":{\"id\":\"5733\"},\"glyph\":{\"id\":\"5736\"},\"group\":null,\"hover_glyph\":null,\"muted_glyph\":{\"id\":\"5738\"},\"nonselection_glyph\":{\"id\":\"5737\"},\"selection_glyph\":{\"id\":\"5756\"},\"view\":{\"id\":\"5740\"}},\"id\":\"5739\",\"type\":\"GlyphRenderer\"},{\"attributes\":{\"axis_label\":\"price_change_percentage_30d\",\"coordinates\":null,\"formatter\":{\"id\":\"5576\"},\"group\":null,\"major_label_policy\":{\"id\":\"5577\"},\"ticker\":{\"id\":\"5556\"}},\"id\":\"5555\",\"type\":\"LinearAxis\"},{\"attributes\":{\"overlay\":{\"id\":\"5676\"}},\"id\":\"5674\",\"type\":\"BoxZoomTool\"},{\"attributes\":{\"axis\":{\"id\":\"5555\"},\"coordinates\":null,\"dimension\":1,\"grid_line_color\":null,\"group\":null,\"ticker\":null},\"id\":\"5558\",\"type\":\"Grid\"},{\"attributes\":{},\"id\":\"5673\",\"type\":\"WheelZoomTool\"},{\"attributes\":{\"label\":{\"value\":\"2\"},\"renderers\":[{\"id\":\"5739\"}]},\"id\":\"5755\",\"type\":\"LegendItem\"},{\"attributes\":{},\"id\":\"5668\",\"type\":\"BasicTicker\"},{\"attributes\":{\"fill_alpha\":{\"value\":0.1},\"fill_color\":{\"value\":\"#fc4f30\"},\"hatch_alpha\":{\"value\":0.1},\"hatch_color\":{\"value\":\"#fc4f30\"},\"line_alpha\":{\"value\":0.1},\"line_color\":{\"value\":\"#fc4f30\"},\"size\":{\"value\":5.477225575051661},\"tags\":[\"apply_ranges\"],\"x\":{\"field\":\"price_change_percentage_1y\"},\"y\":{\"field\":\"price_change_percentage_30d\"}},\"id\":\"5603\",\"type\":\"Scatter\"},{\"attributes\":{\"coordinates\":null,\"data_source\":{\"id\":\"5578\"},\"glyph\":{\"id\":\"5581\"},\"group\":null,\"hover_glyph\":null,\"muted_glyph\":{\"id\":\"5583\"},\"nonselection_glyph\":{\"id\":\"5582\"},\"selection_glyph\":{\"id\":\"5598\"},\"view\":{\"id\":\"5585\"}},\"id\":\"5584\",\"type\":\"GlyphRenderer\"},{\"attributes\":{\"fill_alpha\":{\"value\":0.1},\"fill_color\":{\"value\":\"#30a2da\"},\"hatch_alpha\":{\"value\":0.1},\"hatch_color\":{\"value\":\"#30a2da\"},\"line_alpha\":{\"value\":0.1},\"line_color\":{\"value\":\"#30a2da\"},\"size\":{\"value\":5.477225575051661},\"tags\":[\"apply_ranges\"],\"x\":{\"field\":\"price_change_percentage_1y\"},\"y\":{\"field\":\"price_change_percentage_30d\"}},\"id\":\"5582\",\"type\":\"Scatter\"},{\"attributes\":{\"axis\":{\"id\":\"5551\"},\"coordinates\":null,\"grid_line_color\":null,\"group\":null,\"ticker\":null},\"id\":\"5554\",\"type\":\"Grid\"},{\"attributes\":{\"fill_alpha\":{\"value\":0.1},\"fill_color\":{\"value\":\"#e5ae38\"},\"hatch_alpha\":{\"value\":0.1},\"hatch_color\":{\"value\":\"#e5ae38\"},\"line_alpha\":{\"value\":0.1},\"line_color\":{\"value\":\"#e5ae38\"},\"size\":{\"value\":5.477225575051661},\"tags\":[\"apply_ranges\"],\"x\":{\"field\":\"price_change_percentage_1y\"},\"y\":{\"field\":\"price_change_percentage_30d\"}},\"id\":\"5625\",\"type\":\"Scatter\"},{\"attributes\":{\"data\":{\"coin_id\":[\"ethlend\"],\"label\":[1],\"price_change_percentage_1y\":{\"__ndarray__\":\"5BSiV6IqR0A=\",\"dtype\":\"float64\",\"order\":\"little\",\"shape\":[1]},\"price_change_percentage_30d\":{\"__ndarray__\":\"VZDRRgXq/78=\",\"dtype\":\"float64\",\"order\":\"little\",\"shape\":[1]}},\"selected\":{\"id\":\"5600\"},\"selection_policy\":{\"id\":\"5616\"}},\"id\":\"5599\",\"type\":\"ColumnDataSource\"},{\"attributes\":{\"angle\":{\"value\":0.0},\"fill_alpha\":{\"value\":1.0},\"fill_color\":{\"value\":\"#30a2da\"},\"hatch_alpha\":{\"value\":1.0},\"hatch_color\":{\"value\":\"#30a2da\"},\"hatch_scale\":{\"value\":12.0},\"hatch_weight\":{\"value\":1.0},\"line_alpha\":{\"value\":1.0},\"line_cap\":{\"value\":\"butt\"},\"line_color\":{\"value\":\"#30a2da\"},\"line_dash\":{\"value\":[]},\"line_dash_offset\":{\"value\":0},\"line_join\":{\"value\":\"bevel\"},\"line_width\":{\"value\":1},\"marker\":{\"value\":\"circle\"},\"size\":{\"value\":5.477225575051661},\"tags\":[\"apply_ranges\"],\"x\":{\"field\":\"price_change_percentage_1y\"},\"y\":{\"field\":\"price_change_percentage_30d\"}},\"id\":\"5598\",\"type\":\"Scatter\"},{\"attributes\":{\"coordinates\":null,\"data_source\":{\"id\":\"5711\"},\"glyph\":{\"id\":\"5714\"},\"group\":null,\"hover_glyph\":null,\"muted_glyph\":{\"id\":\"5716\"},\"nonselection_glyph\":{\"id\":\"5715\"},\"selection_glyph\":{\"id\":\"5732\"},\"view\":{\"id\":\"5718\"}},\"id\":\"5717\",\"type\":\"GlyphRenderer\"},{\"attributes\":{\"axis_label\":\"PCA_1\",\"coordinates\":null,\"formatter\":{\"id\":\"5685\"},\"group\":null,\"major_label_policy\":{\"id\":\"5686\"},\"ticker\":{\"id\":\"5664\"}},\"id\":\"5663\",\"type\":\"LinearAxis\"},{\"attributes\":{},\"id\":\"5560\",\"type\":\"PanTool\"},{\"attributes\":{\"label\":{\"value\":\"0\"},\"renderers\":[{\"id\":\"5584\"}]},\"id\":\"5597\",\"type\":\"LegendItem\"},{\"attributes\":{},\"id\":\"5705\",\"type\":\"UnionRenderers\"},{\"attributes\":{\"angle\":{\"value\":0.0},\"fill_alpha\":{\"value\":1.0},\"fill_color\":{\"value\":\"#fc4f30\"},\"hatch_alpha\":{\"value\":1.0},\"hatch_color\":{\"value\":\"#fc4f30\"},\"hatch_scale\":{\"value\":12.0},\"hatch_weight\":{\"value\":1.0},\"line_alpha\":{\"value\":1.0},\"line_cap\":{\"value\":\"butt\"},\"line_color\":{\"value\":\"#fc4f30\"},\"line_dash\":{\"value\":[]},\"line_dash_offset\":{\"value\":0},\"line_join\":{\"value\":\"bevel\"},\"line_width\":{\"value\":1},\"marker\":{\"value\":\"circle\"},\"size\":{\"value\":5.477225575051661},\"tags\":[\"apply_ranges\"],\"x\":{\"field\":\"price_change_percentage_1y\"},\"y\":{\"field\":\"price_change_percentage_30d\"}},\"id\":\"5620\",\"type\":\"Scatter\"},{\"attributes\":{\"axis\":{\"id\":\"5667\"},\"coordinates\":null,\"dimension\":1,\"grid_line_color\":null,\"group\":null,\"ticker\":null},\"id\":\"5670\",\"type\":\"Grid\"},{\"attributes\":{\"label\":{\"value\":\"0\"},\"renderers\":[{\"id\":\"5696\"}]},\"id\":\"5709\",\"type\":\"LegendItem\"},{\"attributes\":{\"source\":{\"id\":\"5733\"}},\"id\":\"5740\",\"type\":\"CDSView\"},{\"attributes\":{\"axis_label\":\"PCA_2\",\"coordinates\":null,\"formatter\":{\"id\":\"5688\"},\"group\":null,\"major_label_policy\":{\"id\":\"5689\"},\"ticker\":{\"id\":\"5668\"}},\"id\":\"5667\",\"type\":\"LinearAxis\"},{\"attributes\":{\"fill_alpha\":{\"value\":0.2},\"fill_color\":{\"value\":\"#fc4f30\"},\"hatch_alpha\":{\"value\":0.2},\"hatch_color\":{\"value\":\"#fc4f30\"},\"line_alpha\":{\"value\":0.2},\"line_color\":{\"value\":\"#fc4f30\"},\"size\":{\"value\":5.477225575051661},\"tags\":[\"apply_ranges\"],\"x\":{\"field\":\"price_change_percentage_1y\"},\"y\":{\"field\":\"price_change_percentage_30d\"}},\"id\":\"5604\",\"type\":\"Scatter\"},{\"attributes\":{\"axis\":{\"id\":\"5663\"},\"coordinates\":null,\"grid_line_color\":null,\"group\":null,\"ticker\":null},\"id\":\"5666\",\"type\":\"Grid\"},{\"attributes\":{\"coordinates\":null,\"data_source\":{\"id\":\"5599\"},\"glyph\":{\"id\":\"5602\"},\"group\":null,\"hover_glyph\":null,\"muted_glyph\":{\"id\":\"5604\"},\"nonselection_glyph\":{\"id\":\"5603\"},\"selection_glyph\":{\"id\":\"5620\"},\"view\":{\"id\":\"5606\"}},\"id\":\"5605\",\"type\":\"GlyphRenderer\"},{\"attributes\":{},\"id\":\"5659\",\"type\":\"LinearScale\"},{\"attributes\":{\"label\":{\"value\":\"2\"},\"renderers\":[{\"id\":\"5627\"}]},\"id\":\"5643\",\"type\":\"LegendItem\"},{\"attributes\":{},\"id\":\"5664\",\"type\":\"BasicTicker\"},{\"attributes\":{},\"id\":\"5672\",\"type\":\"PanTool\"},{\"attributes\":{},\"id\":\"5616\",\"type\":\"UnionRenderers\"},{\"attributes\":{},\"id\":\"5547\",\"type\":\"LinearScale\"},{\"attributes\":{\"below\":[{\"id\":\"5663\"}],\"center\":[{\"id\":\"5666\"},{\"id\":\"5670\"}],\"height\":300,\"left\":[{\"id\":\"5667\"}],\"margin\":null,\"min_border_bottom\":10,\"min_border_left\":10,\"min_border_right\":10,\"min_border_top\":10,\"output_backend\":\"webgl\",\"renderers\":[{\"id\":\"5696\"},{\"id\":\"5717\"},{\"id\":\"5739\"}],\"right\":[{\"id\":\"5708\"}],\"sizing_mode\":\"fixed\",\"title\":{\"id\":\"5655\"},\"toolbar\":{\"id\":\"5677\"},\"toolbar_location\":null,\"width\":700,\"x_range\":{\"id\":\"5649\"},\"x_scale\":{\"id\":\"5659\"},\"y_range\":{\"id\":\"5650\"},\"y_scale\":{\"id\":\"5661\"}},\"id\":\"5654\",\"subtype\":\"Figure\",\"type\":\"Plot\"},{\"attributes\":{\"fill_color\":{\"value\":\"#30a2da\"},\"hatch_color\":{\"value\":\"#30a2da\"},\"line_color\":{\"value\":\"#30a2da\"},\"size\":{\"value\":5.477225575051661},\"tags\":[\"apply_ranges\"],\"x\":{\"field\":\"PCA_1\"},\"y\":{\"field\":\"PCA_2\"}},\"id\":\"5693\",\"type\":\"Scatter\"},{\"attributes\":{},\"id\":\"5712\",\"type\":\"Selection\"},{\"attributes\":{\"data\":{\"coin_id\":[\"bitcoin\",\"ethereum\",\"tether\",\"ripple\",\"bitcoin-cash\",\"binancecoin\",\"chainlink\",\"cardano\",\"litecoin\",\"bitcoin-cash-sv\",\"crypto-com-chain\",\"usd-coin\",\"eos\",\"monero\",\"tron\",\"tezos\",\"okb\",\"stellar\",\"cosmos\",\"cdai\",\"neo\",\"wrapped-bitcoin\",\"leo-token\",\"huobi-token\",\"nem\",\"binance-usd\",\"iota\",\"vechain\",\"zcash\",\"theta-token\",\"dash\",\"ethereum-classic\",\"maker\",\"havven\",\"omisego\",\"ontology\",\"ftx-token\",\"true-usd\",\"digibyte\"],\"label\":[0,0,0,0,0,0,0,0,0,0,0,0,0,0,0,0,0,0,0,0,0,0,0,0,0,0,0,0,0,0,0,0,0,0,0,0,0,0,0],\"price_change_percentage_1y\":{\"__ndarray__\":\"UkD5N8mEyL/CVuLJHJfIP5AjrZoUjNq/CcK9e7Jw4L+N31pvNQjVvwAAAAAAAAAAXRvLxx1V+D/gCWh+JXbgP/G26IZIYd+/2Ryp+alRwj8yWH7wn2v2P9owKT24oNq/D8+Xh8qf4L9lk1ckpC/bP3W0ofWK3a+/le4PnVTL2j/BTnplEInbP4qFqdYwS9W/GTyIb0xtsz+2mID4D6rav2t66oYeedc/a+kOroqByL+6X7HMUY3Sv/DlI7MvMdG/eX1P0Vv26D8SS5yQZoDavxqSYZu6Ety/xkh5fjtf6T9yE4PMkhu0P7fZxYkSFg5A9jSjuNd927+7teYpMFLWv2M/Iqzgfta/qwDFB50CDUCjo+uez+j3P1qzmwpkYN+/Hhpc/NDM4j/Fy0cHXmbav0R9mwmJ2eU/\",\"dtype\":\"float64\",\"order\":\"little\",\"shape\":[39]},\"price_change_percentage_30d\":{\"__ndarray__\":\"yqVq07tw4D/ZFEbUHL2HPwAAAAAAAAAAFhWXjS3ikj8gx3eSVtPwP+SLGd8Ajns/nqPBFVnQ5787zzzf+p/lPwSBSdeHdrU/Th4u9yn9yD9bARYemIvyv22uIpPR1oC//MIN7beR079BPaiVM8cEQCRPNWCuxOq/jXb1g2ED7r+IyCNjYSfmvwxXPRmtO+G/7m64OT2x0z95g70DxTvCv8w+pPzqWPe/LeqAcWmd3z/GabchBJPKP5/D2M0TYsu/P3MimJzIzr/CfUSYh5VwP1A5Jsa7hNG/paYuXB4a7r/FFGM7aZffPx5dmvnCxABAw8S9SVOD4L+4i2+qQgvJP3aNNV1w2vE/IFhDFkgp9r9Lp0IJrFXjv5NqZDFwdwLAm6gY+dNr5r+ncUk/SPxzP6g/vglQVew/\",\"dtype\":\"float64\",\"order\":\"little\",\"shape\":[39]}},\"selected\":{\"id\":\"5579\"},\"selection_policy\":{\"id\":\"5593\"}},\"id\":\"5578\",\"type\":\"ColumnDataSource\"},{\"attributes\":{\"label\":{\"value\":\"1\"},\"renderers\":[{\"id\":\"5605\"}]},\"id\":\"5619\",\"type\":\"LegendItem\"},{\"attributes\":{\"source\":{\"id\":\"5711\"}},\"id\":\"5718\",\"type\":\"CDSView\"},{\"attributes\":{},\"id\":\"5752\",\"type\":\"UnionRenderers\"},{\"attributes\":{},\"id\":\"5573\",\"type\":\"BasicTickFormatter\"},{\"attributes\":{\"fill_alpha\":{\"value\":0.2},\"fill_color\":{\"value\":\"#e5ae38\"},\"hatch_alpha\":{\"value\":0.2},\"hatch_color\":{\"value\":\"#e5ae38\"},\"line_alpha\":{\"value\":0.2},\"line_color\":{\"value\":\"#e5ae38\"},\"size\":{\"value\":5.477225575051661},\"tags\":[\"apply_ranges\"],\"x\":{\"field\":\"price_change_percentage_1y\"},\"y\":{\"field\":\"price_change_percentage_30d\"}},\"id\":\"5626\",\"type\":\"Scatter\"},{\"attributes\":{\"end\":48.341047224955055,\"reset_end\":48.341047224955055,\"reset_start\":-2.5274736839705927,\"start\":-2.5274736839705927,\"tags\":[[[\"price_change_percentage_1y\",\"price_change_percentage_1y\",null]]]},\"id\":\"5537\",\"type\":\"Range1d\"},{\"attributes\":{\"fill_alpha\":{\"value\":0.2},\"fill_color\":{\"value\":\"#e5ae38\"},\"hatch_alpha\":{\"value\":0.2},\"hatch_color\":{\"value\":\"#e5ae38\"},\"line_alpha\":{\"value\":0.2},\"line_color\":{\"value\":\"#e5ae38\"},\"size\":{\"value\":5.477225575051661},\"tags\":[\"apply_ranges\"],\"x\":{\"field\":\"PCA_1\"},\"y\":{\"field\":\"PCA_2\"}},\"id\":\"5738\",\"type\":\"Scatter\"},{\"attributes\":{\"active_drag\":{\"id\":\"5560\"},\"active_scroll\":{\"id\":\"5561\"},\"tools\":[{\"id\":\"5539\"},{\"id\":\"5559\"},{\"id\":\"5560\"},{\"id\":\"5561\"},{\"id\":\"5562\"},{\"id\":\"5563\"}]},\"id\":\"5565\",\"type\":\"Toolbar\"},{\"attributes\":{},\"id\":\"5593\",\"type\":\"UnionRenderers\"},{\"attributes\":{\"callback\":null,\"renderers\":[{\"id\":\"5584\"},{\"id\":\"5605\"},{\"id\":\"5627\"}],\"tags\":[\"hv_created\"],\"tooltips\":[[\"label\",\"@{label}\"],[\"price_change_percentage_1y\",\"@{price_change_percentage_1y}\"],[\"price_change_percentage_30d\",\"@{price_change_percentage_30d}\"],[\"coin_id\",\"@{coin_id}\"]]},\"id\":\"5539\",\"type\":\"HoverTool\"},{\"attributes\":{\"label\":{\"value\":\"1\"},\"renderers\":[{\"id\":\"5717\"}]},\"id\":\"5731\",\"type\":\"LegendItem\"},{\"attributes\":{\"end\":10.54753992248578,\"reset_end\":10.54753992248578,\"reset_start\":-3.4770339490963327,\"start\":-3.4770339490963327,\"tags\":[[[\"price_change_percentage_30d\",\"price_change_percentage_30d\",null]]]},\"id\":\"5538\",\"type\":\"Range1d\"},{\"attributes\":{\"toolbars\":[{\"id\":\"5565\"},{\"id\":\"5677\"}],\"tools\":[{\"id\":\"5539\"},{\"id\":\"5559\"},{\"id\":\"5560\"},{\"id\":\"5561\"},{\"id\":\"5562\"},{\"id\":\"5563\"},{\"id\":\"5651\"},{\"id\":\"5671\"},{\"id\":\"5672\"},{\"id\":\"5673\"},{\"id\":\"5674\"},{\"id\":\"5675\"}]},\"id\":\"5794\",\"type\":\"ProxyToolbar\"},{\"attributes\":{},\"id\":\"5728\",\"type\":\"UnionRenderers\"},{\"attributes\":{},\"id\":\"5686\",\"type\":\"AllLabels\"},{\"attributes\":{\"coordinates\":null,\"group\":null,\"text_color\":\"black\",\"text_font_size\":\"12pt\"},\"id\":\"5655\",\"type\":\"Title\"},{\"attributes\":{\"toolbar\":{\"id\":\"5794\"},\"toolbar_location\":\"above\"},\"id\":\"5795\",\"type\":\"ToolbarBox\"},{\"attributes\":{\"fill_color\":{\"value\":\"#e5ae38\"},\"hatch_color\":{\"value\":\"#e5ae38\"},\"line_color\":{\"value\":\"#e5ae38\"},\"size\":{\"value\":5.477225575051661},\"tags\":[\"apply_ranges\"],\"x\":{\"field\":\"PCA_1\"},\"y\":{\"field\":\"PCA_2\"}},\"id\":\"5736\",\"type\":\"Scatter\"},{\"attributes\":{},\"id\":\"5600\",\"type\":\"Selection\"},{\"attributes\":{},\"id\":\"5549\",\"type\":\"LinearScale\"},{\"attributes\":{\"fill_color\":{\"value\":\"#fc4f30\"},\"hatch_color\":{\"value\":\"#fc4f30\"},\"line_color\":{\"value\":\"#fc4f30\"},\"size\":{\"value\":5.477225575051661},\"tags\":[\"apply_ranges\"],\"x\":{\"field\":\"PCA_1\"},\"y\":{\"field\":\"PCA_2\"}},\"id\":\"5714\",\"type\":\"Scatter\"},{\"attributes\":{\"angle\":{\"value\":0.0},\"fill_alpha\":{\"value\":1.0},\"fill_color\":{\"value\":\"#e5ae38\"},\"hatch_alpha\":{\"value\":1.0},\"hatch_color\":{\"value\":\"#e5ae38\"},\"hatch_scale\":{\"value\":12.0},\"hatch_weight\":{\"value\":1.0},\"line_alpha\":{\"value\":1.0},\"line_cap\":{\"value\":\"butt\"},\"line_color\":{\"value\":\"#e5ae38\"},\"line_dash\":{\"value\":[]},\"line_dash_offset\":{\"value\":0},\"line_join\":{\"value\":\"bevel\"},\"line_width\":{\"value\":1},\"marker\":{\"value\":\"circle\"},\"size\":{\"value\":5.477225575051661},\"tags\":[\"apply_ranges\"],\"x\":{\"field\":\"price_change_percentage_1y\"},\"y\":{\"field\":\"price_change_percentage_30d\"}},\"id\":\"5644\",\"type\":\"Scatter\"},{\"attributes\":{\"data\":{\"coin_id\":[\"celsius-degree-token\"],\"label\":[2],\"price_change_percentage_1y\":{\"__ndarray__\":\"jf7Oa6gZJ0A=\",\"dtype\":\"float64\",\"order\":\"little\",\"shape\":[1]},\"price_change_percentage_30d\":{\"__ndarray__\":\"X908aPXBIkA=\",\"dtype\":\"float64\",\"order\":\"little\",\"shape\":[1]}},\"selected\":{\"id\":\"5622\"},\"selection_policy\":{\"id\":\"5640\"}},\"id\":\"5621\",\"type\":\"ColumnDataSource\"},{\"attributes\":{},\"id\":\"5574\",\"type\":\"AllLabels\"},{\"attributes\":{},\"id\":\"5661\",\"type\":\"LinearScale\"},{\"attributes\":{\"data\":{\"PCA_1\":{\"__ndarray__\":\"O1MpgySAR0A=\",\"dtype\":\"float64\",\"order\":\"little\",\"shape\":[1]},\"PCA_2\":{\"__ndarray__\":\"JLWUU1ghDsA=\",\"dtype\":\"float64\",\"order\":\"little\",\"shape\":[1]},\"PCA_label\":[1],\"coin_id\":[\"ethlend\"]},\"selected\":{\"id\":\"5712\"},\"selection_policy\":{\"id\":\"5728\"}},\"id\":\"5711\",\"type\":\"ColumnDataSource\"},{\"attributes\":{\"callback\":null,\"renderers\":[{\"id\":\"5696\"},{\"id\":\"5717\"},{\"id\":\"5739\"}],\"tags\":[\"hv_created\"],\"tooltips\":[[\"PCA_label\",\"@{PCA_label}\"],[\"PCA_1\",\"@{PCA_1}\"],[\"PCA_2\",\"@{PCA_2}\"],[\"coin_id\",\"@{coin_id}\"]]},\"id\":\"5651\",\"type\":\"HoverTool\"},{\"attributes\":{\"source\":{\"id\":\"5621\"}},\"id\":\"5628\",\"type\":\"CDSView\"},{\"attributes\":{\"children\":[[{\"id\":\"5542\"},0,0],[{\"id\":\"5654\"},0,1]]},\"id\":\"5793\",\"type\":\"GridBox\"}],\"root_ids\":[\"5536\"]},\"title\":\"Bokeh Application\",\"version\":\"2.4.3\"}};\n",
       "    var render_items = [{\"docid\":\"1b4e914e-0c79-4f0a-af07-24c3574f7a17\",\"root_ids\":[\"5536\"],\"roots\":{\"5536\":\"7a17040b-a15b-4255-9201-13a3fa71159c\"}}];\n",
       "    root.Bokeh.embed.embed_items_notebook(docs_json, render_items);\n",
       "    for (const render_item of render_items) {\n",
       "      for (const root_id of render_item.root_ids) {\n",
       "\tconst id_el = document.getElementById(root_id)\n",
       "\tif (id_el.children.length && (id_el.children[0].className === 'bk-root')) {\n",
       "\t  const root_el = id_el.children[0]\n",
       "\t  root_el.id = root_el.id + '-rendered'\n",
       "\t}\n",
       "      }\n",
       "    }\n",
       "  }\n",
       "  if (root.Bokeh !== undefined && root.Bokeh.Panel !== undefined) {\n",
       "    embed_document(root);\n",
       "  } else {\n",
       "    var attempts = 0;\n",
       "    var timer = setInterval(function(root) {\n",
       "      if (root.Bokeh !== undefined && root.Bokeh.Panel !== undefined) {\n",
       "        clearInterval(timer);\n",
       "        embed_document(root);\n",
       "      } else if (document.readyState == \"complete\") {\n",
       "        attempts++;\n",
       "        if (attempts > 200) {\n",
       "          clearInterval(timer);\n",
       "          console.log(\"Bokeh: ERROR: Unable to run BokehJS code because BokehJS library is missing\");\n",
       "        }\n",
       "      }\n",
       "    }, 25, root)\n",
       "  }\n",
       "})(window);</script>"
      ],
      "text/plain": [
       ":Layout\n",
       "   .NdOverlay.I  :NdOverlay   [label]\n",
       "      :Scatter   [price_change_percentage_1y]   (price_change_percentage_30d,coin_id)\n",
       "   .NdOverlay.II :NdOverlay   [PCA_label]\n",
       "      :Scatter   [PCA_1]   (PCA_2,coin_id)"
      ]
     },
     "execution_count": 34,
     "metadata": {
      "application/vnd.holoviews_exec.v0+json": {
       "id": "5536"
      }
     },
     "output_type": "execute_result"
    }
   ],
   "source": [
    "# comparison plot chosing more salient features:\n",
    "\n",
    "cluster_plot2 = coins_df.hvplot.scatter(\n",
    "    x=\"price_change_percentage_1y\",\n",
    "    y=\"price_change_percentage_30d\",\n",
    "    by=\"label\",\n",
    "    hover_cols=['coin_id'])\n",
    "\n",
    "cluster_plot2 + pca_cluster_plot"
   ]
  },
  {
   "attachments": {},
   "cell_type": "markdown",
   "metadata": {},
   "source": [
    "#### Answer the following question: \n",
    "\n",
    "  * **Question:** After visually analysing the cluster analysis results, what is the impact of using fewer features to cluster the data using K-Means?\n",
    "\n",
    "  * **Answer:** PCA has had negligible impact on differentially clustering the data, but has enabled the clusters to be better visualised in two dimensions. "
   ]
  },
  {
   "cell_type": "code",
   "execution_count": 32,
   "metadata": {},
   "outputs": [
    {
     "name": "stdout",
     "output_type": "stream",
     "text": [
      "                                 PCA_1     PCA_2     PCA_3\n",
      "price_change_percentage_24h  -0.213953  0.362819 -0.803476\n",
      "price_change_percentage_7d   -0.005452  0.012304 -0.399710\n",
      "price_change_percentage_14d  -0.012040  0.172649 -0.101926\n",
      "price_change_percentage_30d   0.006551  0.620477  0.137769\n",
      "price_change_percentage_60d   0.051517  0.604800  0.331660\n",
      "price_change_percentage_200d  0.253330  0.294302  0.070736\n",
      "price_change_percentage_1y    0.941900 -0.031856 -0.224250\n"
     ]
    }
   ],
   "source": [
    "# summary\n",
    "\n",
    "loadings = pca.components_\n",
    "loadings_df = pd.DataFrame(loadings, columns=df_market_data.columns, index=[f\"PCA_{i+1}\" for i in range(loadings.shape[0])])\n",
    "print(loadings_df.transpose())"
   ]
  },
  {
   "cell_type": "markdown",
   "metadata": {},
   "source": [
    "The first principle component is largely a proxy for the annual change, while the second component tracks 30d and 60d movements."
   ]
  }
 ],
 "metadata": {
  "kernelspec": {
   "display_name": "Python 3 (ipykernel)",
   "language": "python",
   "name": "python3"
  },
  "language_info": {
   "codemirror_mode": {
    "name": "ipython",
    "version": 3
   },
   "file_extension": ".py",
   "mimetype": "text/x-python",
   "name": "python",
   "nbconvert_exporter": "python",
   "pygments_lexer": "ipython3",
   "version": "3.10.11"
  },
  "nteract": {
   "version": "0.28.0"
  },
  "vscode": {
   "interpreter": {
    "hash": "40d3a090f54c6569ab1632332b64b2c03c39dcf918b08424e98f38b5ae0af88f"
   }
  }
 },
 "nbformat": 4,
 "nbformat_minor": 4
}
